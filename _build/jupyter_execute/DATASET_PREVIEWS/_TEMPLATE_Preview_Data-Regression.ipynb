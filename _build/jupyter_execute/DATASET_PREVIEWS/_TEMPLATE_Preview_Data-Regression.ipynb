{
 "cells": [
  {
   "cell_type": "markdown",
   "id": "51b8ad05",
   "metadata": {},
   "source": [
    "# Template: Preview Regression Dataset"
   ]
  },
  {
   "cell_type": "markdown",
   "id": "60f7e6d4",
   "metadata": {},
   "source": [
    "- Goal of this notebook is to paste a template version of the workflow from the ADMIN_Comparing_Datasets notebook.\n",
    " \n",
    "**The code will:**\n",
    "- Create 4 preprocessing pipelines (one with scaling and one without)\n",
    "    - `preprocessor`\n",
    "        - Clone: `preprocessor_cln`\n",
    "    - `preprocessor_scale`\n",
    "        - Clone: `preprocessor_scale_cln`    \n",
    "    \n",
    "- Create 4 Versions of the X/y data.\n",
    "    - **All Data/Rows:**\n",
    "        - Starting Vars:\n",
    "            - df,X,y, X_train, X_test,y_train,y_test\n",
    "        - **Unscaled**\n",
    "            - Without a  constant:\n",
    "                - X_train_df, X_test_df, y_train,y_test\n",
    "            - With a constant:\n",
    "                - X_train_df_cnst, X_test_df_cnst, y_train (same), y_test (same)\n",
    "        - **Scaled:**\n",
    "            - Without a  constant:\n",
    "                - X_train_df_scaled, X_test_df_scaled, y_train (same), y_test (same)\n",
    "            - With a constant:\n",
    "                - X_train_df_scaled_cnst, X_test_df_scaled_cnst, y_train (same), y_test (same)\n",
    "\n",
    "    - **Cleaned/Outliers Removed**\n",
    "        - Starting Vars:\n",
    "            - df_clean,X_cln,y_cln, X_train_cln, X_test_cln,y_train_cln,y_test_cln\n",
    "        - **Unscaled**\n",
    "            - Without a  constant:\n",
    "                - X_train_df_cln, X_test_df_cln, y_train,y_test\n",
    "            - With a constant:\n",
    "                - X_train_df_cln_cnst, X_test_df_cln_cnst, y_train_cln (same), y_test_cln (same)\n",
    "        - **Scaled:**\n",
    "            - Without a  constant:\n",
    "                - X_train_df_cln_scaled, X_test_df_cln_scaled, y_train_cln (same), y_test_cln (same)\n",
    "            - With a constant:\n",
    "                - X_train_df_scaled_cln_cnst, X_test_df_cln_scaled_cnst, y_train_cln (same), y_test_cln (same)"
   ]
  },
  {
   "cell_type": "markdown",
   "id": "7b0ae5f9",
   "metadata": {},
   "source": [
    "# Code"
   ]
  },
  {
   "cell_type": "code",
   "execution_count": 1,
   "id": "8c8a300d",
   "metadata": {
    "ExecuteTime": {
     "end_time": "2022-06-23T18:42:44.696064Z",
     "start_time": "2022-06-23T18:42:43.623729Z"
    }
   },
   "outputs": [],
   "source": [
    "import pandas as pd\n",
    "import numpy as np\n",
    "import matplotlib as mpl\n",
    "import matplotlib.pyplot as plt\n",
    "import seaborn as sns\n",
    "## Customization Options\n",
    "# pd.set_option('display.float_format',lambda x: f\"{x:,.4f}\")\n",
    "pd.set_option(\"display.max_columns\",100)\n",
    "plt.style.use(['fivethirtyeight','seaborn-talk'])\n",
    "mpl.rcParams['figure.facecolor']='white'\n",
    "\n",
    "## additional required imports\n",
    "from sklearn.model_selection import train_test_split\n",
    "from sklearn.preprocessing import OneHotEncoder, StandardScaler\n",
    "from sklearn.impute import SimpleImputer\n",
    "from sklearn.compose import make_column_transformer, make_column_selector, ColumnTransformer\n",
    "from sklearn.pipeline import make_pipeline, Pipeline\n",
    "from sklearn import metrics\n",
    "\n",
    "from sklearn.base import clone\n",
    "\n",
    "## fixing random for lesson generation\n",
    "np.random.seed(321)\n",
    "\n",
    "##import statsmodels correctly\n",
    "import statsmodels.api as sm\n",
    "from scipy import stats\n",
    "\n",
    "## Customized Options\n",
    "# pd.set_option('display.float_format',lambda x: f\"{x:,.4f}\")\n",
    "# plt.style.use('seaborn-talk')"
   ]
  },
  {
   "cell_type": "code",
   "execution_count": null,
   "id": "eecbae69",
   "metadata": {},
   "outputs": [],
   "source": []
  },
  {
   "cell_type": "code",
   "execution_count": 2,
   "id": "10824845",
   "metadata": {
    "ExecuteTime": {
     "end_time": "2022-06-23T18:42:44.724286Z",
     "start_time": "2022-06-23T18:42:44.697427Z"
    }
   },
   "outputs": [],
   "source": [
    "## Adding folder above to path\n",
    "import os, sys\n",
    "sys.path.append(os.path.abspath('../'))\n",
    "\n",
    "## Load stack_functions with autoreload turned on\n",
    "%load_ext autoreload\n",
    "%autoreload 2\n",
    "from CODE import stack_functions as sf\n",
    "\n",
    "def show_code(function):\n",
    "    import inspect \n",
    "    from IPython.display import display,Markdown, display_markdown\n",
    "    code = inspect.getsource(function)\n",
    "    md_txt = f\"```python\\n{code}\\n```\"\n",
    "    return display(Markdown(md_txt))"
   ]
  },
  {
   "cell_type": "markdown",
   "id": "e74bb63a",
   "metadata": {},
   "source": [
    "## Preliminary Checks and Dtype Conversion"
   ]
  },
  {
   "cell_type": "markdown",
   "id": "c50d26db",
   "metadata": {},
   "source": [
    "- Change:\n",
    "    - `FILE`: url or filepath to load\n",
    "    - `DROP_COLS`: list of columns to drop from df\n",
    "    - `CONVERT_TO_STR_COLS`: numeric cols to convert to str\n",
    "    - `CONVERT_TO_NUM_COLS`: str cols to convert to numeric (uses pd.to_numeric)"
   ]
  },
  {
   "cell_type": "code",
   "execution_count": null,
   "id": "549d0559",
   "metadata": {},
   "outputs": [],
   "source": [
    "## Load in data\n",
    "FILE = \"https://docs.google.com/spreadsheets/d/e/2PACX-1vSEZQEzxja7Hmj5tr5nc52QqBvFQdCAGb52e1FRK1PDT2_TQrS6rY_TR9tjZjKaMbCy1m5217sVmI5q/pub?output=csv\"\n",
    "df = pd.read_csv(FILE)"
   ]
  },
  {
   "cell_type": "code",
   "execution_count": null,
   "id": "c9158812",
   "metadata": {},
   "outputs": [],
   "source": [
    "from pandas_profiling import ProfileReport\n",
    "ProfileReport(df)"
   ]
  },
  {
   "cell_type": "code",
   "execution_count": null,
   "id": "aaa77a4d",
   "metadata": {},
   "outputs": [],
   "source": [
    "df.info()\n",
    "df.head()"
   ]
  },
  {
   "cell_type": "code",
   "execution_count": null,
   "id": "56e9d1e1",
   "metadata": {},
   "outputs": [],
   "source": [
    "## Drop unwanted columns\n",
    "DROP_COLS = []#'id','date']\n",
    "df = df.drop(columns=DROP_COLS)"
   ]
  },
  {
   "cell_type": "code",
   "execution_count": null,
   "id": "97771d2c",
   "metadata": {},
   "outputs": [],
   "source": [
    "## Convert all categories to strings\n",
    "CONVERT_TO_STR_COLS = []#'zipcode']\n",
    "df[CONVERT_TO_STR_COLS] = df[CONVERT_TO_STR_COLS].astype(str)\n",
    "\n",
    "CONVERT_TO_NUM_COLS = []\n",
    "for col in CONVERT_TO_NUM_COLS:\n",
    "    df[col] = pd.to_numeric(df[col])"
   ]
  },
  {
   "cell_type": "code",
   "execution_count": null,
   "id": "07e49a8a",
   "metadata": {},
   "outputs": [],
   "source": [
    "## final info before X/y\n",
    "df.info()"
   ]
  },
  {
   "cell_type": "markdown",
   "id": "f0b8b47f",
   "metadata": {
    "id": "yCYjHVb7YSbO"
   },
   "source": [
    "## Full Dataset Preprocessing"
   ]
  },
  {
   "cell_type": "code",
   "execution_count": null,
   "id": "21dcfb8f",
   "metadata": {
    "colab": {
     "base_uri": "https://localhost:8080/",
     "height": 270
    },
    "id": "ILkWZ60AXzjY",
    "outputId": "b8b119df-f682-4ef8-f7bc-2cc3142a563f",
    "scrolled": true
   },
   "outputs": [],
   "source": [
    "## Make x and y variables\n",
    "target = None#'price'\n",
    "drop_cols_model = []\n",
    "\n",
    "y = df[target].copy()\n",
    "X = df.drop(columns=[target,*drop_cols_model]).copy()\n",
    "\n",
    "X_train, X_test, y_train, y_test = train_test_split(X,y, random_state=321)\n",
    "X_train.head()"
   ]
  },
  {
   "cell_type": "markdown",
   "id": "0a2b84de",
   "metadata": {},
   "source": [
    "### Unscaled"
   ]
  },
  {
   "cell_type": "code",
   "execution_count": null,
   "id": "3d4e8468",
   "metadata": {
    "colab": {
     "base_uri": "https://localhost:8080/"
    },
    "id": "kKBgO2nYXd4D",
    "outputId": "7d26e1a7-276f-4592-f0f9-1ba40c9fa6cb"
   },
   "outputs": [],
   "source": [
    "## cat selector\n",
    "cat_sel = make_column_selector(dtype_include='object')\n",
    "cat_cols = cat_sel(X)\n",
    "\n",
    "# num selectorr\n",
    "num_sel = make_column_selector(dtype_include='number')\n",
    "num_cols = num_sel(X)\n",
    "\n",
    "## make pipelines & column transformer - raw numeric\n",
    "cat_pipe = make_pipeline(SimpleImputer(strategy='constant',\n",
    "                                       fill_value='MISSING'),\n",
    "                         OneHotEncoder(handle_unknown='ignore', sparse=False))\n",
    "\n",
    "num_pipe_raw = make_pipeline(SimpleImputer(strategy='mean'))\n",
    "preprocessor = make_column_transformer((num_pipe_raw, num_sel),\n",
    "                                       (cat_pipe,cat_sel), verbose_feature_names_out=False)\n",
    "preprocessor"
   ]
  },
  {
   "cell_type": "code",
   "execution_count": null,
   "id": "1510f510",
   "metadata": {
    "colab": {
     "base_uri": "https://localhost:8080/",
     "height": 300
    },
    "id": "q9Njny81YFYW",
    "outputId": "e5aa9b18-b573-46f9-9d90-8a057e09cd66"
   },
   "outputs": [],
   "source": [
    "### PREP ALL X VARS\n",
    "## Prepare X_train_df\n",
    "X_train_df = pd.DataFrame( preprocessor.fit_transform(X_train), \n",
    "                          columns=preprocessor.get_feature_names_out(),\n",
    "                         index=X_train.index)\n",
    "\n",
    "## Prepare X_test_df\n",
    "X_test_df = pd.DataFrame( preprocessor.transform(X_test),\n",
    "                         columns=preprocessor.get_feature_names_out(), \n",
    "                         index=X_test.index)\n",
    "\n",
    "\n",
    "## Prepare X vars with constant\n",
    "X_train_df_cnst = sm.add_constant(X_train_df, prepend=False, has_constant='add')\n",
    "X_test_df_cnst = sm.add_constant(X_test_df, prepend=False, has_constant='add')"
   ]
  },
  {
   "cell_type": "code",
   "execution_count": null,
   "id": "dc388c32",
   "metadata": {},
   "outputs": [],
   "source": [
    "X_train_df.describe()"
   ]
  },
  {
   "cell_type": "markdown",
   "id": "871bff31",
   "metadata": {},
   "source": [
    "> The cell below should be updated for each dataset- only separating high cardinality OHE features (e.g. zipcode)"
   ]
  },
  {
   "cell_type": "code",
   "execution_count": null,
   "id": "56d312fd",
   "metadata": {},
   "outputs": [],
   "source": [
    "## Save list of zipcode columns and other columns\n",
    "ohe_cols = [c for c in X_train_df.columns if c.startswith('zipcode')]\n",
    "nonohe_cols = X_train_df.drop(columns=[*ohe_cols]).columns.tolist()"
   ]
  },
  {
   "cell_type": "markdown",
   "id": "395c0b63",
   "metadata": {},
   "source": [
    "### Scaled"
   ]
  },
  {
   "cell_type": "code",
   "execution_count": null,
   "id": "cbf347d6",
   "metadata": {},
   "outputs": [],
   "source": [
    "## make pipelines & column transformer - scaled\n",
    "cat_pipe = make_pipeline(SimpleImputer(strategy='constant',\n",
    "                                       fill_value='MISSING'),\n",
    "                         OneHotEncoder(handle_unknown='ignore', sparse=False))\n",
    "num_pipe_scale = make_pipeline(SimpleImputer(strategy='mean'), StandardScaler())\n",
    "preprocessor_scale = make_column_transformer((num_pipe_scale, num_sel),\n",
    "                                       (cat_pipe,cat_sel), verbose_feature_names_out=False)\n",
    "preprocessor_scale"
   ]
  },
  {
   "cell_type": "code",
   "execution_count": null,
   "id": "0c7fb3d5",
   "metadata": {
    "colab": {
     "base_uri": "https://localhost:8080/",
     "height": 300
    },
    "id": "YHZ3alzsYjvw",
    "outputId": "255f35c0-e2e9-4217-ebf5-b136c5b41736"
   },
   "outputs": [],
   "source": [
    "# ### PREP ALL SCALED X VARS\n",
    "\n",
    "\n",
    "# Prepare X_train_scaled_df & X_test_scaled_df\n",
    "X_train_scaled_df = pd.DataFrame( preprocessor_scale.fit_transform(X_train), \n",
    "                          columns=preprocessor_scale.get_feature_names_out(),\n",
    "                         index=X_train.index)\n",
    "\n",
    "\n",
    "X_test_scaled_df = pd.DataFrame( preprocessor_scale.transform(X_test),\n",
    "                         columns=preprocessor_scale.get_feature_names_out(), \n",
    "                         index=X_test.index)\n",
    "\n",
    "\n",
    "## Save vers with constant\n",
    "X_train_scaled_df_cnst = sm.add_constant(X_train_scaled_df, prepend=False, has_constant='add')\n",
    "X_test_scaled_df_cnst = sm.add_constant(X_test_scaled_df, prepend=False, has_constant='add')\n",
    "\n",
    "\n",
    "## Save list of zipcode columns and other columns\n",
    "ohe_cols = [c for c in X_train_df.columns if c.startswith('zipcode')]\n",
    "nonohe_cols = X_train_df.drop(columns=[*ohe_cols]).columns.tolist()\n",
    "\n",
    "\n",
    "X_test_scaled_df.head()"
   ]
  },
  {
   "cell_type": "code",
   "execution_count": null,
   "id": "1ad476fd",
   "metadata": {
    "scrolled": true
   },
   "outputs": [],
   "source": [
    "X_train_scaled_df.describe()"
   ]
  },
  {
   "cell_type": "markdown",
   "id": "a89047a4",
   "metadata": {},
   "source": [
    "## Cleaned Dataset Preprocessing"
   ]
  },
  {
   "cell_type": "markdown",
   "id": "db865bc0",
   "metadata": {},
   "source": [
    "### Remove Outliers"
   ]
  },
  {
   "cell_type": "code",
   "execution_count": null,
   "id": "98ffef64",
   "metadata": {},
   "outputs": [],
   "source": [
    "show_code(sf.remove_outliers)"
   ]
  },
  {
   "cell_type": "code",
   "execution_count": null,
   "id": "26fdee1c",
   "metadata": {},
   "outputs": [],
   "source": [
    "df_clean_iqr = sf.remove_outliers(df,verbose=2)\n",
    "df_clean_iqr"
   ]
  },
  {
   "cell_type": "code",
   "execution_count": null,
   "id": "73f9ea6d",
   "metadata": {},
   "outputs": [],
   "source": [
    "df_clean_z = sf.remove_outliers(df,method='z')\n",
    "df_clean_z"
   ]
  },
  {
   "cell_type": "code",
   "execution_count": null,
   "id": "41f3d74d",
   "metadata": {
    "colab": {
     "base_uri": "https://localhost:8080/",
     "height": 270
    },
    "id": "ILkWZ60AXzjY",
    "outputId": "b8b119df-f682-4ef8-f7bc-2cc3142a563f",
    "scrolled": true
   },
   "outputs": [],
   "source": [
    "## Make x and y variables\n",
    "# target = 'price'\n",
    "# drop_cols_model = []\n",
    "\n",
    "y_cln = df_clean_z[target].copy()\n",
    "X_cln = df_clean_z.drop(columns=[target,*drop_cols_model]).copy()\n",
    "\n",
    "X_train_cln, X_test_cln, y_train_cln, y_test_cln = train_test_split(X_cln,y_cln, random_state=321)\n",
    "X_train_cln.head()"
   ]
  },
  {
   "cell_type": "markdown",
   "id": "d880141a",
   "metadata": {},
   "source": [
    "### Unscaled"
   ]
  },
  {
   "cell_type": "code",
   "execution_count": null,
   "id": "e365e0d4",
   "metadata": {},
   "outputs": [],
   "source": [
    "## Cloning the Previous 2 Preprocessors\n",
    "preprocessor_cln = clone(preprocessor)\n",
    "preprocessor_cln_scale = clone(preprocessor_scale)"
   ]
  },
  {
   "cell_type": "code",
   "execution_count": null,
   "id": "4bddfe1a",
   "metadata": {
    "colab": {
     "base_uri": "https://localhost:8080/",
     "height": 300
    },
    "id": "q9Njny81YFYW",
    "outputId": "e5aa9b18-b573-46f9-9d90-8a057e09cd66"
   },
   "outputs": [],
   "source": [
    "### PREP ALL X VARS\n",
    "## Prepare X_train_df\n",
    "X_train_df_cln = pd.DataFrame( preprocessor_cln.fit_transform(X_train_cln), \n",
    "                          columns=preprocessor_cln.get_feature_names_out(),\n",
    "                         index=X_train_cln.index)\n",
    "\n",
    "## Prepare X_test_df\n",
    "X_test_df_cln = pd.DataFrame( preprocessor_cln.transform(X_test_cln),\n",
    "                         columns=preprocessor_cln.get_feature_names_out(), \n",
    "                         index=X_test_cln.index)\n",
    "\n",
    "\n",
    "## Prepare X vars with constant\n",
    "X_train_df_cln_cnst = sm.add_constant(X_train_df_cln, prepend=False, has_constant='add')\n",
    "X_test_df_cln_cnst = sm.add_constant(X_test_df_cln, prepend=False, has_constant='add')\n",
    "\n",
    "\n",
    "## Save list of zipcode columns and other columns\n",
    "ohe_cols = [c for c in X_train_df_cln.columns if c.startswith('zipcode')]\n",
    "nonohe_cols = X_train_df_cln.drop(columns=[*ohe_cols]).columns.tolist()\n",
    "\n",
    "X_test_df.head()"
   ]
  },
  {
   "cell_type": "code",
   "execution_count": null,
   "id": "aa73301a",
   "metadata": {},
   "outputs": [],
   "source": [
    "X_train_df_cln.describe()"
   ]
  },
  {
   "cell_type": "markdown",
   "id": "b66a536b",
   "metadata": {},
   "source": [
    "### Scaled"
   ]
  },
  {
   "cell_type": "code",
   "execution_count": null,
   "id": "ef2c907d",
   "metadata": {
    "colab": {
     "base_uri": "https://localhost:8080/",
     "height": 300
    },
    "id": "YHZ3alzsYjvw",
    "outputId": "255f35c0-e2e9-4217-ebf5-b136c5b41736"
   },
   "outputs": [],
   "source": [
    "# ### PREP ALL SCALED X VARS\n",
    "\n",
    "\n",
    "# Prepare X_train_scaled_df & X_test_scaled_df\n",
    "X_train_scaled_df_cln = pd.DataFrame( preprocessor_cln_scale.fit_transform(X_train_cln), \n",
    "                          columns=preprocessor_cln_scale.get_feature_names_out(),\n",
    "                         index=X_train_cln.index)\n",
    "\n",
    "\n",
    "X_test_scaled_df_cln = pd.DataFrame( preprocessor_cln_scale.transform(X_test_cln),\n",
    "                         columns=preprocessor_cln_scale.get_feature_names_out(), \n",
    "                         index=X_test_cln.index)\n",
    "\n",
    "\n",
    "## Save vers with constant\n",
    "X_train_scaled_df_cln_cnst = sm.add_constant(X_train_scaled_df_cln, prepend=False, has_constant='add')\n",
    "X_test_scaled_df_cln_cnst = sm.add_constant(X_test_scaled_df_cln, prepend=False, has_constant='add')\n",
    "\n",
    "\n",
    "## Save list of zipcode columns and other columns\n",
    "ohe_cols = [c for c in X_train_scaled_df_cln.columns if c.startswith('zipcode')]\n",
    "nonohe_cols = X_train_scaled_df_cln.drop(columns=[*ohe_cols]).columns.tolist()\n",
    "\n",
    "\n",
    "X_train_scaled_df_cln.head()"
   ]
  },
  {
   "cell_type": "code",
   "execution_count": null,
   "id": "2f5eb4f2",
   "metadata": {
    "scrolled": false
   },
   "outputs": [],
   "source": [
    "X_train_scaled_df_cln.describe()"
   ]
  },
  {
   "cell_type": "markdown",
   "id": "1f6d75ba",
   "metadata": {},
   "source": [
    "## Modeling - Full Dataset"
   ]
  },
  {
   "cell_type": "markdown",
   "id": "5797fb19",
   "metadata": {},
   "source": [
    "### Raw Numeric - No Constant"
   ]
  },
  {
   "cell_type": "code",
   "execution_count": null,
   "id": "0659f68b",
   "metadata": {
    "colab": {
     "base_uri": "https://localhost:8080/",
     "height": 1000
    },
    "id": "erl8gAUTZbOr",
    "outputId": "6d37fdc3-4cad-4b4c-ad0b-67719fea23b4",
    "scrolled": true
   },
   "outputs": [],
   "source": [
    "## instantiate an OLS model WITH the training data.\n",
    "model_raw = sm.OLS(y_train, X_train_df)\n",
    "\n",
    "## Fit the model and view the summary\n",
    "result_raw = model_raw.fit()\n",
    "sf.evaluate_ols(result_raw,X_train_df, y_train)"
   ]
  },
  {
   "cell_type": "code",
   "execution_count": null,
   "id": "a12a22c8",
   "metadata": {
    "scrolled": false
   },
   "outputs": [],
   "source": [
    "fig_raw = sf.plot_coeffs(result_raw, ohe_cols, include_const=True,title=\"Raw Coefficients\")"
   ]
  },
  {
   "cell_type": "code",
   "execution_count": null,
   "id": "25fcc40d",
   "metadata": {
    "scrolled": true
   },
   "outputs": [],
   "source": [
    "fig_raw_zips =sf.plot_coeffs(result_raw, nonohe_cols, figsize=(6,12),\n",
    "                           include_const=True,title=\"Raw Coefficients\")"
   ]
  },
  {
   "cell_type": "markdown",
   "id": "498ee2bd",
   "metadata": {},
   "source": [
    "### Raw Numeric - with Constant"
   ]
  },
  {
   "cell_type": "code",
   "execution_count": null,
   "id": "ed9552ee",
   "metadata": {
    "colab": {
     "base_uri": "https://localhost:8080/",
     "height": 1000
    },
    "id": "erl8gAUTZbOr",
    "outputId": "6d37fdc3-4cad-4b4c-ad0b-67719fea23b4",
    "scrolled": false
   },
   "outputs": [],
   "source": [
    "## instantiate an OLS model WITH the training data.\n",
    "model_raw_cnst = sm.OLS(y_train, X_train_df_cnst)\n",
    "\n",
    "## Fit the model and view the summary\n",
    "result_raw_cnst = model_raw_cnst.fit()\n",
    "sf.evaluate_ols(result_raw_cnst,X_train_df_cnst, y_train)"
   ]
  },
  {
   "cell_type": "code",
   "execution_count": null,
   "id": "7bdde8ff",
   "metadata": {
    "scrolled": true
   },
   "outputs": [],
   "source": [
    "fig_raw =sf.plot_coeffs(result_raw_cnst, ohe_cols, include_const=True,title=\"Raw Coefficients\")"
   ]
  },
  {
   "cell_type": "code",
   "execution_count": null,
   "id": "87f6541b",
   "metadata": {},
   "outputs": [],
   "source": [
    "fig_raw =sf.plot_coeffs(result_raw_cnst, ohe_cols, include_const=False,title=\"Raw Coefficients\")"
   ]
  },
  {
   "cell_type": "code",
   "execution_count": null,
   "id": "690ef195",
   "metadata": {
    "scrolled": true
   },
   "outputs": [],
   "source": [
    "fig_raw_zips =sf.plot_coeffs(result_raw_cnst, nonohe_cols, figsize=(6,12),include_const=False,title=\"Raw Coefficients\")"
   ]
  },
  {
   "cell_type": "code",
   "execution_count": null,
   "id": "f4ca13b7",
   "metadata": {},
   "outputs": [],
   "source": []
  },
  {
   "cell_type": "markdown",
   "id": "14d16311",
   "metadata": {},
   "source": [
    "### Scaled Numeric - No Constant"
   ]
  },
  {
   "cell_type": "code",
   "execution_count": null,
   "id": "13ca286c",
   "metadata": {
    "colab": {
     "base_uri": "https://localhost:8080/",
     "height": 1000
    },
    "id": "erl8gAUTZbOr",
    "outputId": "6d37fdc3-4cad-4b4c-ad0b-67719fea23b4",
    "scrolled": false
   },
   "outputs": [],
   "source": [
    "## instantiate an OLS model WITH the training data.\n",
    "model_scaled = sm.OLS(y_train, X_train_scaled_df)\n",
    "\n",
    "## Fit the model and view the summary\n",
    "result_scaled = model_scaled.fit()\n",
    "sf.evaluate_ols(result_scaled,X_train_scaled_df, y_train)"
   ]
  },
  {
   "cell_type": "code",
   "execution_count": null,
   "id": "b883c15d",
   "metadata": {},
   "outputs": [],
   "source": [
    "fig_scaled =sf.plot_coeffs(result_scaled,ohe_cols,include_const=True)"
   ]
  },
  {
   "cell_type": "code",
   "execution_count": null,
   "id": "d9f70a5e",
   "metadata": {
    "scrolled": true
   },
   "outputs": [],
   "source": [
    "fig_scaled_zips =sf.plot_coeffs(result_scaled, nonohe_cols, figsize=(6,12),include_const=True,title=\"Raw Coefficients\")"
   ]
  },
  {
   "cell_type": "markdown",
   "id": "beb0bcf7",
   "metadata": {},
   "source": [
    "### Scaled Numeric - with Constant"
   ]
  },
  {
   "cell_type": "code",
   "execution_count": null,
   "id": "171346ac",
   "metadata": {},
   "outputs": [],
   "source": [
    "## instantiate an OLS model WITH the training data.\n",
    "model_scaled_cnst = sm.OLS(y_train, X_train_scaled_df_cnst)\n",
    "\n",
    "## Fit the model and view the summary\n",
    "result_scaled_cnst = model_scaled_cnst.fit()\n",
    "sf.evaluate_ols(result_scaled_cnst,X_train_scaled_df_cnst, y_train)"
   ]
  },
  {
   "cell_type": "code",
   "execution_count": null,
   "id": "7a0f935f",
   "metadata": {},
   "outputs": [],
   "source": [
    "fig_scaled =sf.plot_coeffs(result_scaled_cnst,ohe_cols,include_const=True)"
   ]
  },
  {
   "cell_type": "code",
   "execution_count": null,
   "id": "b35ba549",
   "metadata": {},
   "outputs": [],
   "source": [
    "fig_scaled =sf.plot_coeffs(result_scaled_cnst,ohe_cols,include_const=False)"
   ]
  },
  {
   "cell_type": "code",
   "execution_count": null,
   "id": "e8760d3d",
   "metadata": {
    "scrolled": true
   },
   "outputs": [],
   "source": [
    "fig_scaled_zips =sf.plot_coeffs(result_scaled_cnst, nonohe_cols, figsize=(6,12),include_const=True,title=\"Raw Coefficients\")"
   ]
  },
  {
   "cell_type": "markdown",
   "id": "655469e7",
   "metadata": {},
   "source": [
    "## Modeling - No Outliers"
   ]
  },
  {
   "cell_type": "markdown",
   "id": "9c55ae2f",
   "metadata": {},
   "source": [
    "### Raw Numeric - No Constant"
   ]
  },
  {
   "cell_type": "code",
   "execution_count": null,
   "id": "6e984cff",
   "metadata": {
    "colab": {
     "base_uri": "https://localhost:8080/",
     "height": 1000
    },
    "id": "erl8gAUTZbOr",
    "outputId": "6d37fdc3-4cad-4b4c-ad0b-67719fea23b4",
    "scrolled": true
   },
   "outputs": [],
   "source": [
    "## instantiate an OLS model WITH the training data.\n",
    "model_cln = sm.OLS(y_train_cln, X_train_df_cln)\n",
    "\n",
    "## Fit the model and view the summary\n",
    "result_cln = model_cln.fit()\n",
    "sf.evaluate_ols(result_cln,X_train_df_cln, y_train_cln)"
   ]
  },
  {
   "cell_type": "code",
   "execution_count": null,
   "id": "894f8183",
   "metadata": {
    "scrolled": false
   },
   "outputs": [],
   "source": [
    "fig_raw =sf.plot_coeffs(result_cln, ohe_cols, include_const=True,title=\"Raw Coefficients\")"
   ]
  },
  {
   "cell_type": "code",
   "execution_count": null,
   "id": "89871d38",
   "metadata": {
    "scrolled": true
   },
   "outputs": [],
   "source": [
    "fig_raw_zips =sf.plot_coeffs(result_cln, nonohe_cols, figsize=(6,12),include_const=True,title=\"Raw Coefficients\")"
   ]
  },
  {
   "cell_type": "markdown",
   "id": "9b5dd530",
   "metadata": {},
   "source": [
    "### Raw Numeric - with Constant"
   ]
  },
  {
   "cell_type": "code",
   "execution_count": null,
   "id": "02e31e43",
   "metadata": {},
   "outputs": [],
   "source": [
    "X_train_df_cln_cnst.describe()"
   ]
  },
  {
   "cell_type": "code",
   "execution_count": null,
   "id": "3f4d4b82",
   "metadata": {
    "colab": {
     "base_uri": "https://localhost:8080/",
     "height": 1000
    },
    "id": "erl8gAUTZbOr",
    "outputId": "6d37fdc3-4cad-4b4c-ad0b-67719fea23b4",
    "scrolled": false
   },
   "outputs": [],
   "source": [
    "## instantiate an OLS model WITH the training data.\n",
    "model_cln_cnst = sm.OLS(y_train_cln, X_train_df_cln_cnst)\n",
    "\n",
    "## Fit the model and view the summary\n",
    "result_cln_cnst = model_cln_cnst.fit()\n",
    "sf.evaluate_ols(result_cln_cnst,X_train_df_cln_cnst, y_train_cln)"
   ]
  },
  {
   "cell_type": "code",
   "execution_count": null,
   "id": "59641b37",
   "metadata": {
    "scrolled": true
   },
   "outputs": [],
   "source": [
    "fig_raw =sf.plot_coeffs(result_cln_cnst, ohe_cols, include_const=True,title=\"Raw Coefficients\")"
   ]
  },
  {
   "cell_type": "code",
   "execution_count": null,
   "id": "c77a6f88",
   "metadata": {},
   "outputs": [],
   "source": [
    "fig_raw =sf.plot_coeffs(result_cln_cnst, ohe_cols, include_const=False,title=\"Raw Coefficients\")"
   ]
  },
  {
   "cell_type": "code",
   "execution_count": null,
   "id": "686cf010",
   "metadata": {
    "scrolled": true
   },
   "outputs": [],
   "source": [
    "fig_raw_zips =sf.plot_coeffs(result_cln_cnst, nonohe_cols, figsize=(6,12),include_const=True,title=\"Raw Coefficients\")"
   ]
  },
  {
   "cell_type": "code",
   "execution_count": null,
   "id": "08b70eba",
   "metadata": {},
   "outputs": [],
   "source": []
  },
  {
   "cell_type": "code",
   "execution_count": null,
   "id": "6d7dc292",
   "metadata": {},
   "outputs": [],
   "source": []
  },
  {
   "cell_type": "code",
   "execution_count": null,
   "id": "cf781c1e",
   "metadata": {},
   "outputs": [],
   "source": []
  },
  {
   "cell_type": "code",
   "execution_count": null,
   "id": "183f8e3a",
   "metadata": {},
   "outputs": [],
   "source": []
  },
  {
   "cell_type": "code",
   "execution_count": null,
   "id": "d03a0b44",
   "metadata": {},
   "outputs": [],
   "source": []
  },
  {
   "cell_type": "markdown",
   "id": "bf463d54",
   "metadata": {},
   "source": [
    "### Scaled Numeric - No Constant"
   ]
  },
  {
   "cell_type": "code",
   "execution_count": null,
   "id": "18e87c58",
   "metadata": {},
   "outputs": [],
   "source": [
    "X_train_scaled_df_cln.describe()"
   ]
  },
  {
   "cell_type": "code",
   "execution_count": null,
   "id": "3901361a",
   "metadata": {
    "colab": {
     "base_uri": "https://localhost:8080/",
     "height": 1000
    },
    "id": "erl8gAUTZbOr",
    "outputId": "6d37fdc3-4cad-4b4c-ad0b-67719fea23b4",
    "scrolled": false
   },
   "outputs": [],
   "source": [
    "## instantiate an OLS model WITH the training data.\n",
    "model_cln_scaled = sm.OLS(y_train_cln, X_train_scaled_df_cln)\n",
    "\n",
    "## Fit the model and view the summary\n",
    "result_cln_scaled = model_cln_scaled.fit()\n",
    "sf.evaluate_ols(result_cln_scaled,X_train_scaled_df_cln, y_train_cln)"
   ]
  },
  {
   "cell_type": "code",
   "execution_count": null,
   "id": "32d557c7",
   "metadata": {},
   "outputs": [],
   "source": [
    "fig_scaled =sf.plot_coeffs(result_cln_scaled,ohe_cols,include_const=True)"
   ]
  },
  {
   "cell_type": "code",
   "execution_count": null,
   "id": "2dac1b99",
   "metadata": {
    "scrolled": true
   },
   "outputs": [],
   "source": [
    "fig_scaled_zips =sf.plot_coeffs(result_cln_scaled, nonohe_cols, figsize=(6,12),include_const=True,title=\"Raw Coefficients\")"
   ]
  },
  {
   "cell_type": "markdown",
   "id": "dbdbd4a8",
   "metadata": {},
   "source": [
    "### Scaled Numeric - with Constant"
   ]
  },
  {
   "cell_type": "code",
   "execution_count": null,
   "id": "dd91b044",
   "metadata": {},
   "outputs": [],
   "source": [
    "X_train_scaled_df_cln_cnst.describe()"
   ]
  },
  {
   "cell_type": "code",
   "execution_count": null,
   "id": "9a2f81aa",
   "metadata": {
    "colab": {
     "base_uri": "https://localhost:8080/",
     "height": 1000
    },
    "id": "erl8gAUTZbOr",
    "outputId": "6d37fdc3-4cad-4b4c-ad0b-67719fea23b4",
    "scrolled": true
   },
   "outputs": [],
   "source": [
    "## instantiate an OLS model WITH the training data.\n",
    "model_cln_scaled_cnst = sm.OLS(y_train_cln, X_train_scaled_df_cln_cnst)\n",
    "\n",
    "## Fit the model and view the summary\n",
    "result_cln_scaled_cnst = model_cln_scaled_cnst.fit()\n",
    "sf.evaluate_ols(result_cln_scaled_cnst,X_train_scaled_df_cln_cnst, y_train_cln)"
   ]
  },
  {
   "cell_type": "code",
   "execution_count": null,
   "id": "228d643a",
   "metadata": {},
   "outputs": [],
   "source": [
    "fig_scaled =sf.plot_coeffs(result_cln_scaled_cnst,ohe_cols,include_const=True)"
   ]
  },
  {
   "cell_type": "code",
   "execution_count": null,
   "id": "169dd0a4",
   "metadata": {
    "scrolled": true
   },
   "outputs": [],
   "source": [
    "fig_scaled =sf.plot_coeffs(result_cln_scaled_cnst,ohe_cols,include_const=False)"
   ]
  },
  {
   "cell_type": "code",
   "execution_count": null,
   "id": "36c48a2d",
   "metadata": {},
   "outputs": [],
   "source": []
  },
  {
   "cell_type": "code",
   "execution_count": null,
   "id": "02993cf1",
   "metadata": {},
   "outputs": [],
   "source": []
  },
  {
   "cell_type": "markdown",
   "id": "44ad5ec5",
   "metadata": {},
   "source": [
    "# Adding Explanations"
   ]
  },
  {
   "cell_type": "markdown",
   "id": "c9197b6c",
   "metadata": {},
   "source": [
    "## Sklearn LinearRegression"
   ]
  },
  {
   "cell_type": "markdown",
   "id": "e7ff595b",
   "metadata": {},
   "source": [
    "> Pick 1 of the statsmodels models above to remake in sklearn for model explanations"
   ]
  },
  {
   "cell_type": "code",
   "execution_count": null,
   "id": "faf93f31",
   "metadata": {},
   "outputs": [],
   "source": [
    "from sklearn.linear_model import LinearRegression"
   ]
  },
  {
   "cell_type": "code",
   "execution_count": null,
   "id": "c914dbb5",
   "metadata": {},
   "outputs": [],
   "source": [
    "## Making new var name sfor sklearn - update these to change model\n",
    "ols_results = result_scaled_cnst\n",
    "# sf.evaluate_ols(ols_results,X_tr,y_tr)\n",
    "X_tr = X_train_scaled_df_cnst\n",
    "X_te = X_test_scaled_df_cnst\n",
    "y_tr = y_train\n",
    "y_te = y_test\n",
    "\n",
    "## If const in orig df, \n",
    "fit_intercept = 'const' in X_tr.columns\n",
    "\n",
    "if fit_intercept==True:\n",
    "    X_tr = X_tr.drop(columns='const')\n",
    "    X_te = X_te.drop(columns='const')\n",
    "fit_intercept"
   ]
  },
  {
   "cell_type": "code",
   "execution_count": null,
   "id": "b2213c03",
   "metadata": {
    "scrolled": true
   },
   "outputs": [],
   "source": [
    "linreg = LinearRegression(fit_intercept=fit_intercept)\n",
    "linreg.fit(X_tr, y_tr)\n",
    "print(f\"Train R^2: {format(linreg.score(X_tr,y_tr),'.2f')}\")\n",
    "print(f\"Test R^2: {format(linreg.score(X_te,y_te),'.2f')}\")\n",
    "linreg.get_params()"
   ]
  },
  {
   "cell_type": "code",
   "execution_count": null,
   "id": "321a0c27",
   "metadata": {
    "scrolled": true
   },
   "outputs": [],
   "source": [
    "coeffs = sf.get_coeffs(linreg,X_tr,name='LinReg Coeffs')\n",
    "coeffs#.head(20)"
   ]
  },
  {
   "cell_type": "code",
   "execution_count": null,
   "id": "c7f5c007",
   "metadata": {},
   "outputs": [],
   "source": [
    "ax = coeffs.drop(ohe_cols).sort_values().plot(kind='barh',figsize=(4,6))\n",
    "ax.axvline(0,color='black')"
   ]
  },
  {
   "cell_type": "code",
   "execution_count": null,
   "id": "59fad858",
   "metadata": {},
   "outputs": [],
   "source": [
    "if len(ohe_cols)>1:\n",
    "\n",
    "    ax = coeffs[ohe_cols].sort_values().plot(kind='barh',figsize=(4,6))\n",
    "    ax.axvline(0,color='black')"
   ]
  },
  {
   "cell_type": "code",
   "execution_count": null,
   "id": "879ce082",
   "metadata": {},
   "outputs": [],
   "source": [
    "## save 1 df of skelarn vs ols coeffs\n",
    "compare_coeffs = pd.DataFrame({'OLS':ols_results.params,\n",
    "                              'LinReg':coeffs}).round(2)\n",
    "compare_coeffs['Agree?'] = compare_coeffs['OLS']==compare_coeffs['LinReg']\n",
    "\n",
    "display(compare_coeffs.round(3))\n",
    "compare_coeffs['Agree?'].value_counts(1)\n",
    "#compare_coeffs.style.format({'OLS':\"{:,.2f}\",\"LinReg\":\"{:,.2f}\"})"
   ]
  },
  {
   "cell_type": "code",
   "execution_count": null,
   "id": "cfe57ea0",
   "metadata": {},
   "outputs": [],
   "source": [
    "compare_coeffs[compare_coeffs['Agree?']==True]"
   ]
  },
  {
   "cell_type": "code",
   "execution_count": null,
   "id": "7390e352",
   "metadata": {},
   "outputs": [],
   "source": [
    "# compare_coeffs[compare_coeffs['Agree?']==False]"
   ]
  },
  {
   "cell_type": "code",
   "execution_count": null,
   "id": "1bf502b8",
   "metadata": {},
   "outputs": [],
   "source": [
    "compare_coeffs.style.bar()"
   ]
  },
  {
   "cell_type": "markdown",
   "id": "ae46d332",
   "metadata": {},
   "source": [
    "> ISSUE WITH COEFFICIENTS NOT MATCHING - SEE IF TRUE FOR OTHER DATASETS. "
   ]
  },
  {
   "cell_type": "markdown",
   "id": "01f618b4",
   "metadata": {},
   "source": [
    "### Shap"
   ]
  },
  {
   "cell_type": "code",
   "execution_count": null,
   "id": "3a713df6",
   "metadata": {},
   "outputs": [],
   "source": [
    "import shap\n",
    "shap.initjs()\n",
    "\n",
    "shap.__version__"
   ]
  },
  {
   "cell_type": "code",
   "execution_count": null,
   "id": "ceba0510",
   "metadata": {},
   "outputs": [],
   "source": [
    "## sampling 200 rows from training data\n",
    "X_shap = shap.sample(X_tr,nsamples=200,random_state=321)"
   ]
  },
  {
   "cell_type": "code",
   "execution_count": null,
   "id": "8f86403b",
   "metadata": {},
   "outputs": [],
   "source": [
    "## Creating explainer from model and getting shap values\n",
    "explainer = shap.LinearExplainer(linreg,X_shap)\n",
    "shap_values = explainer(X_shap)\n",
    "shap_values.shape"
   ]
  },
  {
   "cell_type": "code",
   "execution_count": null,
   "id": "12b05e03",
   "metadata": {},
   "outputs": [],
   "source": [
    "# [i for i in dir(shap_values) if not i.startswith(\"_\")]"
   ]
  },
  {
   "cell_type": "code",
   "execution_count": null,
   "id": "4ce85fba",
   "metadata": {},
   "outputs": [],
   "source": [
    "shap.summary_plot(shap_values)"
   ]
  },
  {
   "cell_type": "code",
   "execution_count": null,
   "id": "c1afd12b",
   "metadata": {},
   "outputs": [],
   "source": [
    "explainer.expected_value"
   ]
  },
  {
   "cell_type": "code",
   "execution_count": null,
   "id": "db5db532",
   "metadata": {},
   "outputs": [],
   "source": [
    "shap.force_plot(explainer.expected_value,shap_values= shap_values.values, features=X_shap)       "
   ]
  },
  {
   "cell_type": "markdown",
   "id": "34276ee2",
   "metadata": {},
   "source": [
    "## RandomForest"
   ]
  },
  {
   "cell_type": "code",
   "execution_count": null,
   "id": "c5289d49",
   "metadata": {},
   "outputs": [],
   "source": [
    "from sklearn.ensemble import RandomForestRegressor\n",
    "rf_reg = RandomForestRegressor()\n",
    "rf_reg.fit(X_tr,y_tr)"
   ]
  },
  {
   "cell_type": "code",
   "execution_count": null,
   "id": "b6dfbaf4",
   "metadata": {
    "scrolled": false
   },
   "outputs": [],
   "source": [
    "scores = sf.evaluate_regression(rf_reg,X_te, y_te, X_train_df=X_tr, y_train=y_tr,\n",
    "                            return_scores=True)"
   ]
  },
  {
   "cell_type": "code",
   "execution_count": null,
   "id": "98fae6f6",
   "metadata": {},
   "outputs": [],
   "source": [
    "importances = sf.get_importance(rf_reg,X_test_df,top_n=50)"
   ]
  },
  {
   "cell_type": "markdown",
   "id": "66f1864c",
   "metadata": {},
   "source": [
    "### Permutation Importance"
   ]
  },
  {
   "cell_type": "code",
   "execution_count": null,
   "id": "fb1c8b32",
   "metadata": {},
   "outputs": [],
   "source": [
    "from sklearn.inspection import permutation_importance\n",
    "## Permutation importance takes a fit mode and test data. \n",
    "r = permutation_importance(linreg, X_tr, y_tr,\n",
    "#                            n_repeats=30\n",
    "                          )\n",
    "r.keys()"
   ]
  },
  {
   "cell_type": "code",
   "execution_count": null,
   "id": "c10a5100",
   "metadata": {},
   "outputs": [],
   "source": [
    "## can make the mean importances into a series\n",
    "permutation_importances = pd.Series(r['importances_mean'],index=X_tr.columns,\n",
    "                           name = 'permutation importance')\n",
    "permutation_importances"
   ]
  },
  {
   "cell_type": "code",
   "execution_count": null,
   "id": "7a3be86e",
   "metadata": {},
   "outputs": [],
   "source": [
    "permutation_importances.sort_values().tail(20).plot(kind='barh',figsize=(6,12))"
   ]
  },
  {
   "cell_type": "code",
   "execution_count": null,
   "id": "4b8a03b8",
   "metadata": {},
   "outputs": [],
   "source": [
    "X_shap = shap.sample(X_tr,nsamples=200,random_state=321)"
   ]
  },
  {
   "cell_type": "code",
   "execution_count": null,
   "id": "35a94ed0",
   "metadata": {},
   "outputs": [],
   "source": [
    "explainer = shap.TreeExplainer(rf_reg,X_shap)\n",
    "shap_values = explainer(X_shap)"
   ]
  },
  {
   "cell_type": "code",
   "execution_count": null,
   "id": "be40b2a5",
   "metadata": {},
   "outputs": [],
   "source": [
    "shap.summary_plot(shap_values)"
   ]
  },
  {
   "cell_type": "code",
   "execution_count": null,
   "id": "11d2a797",
   "metadata": {},
   "outputs": [],
   "source": [
    "shap.force_plot(explainer.expected_value,shap_values= shap_values.values, features=X_shap)       "
   ]
  }
 ],
 "metadata": {
  "kernelspec": {
   "display_name": "Python (dojo-env)",
   "language": "python",
   "name": "dojo-env"
  },
  "language_info": {
   "codemirror_mode": {
    "name": "ipython",
    "version": 3
   },
   "file_extension": ".py",
   "mimetype": "text/x-python",
   "name": "python",
   "nbconvert_exporter": "python",
   "pygments_lexer": "ipython3",
   "version": "3.8.13"
  },
  "toc": {
   "base_numbering": 1,
   "nav_menu": {},
   "number_sections": false,
   "sideBar": true,
   "skip_h1_title": false,
   "title_cell": "Table of Contents",
   "title_sidebar": "Contents",
   "toc_cell": false,
   "toc_position": {
    "height": "calc(100% - 180px)",
    "left": "10px",
    "top": "150px",
    "width": "299.188px"
   },
   "toc_section_display": true,
   "toc_window_display": true
  }
 },
 "nbformat": 4,
 "nbformat_minor": 5
}