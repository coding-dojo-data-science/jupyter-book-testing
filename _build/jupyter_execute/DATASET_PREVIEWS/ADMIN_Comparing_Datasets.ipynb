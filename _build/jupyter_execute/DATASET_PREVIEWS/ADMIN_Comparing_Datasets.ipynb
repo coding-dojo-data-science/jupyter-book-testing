{
 "cells": [
  {
   "cell_type": "markdown",
   "metadata": {
    "id": "J-a9WpeOUr20"
   },
   "source": [
    "# Comparing Datasets - Linear Regression"
   ]
  },
  {
   "cell_type": "markdown",
   "metadata": {},
   "source": [
    "## Datasets to Compare:"
   ]
  },
  {
   "cell_type": "markdown",
   "metadata": {},
   "source": [
    "- King's County\n",
    "- AMES\n",
    "- Boston\n",
    "\n"
   ]
  },
  {
   "cell_type": "markdown",
   "metadata": {},
   "source": [
    "# Code"
   ]
  },
  {
   "cell_type": "markdown",
   "metadata": {},
   "source": [
    "## Loading in datasets csv \n",
    "- from my [\"Important coding dojo data sciecnce Link\"](https://docs.google.com/spreadsheets/d/1BIR_4P2fJEJPIM_mWgyTdOEy4mOFM7YLN2MtdjlDvSI/edit?usp=sharing) Google Sheet"
   ]
  },
  {
   "cell_type": "code",
   "execution_count": 1,
   "metadata": {
    "ExecuteTime": {
     "end_time": "2022-06-22T20:03:58.996334Z",
     "start_time": "2022-06-22T20:03:58.294281Z"
    },
    "id": "30QoDlI8Ur25"
   },
   "outputs": [],
   "source": [
    "import pandas as pd\n",
    "import numpy as np\n",
    "import matplotlib as mpl\n",
    "import matplotlib.pyplot as plt\n",
    "import seaborn as sns\n",
    "## Customization Options\n",
    "# pd.set_option('display.float_format',lambda x: f\"{x:,.4f}\")\n",
    "pd.set_option(\"display.max_columns\",100)\n",
    "plt.style.use(['fivethirtyeight','seaborn-talk'])\n",
    "mpl.rcParams['figure.facecolor']='white'\n"
   ]
  },
  {
   "cell_type": "code",
   "execution_count": 2,
   "metadata": {
    "ExecuteTime": {
     "end_time": "2022-06-22T20:03:59.009394Z",
     "start_time": "2022-06-22T20:03:58.997848Z"
    }
   },
   "outputs": [
    {
     "data": {
      "text/html": [
       "<div>\n",
       "<style scoped>\n",
       "    .dataframe tbody tr th:only-of-type {\n",
       "        vertical-align: middle;\n",
       "    }\n",
       "\n",
       "    .dataframe tbody tr th {\n",
       "        vertical-align: top;\n",
       "    }\n",
       "\n",
       "    .dataframe thead th {\n",
       "        text-align: right;\n",
       "    }\n",
       "</style>\n",
       "<table border=\"1\" class=\"dataframe\">\n",
       "  <thead>\n",
       "    <tr style=\"text-align: right;\">\n",
       "      <th></th>\n",
       "      <th>#</th>\n",
       "      <th>Used in:</th>\n",
       "      <th>Name</th>\n",
       "      <th>File name</th>\n",
       "      <th>Share URL</th>\n",
       "      <th>Download URL</th>\n",
       "      <th>Hypothesis Testing?</th>\n",
       "      <th>Notes:</th>\n",
       "      <th>Add to CDDS?</th>\n",
       "      <th>Added to cdds</th>\n",
       "      <th>FULL URL</th>\n",
       "    </tr>\n",
       "  </thead>\n",
       "  <tbody>\n",
       "    <tr>\n",
       "      <th>0</th>\n",
       "      <td>NaN</td>\n",
       "      <td>Week 6 assignments</td>\n",
       "      <td>Boston Housing from Sklearn</td>\n",
       "      <td>Boston_Housing_from_Sklearn.csv</td>\n",
       "      <td>Share</td>\n",
       "      <td>Link</td>\n",
       "      <td>No</td>\n",
       "      <td>NaN</td>\n",
       "      <td>?</td>\n",
       "      <td>?</td>\n",
       "      <td>https://docs.google.com/spreadsheets/d/e/2PACX...</td>\n",
       "    </tr>\n",
       "    <tr>\n",
       "      <th>1</th>\n",
       "      <td>NaN</td>\n",
       "      <td>Week 5 assignment</td>\n",
       "      <td>insurance dataset</td>\n",
       "      <td>insurance.csv</td>\n",
       "      <td>Share</td>\n",
       "      <td>Link</td>\n",
       "      <td>Yes</td>\n",
       "      <td>NaN</td>\n",
       "      <td>?</td>\n",
       "      <td>no</td>\n",
       "      <td>https://docs.google.com/spreadsheets/d/e/2PACX...</td>\n",
       "    </tr>\n",
       "    <tr>\n",
       "      <th>2</th>\n",
       "      <td>NaN</td>\n",
       "      <td>Project 1</td>\n",
       "      <td>Sales predictions</td>\n",
       "      <td>sales_predictions.csv</td>\n",
       "      <td>Share</td>\n",
       "      <td>Link</td>\n",
       "      <td>Yes</td>\n",
       "      <td>NaN</td>\n",
       "      <td>Yes</td>\n",
       "      <td>no</td>\n",
       "      <td>https://docs.google.com/spreadsheets/d/e/2PACX...</td>\n",
       "    </tr>\n",
       "    <tr>\n",
       "      <th>3</th>\n",
       "      <td>NaN</td>\n",
       "      <td>Filtering Data Assignment</td>\n",
       "      <td>Bike Data</td>\n",
       "      <td>RailsToTrails_National Count Data_week.xlsx</td>\n",
       "      <td>Share</td>\n",
       "      <td>Link</td>\n",
       "      <td>No</td>\n",
       "      <td>NaN</td>\n",
       "      <td>Yes</td>\n",
       "      <td>no</td>\n",
       "      <td>https://docs.google.com/spreadsheets/d/e/2PACX...</td>\n",
       "    </tr>\n",
       "    <tr>\n",
       "      <th>4</th>\n",
       "      <td>NaN</td>\n",
       "      <td>Titanic Assignment</td>\n",
       "      <td>Titanic dataset</td>\n",
       "      <td>titanic.csv</td>\n",
       "      <td>Share</td>\n",
       "      <td>Link</td>\n",
       "      <td>Yes</td>\n",
       "      <td>may not perfectly match - cdds using a differe...</td>\n",
       "      <td>Yes</td>\n",
       "      <td>yes</td>\n",
       "      <td>https://docs.google.com/spreadsheets/d/e/2PACX...</td>\n",
       "    </tr>\n",
       "    <tr>\n",
       "      <th>5</th>\n",
       "      <td>NaN</td>\n",
       "      <td>Class activity</td>\n",
       "      <td>Super Bowl dataset</td>\n",
       "      <td>super_bowl.csv</td>\n",
       "      <td>Share</td>\n",
       "      <td>Link</td>\n",
       "      <td>Not Really</td>\n",
       "      <td>NaN</td>\n",
       "      <td>Yes</td>\n",
       "      <td>no</td>\n",
       "      <td>https://docs.google.com/spreadsheets/d/e/2PACX...</td>\n",
       "    </tr>\n",
       "    <tr>\n",
       "      <th>6</th>\n",
       "      <td>NaN</td>\n",
       "      <td>Class activity</td>\n",
       "      <td>Ames Housing Dataset</td>\n",
       "      <td>ames.csv</td>\n",
       "      <td>Share</td>\n",
       "      <td>Link</td>\n",
       "      <td>Yes</td>\n",
       "      <td>NaN</td>\n",
       "      <td>NaN</td>\n",
       "      <td>NaN</td>\n",
       "      <td>https://docs.google.com/spreadsheets/d/e/2PACX...</td>\n",
       "    </tr>\n",
       "    <tr>\n",
       "      <th>7</th>\n",
       "      <td>NaN</td>\n",
       "      <td>Histogram &amp; boxplots assignment</td>\n",
       "      <td>Cat and Dog Ownership</td>\n",
       "      <td>catsvdogx.xlsx</td>\n",
       "      <td>Share</td>\n",
       "      <td>Link</td>\n",
       "      <td>No</td>\n",
       "      <td>NaN</td>\n",
       "      <td>NaN</td>\n",
       "      <td>NaN</td>\n",
       "      <td>https://docs.google.com/spreadsheets/d/e/2PACX...</td>\n",
       "    </tr>\n",
       "    <tr>\n",
       "      <th>8</th>\n",
       "      <td>NaN</td>\n",
       "      <td>Explanatory viz lecture</td>\n",
       "      <td>Used Cars</td>\n",
       "      <td>UsedCars_Combined</td>\n",
       "      <td>Share</td>\n",
       "      <td>Link</td>\n",
       "      <td>Yes</td>\n",
       "      <td>NaN</td>\n",
       "      <td>NaN</td>\n",
       "      <td>NaN</td>\n",
       "      <td>https://docs.google.com/spreadsheets/d/e/2PACX...</td>\n",
       "    </tr>\n",
       "    <tr>\n",
       "      <th>9</th>\n",
       "      <td>NaN</td>\n",
       "      <td>Explanatory viz lecture</td>\n",
       "      <td>Life Expectancy</td>\n",
       "      <td>NaN</td>\n",
       "      <td>Share</td>\n",
       "      <td>Link</td>\n",
       "      <td>Yes</td>\n",
       "      <td>NaN</td>\n",
       "      <td>NaN</td>\n",
       "      <td>NaN</td>\n",
       "      <td>https://docs.google.com/spreadsheets/d/e/2PACX...</td>\n",
       "    </tr>\n",
       "    <tr>\n",
       "      <th>10</th>\n",
       "      <td>NaN</td>\n",
       "      <td>Average Hieght assignment</td>\n",
       "      <td>Athlete Events</td>\n",
       "      <td>athleteEventsNoPersonal</td>\n",
       "      <td>Share</td>\n",
       "      <td>Link</td>\n",
       "      <td>Maybe</td>\n",
       "      <td>NaN</td>\n",
       "      <td>NaN</td>\n",
       "      <td>NaN</td>\n",
       "      <td>https://docs.google.com/spreadsheets/d/e/2PACX...</td>\n",
       "    </tr>\n",
       "    <tr>\n",
       "      <th>11</th>\n",
       "      <td>NaN</td>\n",
       "      <td>NaN</td>\n",
       "      <td>Raw Medical Data</td>\n",
       "      <td>One Hot Encoder lesson</td>\n",
       "      <td>Share</td>\n",
       "      <td>Link</td>\n",
       "      <td>Yes</td>\n",
       "      <td>NaN</td>\n",
       "      <td>NaN</td>\n",
       "      <td>NaN</td>\n",
       "      <td>https://docs.google.com/spreadsheets/d/e/2PACX...</td>\n",
       "    </tr>\n",
       "    <tr>\n",
       "      <th>12</th>\n",
       "      <td>NaN</td>\n",
       "      <td>Class Activities</td>\n",
       "      <td>Cereal with Pipelines</td>\n",
       "      <td>NaN</td>\n",
       "      <td>Share</td>\n",
       "      <td>Link</td>\n",
       "      <td>Yes</td>\n",
       "      <td>NaN</td>\n",
       "      <td>NaN</td>\n",
       "      <td>NaN</td>\n",
       "      <td>https://docs.google.com/spreadsheets/d/e/2PACX...</td>\n",
       "    </tr>\n",
       "    <tr>\n",
       "      <th>13</th>\n",
       "      <td>NaN</td>\n",
       "      <td>NaN</td>\n",
       "      <td>King County Housing</td>\n",
       "      <td>NaN</td>\n",
       "      <td>Share</td>\n",
       "      <td>Link</td>\n",
       "      <td>Not really</td>\n",
       "      <td>NaN</td>\n",
       "      <td>NaN</td>\n",
       "      <td>NaN</td>\n",
       "      <td>https://docs.google.com/spreadsheets/d/e/2PACX...</td>\n",
       "    </tr>\n",
       "    <tr>\n",
       "      <th>14</th>\n",
       "      <td>NaN</td>\n",
       "      <td>Week 15 Lessons</td>\n",
       "      <td>Height Weight</td>\n",
       "      <td>weight-height.csv</td>\n",
       "      <td>Share</td>\n",
       "      <td>Link</td>\n",
       "      <td>Yes</td>\n",
       "      <td>Source: https://www.kaggle.com/mustafaali96/we...</td>\n",
       "      <td>NaN</td>\n",
       "      <td>NaN</td>\n",
       "      <td>https://docs.google.com/spreadsheets/d/e/2PACX...</td>\n",
       "    </tr>\n",
       "    <tr>\n",
       "      <th>15</th>\n",
       "      <td>NaN</td>\n",
       "      <td>Week 15 Lessons?</td>\n",
       "      <td>TMDB Box Office Predictions</td>\n",
       "      <td>NaN</td>\n",
       "      <td>Share</td>\n",
       "      <td>Link</td>\n",
       "      <td>Not easily</td>\n",
       "      <td>Source: https://www.kaggle.com/c/tmdb-box-offi...</td>\n",
       "      <td>NaN</td>\n",
       "      <td>NaN</td>\n",
       "      <td>https://docs.google.com/spreadsheets/d/e/2PACX...</td>\n",
       "    </tr>\n",
       "    <tr>\n",
       "      <th>16</th>\n",
       "      <td>NaN</td>\n",
       "      <td>Week 15 Lessons</td>\n",
       "      <td>Data Science Salaries - Kagge</td>\n",
       "      <td>data_science_salary_2021.csv</td>\n",
       "      <td>Share</td>\n",
       "      <td>Link</td>\n",
       "      <td>Yes</td>\n",
       "      <td>Source: https://www.kaggle.com/nikhilbhathi/da...</td>\n",
       "      <td>NaN</td>\n",
       "      <td>NaN</td>\n",
       "      <td>https://docs.google.com/spreadsheets/d/e/2PACX...</td>\n",
       "    </tr>\n",
       "    <tr>\n",
       "      <th>17</th>\n",
       "      <td>NaN</td>\n",
       "      <td>Stack 4 Project</td>\n",
       "      <td>Box Office Mojo Scraped Financial Data</td>\n",
       "      <td>BOM_financials.csv</td>\n",
       "      <td>Share</td>\n",
       "      <td>Link</td>\n",
       "      <td>NaN</td>\n",
       "      <td>NaN</td>\n",
       "      <td>NaN</td>\n",
       "      <td>NaN</td>\n",
       "      <td>NaN</td>\n",
       "    </tr>\n",
       "    <tr>\n",
       "      <th>18</th>\n",
       "      <td>NaN</td>\n",
       "      <td>Original Files for Making Core Assignment</td>\n",
       "      <td>Super Heroes Dataset - File 1</td>\n",
       "      <td>super_hero_powers.csv</td>\n",
       "      <td>Share</td>\n",
       "      <td>Link</td>\n",
       "      <td>NaN</td>\n",
       "      <td>Source: https://www.kaggle.com/datasets/claudi...</td>\n",
       "      <td>NaN</td>\n",
       "      <td>NaN</td>\n",
       "      <td>NaN</td>\n",
       "    </tr>\n",
       "    <tr>\n",
       "      <th>19</th>\n",
       "      <td>NaN</td>\n",
       "      <td>Stack 4 - Week 2 Core assignment</td>\n",
       "      <td>Super Heroes Dataset - File 2</td>\n",
       "      <td>heroes_information.csv</td>\n",
       "      <td>Share</td>\n",
       "      <td>Link</td>\n",
       "      <td>NaN</td>\n",
       "      <td>Source: https://www.kaggle.com/datasets/claudi...</td>\n",
       "      <td>NaN</td>\n",
       "      <td>NaN</td>\n",
       "      <td>NaN</td>\n",
       "    </tr>\n",
       "    <tr>\n",
       "      <th>20</th>\n",
       "      <td>NaN</td>\n",
       "      <td>Stack 4 - Week 16</td>\n",
       "      <td>Auto-MPG</td>\n",
       "      <td>auto-mpg.csv</td>\n",
       "      <td>Share</td>\n",
       "      <td>Link</td>\n",
       "      <td>NaN</td>\n",
       "      <td>NaN</td>\n",
       "      <td>NaN</td>\n",
       "      <td>NaN</td>\n",
       "      <td>NaN</td>\n",
       "    </tr>\n",
       "    <tr>\n",
       "      <th>21</th>\n",
       "      <td>NaN</td>\n",
       "      <td>Stack 5?</td>\n",
       "      <td>Baltimore Crime Counts</td>\n",
       "      <td>NaN</td>\n",
       "      <td>Share</td>\n",
       "      <td>Link</td>\n",
       "      <td>NaN</td>\n",
       "      <td>NaN</td>\n",
       "      <td>NaN</td>\n",
       "      <td>NaN</td>\n",
       "      <td>NaN</td>\n",
       "    </tr>\n",
       "  </tbody>\n",
       "</table>\n",
       "</div>"
      ],
      "text/plain": [
       "     #                                   Used in:  \\\n",
       "0  NaN                         Week 6 assignments   \n",
       "1  NaN                          Week 5 assignment   \n",
       "2  NaN                                  Project 1   \n",
       "3  NaN                  Filtering Data Assignment   \n",
       "4  NaN                         Titanic Assignment   \n",
       "5  NaN                             Class activity   \n",
       "6  NaN                             Class activity   \n",
       "7  NaN            Histogram & boxplots assignment   \n",
       "8  NaN                    Explanatory viz lecture   \n",
       "9  NaN                    Explanatory viz lecture   \n",
       "10 NaN                  Average Hieght assignment   \n",
       "11 NaN                                        NaN   \n",
       "12 NaN                           Class Activities   \n",
       "13 NaN                                        NaN   \n",
       "14 NaN                            Week 15 Lessons   \n",
       "15 NaN                           Week 15 Lessons?   \n",
       "16 NaN                            Week 15 Lessons   \n",
       "17 NaN                            Stack 4 Project   \n",
       "18 NaN  Original Files for Making Core Assignment   \n",
       "19 NaN           Stack 4 - Week 2 Core assignment   \n",
       "20 NaN                          Stack 4 - Week 16   \n",
       "21 NaN                                   Stack 5?   \n",
       "\n",
       "                                      Name  \\\n",
       "0              Boston Housing from Sklearn   \n",
       "1                        insurance dataset   \n",
       "2                        Sales predictions   \n",
       "3                                Bike Data   \n",
       "4                          Titanic dataset   \n",
       "5                       Super Bowl dataset   \n",
       "6                     Ames Housing Dataset   \n",
       "7                    Cat and Dog Ownership   \n",
       "8                                Used Cars   \n",
       "9                          Life Expectancy   \n",
       "10                          Athlete Events   \n",
       "11                        Raw Medical Data   \n",
       "12                   Cereal with Pipelines   \n",
       "13                     King County Housing   \n",
       "14                           Height Weight   \n",
       "15             TMDB Box Office Predictions   \n",
       "16           Data Science Salaries - Kagge   \n",
       "17  Box Office Mojo Scraped Financial Data   \n",
       "18           Super Heroes Dataset - File 1   \n",
       "19           Super Heroes Dataset - File 2   \n",
       "20                                Auto-MPG   \n",
       "21                  Baltimore Crime Counts   \n",
       "\n",
       "                                      File name Share URL Download URL  \\\n",
       "0               Boston_Housing_from_Sklearn.csv     Share         Link   \n",
       "1                                 insurance.csv     Share         Link   \n",
       "2                         sales_predictions.csv     Share         Link   \n",
       "3   RailsToTrails_National Count Data_week.xlsx     Share         Link   \n",
       "4                                   titanic.csv     Share         Link   \n",
       "5                                super_bowl.csv     Share         Link   \n",
       "6                                      ames.csv     Share         Link   \n",
       "7                                catsvdogx.xlsx     Share         Link   \n",
       "8                             UsedCars_Combined     Share         Link   \n",
       "9                                           NaN     Share         Link   \n",
       "10                      athleteEventsNoPersonal     Share         Link   \n",
       "11                       One Hot Encoder lesson     Share         Link   \n",
       "12                                          NaN     Share         Link   \n",
       "13                                          NaN     Share         Link   \n",
       "14                            weight-height.csv     Share         Link   \n",
       "15                                          NaN     Share         Link   \n",
       "16                 data_science_salary_2021.csv     Share         Link   \n",
       "17                           BOM_financials.csv     Share         Link   \n",
       "18                        super_hero_powers.csv     Share         Link   \n",
       "19                       heroes_information.csv     Share         Link   \n",
       "20                                 auto-mpg.csv     Share         Link   \n",
       "21                                          NaN     Share         Link   \n",
       "\n",
       "   Hypothesis Testing?                                             Notes:  \\\n",
       "0                   No                                                NaN   \n",
       "1                  Yes                                                NaN   \n",
       "2                  Yes                                                NaN   \n",
       "3                   No                                                NaN   \n",
       "4                  Yes  may not perfectly match - cdds using a differe...   \n",
       "5           Not Really                                                NaN   \n",
       "6                  Yes                                                NaN   \n",
       "7                   No                                                NaN   \n",
       "8                  Yes                                                NaN   \n",
       "9                  Yes                                                NaN   \n",
       "10               Maybe                                                NaN   \n",
       "11                 Yes                                                NaN   \n",
       "12                 Yes                                                NaN   \n",
       "13          Not really                                                NaN   \n",
       "14                 Yes  Source: https://www.kaggle.com/mustafaali96/we...   \n",
       "15          Not easily  Source: https://www.kaggle.com/c/tmdb-box-offi...   \n",
       "16                 Yes  Source: https://www.kaggle.com/nikhilbhathi/da...   \n",
       "17                 NaN                                                NaN   \n",
       "18                 NaN  Source: https://www.kaggle.com/datasets/claudi...   \n",
       "19                 NaN  Source: https://www.kaggle.com/datasets/claudi...   \n",
       "20                 NaN                                                NaN   \n",
       "21                 NaN                                                NaN   \n",
       "\n",
       "   Add to CDDS? Added to cdds  \\\n",
       "0             ?             ?   \n",
       "1             ?            no   \n",
       "2           Yes            no   \n",
       "3           Yes            no   \n",
       "4           Yes           yes   \n",
       "5           Yes            no   \n",
       "6           NaN           NaN   \n",
       "7           NaN           NaN   \n",
       "8           NaN           NaN   \n",
       "9           NaN           NaN   \n",
       "10          NaN           NaN   \n",
       "11          NaN           NaN   \n",
       "12          NaN           NaN   \n",
       "13          NaN           NaN   \n",
       "14          NaN           NaN   \n",
       "15          NaN           NaN   \n",
       "16          NaN           NaN   \n",
       "17          NaN           NaN   \n",
       "18          NaN           NaN   \n",
       "19          NaN           NaN   \n",
       "20          NaN           NaN   \n",
       "21          NaN           NaN   \n",
       "\n",
       "                                             FULL URL  \n",
       "0   https://docs.google.com/spreadsheets/d/e/2PACX...  \n",
       "1   https://docs.google.com/spreadsheets/d/e/2PACX...  \n",
       "2   https://docs.google.com/spreadsheets/d/e/2PACX...  \n",
       "3   https://docs.google.com/spreadsheets/d/e/2PACX...  \n",
       "4   https://docs.google.com/spreadsheets/d/e/2PACX...  \n",
       "5   https://docs.google.com/spreadsheets/d/e/2PACX...  \n",
       "6   https://docs.google.com/spreadsheets/d/e/2PACX...  \n",
       "7   https://docs.google.com/spreadsheets/d/e/2PACX...  \n",
       "8   https://docs.google.com/spreadsheets/d/e/2PACX...  \n",
       "9   https://docs.google.com/spreadsheets/d/e/2PACX...  \n",
       "10  https://docs.google.com/spreadsheets/d/e/2PACX...  \n",
       "11  https://docs.google.com/spreadsheets/d/e/2PACX...  \n",
       "12  https://docs.google.com/spreadsheets/d/e/2PACX...  \n",
       "13  https://docs.google.com/spreadsheets/d/e/2PACX...  \n",
       "14  https://docs.google.com/spreadsheets/d/e/2PACX...  \n",
       "15  https://docs.google.com/spreadsheets/d/e/2PACX...  \n",
       "16  https://docs.google.com/spreadsheets/d/e/2PACX...  \n",
       "17                                                NaN  \n",
       "18                                                NaN  \n",
       "19                                                NaN  \n",
       "20                                                NaN  \n",
       "21                                                NaN  "
      ]
     },
     "execution_count": 2,
     "metadata": {},
     "output_type": "execute_result"
    }
   ],
   "source": [
    "df_data = pd.read_csv('Data/James Dataset links.csv')\n",
    "df_data"
   ]
  },
  {
   "cell_type": "code",
   "execution_count": 3,
   "metadata": {
    "ExecuteTime": {
     "end_time": "2022-06-22T20:03:59.260075Z",
     "start_time": "2022-06-22T20:03:59.010553Z"
    },
    "id": "D6lViJl_Ur26"
   },
   "outputs": [],
   "source": [
    "## additional required imports\n",
    "from sklearn.model_selection import train_test_split\n",
    "from sklearn.preprocessing import OneHotEncoder, StandardScaler\n",
    "from sklearn.impute import SimpleImputer\n",
    "from sklearn.compose import make_column_transformer, make_column_selector, ColumnTransformer\n",
    "from sklearn.pipeline import make_pipeline, Pipeline\n",
    "from sklearn import metrics\n",
    "\n",
    "from sklearn.base import clone\n",
    "## fixing random for lesson generation\n",
    "np.random.seed(321)\n",
    "\n",
    "##import statsmodels correctly\n",
    "import statsmodels.api as sm\n",
    "## Customized Options\n",
    "pd.set_option('display.float_format',lambda x: f\"{x:,.4f}\")\n",
    "plt.style.use('seaborn-talk')"
   ]
  },
  {
   "cell_type": "code",
   "execution_count": 4,
   "metadata": {
    "ExecuteTime": {
     "end_time": "2022-06-22T20:03:59.263731Z",
     "start_time": "2022-06-22T20:03:59.261898Z"
    },
    "id": "NvAODC04YlWq"
   },
   "outputs": [],
   "source": [
    "##import statsmodels correctly\n",
    "import statsmodels.api as sm\n",
    "from scipy import stats\n"
   ]
  },
  {
   "cell_type": "code",
   "execution_count": 5,
   "metadata": {
    "ExecuteTime": {
     "end_time": "2022-06-22T20:03:59.268144Z",
     "start_time": "2022-06-22T20:03:59.264430Z"
    }
   },
   "outputs": [
    {
     "data": {
      "text/plain": [
       "{'ames': 'https://docs.google.com/spreadsheets/d/e/2PACX-1vSECHeeoC-lvBG1TA-1DXC5m2VKZ5QqwKRBSTOBW_ivkl40nvNDBYpNzq4X6jmWSzatT4Sr2K-K4Ou2/pub?output=csv',\n",
       " 'king county': 'https://docs.google.com/spreadsheets/d/e/2PACX-1vSEZQEzxja7Hmj5tr5nc52QqBvFQdCAGb52e1FRK1PDT2_TQrS6rY_TR9tjZjKaMbCy1m5217sVmI5q/pub?output=csv',\n",
       " 'boston': 'https://docs.google.com/spreadsheets/d/e/2PACX-1vQl_9a0tUmjuIz8oZa__K6JlAp89nnQMLMQmqYATlI9QjFPUSb-BxYb_ffw4GWpOqVgQHrTZXU34CgH/pub?output=csv'}"
      ]
     },
     "execution_count": 5,
     "metadata": {},
     "output_type": "execute_result"
    }
   ],
   "source": [
    "to_find = ['ames','king county','boston']\n",
    "\n",
    "URLS = {}\n",
    "\n",
    "for name in to_find:\n",
    "    is_dataset = df_data['Name'].str.contains(name, case=False)\n",
    "    URLS[name] = df_data.loc[is_dataset,'FULL URL'].tolist()[0\n",
    "                                                            ]\n",
    "\n",
    "URLS"
   ]
  },
  {
   "cell_type": "code",
   "execution_count": 6,
   "metadata": {
    "ExecuteTime": {
     "end_time": "2022-06-22T20:03:59.717247Z",
     "start_time": "2022-06-22T20:03:59.269086Z"
    }
   },
   "outputs": [],
   "source": [
    "from pandas_profiling import ProfileReport"
   ]
  },
  {
   "cell_type": "markdown",
   "metadata": {},
   "source": [
    "### Functions"
   ]
  },
  {
   "cell_type": "markdown",
   "metadata": {
    "ExecuteTime": {
     "end_time": "2022-06-22T18:30:57.850480Z",
     "start_time": "2022-06-22T18:30:57.843757Z"
    }
   },
   "source": [
    "> Moved to stack_functions.py"
   ]
  },
  {
   "cell_type": "code",
   "execution_count": 7,
   "metadata": {
    "ExecuteTime": {
     "end_time": "2022-06-22T20:03:59.745751Z",
     "start_time": "2022-06-22T20:03:59.718150Z"
    }
   },
   "outputs": [],
   "source": [
    "## Adding folder above to path\n",
    "import os, sys\n",
    "sys.path.append(os.path.abspath('../'))\n",
    "\n",
    "## Load stack_functions with autoreload turned on\n",
    "%load_ext autoreload\n",
    "%autoreload 2\n",
    "import stack_functions as sf\n",
    "\n",
    "def show_code(function):\n",
    "    import inspect \n",
    "    from IPython.display import display,Markdown, display_markdown\n",
    "    code = inspect.getsource(function)\n",
    "    md_txt = f\"```python\\n{code}\\n```\"\n",
    "    return display(Markdown(md_txt))\n",
    "    "
   ]
  },
  {
   "cell_type": "code",
   "execution_count": 8,
   "metadata": {
    "ExecuteTime": {
     "end_time": "2022-06-22T20:04:00.021847Z",
     "start_time": "2022-06-22T20:03:59.746679Z"
    }
   },
   "outputs": [
    {
     "ename": "NameError",
     "evalue": "name 'view_code' is not defined",
     "output_type": "error",
     "traceback": [
      "\u001b[0;31m---------------------------------------------------------------------------\u001b[0m",
      "\u001b[0;31mNameError\u001b[0m                                 Traceback (most recent call last)",
      "Input \u001b[0;32mIn [8]\u001b[0m, in \u001b[0;36m<cell line: 1>\u001b[0;34m()\u001b[0m\n\u001b[0;32m----> 1\u001b[0m \u001b[43mview_code\u001b[49m(sf\u001b[38;5;241m.\u001b[39mfind_outliers_IQR)\n\u001b[1;32m      2\u001b[0m view_code(sf\u001b[38;5;241m.\u001b[39mfind_outliers_Z)\n\u001b[1;32m      3\u001b[0m view_code(sf\u001b[38;5;241m.\u001b[39mremove_outliers)\n",
      "\u001b[0;31mNameError\u001b[0m: name 'view_code' is not defined"
     ]
    }
   ],
   "source": [
    "show_code(sf.find_outliers_IQR)\n",
    "show_code(sf.find_outliers_Z)\n",
    "show_code(sf.remove_outliers)"
   ]
  },
  {
   "cell_type": "code",
   "execution_count": null,
   "metadata": {
    "ExecuteTime": {
     "end_time": "2022-06-22T20:04:00.027562Z",
     "start_time": "2022-06-22T20:04:00.027556Z"
    }
   },
   "outputs": [],
   "source": [
    "show_code(sf.evaluate_ols)\n",
    "show_code(sf.plot_coeffs)\n",
    "show_code(sf.get_importance)"
   ]
  },
  {
   "cell_type": "markdown",
   "metadata": {
    "ExecuteTime": {
     "end_time": "2022-06-21T18:37:10.918116Z",
     "start_time": "2022-06-21T18:37:10.909252Z"
    }
   },
   "source": [
    "# King's County"
   ]
  },
  {
   "cell_type": "code",
   "execution_count": null,
   "metadata": {
    "ExecuteTime": {
     "end_time": "2022-06-22T20:04:00.028167Z",
     "start_time": "2022-06-22T20:04:00.028161Z"
    },
    "colab": {
     "base_uri": "https://localhost:8080/",
     "height": 817
    },
    "id": "aTlOMZXMUr27",
    "outputId": "a3b80ea1-0fad-4336-e070-9959714ee665"
   },
   "outputs": [],
   "source": [
    "df = pd.read_csv(URLS['king county'])\n",
    "df = df.drop(columns=['id','date'])\n",
    "## Dropping some some features\n",
    "df.info()\n",
    "df.head()"
   ]
  },
  {
   "cell_type": "code",
   "execution_count": null,
   "metadata": {
    "ExecuteTime": {
     "end_time": "2022-06-22T20:04:00.029014Z",
     "start_time": "2022-06-22T20:04:00.029008Z"
    },
    "scrolled": true
   },
   "outputs": [],
   "source": [
    "# report_king = ProfileReport(df)\n",
    "# report_king"
   ]
  },
  {
   "cell_type": "code",
   "execution_count": null,
   "metadata": {
    "ExecuteTime": {
     "end_time": "2022-06-22T20:04:00.029647Z",
     "start_time": "2022-06-22T20:04:00.029640Z"
    },
    "id": "QtlqfIPqXlSq"
   },
   "outputs": [],
   "source": [
    "## Treating zipcode as a category\n",
    "df['zipcode'] = df['zipcode'].astype(str)"
   ]
  },
  {
   "cell_type": "markdown",
   "metadata": {
    "id": "yCYjHVb7YSbO"
   },
   "source": [
    "## Full Dataset Preprocessing"
   ]
  },
  {
   "cell_type": "code",
   "execution_count": null,
   "metadata": {
    "ExecuteTime": {
     "end_time": "2022-06-22T20:04:00.030598Z",
     "start_time": "2022-06-22T20:04:00.030587Z"
    },
    "colab": {
     "base_uri": "https://localhost:8080/",
     "height": 270
    },
    "id": "ILkWZ60AXzjY",
    "outputId": "b8b119df-f682-4ef8-f7bc-2cc3142a563f",
    "scrolled": true
   },
   "outputs": [],
   "source": [
    "## Make x and y variables\n",
    "target = 'price'\n",
    "drop_cols = ['view']\n",
    "\n",
    "\n",
    "y = df[target].copy()\n",
    "X = df.drop(columns=[target,*drop_cols]).copy()\n",
    "\n",
    "X_train, X_test, y_train, y_test = train_test_split(X,y, random_state=321)\n",
    "X_train.head()"
   ]
  },
  {
   "cell_type": "markdown",
   "metadata": {},
   "source": [
    "### Unscaled"
   ]
  },
  {
   "cell_type": "code",
   "execution_count": null,
   "metadata": {
    "ExecuteTime": {
     "end_time": "2022-06-22T20:04:00.031330Z",
     "start_time": "2022-06-22T20:04:00.031324Z"
    },
    "colab": {
     "base_uri": "https://localhost:8080/"
    },
    "id": "kKBgO2nYXd4D",
    "outputId": "7d26e1a7-276f-4592-f0f9-1ba40c9fa6cb"
   },
   "outputs": [],
   "source": [
    "## cat selector\n",
    "cat_sel = make_column_selector(dtype_include='object')\n",
    "cat_cols = cat_sel(X)\n",
    "\n",
    "# num selectorr\n",
    "num_sel = make_column_selector(dtype_include='number')\n",
    "num_cols = num_sel(X)\n",
    "\n",
    "## make pipelines & column transformer - raw numeric\n",
    "cat_pipe = make_pipeline(SimpleImputer(strategy='constant',\n",
    "                                       fill_value='MISSING'),\n",
    "                         OneHotEncoder(handle_unknown='ignore', sparse=False))\n",
    "num_pipe_raw = make_pipeline(SimpleImputer(strategy='mean'))\n",
    "preprocessor = make_column_transformer((num_pipe_raw, num_sel),\n",
    "                                       (cat_pipe,cat_sel), verbose_feature_names_out=False)\n",
    "preprocessor"
   ]
  },
  {
   "cell_type": "code",
   "execution_count": null,
   "metadata": {
    "ExecuteTime": {
     "end_time": "2022-06-22T20:04:00.031924Z",
     "start_time": "2022-06-22T20:04:00.031919Z"
    },
    "colab": {
     "base_uri": "https://localhost:8080/",
     "height": 300
    },
    "id": "q9Njny81YFYW",
    "outputId": "e5aa9b18-b573-46f9-9d90-8a057e09cd66"
   },
   "outputs": [],
   "source": [
    "### PREP ALL X VARS\n",
    "## Prepare X_train_df\n",
    "X_train_df = pd.DataFrame( preprocessor.fit_transform(X_train), \n",
    "                          columns=preprocessor.get_feature_names_out(),\n",
    "                         index=X_train.index)\n",
    "\n",
    "## Prepare X_test_df\n",
    "X_test_df = pd.DataFrame( preprocessor.transform(X_test),\n",
    "                         columns=preprocessor.get_feature_names_out(), \n",
    "                         index=X_test.index)\n",
    "\n",
    "\n",
    "## Prepare X vars with constant\n",
    "X_train_df_cnst = sm.add_constant(X_train_df, prepend=False, has_constant='add')\n",
    "X_test_df_cnst = sm.add_constant(X_test_df, prepend=False, has_constant='add')\n",
    "\n",
    "\n",
    "## Save list of zipcode columns and other columns\n",
    "zip_cols = [c for c in X_train_df.columns if c.startswith('zipcode')]\n",
    "nonzip_cols = X_train_df.drop(columns=[*zip_cols]).columns.tolist()\n",
    "\n",
    "X_test_df.head()"
   ]
  },
  {
   "cell_type": "code",
   "execution_count": null,
   "metadata": {
    "ExecuteTime": {
     "end_time": "2022-06-22T20:04:00.032558Z",
     "start_time": "2022-06-22T20:04:00.032553Z"
    }
   },
   "outputs": [],
   "source": [
    "X_train_df.describe()"
   ]
  },
  {
   "cell_type": "markdown",
   "metadata": {},
   "source": [
    "### Scaled"
   ]
  },
  {
   "cell_type": "code",
   "execution_count": null,
   "metadata": {
    "ExecuteTime": {
     "end_time": "2022-06-22T20:04:00.033511Z",
     "start_time": "2022-06-22T20:04:00.033502Z"
    }
   },
   "outputs": [],
   "source": [
    "## make pipelines & column transformer - scaled\n",
    "cat_pipe = make_pipeline(SimpleImputer(strategy='constant',\n",
    "                                       fill_value='MISSING'),\n",
    "                         OneHotEncoder(handle_unknown='ignore', sparse=False))\n",
    "num_pipe_scale = make_pipeline(SimpleImputer(strategy='mean'), StandardScaler())\n",
    "preprocessor_scale = make_column_transformer((num_pipe_scale, num_sel),\n",
    "                                       (cat_pipe,cat_sel), verbose_feature_names_out=False)\n",
    "preprocessor_scale"
   ]
  },
  {
   "cell_type": "code",
   "execution_count": null,
   "metadata": {
    "ExecuteTime": {
     "end_time": "2022-06-22T20:04:00.034358Z",
     "start_time": "2022-06-22T20:04:00.034352Z"
    },
    "colab": {
     "base_uri": "https://localhost:8080/",
     "height": 300
    },
    "id": "YHZ3alzsYjvw",
    "outputId": "255f35c0-e2e9-4217-ebf5-b136c5b41736"
   },
   "outputs": [],
   "source": [
    "# ### PREP ALL SCALED X VARS\n",
    "\n",
    "\n",
    "# Prepare X_train_scaled_df & X_test_scaled_df\n",
    "X_train_scaled_df = pd.DataFrame( preprocessor_scale.fit_transform(X_train), \n",
    "                          columns=preprocessor_scale.get_feature_names_out(),\n",
    "                         index=X_train.index)\n",
    "\n",
    "\n",
    "X_test_scaled_df = pd.DataFrame( preprocessor_scale.transform(X_test),\n",
    "                         columns=preprocessor_scale.get_feature_names_out(), \n",
    "                         index=X_test.index)\n",
    "\n",
    "\n",
    "## Save vers with constant\n",
    "X_train_scaled_df_cnst = sm.add_constant(X_train_scaled_df, prepend=False, has_constant='add')\n",
    "X_test_scaled_df_cnst = sm.add_constant(X_test_scaled_df, prepend=False, has_constant='add')\n",
    "\n",
    "\n",
    "## Save list of zipcode columns and other columns\n",
    "zip_cols = [c for c in X_train_df.columns if c.startswith('zipcode')]\n",
    "nonzip_cols = X_train_df.drop(columns=[*zip_cols]).columns.tolist()\n",
    "\n",
    "\n",
    "X_test_scaled_df.head()"
   ]
  },
  {
   "cell_type": "code",
   "execution_count": null,
   "metadata": {
    "ExecuteTime": {
     "end_time": "2022-06-22T20:04:00.035491Z",
     "start_time": "2022-06-22T20:04:00.035481Z"
    },
    "scrolled": true
   },
   "outputs": [],
   "source": [
    "X_train_scaled_df.describe()"
   ]
  },
  {
   "cell_type": "markdown",
   "metadata": {},
   "source": [
    "## Modeling"
   ]
  },
  {
   "cell_type": "markdown",
   "metadata": {},
   "source": [
    "### Raw Numeric - No Constant"
   ]
  },
  {
   "cell_type": "code",
   "execution_count": null,
   "metadata": {
    "ExecuteTime": {
     "end_time": "2022-06-22T20:04:00.036237Z",
     "start_time": "2022-06-22T20:04:00.036230Z"
    },
    "colab": {
     "base_uri": "https://localhost:8080/",
     "height": 1000
    },
    "id": "erl8gAUTZbOr",
    "outputId": "6d37fdc3-4cad-4b4c-ad0b-67719fea23b4",
    "scrolled": true
   },
   "outputs": [],
   "source": [
    "## instantiate an OLS model WITH the training data.\n",
    "model = sm.OLS(y_train, X_train_df)\n",
    "\n",
    "## Fit the model and view the summary\n",
    "result = model.fit()\n",
    "sf.evaluate_ols(result,X_train_df, y_train)"
   ]
  },
  {
   "cell_type": "code",
   "execution_count": null,
   "metadata": {
    "ExecuteTime": {
     "end_time": "2022-06-22T20:04:00.037238Z",
     "start_time": "2022-06-22T20:04:00.037231Z"
    },
    "scrolled": false
   },
   "outputs": [],
   "source": [
    "fig_raw =sf.plot_coeffs(result, zip_cols, include_const=True,title=\"Raw Coefficients\")"
   ]
  },
  {
   "cell_type": "code",
   "execution_count": null,
   "metadata": {
    "ExecuteTime": {
     "end_time": "2022-06-22T20:04:00.037942Z",
     "start_time": "2022-06-22T20:04:00.037937Z"
    },
    "scrolled": true
   },
   "outputs": [],
   "source": [
    "fig_raw_zips =sf.plot_coeffs(result, nonzip_cols, figsize=(6,12),include_const=True,title=\"Raw Coefficients\")"
   ]
  },
  {
   "cell_type": "markdown",
   "metadata": {},
   "source": [
    "### Raw Numeric - with Constant"
   ]
  },
  {
   "cell_type": "code",
   "execution_count": null,
   "metadata": {
    "ExecuteTime": {
     "end_time": "2022-06-22T20:04:00.038512Z",
     "start_time": "2022-06-22T20:04:00.038507Z"
    },
    "colab": {
     "base_uri": "https://localhost:8080/",
     "height": 1000
    },
    "id": "erl8gAUTZbOr",
    "outputId": "6d37fdc3-4cad-4b4c-ad0b-67719fea23b4",
    "scrolled": false
   },
   "outputs": [],
   "source": [
    "## instantiate an OLS model WITH the training data.\n",
    "model = sm.OLS(y_train, X_train_df_cnst)\n",
    "\n",
    "## Fit the model and view the summary\n",
    "result = model.fit()\n",
    "sf.evaluate_ols(result,X_train_df_cnst, y_train)"
   ]
  },
  {
   "cell_type": "code",
   "execution_count": null,
   "metadata": {
    "ExecuteTime": {
     "end_time": "2022-06-22T20:04:00.039305Z",
     "start_time": "2022-06-22T20:04:00.039300Z"
    },
    "scrolled": true
   },
   "outputs": [],
   "source": [
    "fig_raw =sf.plot_coeffs(result, zip_cols, include_const=True,title=\"Raw Coefficients\")"
   ]
  },
  {
   "cell_type": "code",
   "execution_count": null,
   "metadata": {
    "ExecuteTime": {
     "end_time": "2022-06-22T20:04:00.040099Z",
     "start_time": "2022-06-22T20:04:00.040094Z"
    }
   },
   "outputs": [],
   "source": [
    "fig_raw =sf.plot_coeffs(result, zip_cols, include_const=False,title=\"Raw Coefficients\")"
   ]
  },
  {
   "cell_type": "code",
   "execution_count": null,
   "metadata": {
    "ExecuteTime": {
     "end_time": "2022-06-22T20:04:00.040878Z",
     "start_time": "2022-06-22T20:04:00.040872Z"
    },
    "scrolled": true
   },
   "outputs": [],
   "source": [
    "fig_raw_zips =sf.plot_coeffs(result, nonzip_cols, figsize=(6,12),include_const=False,title=\"Raw Coefficients\")"
   ]
  },
  {
   "cell_type": "code",
   "execution_count": null,
   "metadata": {},
   "outputs": [],
   "source": []
  },
  {
   "cell_type": "markdown",
   "metadata": {},
   "source": [
    "### Scaled Numeric - No Constant"
   ]
  },
  {
   "cell_type": "code",
   "execution_count": null,
   "metadata": {
    "ExecuteTime": {
     "end_time": "2022-06-22T20:04:00.041429Z",
     "start_time": "2022-06-22T20:04:00.041424Z"
    },
    "colab": {
     "base_uri": "https://localhost:8080/",
     "height": 1000
    },
    "id": "erl8gAUTZbOr",
    "outputId": "6d37fdc3-4cad-4b4c-ad0b-67719fea23b4",
    "scrolled": false
   },
   "outputs": [],
   "source": [
    "## instantiate an OLS model WITH the training data.\n",
    "model = sm.OLS(y_train, X_train_scaled_df)\n",
    "\n",
    "## Fit the model and view the summary\n",
    "result_scaled = model.fit()\n",
    "sf.evaluate_ols(result_scaled,X_train_scaled_df, y_train)"
   ]
  },
  {
   "cell_type": "code",
   "execution_count": null,
   "metadata": {
    "ExecuteTime": {
     "end_time": "2022-06-22T20:04:00.042196Z",
     "start_time": "2022-06-22T20:04:00.042191Z"
    }
   },
   "outputs": [],
   "source": [
    "fig_scaled =sf.plot_coeffs(result_scaled,zip_cols,include_const=True)"
   ]
  },
  {
   "cell_type": "code",
   "execution_count": null,
   "metadata": {
    "ExecuteTime": {
     "end_time": "2022-06-22T20:04:00.042802Z",
     "start_time": "2022-06-22T20:04:00.042795Z"
    },
    "scrolled": true
   },
   "outputs": [],
   "source": [
    "fig_scaled_zips =sf.plot_coeffs(result_scaled, nonzip_cols, figsize=(6,12),include_const=True,title=\"Raw Coefficients\")"
   ]
  },
  {
   "cell_type": "markdown",
   "metadata": {},
   "source": [
    "### Scaled Numeric - with Constant"
   ]
  },
  {
   "cell_type": "code",
   "execution_count": null,
   "metadata": {
    "ExecuteTime": {
     "end_time": "2022-06-22T20:04:00.043569Z",
     "start_time": "2022-06-22T20:04:00.043563Z"
    },
    "colab": {
     "base_uri": "https://localhost:8080/",
     "height": 1000
    },
    "id": "erl8gAUTZbOr",
    "outputId": "6d37fdc3-4cad-4b4c-ad0b-67719fea23b4",
    "scrolled": false
   },
   "outputs": [],
   "source": [
    "## instantiate an OLS model WITH the training data.\n",
    "model = sm.OLS(y_train, X_train_scaled_df_cnst)\n",
    "\n",
    "## Fit the model and view the summary\n",
    "result_scaled = model.fit()\n",
    "sf.evaluate_ols(result_scaled,X_train_scaled_df_cnst, y_train)"
   ]
  },
  {
   "cell_type": "code",
   "execution_count": null,
   "metadata": {
    "ExecuteTime": {
     "end_time": "2022-06-22T20:04:00.044174Z",
     "start_time": "2022-06-22T20:04:00.044167Z"
    }
   },
   "outputs": [],
   "source": [
    "fig_scaled =sf.plot_coeffs(result_scaled,zip_cols,include_const=True)"
   ]
  },
  {
   "cell_type": "code",
   "execution_count": null,
   "metadata": {
    "ExecuteTime": {
     "end_time": "2022-06-22T20:04:00.044697Z",
     "start_time": "2022-06-22T20:04:00.044691Z"
    }
   },
   "outputs": [],
   "source": [
    "fig_scaled =sf.plot_coeffs(result_scaled,zip_cols,include_const=True)"
   ]
  },
  {
   "cell_type": "code",
   "execution_count": null,
   "metadata": {
    "ExecuteTime": {
     "end_time": "2022-06-22T20:04:00.045617Z",
     "start_time": "2022-06-22T20:04:00.045612Z"
    },
    "scrolled": true
   },
   "outputs": [],
   "source": [
    "fig_scaled_zips =sf.plot_coeffs(result_scaled, nonzip_cols, figsize=(6,12),include_const=True,title=\"Raw Coefficients\")"
   ]
  },
  {
   "cell_type": "markdown",
   "metadata": {},
   "source": [
    "### Observations"
   ]
  },
  {
   "cell_type": "markdown",
   "metadata": {},
   "source": [
    "- The bedrooms coefficient being negative is problematic\n",
    "    - [ ] Try not including a constant/intercept."
   ]
  },
  {
   "cell_type": "code",
   "execution_count": null,
   "metadata": {
    "ExecuteTime": {
     "end_time": "2022-06-22T20:04:00.046433Z",
     "start_time": "2022-06-22T20:04:00.046428Z"
    }
   },
   "outputs": [],
   "source": [
    "sns.barplot(data=df, x='bedrooms',y='price')"
   ]
  },
  {
   "cell_type": "code",
   "execution_count": null,
   "metadata": {
    "ExecuteTime": {
     "end_time": "2022-06-22T20:04:00.047209Z",
     "start_time": "2022-06-22T20:04:00.047203Z"
    }
   },
   "outputs": [],
   "source": [
    "sns.regplot(data=df, x='bedrooms',y='price',scatter_kws={'ec':'w','lw':1})"
   ]
  },
  {
   "cell_type": "code",
   "execution_count": null,
   "metadata": {
    "ExecuteTime": {
     "end_time": "2022-06-22T20:04:00.047795Z",
     "start_time": "2022-06-22T20:04:00.047789Z"
    }
   },
   "outputs": [],
   "source": [
    "ax = sns.barplot(data=df, x='bedrooms',y='price',edgecolor='k',linewidth=2)\n",
    "sns.stripplot(data=df, x='bedrooms',y='price',edgecolor='gray',linewidth=0.5,\n",
    "              alpha=0.5,)"
   ]
  },
  {
   "cell_type": "code",
   "execution_count": null,
   "metadata": {
    "ExecuteTime": {
     "end_time": "2022-06-22T20:04:00.048340Z",
     "start_time": "2022-06-22T20:04:00.048334Z"
    }
   },
   "outputs": [],
   "source": [
    "sns.countplot(data=df, x='bedrooms')#,y='price')"
   ]
  },
  {
   "cell_type": "code",
   "execution_count": null,
   "metadata": {
    "ExecuteTime": {
     "end_time": "2022-06-22T20:04:00.048992Z",
     "start_time": "2022-06-22T20:04:00.048985Z"
    }
   },
   "outputs": [],
   "source": [
    "sns.boxplot(data=df, x='bedrooms',y='price')"
   ]
  },
  {
   "cell_type": "markdown",
   "metadata": {
    "id": "PPhsGk1Cm11-"
   },
   "source": [
    "## Removing Outliers"
   ]
  },
  {
   "cell_type": "code",
   "execution_count": null,
   "metadata": {
    "ExecuteTime": {
     "end_time": "2022-06-22T20:04:00.049836Z",
     "start_time": "2022-06-22T20:04:00.049827Z"
    }
   },
   "outputs": [],
   "source": [
    "df_clean = sf.remove_outliers(df, method='z')\n",
    "df_clean"
   ]
  },
  {
   "cell_type": "code",
   "execution_count": null,
   "metadata": {
    "ExecuteTime": {
     "end_time": "2022-06-22T20:04:00.050480Z",
     "start_time": "2022-06-22T20:04:00.050474Z"
    },
    "colab": {
     "base_uri": "https://localhost:8080/",
     "height": 270
    },
    "id": "ILkWZ60AXzjY",
    "outputId": "b8b119df-f682-4ef8-f7bc-2cc3142a563f",
    "scrolled": true
   },
   "outputs": [],
   "source": [
    "## Make x and y variables\n",
    "target = 'price'\n",
    "drop_cols = ['view']\n",
    "\n",
    "y_cln = df_clean[target].copy()\n",
    "X_cln = df_clean.drop(columns=[target,*drop_cols]).copy()\n",
    "\n",
    "X_train_cln, X_test_cln, y_train_cln, y_test_cln = train_test_split(X_cln,y_cln, random_state=321)\n",
    "X_train_cln.head()"
   ]
  },
  {
   "cell_type": "markdown",
   "metadata": {},
   "source": [
    "### Unscaled"
   ]
  },
  {
   "cell_type": "code",
   "execution_count": null,
   "metadata": {
    "ExecuteTime": {
     "end_time": "2022-06-22T20:04:00.051348Z",
     "start_time": "2022-06-22T20:04:00.051342Z"
    }
   },
   "outputs": [],
   "source": [
    "## Cloning the Previous 2 Preprocessors\n",
    "preprocessor_cln = clone(preprocessor)\n",
    "preprocessor_cln_scale = clone(preprocessor_scale)"
   ]
  },
  {
   "cell_type": "code",
   "execution_count": null,
   "metadata": {
    "ExecuteTime": {
     "end_time": "2022-06-22T20:04:00.051884Z",
     "start_time": "2022-06-22T20:04:00.051878Z"
    },
    "colab": {
     "base_uri": "https://localhost:8080/",
     "height": 300
    },
    "id": "q9Njny81YFYW",
    "outputId": "e5aa9b18-b573-46f9-9d90-8a057e09cd66"
   },
   "outputs": [],
   "source": [
    "### PREP ALL X VARS\n",
    "## Prepare X_train_df\n",
    "X_train_df_cln = pd.DataFrame( preprocessor_cln.fit_transform(X_train_cln), \n",
    "                          columns=preprocessor_cln.get_feature_names_out(),\n",
    "                         index=X_train_cln.index)\n",
    "\n",
    "## Prepare X_test_df\n",
    "X_test_df_cln = pd.DataFrame( preprocessor_cln.transform(X_test_cln),\n",
    "                         columns=preprocessor_cln.get_feature_names_out(), \n",
    "                         index=X_test_cln.index)\n",
    "\n",
    "\n",
    "## Prepare X vars with constant\n",
    "X_train_df_cln_cnst = sm.add_constant(X_train_df_cln, prepend=False, has_constant='add')\n",
    "X_test_df_cln_cnst = sm.add_constant(X_test_df_cln, prepend=False, has_constant='add')\n",
    "\n",
    "\n",
    "## Save list of zipcode columns and other columns\n",
    "zip_cols = [c for c in X_train_df_cln.columns if c.startswith('zipcode')]\n",
    "nonzip_cols = X_train_df_cln.drop(columns=[*zip_cols]).columns.tolist()\n",
    "\n",
    "X_test_df.head()"
   ]
  },
  {
   "cell_type": "code",
   "execution_count": null,
   "metadata": {
    "ExecuteTime": {
     "end_time": "2022-06-22T20:04:00.052442Z",
     "start_time": "2022-06-22T20:04:00.052437Z"
    }
   },
   "outputs": [],
   "source": [
    "X_train_df_cln.describe()"
   ]
  },
  {
   "cell_type": "markdown",
   "metadata": {},
   "source": [
    "### Scaled"
   ]
  },
  {
   "cell_type": "code",
   "execution_count": null,
   "metadata": {
    "ExecuteTime": {
     "end_time": "2022-06-22T20:04:00.053102Z",
     "start_time": "2022-06-22T20:04:00.053096Z"
    },
    "colab": {
     "base_uri": "https://localhost:8080/",
     "height": 300
    },
    "id": "YHZ3alzsYjvw",
    "outputId": "255f35c0-e2e9-4217-ebf5-b136c5b41736"
   },
   "outputs": [],
   "source": [
    "# ### PREP ALL SCALED X VARS\n",
    "\n",
    "\n",
    "# Prepare X_train_scaled_df & X_test_scaled_df\n",
    "X_train_scaled_df_cln = pd.DataFrame( preprocessor_cln_scale.fit_transform(X_train_cln), \n",
    "                          columns=preprocessor_cln_scale.get_feature_names_out(),\n",
    "                         index=X_train_cln.index)\n",
    "\n",
    "\n",
    "X_test_scaled_df_cln = pd.DataFrame( preprocessor_cln_scale.transform(X_test_cln),\n",
    "                         columns=preprocessor_cln_scale.get_feature_names_out(), \n",
    "                         index=X_test_cln.index)\n",
    "\n",
    "\n",
    "## Save vers with constant\n",
    "X_train_scaled_df_cln_cnst = sm.add_constant(X_train_scaled_df_cln, prepend=False, has_constant='add')\n",
    "X_test_scaled_df_cln_cnst = sm.add_constant(X_test_scaled_df_cln, prepend=False, has_constant='add')\n",
    "\n",
    "\n",
    "## Save list of zipcode columns and other columns\n",
    "zip_cols = [c for c in X_train_scaled_df_cln.columns if c.startswith('zipcode')]\n",
    "nonzip_cols = X_train_scaled_df_cln.drop(columns=[*zip_cols]).columns.tolist()\n",
    "\n",
    "\n",
    "X_test_scaled_df.head()"
   ]
  },
  {
   "cell_type": "code",
   "execution_count": null,
   "metadata": {
    "ExecuteTime": {
     "end_time": "2022-06-22T20:04:00.053655Z",
     "start_time": "2022-06-22T20:04:00.053649Z"
    },
    "scrolled": false
   },
   "outputs": [],
   "source": [
    "X_train_scaled_df.describe()"
   ]
  },
  {
   "cell_type": "code",
   "execution_count": null,
   "metadata": {},
   "outputs": [],
   "source": []
  },
  {
   "cell_type": "code",
   "execution_count": null,
   "metadata": {},
   "outputs": [],
   "source": []
  },
  {
   "cell_type": "code",
   "execution_count": null,
   "metadata": {},
   "outputs": [],
   "source": []
  },
  {
   "cell_type": "code",
   "execution_count": null,
   "metadata": {},
   "outputs": [],
   "source": []
  },
  {
   "cell_type": "code",
   "execution_count": null,
   "metadata": {},
   "outputs": [],
   "source": []
  },
  {
   "cell_type": "code",
   "execution_count": null,
   "metadata": {},
   "outputs": [],
   "source": []
  },
  {
   "cell_type": "code",
   "execution_count": null,
   "metadata": {},
   "outputs": [],
   "source": []
  },
  {
   "cell_type": "code",
   "execution_count": null,
   "metadata": {
    "ExecuteTime": {
     "end_time": "2022-06-22T20:04:00.054255Z",
     "start_time": "2022-06-22T20:04:00.054249Z"
    },
    "colab": {
     "base_uri": "https://localhost:8080/",
     "height": 270
    },
    "id": "ILkWZ60AXzjY",
    "outputId": "b8b119df-f682-4ef8-f7bc-2cc3142a563f",
    "scrolled": true
   },
   "outputs": [],
   "source": [
    "# ## Make x and y variables\n",
    "# target = 'price'\n",
    "# drop_cols = ['view']\n",
    "\n",
    "\n",
    "# y_cln = df_clean[target].copy()\n",
    "# X_cln = df_clean.drop(columns=[target,*drop_cols]).copy()\n",
    "\n",
    "# X_train_cln, X_test_cln, y_train_cln, y_test_cln = train_test_split(X_cln,y_cln, random_state=321)\n",
    "# X_train_cln.head()"
   ]
  },
  {
   "cell_type": "code",
   "execution_count": null,
   "metadata": {
    "ExecuteTime": {
     "end_time": "2022-06-22T20:04:00.055543Z",
     "start_time": "2022-06-22T20:04:00.055538Z"
    },
    "colab": {
     "base_uri": "https://localhost:8080/"
    },
    "id": "kKBgO2nYXd4D",
    "outputId": "7d26e1a7-276f-4592-f0f9-1ba40c9fa6cb"
   },
   "outputs": [],
   "source": [
    "# ## cat selector\n",
    "# cat_sel = make_column_selector(dtype_include='object')\n",
    "# cat_cols = cat_sel(X_cln)\n",
    "\n",
    "# # num selectorr\n",
    "# num_sel = make_column_selector(dtype_include='number')\n",
    "# num_cols = num_sel(X_cln)\n",
    "\n",
    "# ## make pipelines & column transformer - raw numeric\n",
    "# cat_pipe = make_pipeline(SimpleImputer(strategy='constant',\n",
    "#                                        fill_value='MISSING'),\n",
    "#                          OneHotEncoder(handle_unknown='ignore', sparse=False))\n",
    "# num_pipe_raw = make_pipeline(SimpleImputer(strategy='mean'))\n",
    "# preprocessor = make_column_transformer((num_pipe_raw, num_sel),\n",
    "#                                        (cat_pipe,cat_sel), verbose_feature_names_out=False)\n",
    "# preprocessor"
   ]
  },
  {
   "cell_type": "code",
   "execution_count": null,
   "metadata": {
    "ExecuteTime": {
     "end_time": "2022-06-22T20:04:00.056152Z",
     "start_time": "2022-06-22T20:04:00.056143Z"
    },
    "colab": {
     "base_uri": "https://localhost:8080/",
     "height": 300
    },
    "id": "q9Njny81YFYW",
    "outputId": "e5aa9b18-b573-46f9-9d90-8a057e09cd66"
   },
   "outputs": [],
   "source": [
    "# ## Prepare X_train_df\n",
    "# X_train_df_cln = pd.DataFrame( preprocessor.fit_transform(X_train_cln), \n",
    "#                           columns=preprocessor.get_feature_names_out(),\n",
    "#                          index=X_train.index)\n",
    "# # X_train_df = sm.add_constant(X_train_df, prepend=False, has_constant='add')\n",
    "\n",
    "# ## Prepare X_test_df\n",
    "# X_test_df_cln = pd.DataFrame( preprocessor.transform(X_test_cln),\n",
    "#                          columns=preprocessor.get_feature_names_out(), \n",
    "#                          index=X_test.index)\n",
    "# # X_test_df = sm.add_constant(X_test_df, prepend=False, has_constant='add')\n",
    "\n",
    "\n",
    "# X_test_df_cln.head()"
   ]
  },
  {
   "cell_type": "code",
   "execution_count": null,
   "metadata": {
    "ExecuteTime": {
     "end_time": "2022-06-22T20:04:00.056776Z",
     "start_time": "2022-06-22T20:04:00.056770Z"
    }
   },
   "outputs": [],
   "source": [
    "# X_train_df_cln.describe()"
   ]
  },
  {
   "cell_type": "markdown",
   "metadata": {},
   "source": [
    "## Modeling - No Outliers"
   ]
  },
  {
   "cell_type": "markdown",
   "metadata": {},
   "source": [
    "### Raw Numeric - No Constant"
   ]
  },
  {
   "cell_type": "code",
   "execution_count": null,
   "metadata": {
    "ExecuteTime": {
     "end_time": "2022-06-22T20:04:00.057681Z",
     "start_time": "2022-06-22T20:04:00.057674Z"
    },
    "colab": {
     "base_uri": "https://localhost:8080/",
     "height": 1000
    },
    "id": "erl8gAUTZbOr",
    "outputId": "6d37fdc3-4cad-4b4c-ad0b-67719fea23b4",
    "scrolled": true
   },
   "outputs": [],
   "source": [
    "## instantiate an OLS model WITH the training data.\n",
    "model = sm.OLS(y_train_cln, X_train_df_cln)\n",
    "\n",
    "## Fit the model and view the summary\n",
    "result = model.fit()\n",
    "sf.evaluate_ols(result,X_train_df_cln, y_train_cln)"
   ]
  },
  {
   "cell_type": "code",
   "execution_count": null,
   "metadata": {
    "ExecuteTime": {
     "end_time": "2022-06-22T20:04:00.058310Z",
     "start_time": "2022-06-22T20:04:00.058305Z"
    },
    "scrolled": false
   },
   "outputs": [],
   "source": [
    "fig_raw =sf.plot_coeffs(result, zip_cols, include_const=True,title=\"Raw Coefficients\")"
   ]
  },
  {
   "cell_type": "code",
   "execution_count": null,
   "metadata": {
    "ExecuteTime": {
     "end_time": "2022-06-22T20:04:00.058977Z",
     "start_time": "2022-06-22T20:04:00.058971Z"
    },
    "scrolled": true
   },
   "outputs": [],
   "source": [
    "fig_raw_zips =sf.plot_coeffs(result, nonzip_cols, figsize=(6,12),include_const=True,title=\"Raw Coefficients\")"
   ]
  },
  {
   "cell_type": "markdown",
   "metadata": {},
   "source": [
    "### Raw Numeric - with Constant"
   ]
  },
  {
   "cell_type": "code",
   "execution_count": null,
   "metadata": {
    "ExecuteTime": {
     "end_time": "2022-06-22T20:04:00.059973Z",
     "start_time": "2022-06-22T20:04:00.059968Z"
    }
   },
   "outputs": [],
   "source": [
    "X_train_df_cln_cnst.describe()"
   ]
  },
  {
   "cell_type": "code",
   "execution_count": null,
   "metadata": {
    "ExecuteTime": {
     "end_time": "2022-06-22T20:04:00.060642Z",
     "start_time": "2022-06-22T20:04:00.060634Z"
    },
    "colab": {
     "base_uri": "https://localhost:8080/",
     "height": 1000
    },
    "id": "erl8gAUTZbOr",
    "outputId": "6d37fdc3-4cad-4b4c-ad0b-67719fea23b4",
    "scrolled": false
   },
   "outputs": [],
   "source": [
    "## instantiate an OLS model WITH the training data.\n",
    "model = sm.OLS(y_train_cln, X_train_df_cln_cnst)\n",
    "\n",
    "## Fit the model and view the summary\n",
    "result = model.fit()\n",
    "sf.evaluate_ols(result,X_train_df_cln_cnst, y_train_cln)"
   ]
  },
  {
   "cell_type": "code",
   "execution_count": null,
   "metadata": {
    "ExecuteTime": {
     "end_time": "2022-06-22T20:04:00.061148Z",
     "start_time": "2022-06-22T20:04:00.061142Z"
    },
    "scrolled": true
   },
   "outputs": [],
   "source": [
    "fig_raw =sf.plot_coeffs(result, zip_cols, include_const=True,title=\"Raw Coefficients\")"
   ]
  },
  {
   "cell_type": "code",
   "execution_count": null,
   "metadata": {
    "ExecuteTime": {
     "end_time": "2022-06-22T20:04:00.061588Z",
     "start_time": "2022-06-22T20:04:00.061583Z"
    }
   },
   "outputs": [],
   "source": [
    "fig_raw =sf.plot_coeffs(result, zip_cols, include_const=False,title=\"Raw Coefficients\")"
   ]
  },
  {
   "cell_type": "code",
   "execution_count": null,
   "metadata": {
    "ExecuteTime": {
     "end_time": "2022-06-22T20:04:00.062476Z",
     "start_time": "2022-06-22T20:04:00.062469Z"
    },
    "scrolled": true
   },
   "outputs": [],
   "source": [
    "fig_raw_zips =sf.plot_coeffs(result, nonzip_cols, figsize=(6,12),include_const=True,title=\"Raw Coefficients\")"
   ]
  },
  {
   "cell_type": "code",
   "execution_count": null,
   "metadata": {},
   "outputs": [],
   "source": []
  },
  {
   "cell_type": "code",
   "execution_count": null,
   "metadata": {},
   "outputs": [],
   "source": []
  },
  {
   "cell_type": "code",
   "execution_count": null,
   "metadata": {},
   "outputs": [],
   "source": []
  },
  {
   "cell_type": "code",
   "execution_count": null,
   "metadata": {},
   "outputs": [],
   "source": []
  },
  {
   "cell_type": "code",
   "execution_count": null,
   "metadata": {},
   "outputs": [],
   "source": []
  },
  {
   "cell_type": "markdown",
   "metadata": {},
   "source": [
    "### Scaled Numeric - No Constant"
   ]
  },
  {
   "cell_type": "code",
   "execution_count": null,
   "metadata": {
    "ExecuteTime": {
     "end_time": "2022-06-22T20:04:00.063181Z",
     "start_time": "2022-06-22T20:04:00.063175Z"
    }
   },
   "outputs": [],
   "source": [
    "X_train_scaled_df_cln.describe()"
   ]
  },
  {
   "cell_type": "code",
   "execution_count": null,
   "metadata": {
    "ExecuteTime": {
     "end_time": "2022-06-22T20:04:00.063752Z",
     "start_time": "2022-06-22T20:04:00.063746Z"
    },
    "colab": {
     "base_uri": "https://localhost:8080/",
     "height": 1000
    },
    "id": "erl8gAUTZbOr",
    "outputId": "6d37fdc3-4cad-4b4c-ad0b-67719fea23b4",
    "scrolled": false
   },
   "outputs": [],
   "source": [
    "## instantiate an OLS model WITH the training data.\n",
    "model = sm.OLS(y_train_cln, X_train_scaled_df_cln)\n",
    "\n",
    "## Fit the model and view the summary\n",
    "result_scaled = model.fit()\n",
    "sf.evaluate_ols(result_scaled,X_train_scaled_df_cln, y_train_cln)"
   ]
  },
  {
   "cell_type": "code",
   "execution_count": null,
   "metadata": {
    "ExecuteTime": {
     "end_time": "2022-06-22T20:04:00.064325Z",
     "start_time": "2022-06-22T20:04:00.064320Z"
    }
   },
   "outputs": [],
   "source": [
    "fig_scaled =sf.plot_coeffs(result_scaled,zip_cols,include_const=True)"
   ]
  },
  {
   "cell_type": "code",
   "execution_count": null,
   "metadata": {
    "ExecuteTime": {
     "end_time": "2022-06-22T20:04:00.064943Z",
     "start_time": "2022-06-22T20:04:00.064937Z"
    },
    "scrolled": true
   },
   "outputs": [],
   "source": [
    "fig_scaled_zips =sf.plot_coeffs(result_scaled, nonzip_cols, figsize=(6,12),include_const=True,title=\"Raw Coefficients\")"
   ]
  },
  {
   "cell_type": "code",
   "execution_count": null,
   "metadata": {
    "ExecuteTime": {
     "end_time": "2022-06-22T20:04:00.065713Z",
     "start_time": "2022-06-22T20:04:00.065706Z"
    }
   },
   "outputs": [],
   "source": [
    "# sns.regplot(data=df_clean, x='bedrooms',y='price',scatter_kws={'ec':'w','lw':1})"
   ]
  },
  {
   "cell_type": "code",
   "execution_count": null,
   "metadata": {
    "ExecuteTime": {
     "end_time": "2022-06-22T20:04:00.066375Z",
     "start_time": "2022-06-22T20:04:00.066369Z"
    }
   },
   "outputs": [],
   "source": [
    "# ax = sns.barplot(data=df_clean, x='bedrooms',y='price',edgecolor='k',linewidth=2)\n",
    "# sns.stripplot(data=df_clean, x='bedrooms',y='price',edgecolor='gray',linewidth=0.5,\n",
    "#               alpha=0.5,)"
   ]
  },
  {
   "cell_type": "markdown",
   "metadata": {},
   "source": [
    "### Scaled Numeric - with Constant"
   ]
  },
  {
   "cell_type": "code",
   "execution_count": null,
   "metadata": {
    "ExecuteTime": {
     "end_time": "2022-06-22T20:04:00.067169Z",
     "start_time": "2022-06-22T20:04:00.067162Z"
    }
   },
   "outputs": [],
   "source": [
    "X_train_scaled_df_cln_cnst.describe()"
   ]
  },
  {
   "cell_type": "code",
   "execution_count": null,
   "metadata": {
    "ExecuteTime": {
     "end_time": "2022-06-22T20:04:00.067935Z",
     "start_time": "2022-06-22T20:04:00.067929Z"
    },
    "colab": {
     "base_uri": "https://localhost:8080/",
     "height": 1000
    },
    "id": "erl8gAUTZbOr",
    "outputId": "6d37fdc3-4cad-4b4c-ad0b-67719fea23b4",
    "scrolled": false
   },
   "outputs": [],
   "source": [
    "## instantiate an OLS model WITH the training data.\n",
    "model_scaled = sm.OLS(y_train_cln, X_train_scaled_df_cln_cnst)\n",
    "\n",
    "## Fit the model and view the summary\n",
    "result_scaled = model_scaled.fit()\n",
    "sf.evaluate_ols(result_scaled,X_train_scaled_df_cln_cnst, y_train_cln)"
   ]
  },
  {
   "cell_type": "code",
   "execution_count": null,
   "metadata": {
    "ExecuteTime": {
     "end_time": "2022-06-22T20:04:00.068986Z",
     "start_time": "2022-06-22T20:04:00.068979Z"
    }
   },
   "outputs": [],
   "source": [
    "fig_scaled =sf.plot_coeffs(result_scaled,zip_cols,include_const=True)"
   ]
  },
  {
   "cell_type": "code",
   "execution_count": null,
   "metadata": {
    "ExecuteTime": {
     "end_time": "2022-06-22T20:04:00.069719Z",
     "start_time": "2022-06-22T20:04:00.069713Z"
    },
    "scrolled": true
   },
   "outputs": [],
   "source": [
    "fig_scaled =sf.plot_coeffs(result_scaled,zip_cols,include_const=False)"
   ]
  },
  {
   "cell_type": "markdown",
   "metadata": {},
   "source": [
    "## Feature Importance - Random Forest"
   ]
  },
  {
   "cell_type": "code",
   "execution_count": null,
   "metadata": {
    "ExecuteTime": {
     "end_time": "2022-06-22T20:04:00.070279Z",
     "start_time": "2022-06-22T20:04:00.070273Z"
    },
    "colab": {
     "base_uri": "https://localhost:8080/",
     "height": 270
    },
    "id": "ILkWZ60AXzjY",
    "outputId": "b8b119df-f682-4ef8-f7bc-2cc3142a563f",
    "scrolled": true
   },
   "outputs": [],
   "source": [
    "# ## Make x and y variables\n",
    "# target = 'price'\n",
    "# drop_cols = ['view']\n",
    "\n",
    "\n",
    "# y = df[target].copy()\n",
    "# X = df.drop(columns=[target,*drop_cols]).copy()\n",
    "\n",
    "# X_train, X_test, y_train, y_test = train_test_split(X,y, random_state=321)\n",
    "# X_train.head()"
   ]
  },
  {
   "cell_type": "markdown",
   "metadata": {},
   "source": [
    "### Raw Numeric - No Constant"
   ]
  },
  {
   "cell_type": "code",
   "execution_count": null,
   "metadata": {
    "ExecuteTime": {
     "end_time": "2022-06-22T20:04:00.070786Z",
     "start_time": "2022-06-22T20:04:00.070781Z"
    },
    "colab": {
     "base_uri": "https://localhost:8080/"
    },
    "id": "kKBgO2nYXd4D",
    "outputId": "7d26e1a7-276f-4592-f0f9-1ba40c9fa6cb"
   },
   "outputs": [],
   "source": [
    "# ## cat selector\n",
    "# cat_sel = make_column_selector(dtype_include='object')\n",
    "# cat_cols = cat_sel(X)\n",
    "\n",
    "# # num selectorr\n",
    "# num_sel = make_column_selector(dtype_include='number')\n",
    "# num_cols = num_sel(X)\n",
    "\n",
    "# ## make pipelines & column transformer - raw numeric\n",
    "# cat_pipe = make_pipeline(SimpleImputer(strategy='constant',\n",
    "#                                        fill_value='MISSING'),\n",
    "#                          OneHotEncoder(handle_unknown='ignore', sparse=False))\n",
    "# num_pipe_raw = make_pipeline(SimpleImputer(strategy='mean'))\n",
    "# preprocessor = make_column_transformer((num_pipe_raw, num_sel),\n",
    "#                                        (cat_pipe,cat_sel), verbose_feature_names_out=False)\n",
    "# preprocessor"
   ]
  },
  {
   "cell_type": "code",
   "execution_count": null,
   "metadata": {
    "ExecuteTime": {
     "end_time": "2022-06-22T20:04:00.071379Z",
     "start_time": "2022-06-22T20:04:00.071374Z"
    },
    "colab": {
     "base_uri": "https://localhost:8080/",
     "height": 300
    },
    "id": "q9Njny81YFYW",
    "outputId": "e5aa9b18-b573-46f9-9d90-8a057e09cd66"
   },
   "outputs": [],
   "source": [
    "# ## Prepare X_train_df\n",
    "# X_train_df = pd.DataFrame( preprocessor.fit_transform(X_train), \n",
    "#                           columns=preprocessor.get_feature_names_out(),\n",
    "#                          index=X_train.index)\n",
    "# # X_train_df = sm.add_constant(X_train_df, prepend=False, has_constant='add')\n",
    "\n",
    "# ## Prepare X_test_df\n",
    "# X_test_df = pd.DataFrame( preprocessor.transform(X_test),\n",
    "#                          columns=preprocessor.get_feature_names_out(), \n",
    "#                          index=X_test.index)\n",
    "# # X_test_df = sm.add_constant(X_test_df, prepend=False, has_constant='add')\n",
    "\n",
    "\n",
    "# X_test_df.head()"
   ]
  },
  {
   "cell_type": "code",
   "execution_count": null,
   "metadata": {
    "ExecuteTime": {
     "end_time": "2022-06-22T20:04:00.072062Z",
     "start_time": "2022-06-22T20:04:00.072054Z"
    }
   },
   "outputs": [],
   "source": [
    "## instantiate an OLS model WITH the training data.\n",
    "from sklearn.ensemble import RandomForestRegressor\n",
    "rf_reg = RandomForestRegressor()\n",
    "rf_reg.fit(X_train_df,y_train)\n",
    "\n",
    "## Fit the model and view the summary\n",
    "sf.evaluate_ols(rf_reg,X_train_df, y_train)"
   ]
  },
  {
   "cell_type": "markdown",
   "metadata": {},
   "source": [
    "## Permutation Importance"
   ]
  },
  {
   "cell_type": "code",
   "execution_count": null,
   "metadata": {
    "ExecuteTime": {
     "end_time": "2022-06-22T20:04:00.072981Z",
     "start_time": "2022-06-22T20:04:00.072976Z"
    }
   },
   "outputs": [],
   "source": [
    "## instantiate an OLS model WITH the training data.\n",
    "from sklearn.linear_model import LinearRegression\n",
    "linreg = LinearRegression()\n",
    "linreg.fit(X_train_scaled_df,y_train)\n",
    "\n",
    "## Fit the model and view the summary\n",
    "sf.evaluate_ols(linreg,X_train_scaled_df, y_train)"
   ]
  },
  {
   "cell_type": "code",
   "execution_count": null,
   "metadata": {
    "ExecuteTime": {
     "end_time": "2022-06-22T20:04:00.073596Z",
     "start_time": "2022-06-22T20:04:00.073591Z"
    }
   },
   "outputs": [],
   "source": [
    "from sklearn.inspection import permutation_importance\n",
    "y_test"
   ]
  },
  {
   "cell_type": "code",
   "execution_count": null,
   "metadata": {
    "ExecuteTime": {
     "end_time": "2022-06-22T20:04:00.074072Z",
     "start_time": "2022-06-22T20:04:00.074067Z"
    },
    "scrolled": true
   },
   "outputs": [],
   "source": [
    "## Permutation importance takes a fit mode and test data. \n",
    "r = permutation_importance(linreg, X_test_scaled_df, y_test,\n",
    "                           n_repeats=30)\n",
    "r.keys()"
   ]
  },
  {
   "cell_type": "code",
   "execution_count": null,
   "metadata": {
    "ExecuteTime": {
     "end_time": "2022-06-22T20:04:00.074722Z",
     "start_time": "2022-06-22T20:04:00.074717Z"
    }
   },
   "outputs": [],
   "source": [
    "r['importances_mean']"
   ]
  },
  {
   "cell_type": "code",
   "execution_count": null,
   "metadata": {
    "ExecuteTime": {
     "end_time": "2022-06-22T20:04:00.075366Z",
     "start_time": "2022-06-22T20:04:00.075359Z"
    },
    "scrolled": false
   },
   "outputs": [],
   "source": [
    "## can make the mean importances into a series\n",
    "permutation_importances = pd.Series(r['importances_mean'],index=X_train_df.columns,\n",
    "                           name = 'permutation importance')\n",
    "permutation_importances"
   ]
  },
  {
   "cell_type": "code",
   "execution_count": null,
   "metadata": {
    "ExecuteTime": {
     "end_time": "2022-06-22T20:04:00.076172Z",
     "start_time": "2022-06-22T20:04:00.076166Z"
    }
   },
   "outputs": [],
   "source": [
    "permutation_importances.drop(zip_cols).sort_values().plot(kind='barh')"
   ]
  },
  {
   "cell_type": "code",
   "execution_count": null,
   "metadata": {
    "ExecuteTime": {
     "end_time": "2022-06-22T20:04:00.076737Z",
     "start_time": "2022-06-22T20:04:00.076731Z"
    },
    "scrolled": false
   },
   "outputs": [],
   "source": [
    "fig_scaled_zips =sf.plot_coeffs(result_scaled, nonzip_cols, figsize=(6,12),include_const=True,title=\"Raw Coefficients\")"
   ]
  },
  {
   "cell_type": "markdown",
   "metadata": {},
   "source": [
    "# Testing Assignment Data"
   ]
  },
  {
   "cell_type": "markdown",
   "metadata": {},
   "source": [
    "## Discussed with Brenda (Kaggle)\n",
    "- [One on One Doc](https://docs.google.com/document/d/1yCqejdZHTByU-gIfGtEcnH_P4cSvJh7Az_8EtyjeGBI/edit?usp=sharing)\n",
    "    - See 06/21/22"
   ]
  },
  {
   "cell_type": "code",
   "execution_count": null,
   "metadata": {
    "ExecuteTime": {
     "end_time": "2022-06-22T20:04:00.077240Z",
     "start_time": "2022-06-22T20:04:00.077234Z"
    }
   },
   "outputs": [],
   "source": [
    "URLS['students'] = 'Data/student-mat.csv' # use for converting regr to classificaton\n",
    "URLS['insurance'] = \"Data/insurance.csv\"\n",
    "URLS"
   ]
  },
  {
   "cell_type": "code",
   "execution_count": null,
   "metadata": {
    "ExecuteTime": {
     "end_time": "2022-06-22T20:04:00.078016Z",
     "start_time": "2022-06-22T20:04:00.078011Z"
    }
   },
   "outputs": [],
   "source": [
    "pd.read_csv(URLS['students'])"
   ]
  },
  {
   "cell_type": "code",
   "execution_count": null,
   "metadata": {
    "ExecuteTime": {
     "end_time": "2022-06-22T20:04:00.078515Z",
     "start_time": "2022-06-22T20:04:00.078508Z"
    }
   },
   "outputs": [],
   "source": [
    "# pd.read_csv(URLS['insurance'])"
   ]
  },
  {
   "cell_type": "code",
   "execution_count": null,
   "metadata": {
    "ExecuteTime": {
     "end_time": "2022-06-22T20:04:00.079192Z",
     "start_time": "2022-06-22T20:04:00.079187Z"
    }
   },
   "outputs": [],
   "source": [
    "# URLS['student-performance']"
   ]
  },
  {
   "cell_type": "markdown",
   "metadata": {},
   "source": [
    "## Student Performance"
   ]
  },
  {
   "cell_type": "markdown",
   "metadata": {},
   "source": [
    "- Predict....\"G3\" using other features.\n",
    "    - Could also combine G1-G3 as mean\n",
    "    - for class I calculated the % scores instead of the out of 20 scores"
   ]
  },
  {
   "cell_type": "code",
   "execution_count": null,
   "metadata": {
    "ExecuteTime": {
     "end_time": "2022-06-22T20:04:00.079827Z",
     "start_time": "2022-06-22T20:04:00.079822Z"
    }
   },
   "outputs": [],
   "source": [
    "df = pd.read_csv(URLS['students'])\n",
    "df.info()\n",
    "df"
   ]
  },
  {
   "cell_type": "code",
   "execution_count": null,
   "metadata": {
    "ExecuteTime": {
     "end_time": "2022-06-22T20:04:00.080359Z",
     "start_time": "2022-06-22T20:04:00.080354Z"
    }
   },
   "outputs": [],
   "source": [
    "df.nunique()"
   ]
  },
  {
   "cell_type": "code",
   "execution_count": null,
   "metadata": {
    "ExecuteTime": {
     "end_time": "2022-06-22T20:04:00.081012Z",
     "start_time": "2022-06-22T20:04:00.081006Z"
    }
   },
   "outputs": [],
   "source": [
    "ProfileReport(df)"
   ]
  },
  {
   "cell_type": "code",
   "execution_count": null,
   "metadata": {
    "ExecuteTime": {
     "end_time": "2022-06-22T20:04:00.081730Z",
     "start_time": "2022-06-22T20:04:00.081721Z"
    },
    "colab": {
     "base_uri": "https://localhost:8080/",
     "height": 270
    },
    "id": "ILkWZ60AXzjY",
    "outputId": "b8b119df-f682-4ef8-f7bc-2cc3142a563f",
    "scrolled": true
   },
   "outputs": [],
   "source": [
    "## Make x and y variables\n",
    "target = 'G3'\n",
    "drop_cols = []#'view']\n",
    "\n",
    "\n",
    "y = df[target].copy()\n",
    "X = df.drop(columns=[target,*drop_cols]).copy()\n",
    "\n",
    "X_train, X_test, y_train, y_test = train_test_split(X,y, test_size=0.2,random_state=321)\n",
    "X_train.head()"
   ]
  },
  {
   "cell_type": "markdown",
   "metadata": {},
   "source": [
    "### Raw Numeric - No Constant"
   ]
  },
  {
   "cell_type": "code",
   "execution_count": null,
   "metadata": {
    "ExecuteTime": {
     "end_time": "2022-06-22T20:04:00.082537Z",
     "start_time": "2022-06-22T20:04:00.082531Z"
    },
    "colab": {
     "base_uri": "https://localhost:8080/"
    },
    "id": "kKBgO2nYXd4D",
    "outputId": "7d26e1a7-276f-4592-f0f9-1ba40c9fa6cb"
   },
   "outputs": [],
   "source": [
    "## cat selector\n",
    "cat_sel = make_column_selector(dtype_include='object')\n",
    "cat_cols = cat_sel(X)\n",
    "\n",
    "# num selectorr\n",
    "num_sel = make_column_selector(dtype_include='number')\n",
    "num_cols = num_sel(X)\n",
    "\n",
    "## make pipelines & column transformer - raw numeric\n",
    "cat_pipe = make_pipeline(SimpleImputer(strategy='constant',\n",
    "                                       fill_value='MISSING'),\n",
    "                         OneHotEncoder(handle_unknown='ignore', sparse=False))\n",
    "num_pipe_raw = make_pipeline(SimpleImputer(strategy='mean'))\n",
    "preprocessor = make_column_transformer((num_pipe_raw, num_sel),\n",
    "                                       (cat_pipe,cat_sel), verbose_feature_names_out=False)\n",
    "preprocessor"
   ]
  },
  {
   "cell_type": "code",
   "execution_count": null,
   "metadata": {
    "ExecuteTime": {
     "end_time": "2022-06-22T20:04:00.083348Z",
     "start_time": "2022-06-22T20:04:00.083343Z"
    },
    "colab": {
     "base_uri": "https://localhost:8080/",
     "height": 300
    },
    "id": "q9Njny81YFYW",
    "outputId": "e5aa9b18-b573-46f9-9d90-8a057e09cd66"
   },
   "outputs": [],
   "source": [
    "## Prepare X_train_df\n",
    "X_train_df = pd.DataFrame( preprocessor.fit_transform(X_train), \n",
    "                          columns=preprocessor.get_feature_names_out(),\n",
    "                         index=X_train.index)\n",
    "# X_train_df = sm.add_constant(X_train_df, prepend=False, has_constant='add')\n",
    "\n",
    "## Prepare X_test_df\n",
    "X_test_df = pd.DataFrame( preprocessor.transform(X_test),\n",
    "                         columns=preprocessor.get_feature_names_out(), \n",
    "                         index=X_test.index)\n",
    "# X_test_df = sm.add_constant(X_test_df, prepend=False, has_constant='add')\n",
    "\n",
    "\n",
    "X_test_df.head()"
   ]
  },
  {
   "cell_type": "code",
   "execution_count": null,
   "metadata": {
    "ExecuteTime": {
     "end_time": "2022-06-22T20:04:00.083928Z",
     "start_time": "2022-06-22T20:04:00.083920Z"
    },
    "colab": {
     "base_uri": "https://localhost:8080/",
     "height": 1000
    },
    "id": "erl8gAUTZbOr",
    "outputId": "6d37fdc3-4cad-4b4c-ad0b-67719fea23b4",
    "scrolled": true
   },
   "outputs": [],
   "source": [
    "## instantiate an OLS model WITH the training data.\n",
    "model = sm.OLS(y_train, X_train_df)\n",
    "\n",
    "## Fit the model and view the summary\n",
    "result = model.fit()\n",
    "sf.evaluate_ols(result,X_train_df, y_train)"
   ]
  },
  {
   "cell_type": "code",
   "execution_count": null,
   "metadata": {
    "ExecuteTime": {
     "end_time": "2022-06-22T20:04:00.084942Z",
     "start_time": "2022-06-22T20:04:00.084934Z"
    }
   },
   "outputs": [],
   "source": [
    "sf.plot_coeffs(result,include_const=True,figsize=(6,12));"
   ]
  },
  {
   "cell_type": "markdown",
   "metadata": {},
   "source": [
    "### Scaled "
   ]
  },
  {
   "cell_type": "code",
   "execution_count": null,
   "metadata": {
    "ExecuteTime": {
     "end_time": "2022-06-22T20:04:00.085697Z",
     "start_time": "2022-06-22T20:04:00.085691Z"
    }
   },
   "outputs": [],
   "source": [
    "## make pipelines & column transformer - scaled\n",
    "cat_pipe = make_pipeline(SimpleImputer(strategy='constant',\n",
    "                                       fill_value='MISSING'),\n",
    "                         OneHotEncoder(handle_unknown='ignore', sparse=False))\n",
    "num_pipe_scale = make_pipeline(SimpleImputer(strategy='mean'), StandardScaler())\n",
    "\n",
    "preprocessor_scale = make_column_transformer((num_pipe_scale, num_sel),\n",
    "                                       (cat_pipe,cat_sel), verbose_feature_names_out=False)\n",
    "preprocessor_scale"
   ]
  },
  {
   "cell_type": "code",
   "execution_count": null,
   "metadata": {
    "ExecuteTime": {
     "end_time": "2022-06-22T20:04:00.086293Z",
     "start_time": "2022-06-22T20:04:00.086287Z"
    },
    "scrolled": true
   },
   "outputs": [],
   "source": [
    "X_train_scaled_df = pd.DataFrame( preprocessor_scale.fit_transform(X_train), \n",
    "                          columns=preprocessor_scale.get_feature_names_out(),\n",
    "                         index=X_train.index)\n",
    "X_train_scaled_df = sm.add_constant(X_train_scaled_df, prepend=False, has_constant='add')\n",
    "\n",
    "\n",
    "X_test_scaled_df = pd.DataFrame( preprocessor_scale.transform(X_test),\n",
    "                         columns=preprocessor_scale.get_feature_names_out(), \n",
    "                         index=X_test.index)\n",
    "X_test_scaled_df = sm.add_constant(X_test_scaled_df, prepend=False, has_constant='add')\n",
    "\n",
    "X_test_scaled_df.head()"
   ]
  },
  {
   "cell_type": "code",
   "execution_count": null,
   "metadata": {
    "ExecuteTime": {
     "end_time": "2022-06-22T20:04:00.086944Z",
     "start_time": "2022-06-22T20:04:00.086938Z"
    },
    "colab": {
     "base_uri": "https://localhost:8080/",
     "height": 1000
    },
    "id": "erl8gAUTZbOr",
    "outputId": "6d37fdc3-4cad-4b4c-ad0b-67719fea23b4",
    "scrolled": true
   },
   "outputs": [],
   "source": [
    "## instantiate an OLS model WITH the training data.\n",
    "model_scaled = sm.OLS(y_train, X_train_scaled_df)\n",
    "\n",
    "## Fit the model and view the summary\n",
    "result_scaled = model_scaled.fit()\n",
    "sf.evaluate_ols(result_scaled,X_train_scaled_df, y_train)"
   ]
  },
  {
   "cell_type": "code",
   "execution_count": null,
   "metadata": {
    "ExecuteTime": {
     "end_time": "2022-06-22T20:04:00.087933Z",
     "start_time": "2022-06-22T20:04:00.087926Z"
    }
   },
   "outputs": [],
   "source": [
    "sf.plot_coeffs(result_scaled,include_const=True,figsize=(6,12));"
   ]
  },
  {
   "cell_type": "code",
   "execution_count": null,
   "metadata": {},
   "outputs": [],
   "source": []
  },
  {
   "cell_type": "markdown",
   "metadata": {},
   "source": [
    "# OLD"
   ]
  },
  {
   "cell_type": "code",
   "execution_count": null,
   "metadata": {
    "ExecuteTime": {
     "end_time": "2022-06-22T20:04:00.088690Z",
     "start_time": "2022-06-22T20:04:00.088685Z"
    }
   },
   "outputs": [],
   "source": [
    "raise Exception(\"STOP HERE!\")"
   ]
  },
  {
   "cell_type": "markdown",
   "metadata": {
    "id": "XgeY0PUpxQJg"
   },
   "source": [
    "# Multicollinearity "
   ]
  },
  {
   "cell_type": "code",
   "execution_count": null,
   "metadata": {
    "ExecuteTime": {
     "end_time": "2022-06-22T20:04:00.092240Z",
     "start_time": "2022-06-22T20:04:00.092234Z"
    },
    "id": "dsgJezYCxhrA"
   },
   "outputs": [],
   "source": [
    "zip_cols = [c for c in X_train_df.columns if c.startswith('zipcode')]"
   ]
  },
  {
   "cell_type": "code",
   "execution_count": null,
   "metadata": {
    "ExecuteTime": {
     "end_time": "2022-06-22T20:04:00.092869Z",
     "start_time": "2022-06-22T20:04:00.092863Z"
    },
    "colab": {
     "base_uri": "https://localhost:8080/",
     "height": 882
    },
    "id": "U-jLZINcvJQI",
    "outputId": "e18c5561-1682-4954-b933-05624212dbaa"
   },
   "outputs": [],
   "source": [
    "## Calculating the mask to hide the upper-right of the triangle\n",
    "plt.figure(figsize=(15,15))\n",
    "corr = X_train_df.drop(columns=zip_cols).corr().abs()\n",
    "mask = np.triu(np.ones_like(corr))\n",
    "sns.heatmap(corr,square=True, cmap='Reds', annot=True, mask=mask);"
   ]
  },
  {
   "cell_type": "code",
   "execution_count": null,
   "metadata": {
    "ExecuteTime": {
     "end_time": "2022-06-22T20:04:00.093782Z",
     "start_time": "2022-06-22T20:04:00.093777Z"
    },
    "colab": {
     "base_uri": "https://localhost:8080/",
     "height": 488
    },
    "id": "ZGjpdCbdxfxE",
    "outputId": "7d908094-c7a0-463d-a009-608a3669011e"
   },
   "outputs": [],
   "source": [
    "from statsmodels.stats.outliers_influence import variance_inflation_factor\n",
    " \n",
    "# separate just x-data and subtract mean\n",
    "features = X_train_df -  X_train_df.mean()\n",
    "\n",
    "features"
   ]
  },
  {
   "cell_type": "code",
   "execution_count": null,
   "metadata": {
    "ExecuteTime": {
     "end_time": "2022-06-22T20:04:00.094405Z",
     "start_time": "2022-06-22T20:04:00.094399Z"
    },
    "colab": {
     "base_uri": "https://localhost:8080/"
    },
    "id": "1iWZDr2GyHPU",
    "outputId": "c9c4b21f-29cb-47db-c295-706189af9726"
   },
   "outputs": [],
   "source": [
    "# create a list of VIF scores for each feature in features.\n",
    "vif_scores = [variance_inflation_factor(features.values, i) for i in range(len(features.columns))]\n",
    "\n",
    "# create a new dataframe to hold the VIF scores \n",
    "VIF = pd.Series(vif_scores, index=features.columns)\n",
    "VIF"
   ]
  },
  {
   "cell_type": "code",
   "execution_count": null,
   "metadata": {
    "ExecuteTime": {
     "end_time": "2022-06-22T20:04:00.095038Z",
     "start_time": "2022-06-22T20:04:00.095033Z"
    },
    "id": "4wnwlXaDyI54"
   },
   "outputs": [],
   "source": [
    "## Set float format to view vals not in scientfic notation\n",
    "pd.set_option('display.float_format',lambda x: f'{x:.2f}')"
   ]
  },
  {
   "cell_type": "code",
   "execution_count": null,
   "metadata": {
    "ExecuteTime": {
     "end_time": "2022-06-22T20:04:00.095791Z",
     "start_time": "2022-06-22T20:04:00.095782Z"
    },
    "colab": {
     "base_uri": "https://localhost:8080/"
    },
    "id": "0ye66MJiyNEE",
    "outputId": "592fd773-1a78-4e05-f5db-19528451ff51"
   },
   "outputs": [],
   "source": [
    "## remove infinite values from VIF and sort\n",
    "VIF = VIF[VIF!=np.inf].sort_values()\n",
    "VIF"
   ]
  },
  {
   "cell_type": "code",
   "execution_count": null,
   "metadata": {
    "ExecuteTime": {
     "end_time": "2022-06-22T20:04:00.096335Z",
     "start_time": "2022-06-22T20:04:00.096330Z"
    },
    "colab": {
     "base_uri": "https://localhost:8080/"
    },
    "id": "h3uBuyFzySAe",
    "outputId": "acae2606-3e57-4cbc-dcd0-f0cfd926479c"
   },
   "outputs": [],
   "source": [
    "## filter for VIF that are > 5\n",
    "VIF[VIF>5]"
   ]
  },
  {
   "cell_type": "code",
   "execution_count": null,
   "metadata": {
    "ExecuteTime": {
     "end_time": "2022-06-22T20:04:00.096836Z",
     "start_time": "2022-06-22T20:04:00.096831Z"
    },
    "colab": {
     "base_uri": "https://localhost:8080/"
    },
    "id": "tb6SqNSdyU03",
    "outputId": "4a2ec0e5-f320-47e8-bdeb-0400b44feb3e"
   },
   "outputs": [],
   "source": [
    "high_vif = VIF[VIF>5].index\n",
    "high_vif"
   ]
  },
  {
   "cell_type": "code",
   "execution_count": null,
   "metadata": {
    "ExecuteTime": {
     "end_time": "2022-06-22T20:04:00.097825Z",
     "start_time": "2022-06-22T20:04:00.097819Z"
    },
    "colab": {
     "base_uri": "https://localhost:8080/"
    },
    "id": "NP_JFPn-yYY-",
    "outputId": "2f36118a-db7a-403a-be9c-a351fb3d4bc6"
   },
   "outputs": [],
   "source": [
    "## Get train data performance from skearn to confirm matches OLS\n",
    "y_hat_train = result.predict(X_train_df)\n",
    "print(f'Training R^2: {r2_score(y_train, y_hat_train):.3f}')\n",
    "\n",
    "## Get test data performance\n",
    "y_hat_test = result.predict(X_test_df)\n",
    "print(f'Testing R^2: {r2_score(y_test, y_hat_test):.3f}')"
   ]
  },
  {
   "cell_type": "code",
   "execution_count": null,
   "metadata": {
    "id": "qbQWxwN0zTQc"
   },
   "outputs": [],
   "source": []
  }
 ],
 "metadata": {
  "colab": {
   "collapsed_sections": [],
   "include_colab_link": true,
   "name": "Diagnosing Linear Regression + Coefficients - 06-15-22.ipynb",
   "provenance": [],
   "toc_visible": true
  },
  "kernelspec": {
   "display_name": "Python (dojo-env)",
   "language": "python",
   "name": "dojo-env"
  },
  "language_info": {
   "codemirror_mode": {
    "name": "ipython",
    "version": 3
   },
   "file_extension": ".py",
   "mimetype": "text/x-python",
   "name": "python",
   "nbconvert_exporter": "python",
   "pygments_lexer": "ipython3",
   "version": "3.8.13"
  },
  "toc": {
   "base_numbering": 1,
   "nav_menu": {},
   "number_sections": false,
   "sideBar": true,
   "skip_h1_title": false,
   "title_cell": "Table of Contents",
   "title_sidebar": "Contents",
   "toc_cell": false,
   "toc_position": {
    "height": "calc(100% - 180px)",
    "left": "10px",
    "top": "150px",
    "width": "320px"
   },
   "toc_section_display": true,
   "toc_window_display": true
  }
 },
 "nbformat": 4,
 "nbformat_minor": 1
}