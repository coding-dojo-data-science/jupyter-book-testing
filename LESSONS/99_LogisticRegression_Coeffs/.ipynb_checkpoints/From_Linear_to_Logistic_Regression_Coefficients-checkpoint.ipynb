{
 "cells": [
  {
   "cell_type": "markdown",
   "metadata": {
    "colab_type": "text",
    "id": "view-in-github"
   },
   "source": [
    "<a href=\"https://colab.research.google.com/github/coding-dojo-data-science/curriculum-model-insights/blob/main/Share_Copy_of_From_Linear_to_Logistic_Regression_SOLUTION.ipynb\" target=\"_parent\"><img src=\"https://colab.research.google.com/assets/colab-badge.svg\" alt=\"Open In Colab\"/></a>"
   ]
  },
  {
   "cell_type": "markdown",
   "metadata": {
    "id": "J-a9WpeOUr20"
   },
   "source": [
    "# From Linear to Logistic Regression (A Brief Introduction)"
   ]
  },
  {
   "cell_type": "markdown",
   "metadata": {
    "id": "mdbdwshVUr22"
   },
   "source": [
    "- UPDATED 03/02/22\n",
    "- James M. Irving, Ph.D."
   ]
  },
  {
   "cell_type": "markdown",
   "metadata": {
    "id": "v_M0muy4Ur23",
    "toc": true
   },
   "source": [
    "<h1>Table of Contents<span class=\"tocSkip\"></span></h1>\n",
    "<div class=\"toc\"><ul class=\"toc-item\"><li><span><a href=\"#From-Linear-to-Logistic-Regression-(A-Brief-Introduction)\" data-toc-modified-id=\"From-Linear-to-Logistic-Regression-(A-Brief-Introduction)-1\"><span class=\"toc-item-num\">1&nbsp;&nbsp;</span>From Linear to Logistic Regression (A Brief Introduction)</a></span><ul class=\"toc-item\"><li><span><a href=\"#Learning-Objectives\" data-toc-modified-id=\"Learning-Objectives-1.1\"><span class=\"toc-item-num\">1.1&nbsp;&nbsp;</span>Learning Objectives</a></span></li></ul></li><li><span><a href=\"#Predicting-the-Price-of-a-Home-Using-Linear-Regression\" data-toc-modified-id=\"Predicting-the-Price-of-a-Home-Using-Linear-Regression-2\"><span class=\"toc-item-num\">2&nbsp;&nbsp;</span>Predicting the Price of a Home Using Linear Regression</a></span><ul class=\"toc-item\"><li><span><a href=\"#🕹Activity:-Visualizing-Our-Features-vs-Our-Target\" data-toc-modified-id=\"🕹Activity:-Visualizing-Our-Features-vs-Our-Target-2.1\"><span class=\"toc-item-num\">2.1&nbsp;&nbsp;</span><del>🕹Activity:</del> Visualizing Our Features vs Our Target</a></span><ul class=\"toc-item\"><li><span><a href=\"#Functionizing-Our-Code\" data-toc-modified-id=\"Functionizing-Our-Code-2.1.1\"><span class=\"toc-item-num\">2.1.1&nbsp;&nbsp;</span>Functionizing Our Code</a></span></li><li><span><a href=\"#What-Our-Trendline-Tells-Us\" data-toc-modified-id=\"What-Our-Trendline-Tells-Us-2.1.2\"><span class=\"toc-item-num\">2.1.2&nbsp;&nbsp;</span>What Our Trendline Tells Us</a></span></li></ul></li><li><span><a href=\"#🕹Activity:-Predicting-House-Price-with-sci-kit-learn's-LinearRegression\" data-toc-modified-id=\"🕹Activity:-Predicting-House-Price-with-sci-kit-learn's-LinearRegression-2.2\"><span class=\"toc-item-num\">2.2&nbsp;&nbsp;</span>🕹Activity: Predicting House Price with sci-kit learn's <code>LinearRegression</code></a></span><ul class=\"toc-item\"><li><span><a href=\"#What-Coefficients-Did-Our-Model-Find?\" data-toc-modified-id=\"What-Coefficients-Did-Our-Model-Find?-2.2.1\"><span class=\"toc-item-num\">2.2.1&nbsp;&nbsp;</span>What Coefficients Did Our Model Find?</a></span></li></ul></li><li><span><a href=\"#Linear-Regression-Summary\" data-toc-modified-id=\"Linear-Regression-Summary-2.3\"><span class=\"toc-item-num\">2.3&nbsp;&nbsp;</span>Linear Regression Summary</a></span></li></ul></li><li><span><a href=\"#Predicting-the-Probability-of-a-Being-an-Expensive-Home-Logistic-Regression\" data-toc-modified-id=\"Predicting-the-Probability-of-a-Being-an-Expensive-Home-Logistic-Regression-3\"><span class=\"toc-item-num\">3&nbsp;&nbsp;</span>Predicting the Probability of a Being an Expensive Home Logistic Regression</a></span><ul class=\"toc-item\"><li><span><a href=\"#🕹Activity:-Converting-Our-Task-to-A-Classifcation-Task\" data-toc-modified-id=\"🕹Activity:-Converting-Our-Task-to-A-Classifcation-Task-3.1\"><span class=\"toc-item-num\">3.1&nbsp;&nbsp;</span>🕹Activity: Converting Our Task to A Classifcation Task</a></span><ul class=\"toc-item\"><li><span><a href=\"#Visualizing-Our-Features-vs-our-New-Binary-Taget\" data-toc-modified-id=\"Visualizing-Our-Features-vs-our-New-Binary-Taget-3.1.1\"><span class=\"toc-item-num\">3.1.1&nbsp;&nbsp;</span>Visualizing Our Features vs our New Binary Taget</a></span></li><li><span><a href=\"#When-lines-aren't-enough....\" data-toc-modified-id=\"When-lines-aren't-enough....-3.1.2\"><span class=\"toc-item-num\">3.1.2&nbsp;&nbsp;</span>When lines aren't enough....</a></span></li><li><span><a href=\"#Converting-Our-Linear-Equation-to-A-Sigmoid-Curve\" data-toc-modified-id=\"Converting-Our-Linear-Equation-to-A-Sigmoid-Curve-3.1.3\"><span class=\"toc-item-num\">3.1.3&nbsp;&nbsp;</span>Converting Our Linear Equation to A Sigmoid Curve</a></span></li></ul></li><li><span><a href=\"#🕹Activity:-Predicting-if-a-House-Belongs-to-the-&quot;Expensive-Home&quot;-class.\" data-toc-modified-id=\"🕹Activity:-Predicting-if-a-House-Belongs-to-the-&quot;Expensive-Home&quot;-class.-3.2\"><span class=\"toc-item-num\">3.2&nbsp;&nbsp;</span>🕹Activity: Predicting if a House Belongs to the \"Expensive Home\" class.</a></span><ul class=\"toc-item\"><li><ul class=\"toc-item\"><li><span><a href=\"#What-did-we-get?\" data-toc-modified-id=\"What-did-we-get?-3.2.0.1\"><span class=\"toc-item-num\">3.2.0.1&nbsp;&nbsp;</span>What did we get?</a></span></li><li><span><a href=\"#Summary\" data-toc-modified-id=\"Summary-3.2.0.2\"><span class=\"toc-item-num\">3.2.0.2&nbsp;&nbsp;</span>Summary</a></span></li></ul></li></ul></li></ul></li><li><span><a href=\"#Next-Class\" data-toc-modified-id=\"Next-Class-4\"><span class=\"toc-item-num\">4&nbsp;&nbsp;</span>Next Class</a></span></li><li><span><a href=\"#Appendix\" data-toc-modified-id=\"Appendix-5\"><span class=\"toc-item-num\">5&nbsp;&nbsp;</span>Appendix</a></span><ul class=\"toc-item\"><li><ul class=\"toc-item\"><li><span><a href=\"#Converting-Odds-to-Probability\" data-toc-modified-id=\"Converting-Odds-to-Probability-5.0.1\"><span class=\"toc-item-num\">5.0.1&nbsp;&nbsp;</span>Converting Odds to Probability</a></span></li><li><span><a href=\"#Interpreting-Odds-Coefficients\" data-toc-modified-id=\"Interpreting-Odds-Coefficients-5.0.2\"><span class=\"toc-item-num\">5.0.2&nbsp;&nbsp;</span>Interpreting Odds Coefficients</a></span><ul class=\"toc-item\"><li><span><a href=\"#Interpreting-Odds-Coefficients\" data-toc-modified-id=\"Interpreting-Odds-Coefficients-5.0.2.1\"><span class=\"toc-item-num\">5.0.2.1&nbsp;&nbsp;</span>Interpreting Odds Coefficients</a></span></li></ul></li><li><span><a href=\"#Titanic\" data-toc-modified-id=\"Titanic-5.0.3\"><span class=\"toc-item-num\">5.0.3&nbsp;&nbsp;</span>Titanic</a></span></li></ul></li></ul></li></ul></div>"
   ]
  },
  {
   "cell_type": "markdown",
   "metadata": {
    "ExecuteTime": {
     "end_time": "2021-09-30T17:22:57.157124Z",
     "start_time": "2021-09-30T17:22:57.154414Z"
    },
    "id": "YB2J8wZPUr24"
   },
   "source": [
    "## Learning Objectives\n",
    "- To review how linear regression predicts a continuous value.\n",
    "- To understand how we can convert a linear equation to a sigmoid curve bounded between 0 and 1. \n",
    "- To understand how Logistic Regression uses sigmoid curves to predict the probability of belonging to a specific class/category/label.\n",
    "- To apply both Linear Regression and Logistic Regression using sci-kit learn."
   ]
  },
  {
   "cell_type": "markdown",
   "metadata": {
    "id": "mapj4U_kUr24"
   },
   "source": [
    "- Prerequisites/Assumptions:\n",
    "    - Familiar with Linear Regression\n",
    "\n",
    "- Lesson Duration:\n",
    "    - ~15 mins"
   ]
  },
  {
   "cell_type": "markdown",
   "metadata": {
    "id": "folVhH6CUr24"
   },
   "source": [
    "# Predicting the Price of a Home Using Linear Regression"
   ]
  },
  {
   "cell_type": "markdown",
   "metadata": {
    "id": "0iXcmTP1Ur25"
   },
   "source": [
    "<img src=\"https://github.com/jirvingphd/from-linear-to-logistic-regression-brief-intro/blob/main/images/istock24011682medium_1200xx1697-955-0-88.jpg?raw=1\" width=60% alt=\"Source: https://images.app.goo.gl/oJoMSGU8LGgDjkA76\">"
   ]
  },
  {
   "cell_type": "code",
   "execution_count": 1,
   "metadata": {
    "ExecuteTime": {
     "end_time": "2022-06-23T18:09:23.130532Z",
     "start_time": "2022-06-23T18:09:22.586884Z"
    },
    "id": "30QoDlI8Ur25"
   },
   "outputs": [],
   "source": [
    "import pandas as pd\n",
    "import numpy as np\n",
    "import matplotlib as mpl\n",
    "import matplotlib.pyplot as plt\n",
    "import seaborn as sns\n",
    "## Customization Options\n",
    "pd.set_option('display.float_format',lambda x: f\"{x:,.4f}\")\n",
    "plt.style.use('seaborn-talk')"
   ]
  },
  {
   "cell_type": "code",
   "execution_count": 43,
   "metadata": {
    "ExecuteTime": {
     "end_time": "2022-06-23T18:10:11.241099Z",
     "start_time": "2022-06-23T18:10:11.234573Z"
    },
    "id": "D6lViJl_Ur26"
   },
   "outputs": [],
   "source": [
    "## additional required imports\n",
    "from sklearn.model_selection import train_test_split\n",
    "from sklearn.metrics import (r2_score, plot_confusion_matrix,\n",
    "                             ConfusionMatrixDisplay,\n",
    "                             classification_report)\n",
    "\n",
    "## Customized Options\n",
    "pd.set_option('display.float_format',lambda x: f\"{x:,.4f}\")\n",
    "plt.style.use('seaborn-talk')"
   ]
  },
  {
   "cell_type": "code",
   "execution_count": 3,
   "metadata": {
    "ExecuteTime": {
     "end_time": "2022-06-23T18:09:27.640224Z",
     "start_time": "2022-06-23T18:09:23.169998Z"
    },
    "colab": {
     "base_uri": "https://localhost:8080/",
     "height": 788
    },
    "id": "aTlOMZXMUr27",
    "outputId": "7b8811ce-f55e-491c-9149-67af8cdd5292"
   },
   "outputs": [
    {
     "name": "stdout",
     "output_type": "stream",
     "text": [
      "<class 'pandas.core.frame.DataFrame'>\n",
      "RangeIndex: 21613 entries, 0 to 21612\n",
      "Data columns (total 21 columns):\n",
      " #   Column         Non-Null Count  Dtype  \n",
      "---  ------         --------------  -----  \n",
      " 0   id             21613 non-null  int64  \n",
      " 1   date           21613 non-null  object \n",
      " 2   price          21613 non-null  float64\n",
      " 3   bedrooms       21613 non-null  int64  \n",
      " 4   bathrooms      21613 non-null  float64\n",
      " 5   sqft_living    21613 non-null  int64  \n",
      " 6   sqft_lot       21613 non-null  int64  \n",
      " 7   floors         21613 non-null  float64\n",
      " 8   waterfront     21613 non-null  int64  \n",
      " 9   view           21613 non-null  int64  \n",
      " 10  condition      21613 non-null  int64  \n",
      " 11  grade          21613 non-null  int64  \n",
      " 12  sqft_above     21613 non-null  int64  \n",
      " 13  sqft_basement  21613 non-null  int64  \n",
      " 14  yr_built       21613 non-null  int64  \n",
      " 15  yr_renovated   21613 non-null  int64  \n",
      " 16  zipcode        21613 non-null  int64  \n",
      " 17  lat            21613 non-null  float64\n",
      " 18  long           21613 non-null  float64\n",
      " 19  sqft_living15  21613 non-null  int64  \n",
      " 20  sqft_lot15     21613 non-null  int64  \n",
      "dtypes: float64(5), int64(15), object(1)\n",
      "memory usage: 3.5+ MB\n"
     ]
    },
    {
     "data": {
      "text/html": [
       "<div>\n",
       "<style scoped>\n",
       "    .dataframe tbody tr th:only-of-type {\n",
       "        vertical-align: middle;\n",
       "    }\n",
       "\n",
       "    .dataframe tbody tr th {\n",
       "        vertical-align: top;\n",
       "    }\n",
       "\n",
       "    .dataframe thead th {\n",
       "        text-align: right;\n",
       "    }\n",
       "</style>\n",
       "<table border=\"1\" class=\"dataframe\">\n",
       "  <thead>\n",
       "    <tr style=\"text-align: right;\">\n",
       "      <th></th>\n",
       "      <th>id</th>\n",
       "      <th>date</th>\n",
       "      <th>price</th>\n",
       "      <th>bedrooms</th>\n",
       "      <th>bathrooms</th>\n",
       "      <th>sqft_living</th>\n",
       "      <th>sqft_lot</th>\n",
       "      <th>floors</th>\n",
       "      <th>waterfront</th>\n",
       "      <th>view</th>\n",
       "      <th>...</th>\n",
       "      <th>grade</th>\n",
       "      <th>sqft_above</th>\n",
       "      <th>sqft_basement</th>\n",
       "      <th>yr_built</th>\n",
       "      <th>yr_renovated</th>\n",
       "      <th>zipcode</th>\n",
       "      <th>lat</th>\n",
       "      <th>long</th>\n",
       "      <th>sqft_living15</th>\n",
       "      <th>sqft_lot15</th>\n",
       "    </tr>\n",
       "  </thead>\n",
       "  <tbody>\n",
       "    <tr>\n",
       "      <th>0</th>\n",
       "      <td>7129300520</td>\n",
       "      <td>20141013T000000</td>\n",
       "      <td>221,900.0000</td>\n",
       "      <td>3</td>\n",
       "      <td>1.0000</td>\n",
       "      <td>1180</td>\n",
       "      <td>5650</td>\n",
       "      <td>1.0000</td>\n",
       "      <td>0</td>\n",
       "      <td>0</td>\n",
       "      <td>...</td>\n",
       "      <td>7</td>\n",
       "      <td>1180</td>\n",
       "      <td>0</td>\n",
       "      <td>1955</td>\n",
       "      <td>0</td>\n",
       "      <td>98178</td>\n",
       "      <td>47.5112</td>\n",
       "      <td>-122.2570</td>\n",
       "      <td>1340</td>\n",
       "      <td>5650</td>\n",
       "    </tr>\n",
       "    <tr>\n",
       "      <th>1</th>\n",
       "      <td>6414100192</td>\n",
       "      <td>20141209T000000</td>\n",
       "      <td>538,000.0000</td>\n",
       "      <td>3</td>\n",
       "      <td>2.2500</td>\n",
       "      <td>2570</td>\n",
       "      <td>7242</td>\n",
       "      <td>2.0000</td>\n",
       "      <td>0</td>\n",
       "      <td>0</td>\n",
       "      <td>...</td>\n",
       "      <td>7</td>\n",
       "      <td>2170</td>\n",
       "      <td>400</td>\n",
       "      <td>1951</td>\n",
       "      <td>1991</td>\n",
       "      <td>98125</td>\n",
       "      <td>47.7210</td>\n",
       "      <td>-122.3190</td>\n",
       "      <td>1690</td>\n",
       "      <td>7639</td>\n",
       "    </tr>\n",
       "    <tr>\n",
       "      <th>2</th>\n",
       "      <td>5631500400</td>\n",
       "      <td>20150225T000000</td>\n",
       "      <td>180,000.0000</td>\n",
       "      <td>2</td>\n",
       "      <td>1.0000</td>\n",
       "      <td>770</td>\n",
       "      <td>10000</td>\n",
       "      <td>1.0000</td>\n",
       "      <td>0</td>\n",
       "      <td>0</td>\n",
       "      <td>...</td>\n",
       "      <td>6</td>\n",
       "      <td>770</td>\n",
       "      <td>0</td>\n",
       "      <td>1933</td>\n",
       "      <td>0</td>\n",
       "      <td>98028</td>\n",
       "      <td>47.7379</td>\n",
       "      <td>-122.2330</td>\n",
       "      <td>2720</td>\n",
       "      <td>8062</td>\n",
       "    </tr>\n",
       "    <tr>\n",
       "      <th>3</th>\n",
       "      <td>2487200875</td>\n",
       "      <td>20141209T000000</td>\n",
       "      <td>604,000.0000</td>\n",
       "      <td>4</td>\n",
       "      <td>3.0000</td>\n",
       "      <td>1960</td>\n",
       "      <td>5000</td>\n",
       "      <td>1.0000</td>\n",
       "      <td>0</td>\n",
       "      <td>0</td>\n",
       "      <td>...</td>\n",
       "      <td>7</td>\n",
       "      <td>1050</td>\n",
       "      <td>910</td>\n",
       "      <td>1965</td>\n",
       "      <td>0</td>\n",
       "      <td>98136</td>\n",
       "      <td>47.5208</td>\n",
       "      <td>-122.3930</td>\n",
       "      <td>1360</td>\n",
       "      <td>5000</td>\n",
       "    </tr>\n",
       "    <tr>\n",
       "      <th>4</th>\n",
       "      <td>1954400510</td>\n",
       "      <td>20150218T000000</td>\n",
       "      <td>510,000.0000</td>\n",
       "      <td>3</td>\n",
       "      <td>2.0000</td>\n",
       "      <td>1680</td>\n",
       "      <td>8080</td>\n",
       "      <td>1.0000</td>\n",
       "      <td>0</td>\n",
       "      <td>0</td>\n",
       "      <td>...</td>\n",
       "      <td>8</td>\n",
       "      <td>1680</td>\n",
       "      <td>0</td>\n",
       "      <td>1987</td>\n",
       "      <td>0</td>\n",
       "      <td>98074</td>\n",
       "      <td>47.6168</td>\n",
       "      <td>-122.0450</td>\n",
       "      <td>1800</td>\n",
       "      <td>7503</td>\n",
       "    </tr>\n",
       "  </tbody>\n",
       "</table>\n",
       "<p>5 rows × 21 columns</p>\n",
       "</div>"
      ],
      "text/plain": [
       "           id             date        price  bedrooms  bathrooms  sqft_living  \\\n",
       "0  7129300520  20141013T000000 221,900.0000         3     1.0000         1180   \n",
       "1  6414100192  20141209T000000 538,000.0000         3     2.2500         2570   \n",
       "2  5631500400  20150225T000000 180,000.0000         2     1.0000          770   \n",
       "3  2487200875  20141209T000000 604,000.0000         4     3.0000         1960   \n",
       "4  1954400510  20150218T000000 510,000.0000         3     2.0000         1680   \n",
       "\n",
       "   sqft_lot  floors  waterfront  view  ...  grade  sqft_above  sqft_basement  \\\n",
       "0      5650  1.0000           0     0  ...      7        1180              0   \n",
       "1      7242  2.0000           0     0  ...      7        2170            400   \n",
       "2     10000  1.0000           0     0  ...      6         770              0   \n",
       "3      5000  1.0000           0     0  ...      7        1050            910   \n",
       "4      8080  1.0000           0     0  ...      8        1680              0   \n",
       "\n",
       "   yr_built  yr_renovated  zipcode     lat      long  sqft_living15  \\\n",
       "0      1955             0    98178 47.5112 -122.2570           1340   \n",
       "1      1951          1991    98125 47.7210 -122.3190           1690   \n",
       "2      1933             0    98028 47.7379 -122.2330           2720   \n",
       "3      1965             0    98136 47.5208 -122.3930           1360   \n",
       "4      1987             0    98074 47.6168 -122.0450           1800   \n",
       "\n",
       "   sqft_lot15  \n",
       "0        5650  \n",
       "1        7639  \n",
       "2        8062  \n",
       "3        5000  \n",
       "4        7503  \n",
       "\n",
       "[5 rows x 21 columns]"
      ]
     },
     "metadata": {},
     "output_type": "display_data"
    },
    {
     "data": {
      "text/plain": [
       "None"
      ]
     },
     "metadata": {},
     "output_type": "display_data"
    }
   ],
   "source": [
    "## Load in the King's County housing dataset and display the head and info\n",
    "df = pd.read_csv(\"https://docs.google.com/spreadsheets/d/e/2PACX-1vSEZQEzxja7Hmj5tr5nc52QqBvFQdCAGb52e1FRK1PDT2_TQrS6rY_TR9tjZjKaMbCy1m5217sVmI5q/pub?output=csv\")\n",
    "display(df.head(),df.info())"
   ]
  },
  {
   "cell_type": "code",
   "execution_count": 4,
   "metadata": {
    "ExecuteTime": {
     "end_time": "2022-06-23T18:09:27.905914Z",
     "start_time": "2022-06-23T18:09:27.641794Z"
    },
    "colab": {
     "base_uri": "https://localhost:8080/",
     "height": 369
    },
    "id": "sezo7TrTUr27",
    "outputId": "debd7a42-1090-4dff-c924-5191908af054"
   },
   "outputs": [
    {
     "data": {
      "image/png": "[encoded data removed]",
      "text/plain": [
       "<Figure size 720x360 with 1 Axes>"
      ]
     },
     "metadata": {
      "needs_background": "light"
     },
     "output_type": "display_data"
    }
   ],
   "source": [
    "## Visualize the distribution of house prices (using seaborn!)\n",
    "sns.displot(df['price'],aspect=2);"
   ]
  },
  {
   "cell_type": "markdown",
   "metadata": {
    "id": "g2S-u9fKUr27"
   },
   "source": [
    "## ~~🕹Activity:~~ Visualizing Our Features vs Our Target"
   ]
  },
  {
   "cell_type": "markdown",
   "metadata": {
    "id": "nVmm-u8rUr27"
   },
   "source": [
    "- We want to determine how features of a home influence its sale price. \n",
    "- Specifically, we will be using:\n",
    "    - `sqft_living`:Square-Footage of all Living Areas\n",
    "    - `bedrooms`: # of Bedrooms\n",
    "    - `bathrooms`: # of Bathrooms"
   ]
  },
  {
   "cell_type": "code",
   "execution_count": 5,
   "metadata": {
    "ExecuteTime": {
     "end_time": "2022-06-23T18:09:27.990029Z",
     "start_time": "2022-06-23T18:09:27.906920Z"
    },
    "colab": {
     "base_uri": "https://localhost:8080/",
     "height": 481
    },
    "id": "TvCba57lUr28",
    "outputId": "6017298d-12fb-41fc-cfad-679b0c7a78bc"
   },
   "outputs": [
    {
     "data": {
      "image/png": "[encoded data removed]",
      "text/plain": [
       "<Figure size 748.8x514.8 with 1 Axes>"
      ]
     },
     "metadata": {
      "needs_background": "light"
     },
     "output_type": "display_data"
    }
   ],
   "source": [
    "from matplotlib.ticker import StrMethodFormatter\n",
    "## Plot a scatter plot of sqft-living vs price\n",
    "ax = sns.scatterplot(data=df,x='sqft_living',y='price')\n",
    "ax.set_title('Relationship Between Square Footage and Housen Price')\n",
    "\n",
    "## Formatting Price Axis\n",
    "price_fmt = StrMethodFormatter(\"${x:,.0f}\")\n",
    "ax.yaxis.set_major_formatter(price_fmt)"
   ]
  },
  {
   "cell_type": "markdown",
   "metadata": {
    "id": "OIrZ37KQUr28"
   },
   "source": [
    "- We can see a positive relationship between sqft-living and price, but it would be better if we could show the line-of-best-fit with it"
   ]
  },
  {
   "cell_type": "markdown",
   "metadata": {
    "id": "RcXgpoKMUr28"
   },
   "source": [
    "### Functionizing Our Code"
   ]
  },
  {
   "cell_type": "code",
   "execution_count": 6,
   "metadata": {
    "ExecuteTime": {
     "end_time": "2022-06-23T18:09:27.994150Z",
     "start_time": "2022-06-23T18:09:27.991323Z"
    },
    "id": "j89D6W1iUr28"
   },
   "outputs": [],
   "source": [
    "## NOTE: if we had more time, we would write this together.\n",
    "def plot_feature_vs_target(df,x='sqft_living',y='price',price_format=True):\n",
    "    \"\"\"Plots a seaborn regplot of x vs y.\"\"\"\n",
    "    ax = sns.regplot(data=df,x=x,y=y,\n",
    "                line_kws=dict(color='k',ls='--',lw=2),\n",
    "               scatter_kws=dict(s=10,alpha=0.8)\n",
    "                    )\n",
    "    ax.get_figure().set_size_inches(10,6)\n",
    "    ax.set_title(f'{x} vs {y}')\n",
    "    \n",
    "    if price_format:\n",
    "        ## Formatting Price Axis\n",
    "        price_fmt = StrMethodFormatter(\"${x:,.0f}\")\n",
    "        ax.yaxis.set_major_formatter(price_fmt)\n",
    "    return ax"
   ]
  },
  {
   "cell_type": "code",
   "execution_count": 7,
   "metadata": {
    "ExecuteTime": {
     "end_time": "2022-06-23T18:09:29.409525Z",
     "start_time": "2022-06-23T18:09:27.995246Z"
    },
    "colab": {
     "base_uri": "https://localhost:8080/",
     "height": 419
    },
    "id": "nSjqtj75Ur28",
    "outputId": "4098836b-f421-4d1c-eafb-2fb5e6eb0c87"
   },
   "outputs": [
    {
     "data": {
      "image/png": "[encoded data removed]",
      "text/plain": [
       "<Figure size 720x432 with 1 Axes>"
      ]
     },
     "metadata": {
      "needs_background": "light"
     },
     "output_type": "display_data"
    }
   ],
   "source": [
    "## Visualize the relationship between sqft_living and price\n",
    "plot_feature_vs_target(df,x='sqft_living');"
   ]
  },
  {
   "cell_type": "markdown",
   "metadata": {
    "id": "I4g5udB7Ur28"
   },
   "source": [
    "### What Our Trendline Tells Us\n",
    "- Our trendline summarizes the relationship between our feature and our target.\n",
    "- It is comprised of the: \n",
    "    - y-intercept (AKA $c$ or $b$ or $\\beta_{0}$) indicating the default value of y when X=0.\n",
    "    - and a slope (AKA $m$ or $\\beta$) indicating the relationship between X and y. When X increases by 1, y increases by $m$."
   ]
  },
  {
   "cell_type": "code",
   "execution_count": 8,
   "metadata": {
    "ExecuteTime": {
     "end_time": "2022-06-23T18:09:30.771126Z",
     "start_time": "2022-06-23T18:09:29.410468Z"
    },
    "colab": {
     "base_uri": "https://localhost:8080/",
     "height": 419
    },
    "id": "G8cMMdH2Ur29",
    "outputId": "91beb030-ae8b-41fd-a1bd-0aadbe317e54"
   },
   "outputs": [
    {
     "data": {
      "image/png": "[encoded data removed]",
      "text/plain": [
       "<Figure size 720x432 with 1 Axes>"
      ]
     },
     "metadata": {
      "needs_background": "light"
     },
     "output_type": "display_data"
    }
   ],
   "source": [
    "## Visualize the relationship between bathrooms and price\n",
    "plot_feature_vs_target(df,x='bathrooms');"
   ]
  },
  {
   "cell_type": "code",
   "execution_count": 9,
   "metadata": {
    "ExecuteTime": {
     "end_time": "2022-06-23T18:09:32.541970Z",
     "start_time": "2022-06-23T18:09:30.772225Z"
    },
    "colab": {
     "base_uri": "https://localhost:8080/",
     "height": 437
    },
    "id": "ai6fIng1Ur29",
    "outputId": "bab4af57-c4f7-4f97-e8f2-355991317990"
   },
   "outputs": [
    {
     "data": {
      "text/plain": [
       "<AxesSubplot:title={'center':'bedrooms vs price'}, xlabel='bedrooms', ylabel='price'>"
      ]
     },
     "execution_count": 9,
     "metadata": {},
     "output_type": "execute_result"
    },
    {
     "data": {
      "image/png": "[encoded data removed]",
      "text/plain": [
       "<Figure size 720x432 with 1 Axes>"
      ]
     },
     "metadata": {
      "needs_background": "light"
     },
     "output_type": "display_data"
    }
   ],
   "source": [
    "## Visualize the relationship between bedrooms and price\n",
    "plot_feature_vs_target(df,x='bedrooms')"
   ]
  },
  {
   "cell_type": "markdown",
   "metadata": {
    "id": "1l7VMjlkUr29"
   },
   "source": [
    ">- Now, let's create a Linear Regression model with sci-kit learn to determine the effect of these 3 features!"
   ]
  },
  {
   "cell_type": "markdown",
   "metadata": {
    "id": "Eu6XmHXpUr29"
   },
   "source": [
    "## 🕹Activity: Predicting House Price with sci-kit learn's `LinearRegression`"
   ]
  },
  {
   "cell_type": "code",
   "execution_count": 10,
   "metadata": {
    "ExecuteTime": {
     "end_time": "2022-06-23T18:09:32.552117Z",
     "start_time": "2022-06-23T18:09:32.545283Z"
    },
    "colab": {
     "base_uri": "https://localhost:8080/",
     "height": 423
    },
    "id": "K01VKNJ2Ur29",
    "outputId": "f5c4985b-0bf0-4e1b-d7b8-9d0c1d733ff2"
   },
   "outputs": [
    {
     "data": {
      "text/html": [
       "<div>\n",
       "<style scoped>\n",
       "    .dataframe tbody tr th:only-of-type {\n",
       "        vertical-align: middle;\n",
       "    }\n",
       "\n",
       "    .dataframe tbody tr th {\n",
       "        vertical-align: top;\n",
       "    }\n",
       "\n",
       "    .dataframe thead th {\n",
       "        text-align: right;\n",
       "    }\n",
       "</style>\n",
       "<table border=\"1\" class=\"dataframe\">\n",
       "  <thead>\n",
       "    <tr style=\"text-align: right;\">\n",
       "      <th></th>\n",
       "      <th>bedrooms</th>\n",
       "      <th>bathrooms</th>\n",
       "      <th>sqft_living</th>\n",
       "    </tr>\n",
       "  </thead>\n",
       "  <tbody>\n",
       "    <tr>\n",
       "      <th>8306</th>\n",
       "      <td>3</td>\n",
       "      <td>2.5000</td>\n",
       "      <td>2250</td>\n",
       "    </tr>\n",
       "    <tr>\n",
       "      <th>18426</th>\n",
       "      <td>4</td>\n",
       "      <td>2.7500</td>\n",
       "      <td>1590</td>\n",
       "    </tr>\n",
       "    <tr>\n",
       "      <th>11280</th>\n",
       "      <td>4</td>\n",
       "      <td>1.7500</td>\n",
       "      <td>2040</td>\n",
       "    </tr>\n",
       "    <tr>\n",
       "      <th>13891</th>\n",
       "      <td>3</td>\n",
       "      <td>1.0000</td>\n",
       "      <td>1200</td>\n",
       "    </tr>\n",
       "    <tr>\n",
       "      <th>6498</th>\n",
       "      <td>3</td>\n",
       "      <td>2.2500</td>\n",
       "      <td>1570</td>\n",
       "    </tr>\n",
       "    <tr>\n",
       "      <th>...</th>\n",
       "      <td>...</td>\n",
       "      <td>...</td>\n",
       "      <td>...</td>\n",
       "    </tr>\n",
       "    <tr>\n",
       "      <th>11976</th>\n",
       "      <td>3</td>\n",
       "      <td>2.5000</td>\n",
       "      <td>2230</td>\n",
       "    </tr>\n",
       "    <tr>\n",
       "      <th>5929</th>\n",
       "      <td>3</td>\n",
       "      <td>2.2500</td>\n",
       "      <td>3330</td>\n",
       "    </tr>\n",
       "    <tr>\n",
       "      <th>11039</th>\n",
       "      <td>4</td>\n",
       "      <td>1.7500</td>\n",
       "      <td>2350</td>\n",
       "    </tr>\n",
       "    <tr>\n",
       "      <th>4220</th>\n",
       "      <td>4</td>\n",
       "      <td>2.2500</td>\n",
       "      <td>2890</td>\n",
       "    </tr>\n",
       "    <tr>\n",
       "      <th>6682</th>\n",
       "      <td>4</td>\n",
       "      <td>1.7500</td>\n",
       "      <td>2290</td>\n",
       "    </tr>\n",
       "  </tbody>\n",
       "</table>\n",
       "<p>16209 rows × 3 columns</p>\n",
       "</div>"
      ],
      "text/plain": [
       "       bedrooms  bathrooms  sqft_living\n",
       "8306          3     2.5000         2250\n",
       "18426         4     2.7500         1590\n",
       "11280         4     1.7500         2040\n",
       "13891         3     1.0000         1200\n",
       "6498          3     2.2500         1570\n",
       "...         ...        ...          ...\n",
       "11976         3     2.5000         2230\n",
       "5929          3     2.2500         3330\n",
       "11039         4     1.7500         2350\n",
       "4220          4     2.2500         2890\n",
       "6682          4     1.7500         2290\n",
       "\n",
       "[16209 rows x 3 columns]"
      ]
     },
     "execution_count": 10,
     "metadata": {},
     "output_type": "execute_result"
    }
   ],
   "source": [
    "## Create our X & y using bedrooms,bathrooms, sqft-living\n",
    "use_cols = ['bedrooms','bathrooms','sqft_living']\n",
    "X = df[use_cols].copy()\n",
    "y = df['price'].copy()\n",
    "\n",
    "## Train test split (random-state 321, test_size=0.25)\n",
    "X_train,X_test,y_train,y_test = train_test_split(X,y,test_size=0.25,random_state=321)\n",
    "X_train"
   ]
  },
  {
   "cell_type": "code",
   "execution_count": 11,
   "metadata": {
    "ExecuteTime": {
     "end_time": "2022-06-23T18:09:32.607165Z",
     "start_time": "2022-06-23T18:09:32.553472Z"
    },
    "colab": {
     "base_uri": "https://localhost:8080/"
    },
    "id": "Wiw55IU_Ur29",
    "outputId": "a831be30-be39-4dee-e487-74dad6041292"
   },
   "outputs": [
    {
     "data": {
      "text/html": [
       "<style>#sk-container-id-1 {color: black;background-color: white;}#sk-container-id-1 pre{padding: 0;}#sk-container-id-1 div.sk-toggleable {background-color: white;}#sk-container-id-1 label.sk-toggleable__label {cursor: pointer;display: block;width: 100%;margin-bottom: 0;padding: 0.3em;box-sizing: border-box;text-align: center;}#sk-container-id-1 label.sk-toggleable__label-arrow:before {content: \"▸\";float: left;margin-right: 0.25em;color: #696969;}#sk-container-id-1 label.sk-toggleable__label-arrow:hover:before {color: black;}#sk-container-id-1 div.sk-estimator:hover label.sk-toggleable__label-arrow:before {color: black;}#sk-container-id-1 div.sk-toggleable__content {max-height: 0;max-width: 0;overflow: hidden;text-align: left;background-color: #f0f8ff;}#sk-container-id-1 div.sk-toggleable__content pre {margin: 0.2em;color: black;border-radius: 0.25em;background-color: #f0f8ff;}#sk-container-id-1 input.sk-toggleable__control:checked~div.sk-toggleable__content {max-height: 200px;max-width: 100%;overflow: auto;}#sk-container-id-1 input.sk-toggleable__control:checked~label.sk-toggleable__label-arrow:before {content: \"▾\";}#sk-container-id-1 div.sk-estimator input.sk-toggleable__control:checked~label.sk-toggleable__label {background-color: #d4ebff;}#sk-container-id-1 div.sk-label input.sk-toggleable__control:checked~label.sk-toggleable__label {background-color: #d4ebff;}#sk-container-id-1 input.sk-hidden--visually {border: 0;clip: rect(1px 1px 1px 1px);clip: rect(1px, 1px, 1px, 1px);height: 1px;margin: -1px;overflow: hidden;padding: 0;position: absolute;width: 1px;}#sk-container-id-1 div.sk-estimator {font-family: monospace;background-color: #f0f8ff;border: 1px dotted black;border-radius: 0.25em;box-sizing: border-box;margin-bottom: 0.5em;}#sk-container-id-1 div.sk-estimator:hover {background-color: #d4ebff;}#sk-container-id-1 div.sk-parallel-item::after {content: \"\";width: 100%;border-bottom: 1px solid gray;flex-grow: 1;}#sk-container-id-1 div.sk-label:hover label.sk-toggleable__label {background-color: #d4ebff;}#sk-container-id-1 div.sk-serial::before {content: \"\";position: absolute;border-left: 1px solid gray;box-sizing: border-box;top: 0;bottom: 0;left: 50%;z-index: 0;}#sk-container-id-1 div.sk-serial {display: flex;flex-direction: column;align-items: center;background-color: white;padding-right: 0.2em;padding-left: 0.2em;position: relative;}#sk-container-id-1 div.sk-item {position: relative;z-index: 1;}#sk-container-id-1 div.sk-parallel {display: flex;align-items: stretch;justify-content: center;background-color: white;position: relative;}#sk-container-id-1 div.sk-item::before, #sk-container-id-1 div.sk-parallel-item::before {content: \"\";position: absolute;border-left: 1px solid gray;box-sizing: border-box;top: 0;bottom: 0;left: 50%;z-index: -1;}#sk-container-id-1 div.sk-parallel-item {display: flex;flex-direction: column;z-index: 1;position: relative;background-color: white;}#sk-container-id-1 div.sk-parallel-item:first-child::after {align-self: flex-end;width: 50%;}#sk-container-id-1 div.sk-parallel-item:last-child::after {align-self: flex-start;width: 50%;}#sk-container-id-1 div.sk-parallel-item:only-child::after {width: 0;}#sk-container-id-1 div.sk-dashed-wrapped {border: 1px dashed gray;margin: 0 0.4em 0.5em 0.4em;box-sizing: border-box;padding-bottom: 0.4em;background-color: white;}#sk-container-id-1 div.sk-label label {font-family: monospace;font-weight: bold;display: inline-block;line-height: 1.2em;}#sk-container-id-1 div.sk-label-container {text-align: center;}#sk-container-id-1 div.sk-container {/* jupyter's `normalize.less` sets `[hidden] { display: none; }` but bootstrap.min.css set `[hidden] { display: none !important; }` so we also need the `!important` here to be able to override the default hidden behavior on the sphinx rendered scikit-learn.org. See: https://github.com/scikit-learn/scikit-learn/issues/21755 */display: inline-block !important;position: relative;}#sk-container-id-1 div.sk-text-repr-fallback {display: none;}</style><div id=\"sk-container-id-1\" class=\"sk-top-container\"><div class=\"sk-text-repr-fallback\"><pre>LinearRegression()</pre><b>In a Jupyter environment, please rerun this cell to show the HTML representation or trust the notebook. <br />On GitHub, the HTML representation is unable to render, please try loading this page with nbviewer.org.</b></div><div class=\"sk-container\" hidden><div class=\"sk-item\"><div class=\"sk-estimator sk-toggleable\"><input class=\"sk-toggleable__control sk-hidden--visually\" id=\"sk-estimator-id-1\" type=\"checkbox\" checked><label for=\"sk-estimator-id-1\" class=\"sk-toggleable__label sk-toggleable__label-arrow\">LinearRegression</label><div class=\"sk-toggleable__content\"><pre>LinearRegression()</pre></div></div></div></div></div>"
      ],
      "text/plain": [
       "LinearRegression()"
      ]
     },
     "execution_count": 11,
     "metadata": {},
     "output_type": "execute_result"
    }
   ],
   "source": [
    "## import LinearRegression from sklearn and fit the model\n",
    "from sklearn.linear_model import LinearRegression\n",
    "linreg = LinearRegression()\n",
    "linreg.fit(X_train,y_train)"
   ]
  },
  {
   "cell_type": "code",
   "execution_count": 12,
   "metadata": {
    "ExecuteTime": {
     "end_time": "2022-06-23T18:09:32.612409Z",
     "start_time": "2022-06-23T18:09:32.608217Z"
    },
    "colab": {
     "base_uri": "https://localhost:8080/"
    },
    "id": "AgmxqsN5Ur29",
    "outputId": "c47493ce-3145-4daa-f6a3-e7722fbc6544"
   },
   "outputs": [
    {
     "name": "stdout",
     "output_type": "stream",
     "text": [
      "Training R-Squared: 0.503\n",
      "Test R-Squared: 0.520\n"
     ]
    }
   ],
   "source": [
    "## Get our models' R-squared value for the train and test data\n",
    "print(f\"Training R-Squared: {linreg.score(X_train,y_train):.3f}\")\n",
    "print(f\"Test R-Squared: {linreg.score(X_test,y_test):.3f}\")"
   ]
  },
  {
   "cell_type": "markdown",
   "metadata": {
    "id": "RlZwL_fHUr29"
   },
   "source": [
    ">- Ok, so what does this tell us?\n",
    "    - Our model can explain 52% of the variance of house price using just 3 features!"
   ]
  },
  {
   "cell_type": "markdown",
   "metadata": {
    "id": "-R8cvyTsUr29"
   },
   "source": [
    "### What Coefficients Did Our Model Find? "
   ]
  },
  {
   "cell_type": "code",
   "execution_count": 13,
   "metadata": {
    "ExecuteTime": {
     "end_time": "2022-06-23T18:09:32.615917Z",
     "start_time": "2022-06-23T18:09:32.613594Z"
    },
    "colab": {
     "base_uri": "https://localhost:8080/"
    },
    "id": "tMHelWAG9CbO",
    "outputId": "c49d0b90-6afb-42ec-d294-8ef8bdb7e63b"
   },
   "outputs": [
    {
     "data": {
      "text/plain": [
       "array([-56388.96269135,   8191.34184844,    308.76267689])"
      ]
     },
     "execution_count": 13,
     "metadata": {},
     "output_type": "execute_result"
    }
   ],
   "source": [
    "linreg.coef_"
   ]
  },
  {
   "cell_type": "code",
   "execution_count": 14,
   "metadata": {
    "ExecuteTime": {
     "end_time": "2022-06-23T18:09:32.619160Z",
     "start_time": "2022-06-23T18:09:32.616973Z"
    },
    "colab": {
     "base_uri": "https://localhost:8080/"
    },
    "id": "JjMcSEdi9QKB",
    "outputId": "804e9d0a-df5b-4144-8f1e-0f97239d1625"
   },
   "outputs": [
    {
     "data": {
      "text/plain": [
       "72396.54784565984"
      ]
     },
     "execution_count": 14,
     "metadata": {},
     "output_type": "execute_result"
    }
   ],
   "source": [
    "linreg.intercept_"
   ]
  },
  {
   "cell_type": "code",
   "execution_count": 15,
   "metadata": {
    "ExecuteTime": {
     "end_time": "2022-06-23T18:09:32.622226Z",
     "start_time": "2022-06-23T18:09:32.620140Z"
    },
    "id": "ejwWiXcFUr29"
   },
   "outputs": [],
   "source": [
    "## NOTE: with more time, we would code this together. \n",
    "def get_coeffs(reg,X_train):\n",
    "    \"\"\"Extracts the coefficients from a scikit-learn LinearRegression or LogisticRegression\"\"\"\n",
    "    coeffs = pd.Series(reg.coef_.flatten(),index=X_train.columns)\n",
    "    \n",
    "    if isinstance(reg.intercept_,np.ndarray):\n",
    "        coeffs.loc['intercept'] = reg.intercept_[0]\n",
    "    else:\n",
    "        coeffs.loc['intercept'] = reg.intercept_\n",
    "\n",
    "    return coeffs"
   ]
  },
  {
   "cell_type": "markdown",
   "metadata": {
    "id": "73uUw32cUr2-"
   },
   "source": [
    "- Linear Regression Equation\n",
    "$$ \\large \\hat y = \\beta_0 + \\beta_1 x_1 + \\beta_2 x_2 + \\ldots + \\beta_n x_n  $$\n",
    "which we can simplify to:\n",
    "$$ \\hat y =  \\sum_{i=0}^{N} \\beta_i x_i  $$"
   ]
  },
  {
   "cell_type": "code",
   "execution_count": 16,
   "metadata": {
    "ExecuteTime": {
     "end_time": "2022-06-23T18:09:32.626710Z",
     "start_time": "2022-06-23T18:09:32.623439Z"
    },
    "colab": {
     "base_uri": "https://localhost:8080/"
    },
    "id": "gnkU9GzjUr2-",
    "outputId": "91cb12e4-eab3-46c6-d396-da85336738a4"
   },
   "outputs": [
    {
     "data": {
      "text/plain": [
       "bedrooms      -56,388.9627\n",
       "bathrooms       8,191.3418\n",
       "sqft_living       308.7627\n",
       "intercept      72,396.5478\n",
       "dtype: float64"
      ]
     },
     "execution_count": 16,
     "metadata": {},
     "output_type": "execute_result"
    }
   ],
   "source": [
    "## Get the coefficents from the model using our new function\n",
    "coeffs = get_coeffs(linreg,X_train)\n",
    "coeffs"
   ]
  },
  {
   "cell_type": "markdown",
   "metadata": {
    "id": "A964L7FkUr2-"
   },
   "source": [
    ">- **Each coefficient tells us the effect of increasing the values in that column by 1 unit.** \n",
    ">- According to our model, we can determine a home's price using the following results:\n",
    "    - The model assumed a default/starting house price was \\$72,570.76 (the intercept)\n",
    "    - For each additional bedrooms, subtract      \\$56,340.077\n",
    "    - For each batrhoom, add \\$8,206.82\n",
    "    - For each square foot of living space, add \\$308.54"
   ]
  },
  {
   "cell_type": "code",
   "execution_count": 17,
   "metadata": {
    "ExecuteTime": {
     "end_time": "2022-06-23T18:09:32.630237Z",
     "start_time": "2022-06-23T18:09:32.627530Z"
    },
    "colab": {
     "base_uri": "https://localhost:8080/"
    },
    "id": "JYiA4-MoUr2-",
    "outputId": "b9ac5a8a-28d8-480f-818a-e8de77200ac7",
    "scrolled": true
   },
   "outputs": [
    {
     "data": {
      "text/plain": [
       "bedrooms          4.0000\n",
       "bathrooms         1.7500\n",
       "sqft_living   1,320.0000\n",
       "Name: 18586, dtype: float64"
      ]
     },
     "execution_count": 17,
     "metadata": {},
     "output_type": "execute_result"
    }
   ],
   "source": [
    "## Let's select an example house and see how we calculate price\n",
    "i = 300\n",
    "house = X_test.iloc[i]\n",
    "house"
   ]
  },
  {
   "cell_type": "code",
   "execution_count": 18,
   "metadata": {
    "ExecuteTime": {
     "end_time": "2022-06-23T18:09:32.633507Z",
     "start_time": "2022-06-23T18:09:32.631390Z"
    },
    "colab": {
     "base_uri": "https://localhost:8080/"
    },
    "id": "9uLzbDdWUr2-",
    "outputId": "1112010e-cc44-4980-ed61-23ecde11b82d"
   },
   "outputs": [
    {
     "name": "stdout",
     "output_type": "stream",
     "text": [
      "$268,742.28\n"
     ]
    }
   ],
   "source": [
    "## Calculate the home's predicted price using our coefficients\n",
    "price = house['bedrooms']*coeffs['bedrooms'] + \\\n",
    "        house['bathrooms']*coeffs['bathrooms'] + \\\n",
    "        house['sqft_living']*coeffs['sqft_living'] + coeffs['intercept']\n",
    "\n",
    "print(f\"${price:,.2f}\")"
   ]
  },
  {
   "cell_type": "code",
   "execution_count": 19,
   "metadata": {
    "ExecuteTime": {
     "end_time": "2022-06-23T18:09:32.637979Z",
     "start_time": "2022-06-23T18:09:32.634768Z"
    },
    "colab": {
     "base_uri": "https://localhost:8080/"
    },
    "id": "PdmOd_zYUr2-",
    "outputId": "48025653-9476-4c57-f38e-c5962262befe"
   },
   "outputs": [
    {
     "name": "stderr",
     "output_type": "stream",
     "text": [
      "/opt/homebrew/Caskroom/miniforge/base/envs/dojo-env/lib/python3.8/site-packages/sklearn/base.py:450: UserWarning: X does not have valid feature names, but LinearRegression was fitted with feature names\n",
      "  warnings.warn(\n"
     ]
    },
    {
     "data": {
      "text/plain": [
       "array([268742.27880413])"
      ]
     },
     "execution_count": 19,
     "metadata": {},
     "output_type": "execute_result"
    }
   ],
   "source": [
    "## What would our model predict for our test house?\n",
    "linreg.predict(house.values.reshape(1,-1))"
   ]
  },
  {
   "cell_type": "markdown",
   "metadata": {
    "id": "zRAieYgvUr2-"
   },
   "source": [
    "## Linear Regression Summary\n",
    "- Linear regression allowed us to predict the exact dollar price of a given home.\n",
    "- It summarizes the relationship of each feature using coefficients, which are used to calculate the target. \n",
    "\n",
    ">-  But what do we do when we want to predict what group a house belongs to instead of an exact price?"
   ]
  },
  {
   "cell_type": "markdown",
   "metadata": {
    "id": "tg5K24OkUr2-"
   },
   "source": [
    "# Predicting the Probability of a Being an Expensive Home Logistic Regression"
   ]
  },
  {
   "cell_type": "markdown",
   "metadata": {
    "id": "EWn6DVhSUr2-"
   },
   "source": [
    "## 🕹Activity: Converting Our Task to A Classifcation Task"
   ]
  },
  {
   "cell_type": "code",
   "execution_count": 20,
   "metadata": {
    "ExecuteTime": {
     "end_time": "2022-06-23T18:09:32.887673Z",
     "start_time": "2022-06-23T18:09:32.639365Z"
    },
    "colab": {
     "base_uri": "https://localhost:8080/",
     "height": 369
    },
    "id": "ke1MsyvHUr2-",
    "outputId": "d28cd4d2-b738-429a-b883-c5ed14096836"
   },
   "outputs": [
    {
     "data": {
      "image/png": "[encoded data removed]",
      "text/plain": [
       "<Figure size 720x360 with 1 Axes>"
      ]
     },
     "metadata": {
      "needs_background": "light"
     },
     "output_type": "display_data"
    }
   ],
   "source": [
    "## Plot the distribution of house price again. \n",
    "g = sns.displot(df['price'],aspect=2)"
   ]
  },
  {
   "cell_type": "markdown",
   "metadata": {
    "id": "xk21hSuNUr2-"
   },
   "source": [
    "- Let's create a new \"Expensive Home\" categorical target column (1=Expensive Home, 0= Not-Expensive Home)\n",
    "    - First, we need to determine what we consider expensive!\n",
    "        - For today, we will define the top 10% most expensive homes as the \"Expensive Home\" category. "
   ]
  },
  {
   "cell_type": "code",
   "execution_count": 21,
   "metadata": {
    "ExecuteTime": {
     "end_time": "2022-06-23T18:09:33.190665Z",
     "start_time": "2022-06-23T18:09:32.888747Z"
    },
    "colab": {
     "base_uri": "https://localhost:8080/",
     "height": 387
    },
    "id": "ZzIoetfSUr2-",
    "outputId": "c07bb342-54bf-4e0c-ae43-10f5ef691906",
    "scrolled": false
   },
   "outputs": [
    {
     "data": {
      "text/plain": [
       "<matplotlib.legend.Legend at 0x161d3fd60>"
      ]
     },
     "execution_count": 21,
     "metadata": {},
     "output_type": "execute_result"
    },
    {
     "data": {
      "image/png": "[encoded data removed]",
      "text/plain": [
       "<Figure size 720x360 with 1 Axes>"
      ]
     },
     "metadata": {
      "needs_background": "light"
     },
     "output_type": "display_data"
    }
   ],
   "source": [
    "## Test out using different quantiles as our cutoff\n",
    "cutoff = df['price'].quantile(q=0.90)\n",
    "\n",
    "## Plot the distrubtion again and add the cutoff as a vertical line\n",
    "g = sns.displot(df['price'],aspect=2)\n",
    "g.ax.axvline(cutoff,color='black',label='cutoff',ls='--')\n",
    "g.ax.legend()"
   ]
  },
  {
   "cell_type": "code",
   "execution_count": 22,
   "metadata": {
    "ExecuteTime": {
     "end_time": "2022-06-23T18:09:33.195590Z",
     "start_time": "2022-06-23T18:09:33.191664Z"
    },
    "colab": {
     "base_uri": "https://localhost:8080/"
    },
    "id": "_njZfuPKUr2-",
    "outputId": "0ceac4a0-d94d-4ba5-a7ad-6f0e789cd7fa"
   },
   "outputs": [
    {
     "data": {
      "text/plain": [
       "0   0.8999\n",
       "1   0.1001\n",
       "Name: Expensive Home, dtype: float64"
      ]
     },
     "execution_count": 22,
     "metadata": {},
     "output_type": "execute_result"
    }
   ],
   "source": [
    "## Use our cutoff to create the Expensive Home column (as a 0 or 1)\n",
    "df['Expensive Home'] = (df['price'] >= cutoff).astype(int)\n",
    "\n",
    "## Visualize how many houses in each group\n",
    "# sns.countplot(data=df, x='Expensive Home');\n",
    "df['Expensive Home'].value_counts(normalize=True)"
   ]
  },
  {
   "cell_type": "markdown",
   "metadata": {
    "id": "n02Xb0GHUr2-"
   },
   "source": [
    ">- While our classes are imbalanced, diving into various methods to deal with imbalanced classes is beyond the score of today's lesson."
   ]
  },
  {
   "cell_type": "markdown",
   "metadata": {
    "id": "3HDIS2PFUr2-"
   },
   "source": [
    "### Visualizing Our Features vs our New Binary Taget\n",
    "<!-- Predicting \"Expensive Homes\" -->\n",
    "- We want to determine how features of a home influence the chance the home belongs to the Epensive Home category. \n",
    "- Let's visualize our features again, but now vs our new target. "
   ]
  },
  {
   "cell_type": "code",
   "execution_count": 23,
   "metadata": {
    "ExecuteTime": {
     "end_time": "2022-06-23T18:09:34.846830Z",
     "start_time": "2022-06-23T18:09:33.196428Z"
    },
    "colab": {
     "base_uri": "https://localhost:8080/",
     "height": 419
    },
    "id": "_rSHpa2EUr2-",
    "outputId": "376500a0-2a1c-4aeb-f0ce-d6cf1439623a"
   },
   "outputs": [
    {
     "data": {
      "image/png": "[encoded data removed]",
      "text/plain": [
       "<Figure size 720x432 with 1 Axes>"
      ]
     },
     "metadata": {
      "needs_background": "light"
     },
     "output_type": "display_data"
    }
   ],
   "source": [
    "## Visualize the relationship between sqft_living and Expensive Home\n",
    "ax = plot_feature_vs_target(df,x='sqft_living',y='Expensive Home',\n",
    "                            price_format=False)\n",
    "ax.set_ylim(-.1,1.1);"
   ]
  },
  {
   "cell_type": "code",
   "execution_count": 24,
   "metadata": {
    "ExecuteTime": {
     "end_time": "2022-06-23T18:09:36.931742Z",
     "start_time": "2022-06-23T18:09:34.847728Z"
    },
    "colab": {
     "base_uri": "https://localhost:8080/",
     "height": 419
    },
    "id": "HGVYuS85Ur2_",
    "outputId": "400ec628-cb8c-41c2-dae5-0b582f62c5e1"
   },
   "outputs": [
    {
     "data": {
      "image/png": "[encoded data removed]",
      "text/plain": [
       "<Figure size 720x432 with 1 Axes>"
      ]
     },
     "metadata": {
      "needs_background": "light"
     },
     "output_type": "display_data"
    }
   ],
   "source": [
    "## Visualize the relationship between bathrooms and Expensive Home\n",
    "ax = plot_feature_vs_target(df,x='bathrooms',y='Expensive Home',\n",
    "                           price_format=False)\n",
    "ax.set_ylim(-.1,1.1);"
   ]
  },
  {
   "cell_type": "code",
   "execution_count": 25,
   "metadata": {
    "ExecuteTime": {
     "end_time": "2022-06-23T18:09:38.693346Z",
     "start_time": "2022-06-23T18:09:36.933457Z"
    },
    "colab": {
     "base_uri": "https://localhost:8080/",
     "height": 419
    },
    "id": "qvc8gUSzUr2_",
    "outputId": "c9c1fda8-500b-4154-f396-96a8c7217304"
   },
   "outputs": [
    {
     "data": {
      "image/png": "[encoded data removed]",
      "text/plain": [
       "<Figure size 720x432 with 1 Axes>"
      ]
     },
     "metadata": {
      "needs_background": "light"
     },
     "output_type": "display_data"
    }
   ],
   "source": [
    "## Visualize the relationship between bedrooms and Expensive Home\n",
    "ax = plot_feature_vs_target(df,x='bedrooms',y='Expensive Home',\n",
    "                            price_format=False)\n",
    "ax.set_ylim(-.1,1.1);"
   ]
  },
  {
   "cell_type": "markdown",
   "metadata": {
    "id": "iBHTnLWYUr2_"
   },
   "source": [
    "### When lines aren't enough...."
   ]
  },
  {
   "cell_type": "markdown",
   "metadata": {
    "id": "XBqk4_V9Ur2_"
   },
   "source": [
    ">- Hmmm... this doesn't look like it will work. Our trend lines are just not appropriate for predicting which group a house belongs to.\n",
    "\n",
    "- ***How can use a linear regression equation to calculate the probability of being in the Expensive Home group?***\n",
    "\n",
    "- Transform Linear Regression Equation into a Sigmoid Curve!"
   ]
  },
  {
   "cell_type": "markdown",
   "metadata": {
    "id": "177166rlUr2_"
   },
   "source": [
    "### Converting Our Linear Equation to A Sigmoid Curve\n",
    "- Remember our linear regression equation can be summarized as:\n",
    "$$ \\hat y = \\sum_{i=0}^{N} \\beta_i x_i $$\n",
    "\n",
    "- By taking this equation and moving it to the denominator, we can restrict our output to values between 0 and 1.\n",
    "$$\\large \\text{Prob} = \\displaystyle \\frac{1}{1+e^{-\\hat y}} = \\frac{1}{1+e^{-\\sum_{i=0}^{N} \\beta_i x_i}} $$\n",
    "\n",
    "$$ \\large = \\frac{1}{1+e^{-\\beta_0}e^{-\\beta_1 x_1}\\ldots e^{-\\beta_N x_N}} $$\n",
    "\n",
    ">- **Visual Example of Converting Linear Equation to a Sigmoid Curve** [Desmos Example](https://www.desmos.com/calculator/vk1afglgyc)"
   ]
  },
  {
   "cell_type": "markdown",
   "metadata": {
    "id": "0Mt4ZMpWUr2_"
   },
   "source": [
    "## 🕹Activity: Predicting if a House Belongs to the \"Expensive Home\" class. "
   ]
  },
  {
   "cell_type": "code",
   "execution_count": 26,
   "metadata": {
    "ExecuteTime": {
     "end_time": "2022-06-23T18:09:38.701766Z",
     "start_time": "2022-06-23T18:09:38.694454Z"
    },
    "colab": {
     "base_uri": "https://localhost:8080/",
     "height": 423
    },
    "id": "3V1ZciZ5Ur2_",
    "outputId": "4e1bc253-3b8e-4f70-8d8f-bef86a02c8d9"
   },
   "outputs": [
    {
     "data": {
      "text/html": [
       "<div>\n",
       "<style scoped>\n",
       "    .dataframe tbody tr th:only-of-type {\n",
       "        vertical-align: middle;\n",
       "    }\n",
       "\n",
       "    .dataframe tbody tr th {\n",
       "        vertical-align: top;\n",
       "    }\n",
       "\n",
       "    .dataframe thead th {\n",
       "        text-align: right;\n",
       "    }\n",
       "</style>\n",
       "<table border=\"1\" class=\"dataframe\">\n",
       "  <thead>\n",
       "    <tr style=\"text-align: right;\">\n",
       "      <th></th>\n",
       "      <th>bedrooms</th>\n",
       "      <th>bathrooms</th>\n",
       "      <th>sqft_living</th>\n",
       "    </tr>\n",
       "  </thead>\n",
       "  <tbody>\n",
       "    <tr>\n",
       "      <th>8306</th>\n",
       "      <td>3</td>\n",
       "      <td>2.5000</td>\n",
       "      <td>2250</td>\n",
       "    </tr>\n",
       "    <tr>\n",
       "      <th>18426</th>\n",
       "      <td>4</td>\n",
       "      <td>2.7500</td>\n",
       "      <td>1590</td>\n",
       "    </tr>\n",
       "    <tr>\n",
       "      <th>11280</th>\n",
       "      <td>4</td>\n",
       "      <td>1.7500</td>\n",
       "      <td>2040</td>\n",
       "    </tr>\n",
       "    <tr>\n",
       "      <th>13891</th>\n",
       "      <td>3</td>\n",
       "      <td>1.0000</td>\n",
       "      <td>1200</td>\n",
       "    </tr>\n",
       "    <tr>\n",
       "      <th>6498</th>\n",
       "      <td>3</td>\n",
       "      <td>2.2500</td>\n",
       "      <td>1570</td>\n",
       "    </tr>\n",
       "    <tr>\n",
       "      <th>...</th>\n",
       "      <td>...</td>\n",
       "      <td>...</td>\n",
       "      <td>...</td>\n",
       "    </tr>\n",
       "    <tr>\n",
       "      <th>11976</th>\n",
       "      <td>3</td>\n",
       "      <td>2.5000</td>\n",
       "      <td>2230</td>\n",
       "    </tr>\n",
       "    <tr>\n",
       "      <th>5929</th>\n",
       "      <td>3</td>\n",
       "      <td>2.2500</td>\n",
       "      <td>3330</td>\n",
       "    </tr>\n",
       "    <tr>\n",
       "      <th>11039</th>\n",
       "      <td>4</td>\n",
       "      <td>1.7500</td>\n",
       "      <td>2350</td>\n",
       "    </tr>\n",
       "    <tr>\n",
       "      <th>4220</th>\n",
       "      <td>4</td>\n",
       "      <td>2.2500</td>\n",
       "      <td>2890</td>\n",
       "    </tr>\n",
       "    <tr>\n",
       "      <th>6682</th>\n",
       "      <td>4</td>\n",
       "      <td>1.7500</td>\n",
       "      <td>2290</td>\n",
       "    </tr>\n",
       "  </tbody>\n",
       "</table>\n",
       "<p>16209 rows × 3 columns</p>\n",
       "</div>"
      ],
      "text/plain": [
       "       bedrooms  bathrooms  sqft_living\n",
       "8306          3     2.5000         2250\n",
       "18426         4     2.7500         1590\n",
       "11280         4     1.7500         2040\n",
       "13891         3     1.0000         1200\n",
       "6498          3     2.2500         1570\n",
       "...         ...        ...          ...\n",
       "11976         3     2.5000         2230\n",
       "5929          3     2.2500         3330\n",
       "11039         4     1.7500         2350\n",
       "4220          4     2.2500         2890\n",
       "6682          4     1.7500         2290\n",
       "\n",
       "[16209 rows x 3 columns]"
      ]
     },
     "execution_count": 26,
     "metadata": {},
     "output_type": "execute_result"
    }
   ],
   "source": [
    "## Create X & y and train test split, just like before (except new target)\n",
    "use_cols = ['bedrooms','bathrooms','sqft_living']\n",
    "X_train,X_test,y_train,y_test = train_test_split(df[use_cols],\n",
    "                                                 df['Expensive Home'],\n",
    "                                                random_state=321)\n",
    "X_train"
   ]
  },
  {
   "cell_type": "code",
   "execution_count": 27,
   "metadata": {
    "ExecuteTime": {
     "end_time": "2022-06-23T18:09:38.769878Z",
     "start_time": "2022-06-23T18:09:38.703053Z"
    },
    "colab": {
     "base_uri": "https://localhost:8080/"
    },
    "id": "41R3xZdQUr2_",
    "outputId": "46f45410-138e-426d-dc29-d5a56e2dff45"
   },
   "outputs": [
    {
     "data": {
      "text/plain": [
       "0.8373427091043671"
      ]
     },
     "execution_count": 27,
     "metadata": {},
     "output_type": "execute_result"
    }
   ],
   "source": [
    "## Import LogisticRegression \n",
    "\n",
    "from sklearn.linear_model import LogisticRegression\n",
    "\n",
    "# Initialize and fit model (use class_weight='balanced',will explain in-depth next class!)\n",
    "logreg = LogisticRegression(class_weight='balanced')\n",
    "\n",
    "logreg.fit(X_train,y_train)\n",
    "logreg.score(X_test,y_test)"
   ]
  },
  {
   "cell_type": "code",
   "execution_count": 28,
   "metadata": {
    "ExecuteTime": {
     "end_time": "2022-06-23T18:09:38.778734Z",
     "start_time": "2022-06-23T18:09:38.775650Z"
    },
    "colab": {
     "base_uri": "https://localhost:8080/"
    },
    "id": "kQsq3ro-Ur2_",
    "outputId": "4ff62388-fe3f-4280-8f2f-d3756b8fb265"
   },
   "outputs": [
    {
     "data": {
      "text/plain": [
       "bedrooms      -0.1826\n",
       "bathrooms      0.1436\n",
       "sqft_living    0.0022\n",
       "intercept     -5.5532\n",
       "dtype: float64"
      ]
     },
     "execution_count": 28,
     "metadata": {},
     "output_type": "execute_result"
    }
   ],
   "source": [
    "# Get the coefficents the model determined\n",
    "logreg_coeffs = get_coeffs(logreg,X_train)\n",
    "logreg_coeffs"
   ]
  },
  {
   "cell_type": "code",
   "execution_count": 29,
   "metadata": {
    "ExecuteTime": {
     "end_time": "2022-06-23T18:09:38.782704Z",
     "start_time": "2022-06-23T18:09:38.779988Z"
    },
    "colab": {
     "base_uri": "https://localhost:8080/"
    },
    "id": "MCgm5vzvUr2_",
    "outputId": "2d236793-784f-4387-c450-44f788faf091",
    "scrolled": true
   },
   "outputs": [
    {
     "data": {
      "text/plain": [
       "bedrooms          4.0000\n",
       "bathrooms         1.7500\n",
       "sqft_living   1,320.0000\n",
       "Name: 18586, dtype: float64"
      ]
     },
     "execution_count": 29,
     "metadata": {},
     "output_type": "execute_result"
    }
   ],
   "source": [
    "## Let's select an example house\n",
    "i = 300\n",
    "house = X_test.iloc[i]\n",
    "house"
   ]
  },
  {
   "cell_type": "code",
   "execution_count": 30,
   "metadata": {
    "ExecuteTime": {
     "end_time": "2022-06-23T18:09:38.786475Z",
     "start_time": "2022-06-23T18:09:38.783880Z"
    },
    "colab": {
     "base_uri": "https://localhost:8080/"
    },
    "id": "_j35o0mnUr2_",
    "outputId": "bd8cca12-e3aa-404a-ca53-ab11e4e7243a"
   },
   "outputs": [
    {
     "data": {
      "text/plain": [
       "-3.077093049139542"
      ]
     },
     "execution_count": 30,
     "metadata": {},
     "output_type": "execute_result"
    }
   ],
   "source": [
    "## calculate the home's probability of being an Expensive Home \n",
    "expensive = house['bedrooms']*logreg_coeffs['bedrooms'] + \\\n",
    "        house['bathrooms']*logreg_coeffs['bathrooms'] + \\\n",
    "        house['sqft_living']*logreg_coeffs['sqft_living'] + logreg_coeffs['intercept']\n",
    "\n",
    "expensive"
   ]
  },
  {
   "cell_type": "markdown",
   "metadata": {
    "id": "Gc2fZ8a1Ur2_"
   },
   "source": [
    "- ***Hmmm...this doesn't seem right. I thought probabilities were always between 0 and 1? What gives?***"
   ]
  },
  {
   "cell_type": "markdown",
   "metadata": {
    "id": "Ni14OUBXUr2_"
   },
   "source": [
    ">\"...logistic regression coefficients represent the **log odds** that an observation is in the target \\class (“1”) given the values of its X variables. Thus, these log odd coefficients need to be converted to regular odds in order to make sense of them. Happily, this is done by simply exponentiating the log odds coefficients, which you can do with np.exp()\"<br>- Source: [Medium Blog Post on Interpreting Linear Regression and Logistic Regression Coefficients](https://towardsdatascience.com/interpreting-coefficients-in-linear-and-logistic-regression-6ddf1295f6f1)"
   ]
  },
  {
   "cell_type": "code",
   "execution_count": 31,
   "metadata": {
    "ExecuteTime": {
     "end_time": "2022-06-23T18:09:38.789645Z",
     "start_time": "2022-06-23T18:09:38.787435Z"
    },
    "colab": {
     "base_uri": "https://localhost:8080/"
    },
    "id": "xIk2c7sQUr2_",
    "outputId": "2d34b89e-9cdd-4cd0-f554-895986db34ea"
   },
   "outputs": [
    {
     "data": {
      "text/plain": [
       "0.046093052324214207"
      ]
     },
     "execution_count": 31,
     "metadata": {},
     "output_type": "execute_result"
    }
   ],
   "source": [
    "## Convert log-odds to odds\n",
    "np.exp(expensive)"
   ]
  },
  {
   "cell_type": "markdown",
   "metadata": {
    "id": "8l2VTDpNUr2_"
   },
   "source": [
    ">- **Odds are how much more likely to fall into 1 class than 0 class.**\n",
    "    - A value of 1 means both classes are equally like. \n",
    "    - A value > 1 means that the 1 class is more likely than the 0 class.\n",
    "    - A value < 1 means that the 1 class is less likely than the 0 class.\n",
    "    \n",
    "    \n",
    "- Therefore, our calculated 0.046 means that we are much less likely to be an Expensive Home than an Non-Expensive Home."
   ]
  },
  {
   "cell_type": "code",
   "execution_count": 32,
   "metadata": {
    "ExecuteTime": {
     "end_time": "2022-06-23T18:09:38.793609Z",
     "start_time": "2022-06-23T18:09:38.790552Z"
    },
    "colab": {
     "base_uri": "https://localhost:8080/"
    },
    "id": "5q7AujlXUr2_",
    "outputId": "2e374f80-2ffb-4c8e-d25d-d19132963166"
   },
   "outputs": [
    {
     "name": "stderr",
     "output_type": "stream",
     "text": [
      "/opt/homebrew/Caskroom/miniforge/base/envs/dojo-env/lib/python3.8/site-packages/sklearn/base.py:450: UserWarning: X does not have valid feature names, but LogisticRegression was fitted with feature names\n",
      "  warnings.warn(\n"
     ]
    },
    {
     "data": {
      "text/plain": [
       "array([0])"
      ]
     },
     "execution_count": 32,
     "metadata": {},
     "output_type": "execute_result"
    }
   ],
   "source": [
    "## Let's check what our model would predict\n",
    "logreg.predict(X_test.iloc[i].values.reshape(1,-11))"
   ]
  },
  {
   "cell_type": "markdown",
   "metadata": {
    "id": "X9sNw6L5Ur2_"
   },
   "source": [
    "#### What did we get?\n",
    "> Hey...thats not odds or probability!\n",
    "\n",
    "- Nope! scikit-learn's `logreg.predict` method assumes you wanted to know which **class/label** was more likely. \n",
    "- To find out the **probability** of being an Expensive Home, we can use `logreg.predict_proba`"
   ]
  },
  {
   "cell_type": "code",
   "execution_count": 33,
   "metadata": {
    "ExecuteTime": {
     "end_time": "2022-06-23T18:09:38.797383Z",
     "start_time": "2022-06-23T18:09:38.794756Z"
    },
    "colab": {
     "base_uri": "https://localhost:8080/"
    },
    "id": "J5ymSmdyUr3A",
    "outputId": "0e9c71f3-5b1f-43e8-a94c-074bb9280586"
   },
   "outputs": [
    {
     "name": "stderr",
     "output_type": "stream",
     "text": [
      "/opt/homebrew/Caskroom/miniforge/base/envs/dojo-env/lib/python3.8/site-packages/sklearn/base.py:450: UserWarning: X does not have valid feature names, but LogisticRegression was fitted with feature names\n",
      "  warnings.warn(\n"
     ]
    },
    {
     "data": {
      "text/plain": [
       "array([[0.9559379, 0.0440621]])"
      ]
     },
     "execution_count": 33,
     "metadata": {},
     "output_type": "execute_result"
    }
   ],
   "source": [
    "## get the probabilities using predict_proba\n",
    "logreg.predict_proba(X_test.iloc[i].values.reshape(1,-11))"
   ]
  },
  {
   "cell_type": "code",
   "execution_count": 34,
   "metadata": {
    "ExecuteTime": {
     "end_time": "2022-06-23T18:09:38.800562Z",
     "start_time": "2022-06-23T18:09:38.798528Z"
    },
    "colab": {
     "base_uri": "https://localhost:8080/"
    },
    "id": "8YEkXoD7Ur3A",
    "outputId": "57f17a18-9d68-4184-d7bf-40634d60ab44"
   },
   "outputs": [
    {
     "data": {
      "text/plain": [
       "0"
      ]
     },
     "execution_count": 34,
     "metadata": {},
     "output_type": "execute_result"
    }
   ],
   "source": [
    "## OK, so what is the ACTUAL class of our example home?\n",
    "y_test.iloc[i]"
   ]
  },
  {
   "cell_type": "markdown",
   "metadata": {
    "id": "VZbj_stMUr3A"
   },
   "source": [
    "#### Summary\n",
    "- Today we used a LogisticRegression model to predict which class each row belong to. \n",
    "- We discussed how the sigmoid curve allows us to predict probabilities with a variant of linear regression. \n"
   ]
  },
  {
   "cell_type": "markdown",
   "metadata": {
    "id": "dcDPMrWnUr3A"
   },
   "source": [
    "# Next Class"
   ]
  },
  {
   "cell_type": "markdown",
   "metadata": {
    "id": "9w9DDuqjUr3A"
   },
   "source": [
    "- How to evaluate our classification model. \n",
    "- How to deal with imbalanced classes. \n",
    "- Regularization and the hyperparameter `C`"
   ]
  },
  {
   "cell_type": "code",
   "execution_count": 44,
   "metadata": {
    "ExecuteTime": {
     "end_time": "2022-06-23T18:10:44.389535Z",
     "start_time": "2022-06-23T18:10:44.288097Z"
    },
    "colab": {
     "base_uri": "https://localhost:8080/",
     "height": 679
    },
    "id": "z6uHhx5HUr3A",
    "outputId": "8abbfd3f-9379-4bf9-a3a3-e7737e96ebc4"
   },
   "outputs": [
    {
     "name": "stdout",
     "output_type": "stream",
     "text": [
      "               precision    recall  f1-score   support\n",
      "\n",
      "Not Expensive       0.98      0.84      0.90      4879\n",
      "    Expensive       0.35      0.80      0.49       525\n",
      "\n",
      "     accuracy                           0.84      5404\n",
      "    macro avg       0.66      0.82      0.70      5404\n",
      " weighted avg       0.91      0.84      0.86      5404\n",
      "\n"
     ]
    },
    {
     "data": {
      "image/png": "[encoded data removed]",
      "text/plain": [
       "<Figure size 748.8x514.8 with 2 Axes>"
      ]
     },
     "metadata": {
      "needs_background": "light"
     },
     "output_type": "display_data"
    }
   ],
   "source": [
    "y_hat_test = logreg.predict(X_test)\n",
    "print(classification_report(y_test,y_hat_test,target_names=['Not Expensive','Expensive']))\n",
    "ConfusionMatrixDisplay.from_estimator(logreg,X_test,y_test,cmap='Blues',normalize='true');"
   ]
  },
  {
   "cell_type": "markdown",
   "metadata": {
    "id": "De2c3piIUr3A"
   },
   "source": [
    "# Appendix"
   ]
  },
  {
   "cell_type": "markdown",
   "metadata": {
    "id": "Ah28ppYCUr3A"
   },
   "source": [
    "### Converting Odds to Probability"
   ]
  },
  {
   "cell_type": "markdown",
   "metadata": {
    "id": "wTQ6oHgwUr3A"
   },
   "source": [
    "\n",
    "$$odds = \\frac {probability} {1 - probability}$$\n",
    "\n",
    "$$probability = \\frac {odds} {1 + odds}$$\n",
    "\n",
    "And so the logit function represents the **log-odds** of success (y=1)."
   ]
  },
  {
   "cell_type": "code",
   "execution_count": 36,
   "metadata": {
    "ExecuteTime": {
     "end_time": "2022-06-23T18:09:38.922976Z",
     "start_time": "2022-06-23T18:09:38.919649Z"
    },
    "colab": {
     "base_uri": "https://localhost:8080/"
    },
    "id": "bkjdZK3jUr3A",
    "outputId": "8f4a23cf-11c6-4fbf-8961-051a69296162"
   },
   "outputs": [
    {
     "data": {
      "text/plain": [
       "bedrooms      0.8331\n",
       "bathrooms     1.1545\n",
       "sqft_living   1.0022\n",
       "intercept     0.0039\n",
       "dtype: float64"
      ]
     },
     "execution_count": 36,
     "metadata": {},
     "output_type": "execute_result"
    }
   ],
   "source": [
    "odds = np.exp(get_coeffs(logreg,X_train))\n",
    "odds"
   ]
  },
  {
   "cell_type": "code",
   "execution_count": 37,
   "metadata": {
    "ExecuteTime": {
     "end_time": "2022-06-23T18:09:38.926640Z",
     "start_time": "2022-06-23T18:09:38.923854Z"
    },
    "colab": {
     "base_uri": "https://localhost:8080/"
    },
    "id": "mcdzDMpVUr3A",
    "outputId": "532052d6-7a6e-4943-a49c-f483aa73ca1c"
   },
   "outputs": [
    {
     "data": {
      "text/plain": [
       "bedrooms      0.4545\n",
       "bathrooms     0.5358\n",
       "sqft_living   0.5006\n",
       "intercept     0.0039\n",
       "dtype: float64"
      ]
     },
     "execution_count": 37,
     "metadata": {},
     "output_type": "execute_result"
    }
   ],
   "source": [
    "## convert odds to prob\n",
    "prob = odds/(1+odds)\n",
    "prob"
   ]
  },
  {
   "cell_type": "code",
   "execution_count": 38,
   "metadata": {
    "ExecuteTime": {
     "end_time": "2022-06-23T18:09:38.936832Z",
     "start_time": "2022-06-23T18:09:38.933492Z"
    },
    "id": "usMQerD1Ur3A"
   },
   "outputs": [],
   "source": [
    "# update function to return \n",
    "def get_coefficients(model,X_train,units = \"log-odds\"):\n",
    "    \"\"\"Returns model coefficients. \n",
    "    \n",
    "    Args:\n",
    "        model: sklearn model with the .coef_ attribute. \n",
    "        X_train: dataframe with the feature names as the .columns\n",
    "        units (str): Can be ['log-odds','odds','prob','orig']\n",
    "        \"\"\"\n",
    "    options = ['log-odds','odds','prob','orig']\n",
    "    \n",
    "    if units not in options:\n",
    "        raise Exception(f'units must be one of {options}')\n",
    "        \n",
    "    coeffs = pd.Series(model.coef_.flatten(), index=X_train.columns)\n",
    "    coeffs['intercept'] = model.intercept_[0]\n",
    "    \n",
    "    if units=='odds':\n",
    "        coeffs = np.exp(coeffs)\n",
    "        \n",
    "    elif units=='prob':\n",
    "        coeffs = np.exp(coeffs)\n",
    "        coeffs = coeffs/(1+coeffs)\n",
    "        \n",
    "\n",
    "    coeffs.name=units\n",
    "    return coeffs"
   ]
  },
  {
   "cell_type": "markdown",
   "metadata": {
    "id": "J7EwmvOVUr3A"
   },
   "source": [
    "### Interpreting Odds Coefficients"
   ]
  },
  {
   "cell_type": "code",
   "execution_count": null,
   "metadata": {
    "id": "F1lm4VlRUr3A"
   },
   "outputs": [],
   "source": []
  },
  {
   "cell_type": "markdown",
   "metadata": {
    "id": "s9pjAEZDUr3A"
   },
   "source": [
    "#### Interpreting Odds Coefficients\n",
    "> ***“For every one-unit increase in [X variable], the odds that the observation is in (y class) are [coefficient] times as large as the odds that the observation is not in (y class) (when all other variables are held constant).”***"
   ]
  },
  {
   "cell_type": "code",
   "execution_count": 39,
   "metadata": {
    "ExecuteTime": {
     "end_time": "2022-06-23T18:09:38.941371Z",
     "start_time": "2022-06-23T18:09:38.938008Z"
    },
    "id": "qW-PZV4xUr3A"
   },
   "outputs": [
    {
     "data": {
      "text/plain": [
       "bedrooms      0.8331\n",
       "bathrooms     1.1545\n",
       "sqft_living   1.0022\n",
       "intercept     0.0039\n",
       "dtype: float64"
      ]
     },
     "execution_count": 39,
     "metadata": {},
     "output_type": "execute_result"
    }
   ],
   "source": [
    "## Odds are how much more likely to fall into 1 class than 0 class\n",
    "coeffs_odds = np.exp(get_coeffs(logreg,X_train))\n",
    "coeffs_odds"
   ]
  },
  {
   "cell_type": "markdown",
   "metadata": {
    "ExecuteTime": {
     "end_time": "2021-09-28T22:53:09.992922Z",
     "start_time": "2021-09-28T22:53:09.989464Z"
    },
    "id": "e8IifXO7Ur3A"
   },
   "source": [
    "- For \"bedrooms\"=0.8577: \n",
    "    - For every 1-bedroom-increase in bedrooms, the odds that the house is Expensive (class=1) are 0.86 x as large as the odds that the home is Not Expensive (class=0)\n",
    "- For \"bathrooms\" = 1.0699:\n",
    "    - For every 1-bathroom increase  in bathrooms, the odds the house is Expensive (class=1) is 1.07 times as large as the odds that it is Not Expensive. \n",
    "- For sqft_living=1.0021\n",
    "    - For every 1-sqft increase in sqft_living, the odds the house is Expensive is 1.0021 times the odds that the home is Not Expensive. \n"
   ]
  },
  {
   "cell_type": "code",
   "execution_count": 40,
   "metadata": {
    "ExecuteTime": {
     "end_time": "2022-06-23T18:09:38.945067Z",
     "start_time": "2022-06-23T18:09:38.942496Z"
    },
    "id": "MMXTJAhgUr3A"
   },
   "outputs": [
    {
     "data": {
      "text/plain": [
       "1328.315000952321"
      ]
     },
     "execution_count": 40,
     "metadata": {},
     "output_type": "execute_result"
    }
   ],
   "source": [
    "odds_expensive = house['bedrooms']*coeffs_odds['bedrooms'] + \\\n",
    "        house['bathrooms']*coeffs_odds['bathrooms'] + \\\n",
    "        house['sqft_living']*coeffs_odds['sqft_living'] + coeffs_odds['intercept']\n",
    "\n",
    "odds_expensive"
   ]
  },
  {
   "cell_type": "markdown",
   "metadata": {
    "id": "MCfk1YilUr3B"
   },
   "source": [
    "### Titanic"
   ]
  },
  {
   "cell_type": "code",
   "execution_count": 42,
   "metadata": {
    "ExecuteTime": {
     "end_time": "2022-06-23T18:09:51.557579Z",
     "start_time": "2022-06-23T18:09:49.921016Z"
    },
    "id": "pPcA9W9wUr3B"
   },
   "outputs": [
    {
     "data": {
      "text/html": [
       "<div>\n",
       "<style scoped>\n",
       "    .dataframe tbody tr th:only-of-type {\n",
       "        vertical-align: middle;\n",
       "    }\n",
       "\n",
       "    .dataframe tbody tr th {\n",
       "        vertical-align: top;\n",
       "    }\n",
       "\n",
       "    .dataframe thead th {\n",
       "        text-align: right;\n",
       "    }\n",
       "</style>\n",
       "<table border=\"1\" class=\"dataframe\">\n",
       "  <thead>\n",
       "    <tr style=\"text-align: right;\">\n",
       "      <th></th>\n",
       "      <th>Pclass</th>\n",
       "      <th>Age</th>\n",
       "      <th>SibSp</th>\n",
       "      <th>Fare</th>\n",
       "      <th>Sex</th>\n",
       "      <th>Embarked</th>\n",
       "      <th>Survived</th>\n",
       "    </tr>\n",
       "  </thead>\n",
       "  <tbody>\n",
       "    <tr>\n",
       "      <th>0</th>\n",
       "      <td>3</td>\n",
       "      <td>22.0000</td>\n",
       "      <td>1</td>\n",
       "      <td>7.2500</td>\n",
       "      <td>male</td>\n",
       "      <td>S</td>\n",
       "      <td>0</td>\n",
       "    </tr>\n",
       "    <tr>\n",
       "      <th>1</th>\n",
       "      <td>1</td>\n",
       "      <td>38.0000</td>\n",
       "      <td>1</td>\n",
       "      <td>71.2833</td>\n",
       "      <td>female</td>\n",
       "      <td>C</td>\n",
       "      <td>1</td>\n",
       "    </tr>\n",
       "    <tr>\n",
       "      <th>2</th>\n",
       "      <td>3</td>\n",
       "      <td>26.0000</td>\n",
       "      <td>0</td>\n",
       "      <td>7.9250</td>\n",
       "      <td>female</td>\n",
       "      <td>S</td>\n",
       "      <td>1</td>\n",
       "    </tr>\n",
       "    <tr>\n",
       "      <th>3</th>\n",
       "      <td>1</td>\n",
       "      <td>35.0000</td>\n",
       "      <td>1</td>\n",
       "      <td>53.1000</td>\n",
       "      <td>female</td>\n",
       "      <td>S</td>\n",
       "      <td>1</td>\n",
       "    </tr>\n",
       "    <tr>\n",
       "      <th>4</th>\n",
       "      <td>3</td>\n",
       "      <td>35.0000</td>\n",
       "      <td>0</td>\n",
       "      <td>8.0500</td>\n",
       "      <td>male</td>\n",
       "      <td>S</td>\n",
       "      <td>0</td>\n",
       "    </tr>\n",
       "    <tr>\n",
       "      <th>...</th>\n",
       "      <td>...</td>\n",
       "      <td>...</td>\n",
       "      <td>...</td>\n",
       "      <td>...</td>\n",
       "      <td>...</td>\n",
       "      <td>...</td>\n",
       "      <td>...</td>\n",
       "    </tr>\n",
       "    <tr>\n",
       "      <th>886</th>\n",
       "      <td>2</td>\n",
       "      <td>27.0000</td>\n",
       "      <td>0</td>\n",
       "      <td>13.0000</td>\n",
       "      <td>male</td>\n",
       "      <td>S</td>\n",
       "      <td>0</td>\n",
       "    </tr>\n",
       "    <tr>\n",
       "      <th>887</th>\n",
       "      <td>1</td>\n",
       "      <td>19.0000</td>\n",
       "      <td>0</td>\n",
       "      <td>30.0000</td>\n",
       "      <td>female</td>\n",
       "      <td>S</td>\n",
       "      <td>1</td>\n",
       "    </tr>\n",
       "    <tr>\n",
       "      <th>888</th>\n",
       "      <td>3</td>\n",
       "      <td>NaN</td>\n",
       "      <td>1</td>\n",
       "      <td>23.4500</td>\n",
       "      <td>female</td>\n",
       "      <td>S</td>\n",
       "      <td>0</td>\n",
       "    </tr>\n",
       "    <tr>\n",
       "      <th>889</th>\n",
       "      <td>1</td>\n",
       "      <td>26.0000</td>\n",
       "      <td>0</td>\n",
       "      <td>30.0000</td>\n",
       "      <td>male</td>\n",
       "      <td>C</td>\n",
       "      <td>1</td>\n",
       "    </tr>\n",
       "    <tr>\n",
       "      <th>890</th>\n",
       "      <td>3</td>\n",
       "      <td>32.0000</td>\n",
       "      <td>0</td>\n",
       "      <td>7.7500</td>\n",
       "      <td>male</td>\n",
       "      <td>Q</td>\n",
       "      <td>0</td>\n",
       "    </tr>\n",
       "  </tbody>\n",
       "</table>\n",
       "<p>891 rows × 7 columns</p>\n",
       "</div>"
      ],
      "text/plain": [
       "     Pclass     Age  SibSp    Fare     Sex Embarked  Survived\n",
       "0         3 22.0000      1  7.2500    male        S         0\n",
       "1         1 38.0000      1 71.2833  female        C         1\n",
       "2         3 26.0000      0  7.9250  female        S         1\n",
       "3         1 35.0000      1 53.1000  female        S         1\n",
       "4         3 35.0000      0  8.0500    male        S         0\n",
       "..      ...     ...    ...     ...     ...      ...       ...\n",
       "886       2 27.0000      0 13.0000    male        S         0\n",
       "887       1 19.0000      0 30.0000  female        S         1\n",
       "888       3     NaN      1 23.4500  female        S         0\n",
       "889       1 26.0000      0 30.0000    male        C         1\n",
       "890       3 32.0000      0  7.7500    male        Q         0\n",
       "\n",
       "[891 rows x 7 columns]"
      ]
     },
     "execution_count": 42,
     "metadata": {},
     "output_type": "execute_result"
    }
   ],
   "source": [
    "dft = pd.read_csv(\"https://docs.google.com/spreadsheets/d/e/2PACX-1vRsXeEswMPJqEh9xpXed0eJYaQf_aKkNCypU4TKvGrS_hucLW2IWUxrVBjlKQJR4Z_EQFE-YR4UUuTz/pub?output=csv\")#s.datasets.load_titanic(kaggle=False, read_csv_kwds={'index_col':0})\n",
    "relevant_columns = ['Pclass', 'Age', 'SibSp', 'Fare', 'Sex', 'Embarked', 'Survived']\n",
    "dft =dft[relevant_columns]\n",
    "dft"
   ]
  },
  {
   "cell_type": "code",
   "execution_count": null,
   "metadata": {},
   "outputs": [],
   "source": []
  }
 ],
 "metadata": {
  "colab": {
   "collapsed_sections": [
    "RcXgpoKMUr28",
    "I4g5udB7Ur28",
    "3HDIS2PFUr2-",
    "iBHTnLWYUr2_",
    "177166rlUr2_",
    "X9sNw6L5Ur2_",
    "VZbj_stMUr3A",
    "Ah28ppYCUr3A",
    "J7EwmvOVUr3A",
    "s9pjAEZDUr3A",
    "MCfk1YilUr3B"
   ],
   "include_colab_link": true,
   "name": "Share Copy of From Linear to Logistic Regression  -  SOLUTION.ipynb",
   "provenance": [],
   "toc_visible": true
  },
  "kernelspec": {
   "display_name": "Python (dojo-env)",
   "language": "python",
   "name": "dojo-env"
  },
  "language_info": {
   "codemirror_mode": {
    "name": "ipython",
    "version": 3
   },
   "file_extension": ".py",
   "mimetype": "text/x-python",
   "name": "python",
   "nbconvert_exporter": "python",
   "pygments_lexer": "ipython3",
   "version": "3.8.13"
  },
  "toc": {
   "base_numbering": 1,
   "nav_menu": {},
   "number_sections": true,
   "sideBar": true,
   "skip_h1_title": false,
   "title_cell": "Table of Contents",
   "title_sidebar": "Contents",
   "toc_cell": true,
   "toc_position": {
    "height": "calc(100% - 180px)",
    "left": "10px",
    "top": "150px",
    "width": "320px"
   },
   "toc_section_display": true,
   "toc_window_display": true
  }
 },
 "nbformat": 4,
 "nbformat_minor": 1
}
