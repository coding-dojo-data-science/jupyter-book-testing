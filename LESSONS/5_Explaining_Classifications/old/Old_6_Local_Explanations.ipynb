{
 "cells": [
  {
   "cell_type": "markdown",
   "id": "8c8bc397",
   "metadata": {},
   "source": [
    "# Model Explainers - Local Explanations"
   ]
  },
  {
   "cell_type": "markdown",
   "id": "adbe4f1b",
   "metadata": {},
   "source": [
    "## Lesson Objectives"
   ]
  },
  {
   "cell_type": "markdown",
   "id": "25211bd6",
   "metadata": {},
   "source": [
    "By the end of this lesson students will be able to:\n",
    "- Define a local explanation and how it differs from a global explanation.\n",
    "- Use LIME to explain individual observations.\n",
    "- Use SHAP to explain individual observations."
   ]
  },
  {
   "cell_type": "markdown",
   "id": "875e8b55",
   "metadata": {},
   "source": [
    "## ADMIN - Brainstorm\n",
    "\n",
    "- Introduce lime\n",
    "- Discuss thoughtfully selecting examples:\n",
    "    - based on business case (story telling):\n",
    "        - for titanic, select a first class male passenger vs a lower class female passenger.\n",
    "    - based on model's performance:\n",
    "        - Selecting examples the model got right and examples the model got wrong\n",
    "        "
   ]
  },
  {
   "cell_type": "code",
   "execution_count": null,
   "id": "489559c1",
   "metadata": {},
   "outputs": [],
   "source": []
  }
 ],
 "metadata": {
  "kernelspec": {
   "display_name": "Python (dojo-env)",
   "language": "python",
   "name": "dojo-env"
  },
  "language_info": {
   "codemirror_mode": {
    "name": "ipython",
    "version": 3
   },
   "file_extension": ".py",
   "mimetype": "text/x-python",
   "name": "python",
   "nbconvert_exporter": "python",
   "pygments_lexer": "ipython3",
   "version": "3.8.13"
  },
  "toc": {
   "base_numbering": 1,
   "nav_menu": {},
   "number_sections": false,
   "sideBar": true,
   "skip_h1_title": false,
   "title_cell": "Table of Contents",
   "title_sidebar": "Contents",
   "toc_cell": false,
   "toc_position": {},
   "toc_section_display": true,
   "toc_window_display": false
  }
 },
 "nbformat": 4,
 "nbformat_minor": 5
}
