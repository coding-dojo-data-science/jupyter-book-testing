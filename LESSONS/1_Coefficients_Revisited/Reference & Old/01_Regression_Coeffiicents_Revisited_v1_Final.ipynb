{
 "cells": [
  {
   "cell_type": "markdown",
   "id": "3c5fb67b",
   "metadata": {},
   "source": [
    "# Regression Coefficients - Revisited"
   ]
  },
  {
   "cell_type": "markdown",
   "id": "c47c4f43",
   "metadata": {},
   "source": [
    "## Lesson Objectives"
   ]
  },
  {
   "cell_type": "markdown",
   "id": "89b236d8",
   "metadata": {},
   "source": [
    "By the end of this lesson, students will be able to:\n",
    "- Use scikit-learn v1.1's simplified toolkit.\n",
    "- Extract and visualize coefficients from sklearn regression model. \n",
    "- Control panda's display options to facilitate interpretation.\n"
   ]
  },
  {
   "cell_type": "markdown",
   "id": "6c7e5567",
   "metadata": {},
   "source": [
    "## Introduction"
   ]
  },
  {
   "cell_type": "markdown",
   "id": "10f5efe1",
   "metadata": {},
   "source": [
    "- At the end of last stack, we dove deep into linear regression models and their assumptions. We introduced a new package called statsmodels, which produced a Linear Regression model using \"Ordinary-Least-Squared (OLS)\". \n",
    "- The model included a robust statistical summary that was incredibly informative as we critically diagnosed our regression model and if we met the assumptions of linear regression.\n",
    "- This stack, we will be focusing on extracting insights from our models: both by examining parameters/aspects of the model itself, like the coefficients it calculated, but also by applying some additional tools and packages specifically designed to explain models. \n",
    "\n",
    "- Most of these tools are compatible with the scikit-learn ecosystem but are not yet available for statsmodels.\n",
    "\n",
    "Since we are not focusing on regression diagnostics this week, we will shift back to using scikit-learn models. Scikit-learn recently released version 1.1.1, which added several helpful tools that will simplify our workflow. \n",
    "\n",
    "Let's review some of these key updates as we rebuild our housing regression model from week 16.\n"
   ]
  },
  {
   "cell_type": "markdown",
   "id": "14b91cb4",
   "metadata": {},
   "source": [
    "# Confirming Package Versions"
   ]
  },
  {
   "cell_type": "markdown",
   "id": "186c7402",
   "metadata": {},
   "source": [
    "- All packages have a version number that indicates which iteration of the package is currently being used.\n",
    "    - If you import an entire package, you can use the special method `package.__version__` (replace package with the name of the package you want to check).\n",
    "- The reason this is important is that as of the writing of this stack, Google Colab is still using a version of python that is too old to support the newest scikit-learn.\n",
    "    - You can check which version of python you are using by running the following command in a jupyter notebook:\n",
    "        - `!python --version`\n",
    "        - Note: if you remove the `!`, you can run this command in your terminal.\n",
    "\n",
    "- If you run the following code on Google Colab and on your local computer, you can compare the version numbers. \n",
    "        \n",
    "<img src=\"colab_versions.png\" width=400px>\n",
    "\n",
    "- Now, run the following block of code in a jupyter notebook on your local machine to confirm that you have Python 3.8.13 and sklearn v1.1.1.\n"
   ]
  },
  {
   "cell_type": "code",
   "execution_count": 1,
   "id": "7cee376a",
   "metadata": {
    "ExecuteTime": {
     "end_time": "2022-06-30T01:57:29.300225Z",
     "start_time": "2022-06-30T01:57:28.860374Z"
    }
   },
   "outputs": [
    {
     "name": "stdout",
     "output_type": "stream",
     "text": [
      "sklearn version: 1.1.1\n",
      "Python 3.8.13\r\n"
     ]
    }
   ],
   "source": [
    "# Run the following command on your local computer to \n",
    "import sklearn\n",
    "print(f\"sklearn version: {sklearn.__version__}\")\n",
    "!python --version"
   ]
  },
  {
   "cell_type": "markdown",
   "id": "9f36321c",
   "metadata": {},
   "source": [
    "\n",
    ">- If you have a Python 3.7 or an earlier version of scikit-learn, please revisit the \"`<Insert the name of the \"week\" of content on the LP for installation>`\". \n",
    "    - See the \"`Updating Your Dojo-Env Lesson` [Note to Brenda: does not exist yet - see 1:1 doc for question on handling multiple envs] for how to remove your current dojo-env and replace it with the new one."
   ]
  },
  {
   "cell_type": "markdown",
   "id": "38d1e0a6",
   "metadata": {},
   "source": [
    "# Extracting Coefficients from LinearRegression in scikit-learn"
   ]
  },
  {
   "cell_type": "markdown",
   "id": "bebaa916",
   "metadata": {},
   "source": [
    "## Highlighted Changes  - scikit-learn v1.1"
   ]
  },
  {
   "cell_type": "markdown",
   "id": "76ccd895",
   "metadata": {},
   "source": [
    "- The single biggest change in the updated sklearn is a fully-functional `.get_feature_names_out()` method in the `ColumnTransformer`.\n",
    "    - This will make it MUCH easier for us to extract our transformed data as dataframes and to match up the feature names to our models' coefficients.\n",
    "- There are some additional updates that are not pertinent to this stack, but if you are curious, you can find the [details on the new release here](https://scikit-learn.org/stable/auto_examples/release_highlights/plot_release_highlights_1_1_0.html)."
   ]
  },
  {
   "cell_type": "markdown",
   "id": "fcdb73ac",
   "metadata": {},
   "source": [
    "## New and Improved `ColumnTransformer` "
   ]
  },
  {
   "cell_type": "code",
   "execution_count": 2,
   "id": "3c75eca1",
   "metadata": {
    "ExecuteTime": {
     "end_time": "2022-06-30T01:57:29.694892Z",
     "start_time": "2022-06-30T01:57:29.303470Z"
    }
   },
   "outputs": [],
   "source": [
    "import pandas as pd\n",
    "import numpy as np\n",
    "import matplotlib as mpl\n",
    "import matplotlib.pyplot as plt\n",
    "import seaborn as sns\n",
    "\n",
    "## Customization Options\n",
    "plt.style.use(['fivethirtyeight','seaborn-talk'])\n",
    "mpl.rcParams['figure.facecolor']='white'\n",
    "\n",
    "## additional required imports\n",
    "from sklearn.model_selection import train_test_split\n",
    "from sklearn.preprocessing import OneHotEncoder, StandardScaler\n",
    "from sklearn.impute import SimpleImputer\n",
    "from sklearn.compose import make_column_transformer, make_column_selector, ColumnTransformer\n",
    "from sklearn.pipeline import make_pipeline, Pipeline\n",
    "from sklearn import metrics\n",
    "\n",
    "SEED = 321\n",
    "np.random.seed(SEED)"
   ]
  },
  {
   "cell_type": "code",
   "execution_count": 3,
   "id": "33400d17",
   "metadata": {
    "ExecuteTime": {
     "end_time": "2022-06-30T01:57:34.040282Z",
     "start_time": "2022-06-30T01:57:29.695903Z"
    }
   },
   "outputs": [
    {
     "name": "stdout",
     "output_type": "stream",
     "text": [
      "<class 'pandas.core.frame.DataFrame'>\n",
      "RangeIndex: 21613 entries, 0 to 21612\n",
      "Data columns (total 20 columns):\n",
      " #   Column         Non-Null Count  Dtype  \n",
      "---  ------         --------------  -----  \n",
      " 0   id             21613 non-null  int64  \n",
      " 1   price          21613 non-null  float64\n",
      " 2   bedrooms       21613 non-null  int64  \n",
      " 3   bathrooms      21613 non-null  float64\n",
      " 4   sqft_living    21613 non-null  int64  \n",
      " 5   sqft_lot       21613 non-null  int64  \n",
      " 6   floors         21613 non-null  float64\n",
      " 7   waterfront     21613 non-null  int64  \n",
      " 8   view           21613 non-null  int64  \n",
      " 9   condition      21613 non-null  int64  \n",
      " 10  grade          21613 non-null  int64  \n",
      " 11  sqft_above     21613 non-null  int64  \n",
      " 12  sqft_basement  21613 non-null  int64  \n",
      " 13  yr_built       21613 non-null  int64  \n",
      " 14  yr_renovated   21613 non-null  int64  \n",
      " 15  zipcode        21613 non-null  int64  \n",
      " 16  lat            21613 non-null  float64\n",
      " 17  long           21613 non-null  float64\n",
      " 18  sqft_living15  21613 non-null  int64  \n",
      " 19  sqft_lot15     21613 non-null  int64  \n",
      "dtypes: float64(5), int64(15)\n",
      "memory usage: 3.3 MB\n"
     ]
    },
    {
     "data": {
      "text/html": [
       "<div>\n",
       "<style scoped>\n",
       "    .dataframe tbody tr th:only-of-type {\n",
       "        vertical-align: middle;\n",
       "    }\n",
       "\n",
       "    .dataframe tbody tr th {\n",
       "        vertical-align: top;\n",
       "    }\n",
       "\n",
       "    .dataframe thead th {\n",
       "        text-align: right;\n",
       "    }\n",
       "</style>\n",
       "<table border=\"1\" class=\"dataframe\">\n",
       "  <thead>\n",
       "    <tr style=\"text-align: right;\">\n",
       "      <th></th>\n",
       "      <th>id</th>\n",
       "      <th>price</th>\n",
       "      <th>bedrooms</th>\n",
       "      <th>bathrooms</th>\n",
       "      <th>sqft_living</th>\n",
       "      <th>sqft_lot</th>\n",
       "      <th>floors</th>\n",
       "      <th>waterfront</th>\n",
       "      <th>view</th>\n",
       "      <th>condition</th>\n",
       "      <th>grade</th>\n",
       "      <th>sqft_above</th>\n",
       "      <th>sqft_basement</th>\n",
       "      <th>yr_built</th>\n",
       "      <th>yr_renovated</th>\n",
       "      <th>zipcode</th>\n",
       "      <th>lat</th>\n",
       "      <th>long</th>\n",
       "      <th>sqft_living15</th>\n",
       "      <th>sqft_lot15</th>\n",
       "    </tr>\n",
       "  </thead>\n",
       "  <tbody>\n",
       "    <tr>\n",
       "      <th>0</th>\n",
       "      <td>7129300520</td>\n",
       "      <td>221900.0</td>\n",
       "      <td>3</td>\n",
       "      <td>1.00</td>\n",
       "      <td>1180</td>\n",
       "      <td>5650</td>\n",
       "      <td>1.0</td>\n",
       "      <td>0</td>\n",
       "      <td>0</td>\n",
       "      <td>3</td>\n",
       "      <td>7</td>\n",
       "      <td>1180</td>\n",
       "      <td>0</td>\n",
       "      <td>1955</td>\n",
       "      <td>0</td>\n",
       "      <td>98178</td>\n",
       "      <td>47.5112</td>\n",
       "      <td>-122.257</td>\n",
       "      <td>1340</td>\n",
       "      <td>5650</td>\n",
       "    </tr>\n",
       "    <tr>\n",
       "      <th>1</th>\n",
       "      <td>6414100192</td>\n",
       "      <td>538000.0</td>\n",
       "      <td>3</td>\n",
       "      <td>2.25</td>\n",
       "      <td>2570</td>\n",
       "      <td>7242</td>\n",
       "      <td>2.0</td>\n",
       "      <td>0</td>\n",
       "      <td>0</td>\n",
       "      <td>3</td>\n",
       "      <td>7</td>\n",
       "      <td>2170</td>\n",
       "      <td>400</td>\n",
       "      <td>1951</td>\n",
       "      <td>1991</td>\n",
       "      <td>98125</td>\n",
       "      <td>47.7210</td>\n",
       "      <td>-122.319</td>\n",
       "      <td>1690</td>\n",
       "      <td>7639</td>\n",
       "    </tr>\n",
       "    <tr>\n",
       "      <th>2</th>\n",
       "      <td>5631500400</td>\n",
       "      <td>180000.0</td>\n",
       "      <td>2</td>\n",
       "      <td>1.00</td>\n",
       "      <td>770</td>\n",
       "      <td>10000</td>\n",
       "      <td>1.0</td>\n",
       "      <td>0</td>\n",
       "      <td>0</td>\n",
       "      <td>3</td>\n",
       "      <td>6</td>\n",
       "      <td>770</td>\n",
       "      <td>0</td>\n",
       "      <td>1933</td>\n",
       "      <td>0</td>\n",
       "      <td>98028</td>\n",
       "      <td>47.7379</td>\n",
       "      <td>-122.233</td>\n",
       "      <td>2720</td>\n",
       "      <td>8062</td>\n",
       "    </tr>\n",
       "    <tr>\n",
       "      <th>3</th>\n",
       "      <td>2487200875</td>\n",
       "      <td>604000.0</td>\n",
       "      <td>4</td>\n",
       "      <td>3.00</td>\n",
       "      <td>1960</td>\n",
       "      <td>5000</td>\n",
       "      <td>1.0</td>\n",
       "      <td>0</td>\n",
       "      <td>0</td>\n",
       "      <td>5</td>\n",
       "      <td>7</td>\n",
       "      <td>1050</td>\n",
       "      <td>910</td>\n",
       "      <td>1965</td>\n",
       "      <td>0</td>\n",
       "      <td>98136</td>\n",
       "      <td>47.5208</td>\n",
       "      <td>-122.393</td>\n",
       "      <td>1360</td>\n",
       "      <td>5000</td>\n",
       "    </tr>\n",
       "    <tr>\n",
       "      <th>4</th>\n",
       "      <td>1954400510</td>\n",
       "      <td>510000.0</td>\n",
       "      <td>3</td>\n",
       "      <td>2.00</td>\n",
       "      <td>1680</td>\n",
       "      <td>8080</td>\n",
       "      <td>1.0</td>\n",
       "      <td>0</td>\n",
       "      <td>0</td>\n",
       "      <td>3</td>\n",
       "      <td>8</td>\n",
       "      <td>1680</td>\n",
       "      <td>0</td>\n",
       "      <td>1987</td>\n",
       "      <td>0</td>\n",
       "      <td>98074</td>\n",
       "      <td>47.6168</td>\n",
       "      <td>-122.045</td>\n",
       "      <td>1800</td>\n",
       "      <td>7503</td>\n",
       "    </tr>\n",
       "  </tbody>\n",
       "</table>\n",
       "</div>"
      ],
      "text/plain": [
       "           id     price  bedrooms  bathrooms  sqft_living  sqft_lot  floors  \\\n",
       "0  7129300520  221900.0         3       1.00         1180      5650     1.0   \n",
       "1  6414100192  538000.0         3       2.25         2570      7242     2.0   \n",
       "2  5631500400  180000.0         2       1.00          770     10000     1.0   \n",
       "3  2487200875  604000.0         4       3.00         1960      5000     1.0   \n",
       "4  1954400510  510000.0         3       2.00         1680      8080     1.0   \n",
       "\n",
       "   waterfront  view  condition  grade  sqft_above  sqft_basement  yr_built  \\\n",
       "0           0     0          3      7        1180              0      1955   \n",
       "1           0     0          3      7        2170            400      1951   \n",
       "2           0     0          3      6         770              0      1933   \n",
       "3           0     0          5      7        1050            910      1965   \n",
       "4           0     0          3      8        1680              0      1987   \n",
       "\n",
       "   yr_renovated  zipcode      lat     long  sqft_living15  sqft_lot15  \n",
       "0             0    98178  47.5112 -122.257           1340        5650  \n",
       "1          1991    98125  47.7210 -122.319           1690        7639  \n",
       "2             0    98028  47.7379 -122.233           2720        8062  \n",
       "3             0    98136  47.5208 -122.393           1360        5000  \n",
       "4             0    98074  47.6168 -122.045           1800        7503  "
      ]
     },
     "metadata": {},
     "output_type": "display_data"
    },
    {
     "data": {
      "text/plain": [
       "None"
      ]
     },
     "metadata": {},
     "output_type": "display_data"
    }
   ],
   "source": [
    "## Load in the King's County housing dataset and display the head and info\n",
    "df = pd.read_csv(\"https://docs.google.com/spreadsheets/d/e/2PACX-1vSEZQEzxja7Hmj5tr5nc52QqBvFQdCAGb52e1FRK1PDT2_TQrS6rY_TR9tjZjKaMbCy1m5217sVmI5q/pub?output=csv\")\n",
    "\n",
    "## Dropping some features for time\n",
    "df = df.drop(columns=['date'])\n",
    "display(df.head(),df.info())"
   ]
  },
  {
   "cell_type": "markdown",
   "id": "10ccd5b5",
   "metadata": {},
   "source": [
    "### Dropping Irrelevant Features "
   ]
  },
  {
   "cell_type": "markdown",
   "id": "e582d334",
   "metadata": {},
   "source": [
    "- If we wanted to make recommendations to homeowners about changes they can make to their home to increase its sale price, we would want to think about what features make the most sense to include.\n",
    "\n",
    "- The `id` column is a unique identifier and therefore we cannot include it in the model. We could drop the feature, but better yet, we could make the id column the index for our dataframe. This would allow us to keep track of homes across our df, X_train/X_test data.\n",
    "- We want to include some representation of location, as well. We all know that when it comes to real estate its \"Location. Location. Location\".\n",
    "    - Latitude and longitude would be too simplified a representation of location. As they would miss out on the nuance of some neighborhoods being more expensive than others (as opposed ton East/West North/South).\n",
    "    - Zipcode may be best, but we need to treat it as a categorical variable, so we will convert it to a string.\n",
    "    "
   ]
  },
  {
   "cell_type": "code",
   "execution_count": 4,
   "id": "013bcf0e",
   "metadata": {
    "ExecuteTime": {
     "end_time": "2022-06-30T01:57:34.044383Z",
     "start_time": "2022-06-30T01:57:34.042083Z"
    }
   },
   "outputs": [],
   "source": [
    "## Make the house ids the index\n",
    "df = df.set_index('id')"
   ]
  },
  {
   "cell_type": "code",
   "execution_count": 5,
   "id": "6dd4a2f2",
   "metadata": {
    "ExecuteTime": {
     "end_time": "2022-06-30T01:57:34.054636Z",
     "start_time": "2022-06-30T01:57:34.045472Z"
    }
   },
   "outputs": [],
   "source": [
    "## drop lat/long\n",
    "df = df.drop(columns=['lat','long'])\n",
    "## Treating zipcode as a category\n",
    "df['zipcode'] = df['zipcode'].astype(str)"
   ]
  },
  {
   "cell_type": "code",
   "execution_count": 6,
   "id": "833d3975",
   "metadata": {
    "ExecuteTime": {
     "end_time": "2022-06-30T01:57:34.063149Z",
     "start_time": "2022-06-30T01:57:34.055913Z"
    }
   },
   "outputs": [
    {
     "name": "stdout",
     "output_type": "stream",
     "text": [
      "<class 'pandas.core.frame.DataFrame'>\n",
      "Int64Index: 21613 entries, 7129300520 to 1523300157\n",
      "Data columns (total 17 columns):\n",
      " #   Column         Non-Null Count  Dtype  \n",
      "---  ------         --------------  -----  \n",
      " 0   price          21613 non-null  float64\n",
      " 1   bedrooms       21613 non-null  int64  \n",
      " 2   bathrooms      21613 non-null  float64\n",
      " 3   sqft_living    21613 non-null  int64  \n",
      " 4   sqft_lot       21613 non-null  int64  \n",
      " 5   floors         21613 non-null  float64\n",
      " 6   waterfront     21613 non-null  int64  \n",
      " 7   view           21613 non-null  int64  \n",
      " 8   condition      21613 non-null  int64  \n",
      " 9   grade          21613 non-null  int64  \n",
      " 10  sqft_above     21613 non-null  int64  \n",
      " 11  sqft_basement  21613 non-null  int64  \n",
      " 12  yr_built       21613 non-null  int64  \n",
      " 13  yr_renovated   21613 non-null  int64  \n",
      " 14  zipcode        21613 non-null  object \n",
      " 15  sqft_living15  21613 non-null  int64  \n",
      " 16  sqft_lot15     21613 non-null  int64  \n",
      "dtypes: float64(3), int64(13), object(1)\n",
      "memory usage: 3.0+ MB\n"
     ]
    }
   ],
   "source": [
    "df.info()"
   ]
  },
  {
   "cell_type": "markdown",
   "id": "62e4a1f6",
   "metadata": {},
   "source": [
    "### Train Test Split"
   ]
  },
  {
   "cell_type": "code",
   "execution_count": 7,
   "id": "eae9da3a",
   "metadata": {
    "ExecuteTime": {
     "end_time": "2022-06-30T01:57:34.074352Z",
     "start_time": "2022-06-30T01:57:34.064720Z"
    }
   },
   "outputs": [
    {
     "data": {
      "text/html": [
       "<div>\n",
       "<style scoped>\n",
       "    .dataframe tbody tr th:only-of-type {\n",
       "        vertical-align: middle;\n",
       "    }\n",
       "\n",
       "    .dataframe tbody tr th {\n",
       "        vertical-align: top;\n",
       "    }\n",
       "\n",
       "    .dataframe thead th {\n",
       "        text-align: right;\n",
       "    }\n",
       "</style>\n",
       "<table border=\"1\" class=\"dataframe\">\n",
       "  <thead>\n",
       "    <tr style=\"text-align: right;\">\n",
       "      <th></th>\n",
       "      <th>bedrooms</th>\n",
       "      <th>bathrooms</th>\n",
       "      <th>sqft_living</th>\n",
       "      <th>sqft_lot</th>\n",
       "      <th>floors</th>\n",
       "      <th>waterfront</th>\n",
       "      <th>view</th>\n",
       "      <th>condition</th>\n",
       "      <th>grade</th>\n",
       "      <th>sqft_above</th>\n",
       "      <th>sqft_basement</th>\n",
       "      <th>yr_built</th>\n",
       "      <th>yr_renovated</th>\n",
       "      <th>zipcode</th>\n",
       "      <th>sqft_living15</th>\n",
       "      <th>sqft_lot15</th>\n",
       "    </tr>\n",
       "    <tr>\n",
       "      <th>id</th>\n",
       "      <th></th>\n",
       "      <th></th>\n",
       "      <th></th>\n",
       "      <th></th>\n",
       "      <th></th>\n",
       "      <th></th>\n",
       "      <th></th>\n",
       "      <th></th>\n",
       "      <th></th>\n",
       "      <th></th>\n",
       "      <th></th>\n",
       "      <th></th>\n",
       "      <th></th>\n",
       "      <th></th>\n",
       "      <th></th>\n",
       "      <th></th>\n",
       "    </tr>\n",
       "  </thead>\n",
       "  <tbody>\n",
       "    <tr>\n",
       "      <th>1795900120</th>\n",
       "      <td>3</td>\n",
       "      <td>2.50</td>\n",
       "      <td>2250</td>\n",
       "      <td>9235</td>\n",
       "      <td>2.0</td>\n",
       "      <td>0</td>\n",
       "      <td>0</td>\n",
       "      <td>3</td>\n",
       "      <td>8</td>\n",
       "      <td>2250</td>\n",
       "      <td>0</td>\n",
       "      <td>1985</td>\n",
       "      <td>0</td>\n",
       "      <td>98052</td>\n",
       "      <td>2290</td>\n",
       "      <td>8187</td>\n",
       "    </tr>\n",
       "    <tr>\n",
       "      <th>6788201240</th>\n",
       "      <td>4</td>\n",
       "      <td>2.75</td>\n",
       "      <td>1590</td>\n",
       "      <td>6000</td>\n",
       "      <td>1.5</td>\n",
       "      <td>0</td>\n",
       "      <td>0</td>\n",
       "      <td>4</td>\n",
       "      <td>8</td>\n",
       "      <td>1590</td>\n",
       "      <td>0</td>\n",
       "      <td>1925</td>\n",
       "      <td>0</td>\n",
       "      <td>98112</td>\n",
       "      <td>1590</td>\n",
       "      <td>4000</td>\n",
       "    </tr>\n",
       "    <tr>\n",
       "      <th>2461900550</th>\n",
       "      <td>4</td>\n",
       "      <td>1.75</td>\n",
       "      <td>2040</td>\n",
       "      <td>6000</td>\n",
       "      <td>1.0</td>\n",
       "      <td>0</td>\n",
       "      <td>0</td>\n",
       "      <td>5</td>\n",
       "      <td>7</td>\n",
       "      <td>1020</td>\n",
       "      <td>1020</td>\n",
       "      <td>1943</td>\n",
       "      <td>0</td>\n",
       "      <td>98136</td>\n",
       "      <td>1440</td>\n",
       "      <td>6000</td>\n",
       "    </tr>\n",
       "    <tr>\n",
       "      <th>1775920210</th>\n",
       "      <td>3</td>\n",
       "      <td>1.00</td>\n",
       "      <td>1200</td>\n",
       "      <td>9800</td>\n",
       "      <td>1.0</td>\n",
       "      <td>0</td>\n",
       "      <td>0</td>\n",
       "      <td>4</td>\n",
       "      <td>7</td>\n",
       "      <td>1200</td>\n",
       "      <td>0</td>\n",
       "      <td>1971</td>\n",
       "      <td>0</td>\n",
       "      <td>98072</td>\n",
       "      <td>1220</td>\n",
       "      <td>10220</td>\n",
       "    </tr>\n",
       "    <tr>\n",
       "      <th>2310010050</th>\n",
       "      <td>3</td>\n",
       "      <td>2.25</td>\n",
       "      <td>1570</td>\n",
       "      <td>8767</td>\n",
       "      <td>1.0</td>\n",
       "      <td>0</td>\n",
       "      <td>0</td>\n",
       "      <td>3</td>\n",
       "      <td>7</td>\n",
       "      <td>1180</td>\n",
       "      <td>390</td>\n",
       "      <td>1990</td>\n",
       "      <td>0</td>\n",
       "      <td>98038</td>\n",
       "      <td>1570</td>\n",
       "      <td>7434</td>\n",
       "    </tr>\n",
       "  </tbody>\n",
       "</table>\n",
       "</div>"
      ],
      "text/plain": [
       "            bedrooms  bathrooms  sqft_living  sqft_lot  floors  waterfront  \\\n",
       "id                                                                           \n",
       "1795900120         3       2.50         2250      9235     2.0           0   \n",
       "6788201240         4       2.75         1590      6000     1.5           0   \n",
       "2461900550         4       1.75         2040      6000     1.0           0   \n",
       "1775920210         3       1.00         1200      9800     1.0           0   \n",
       "2310010050         3       2.25         1570      8767     1.0           0   \n",
       "\n",
       "            view  condition  grade  sqft_above  sqft_basement  yr_built  \\\n",
       "id                                                                        \n",
       "1795900120     0          3      8        2250              0      1985   \n",
       "6788201240     0          4      8        1590              0      1925   \n",
       "2461900550     0          5      7        1020           1020      1943   \n",
       "1775920210     0          4      7        1200              0      1971   \n",
       "2310010050     0          3      7        1180            390      1990   \n",
       "\n",
       "            yr_renovated zipcode  sqft_living15  sqft_lot15  \n",
       "id                                                           \n",
       "1795900120             0   98052           2290        8187  \n",
       "6788201240             0   98112           1590        4000  \n",
       "2461900550             0   98136           1440        6000  \n",
       "1775920210             0   98072           1220       10220  \n",
       "2310010050             0   98038           1570        7434  "
      ]
     },
     "execution_count": 7,
     "metadata": {},
     "output_type": "execute_result"
    }
   ],
   "source": [
    "## Make x and y variables\n",
    "y = df['price'].copy()\n",
    "X = df.drop(columns=['price']).copy()\n",
    "\n",
    "## train-test-split with random state for reproducibility\n",
    "X_train, X_test, y_train, y_test = train_test_split(X,y, random_state=SEED)\n",
    "X_train.head()"
   ]
  },
  {
   "cell_type": "markdown",
   "id": "4cf4eaa2",
   "metadata": {},
   "source": [
    "### Preprocessing + ColumnTransformer"
   ]
  },
  {
   "cell_type": "code",
   "execution_count": 8,
   "id": "a8938da2",
   "metadata": {
    "ExecuteTime": {
     "end_time": "2022-06-30T01:57:34.078166Z",
     "start_time": "2022-06-30T01:57:34.075440Z"
    }
   },
   "outputs": [
    {
     "data": {
      "text/plain": [
       "['zipcode']"
      ]
     },
     "execution_count": 8,
     "metadata": {},
     "output_type": "execute_result"
    }
   ],
   "source": [
    "## make categorical selector and verifying it works \n",
    "cat_sel = make_column_selector(dtype_include='object')\n",
    "cat_sel(X_train)"
   ]
  },
  {
   "cell_type": "code",
   "execution_count": 9,
   "id": "79d9f8a5",
   "metadata": {
    "ExecuteTime": {
     "end_time": "2022-06-30T01:57:34.081839Z",
     "start_time": "2022-06-30T01:57:34.079294Z"
    }
   },
   "outputs": [
    {
     "data": {
      "text/plain": [
       "['bedrooms',\n",
       " 'bathrooms',\n",
       " 'sqft_living',\n",
       " 'sqft_lot',\n",
       " 'floors',\n",
       " 'waterfront',\n",
       " 'view',\n",
       " 'condition',\n",
       " 'grade',\n",
       " 'sqft_above',\n",
       " 'sqft_basement',\n",
       " 'yr_built',\n",
       " 'yr_renovated',\n",
       " 'sqft_living15',\n",
       " 'sqft_lot15']"
      ]
     },
     "execution_count": 9,
     "metadata": {},
     "output_type": "execute_result"
    }
   ],
   "source": [
    "## make numeric selector and verifying it works \n",
    "num_sel = make_column_selector(dtype_include='number')\n",
    "num_sel(X_train)"
   ]
  },
  {
   "cell_type": "code",
   "execution_count": 10,
   "id": "253478ae",
   "metadata": {
    "ExecuteTime": {
     "end_time": "2022-06-30T01:57:34.086129Z",
     "start_time": "2022-06-30T01:57:34.084261Z"
    }
   },
   "outputs": [],
   "source": [
    "## make pipelines for categorical vs numeric data\n",
    "cat_pipe = make_pipeline(SimpleImputer(strategy='constant',\n",
    "                                       fill_value='MISSING'),\n",
    "                         OneHotEncoder(handle_unknown='ignore', sparse=False))\n",
    "\n",
    "num_pipe = make_pipeline(SimpleImputer(strategy='mean'))"
   ]
  },
  {
   "cell_type": "markdown",
   "id": "7c7b8ac2",
   "metadata": {},
   "source": [
    "> Nothing we have done yet should be new code. The changes we will make will be when we create our ColumnTransformer with `make_column_transformer`.\n",
    "- From now on, you should add `verbose_feature_names_out=False` to `make_column_transformer`"
   ]
  },
  {
   "cell_type": "code",
   "execution_count": 11,
   "id": "fb394446",
   "metadata": {
    "ExecuteTime": {
     "end_time": "2022-06-30T01:57:34.096376Z",
     "start_time": "2022-06-30T01:57:34.087219Z"
    }
   },
   "outputs": [
    {
     "data": {
      "text/html": [
       "<style>#sk-container-id-1 {color: black;background-color: white;}#sk-container-id-1 pre{padding: 0;}#sk-container-id-1 div.sk-toggleable {background-color: white;}#sk-container-id-1 label.sk-toggleable__label {cursor: pointer;display: block;width: 100%;margin-bottom: 0;padding: 0.3em;box-sizing: border-box;text-align: center;}#sk-container-id-1 label.sk-toggleable__label-arrow:before {content: \"▸\";float: left;margin-right: 0.25em;color: #696969;}#sk-container-id-1 label.sk-toggleable__label-arrow:hover:before {color: black;}#sk-container-id-1 div.sk-estimator:hover label.sk-toggleable__label-arrow:before {color: black;}#sk-container-id-1 div.sk-toggleable__content {max-height: 0;max-width: 0;overflow: hidden;text-align: left;background-color: #f0f8ff;}#sk-container-id-1 div.sk-toggleable__content pre {margin: 0.2em;color: black;border-radius: 0.25em;background-color: #f0f8ff;}#sk-container-id-1 input.sk-toggleable__control:checked~div.sk-toggleable__content {max-height: 200px;max-width: 100%;overflow: auto;}#sk-container-id-1 input.sk-toggleable__control:checked~label.sk-toggleable__label-arrow:before {content: \"▾\";}#sk-container-id-1 div.sk-estimator input.sk-toggleable__control:checked~label.sk-toggleable__label {background-color: #d4ebff;}#sk-container-id-1 div.sk-label input.sk-toggleable__control:checked~label.sk-toggleable__label {background-color: #d4ebff;}#sk-container-id-1 input.sk-hidden--visually {border: 0;clip: rect(1px 1px 1px 1px);clip: rect(1px, 1px, 1px, 1px);height: 1px;margin: -1px;overflow: hidden;padding: 0;position: absolute;width: 1px;}#sk-container-id-1 div.sk-estimator {font-family: monospace;background-color: #f0f8ff;border: 1px dotted black;border-radius: 0.25em;box-sizing: border-box;margin-bottom: 0.5em;}#sk-container-id-1 div.sk-estimator:hover {background-color: #d4ebff;}#sk-container-id-1 div.sk-parallel-item::after {content: \"\";width: 100%;border-bottom: 1px solid gray;flex-grow: 1;}#sk-container-id-1 div.sk-label:hover label.sk-toggleable__label {background-color: #d4ebff;}#sk-container-id-1 div.sk-serial::before {content: \"\";position: absolute;border-left: 1px solid gray;box-sizing: border-box;top: 0;bottom: 0;left: 50%;z-index: 0;}#sk-container-id-1 div.sk-serial {display: flex;flex-direction: column;align-items: center;background-color: white;padding-right: 0.2em;padding-left: 0.2em;position: relative;}#sk-container-id-1 div.sk-item {position: relative;z-index: 1;}#sk-container-id-1 div.sk-parallel {display: flex;align-items: stretch;justify-content: center;background-color: white;position: relative;}#sk-container-id-1 div.sk-item::before, #sk-container-id-1 div.sk-parallel-item::before {content: \"\";position: absolute;border-left: 1px solid gray;box-sizing: border-box;top: 0;bottom: 0;left: 50%;z-index: -1;}#sk-container-id-1 div.sk-parallel-item {display: flex;flex-direction: column;z-index: 1;position: relative;background-color: white;}#sk-container-id-1 div.sk-parallel-item:first-child::after {align-self: flex-end;width: 50%;}#sk-container-id-1 div.sk-parallel-item:last-child::after {align-self: flex-start;width: 50%;}#sk-container-id-1 div.sk-parallel-item:only-child::after {width: 0;}#sk-container-id-1 div.sk-dashed-wrapped {border: 1px dashed gray;margin: 0 0.4em 0.5em 0.4em;box-sizing: border-box;padding-bottom: 0.4em;background-color: white;}#sk-container-id-1 div.sk-label label {font-family: monospace;font-weight: bold;display: inline-block;line-height: 1.2em;}#sk-container-id-1 div.sk-label-container {text-align: center;}#sk-container-id-1 div.sk-container {/* jupyter's `normalize.less` sets `[hidden] { display: none; }` but bootstrap.min.css set `[hidden] { display: none !important; }` so we also need the `!important` here to be able to override the default hidden behavior on the sphinx rendered scikit-learn.org. See: https://github.com/scikit-learn/scikit-learn/issues/21755 */display: inline-block !important;position: relative;}#sk-container-id-1 div.sk-text-repr-fallback {display: none;}</style><div id=\"sk-container-id-1\" class=\"sk-top-container\"><div class=\"sk-text-repr-fallback\"><pre>ColumnTransformer(transformers=[(&#x27;pipeline-1&#x27;,\n",
       "                                 Pipeline(steps=[(&#x27;simpleimputer&#x27;,\n",
       "                                                  SimpleImputer())]),\n",
       "                                 &lt;sklearn.compose._column_transformer.make_column_selector object at 0x1477d8700&gt;),\n",
       "                                (&#x27;pipeline-2&#x27;,\n",
       "                                 Pipeline(steps=[(&#x27;simpleimputer&#x27;,\n",
       "                                                  SimpleImputer(fill_value=&#x27;MISSING&#x27;,\n",
       "                                                                strategy=&#x27;constant&#x27;)),\n",
       "                                                 (&#x27;onehotencoder&#x27;,\n",
       "                                                  OneHotEncoder(handle_unknown=&#x27;ignore&#x27;,\n",
       "                                                                sparse=False))]),\n",
       "                                 &lt;sklearn.compose._column_transformer.make_column_selector object at 0x147668850&gt;)],\n",
       "                  verbose_feature_names_out=False)</pre><b>In a Jupyter environment, please rerun this cell to show the HTML representation or trust the notebook. <br />On GitHub, the HTML representation is unable to render, please try loading this page with nbviewer.org.</b></div><div class=\"sk-container\" hidden><div class=\"sk-item sk-dashed-wrapped\"><div class=\"sk-label-container\"><div class=\"sk-label sk-toggleable\"><input class=\"sk-toggleable__control sk-hidden--visually\" id=\"sk-estimator-id-1\" type=\"checkbox\" ><label for=\"sk-estimator-id-1\" class=\"sk-toggleable__label sk-toggleable__label-arrow\">ColumnTransformer</label><div class=\"sk-toggleable__content\"><pre>ColumnTransformer(transformers=[(&#x27;pipeline-1&#x27;,\n",
       "                                 Pipeline(steps=[(&#x27;simpleimputer&#x27;,\n",
       "                                                  SimpleImputer())]),\n",
       "                                 &lt;sklearn.compose._column_transformer.make_column_selector object at 0x1477d8700&gt;),\n",
       "                                (&#x27;pipeline-2&#x27;,\n",
       "                                 Pipeline(steps=[(&#x27;simpleimputer&#x27;,\n",
       "                                                  SimpleImputer(fill_value=&#x27;MISSING&#x27;,\n",
       "                                                                strategy=&#x27;constant&#x27;)),\n",
       "                                                 (&#x27;onehotencoder&#x27;,\n",
       "                                                  OneHotEncoder(handle_unknown=&#x27;ignore&#x27;,\n",
       "                                                                sparse=False))]),\n",
       "                                 &lt;sklearn.compose._column_transformer.make_column_selector object at 0x147668850&gt;)],\n",
       "                  verbose_feature_names_out=False)</pre></div></div></div><div class=\"sk-parallel\"><div class=\"sk-parallel-item\"><div class=\"sk-item\"><div class=\"sk-label-container\"><div class=\"sk-label sk-toggleable\"><input class=\"sk-toggleable__control sk-hidden--visually\" id=\"sk-estimator-id-2\" type=\"checkbox\" ><label for=\"sk-estimator-id-2\" class=\"sk-toggleable__label sk-toggleable__label-arrow\">pipeline-1</label><div class=\"sk-toggleable__content\"><pre>&lt;sklearn.compose._column_transformer.make_column_selector object at 0x1477d8700&gt;</pre></div></div></div><div class=\"sk-serial\"><div class=\"sk-item\"><div class=\"sk-serial\"><div class=\"sk-item\"><div class=\"sk-estimator sk-toggleable\"><input class=\"sk-toggleable__control sk-hidden--visually\" id=\"sk-estimator-id-3\" type=\"checkbox\" ><label for=\"sk-estimator-id-3\" class=\"sk-toggleable__label sk-toggleable__label-arrow\">SimpleImputer</label><div class=\"sk-toggleable__content\"><pre>SimpleImputer()</pre></div></div></div></div></div></div></div></div><div class=\"sk-parallel-item\"><div class=\"sk-item\"><div class=\"sk-label-container\"><div class=\"sk-label sk-toggleable\"><input class=\"sk-toggleable__control sk-hidden--visually\" id=\"sk-estimator-id-4\" type=\"checkbox\" ><label for=\"sk-estimator-id-4\" class=\"sk-toggleable__label sk-toggleable__label-arrow\">pipeline-2</label><div class=\"sk-toggleable__content\"><pre>&lt;sklearn.compose._column_transformer.make_column_selector object at 0x147668850&gt;</pre></div></div></div><div class=\"sk-serial\"><div class=\"sk-item\"><div class=\"sk-serial\"><div class=\"sk-item\"><div class=\"sk-estimator sk-toggleable\"><input class=\"sk-toggleable__control sk-hidden--visually\" id=\"sk-estimator-id-5\" type=\"checkbox\" ><label for=\"sk-estimator-id-5\" class=\"sk-toggleable__label sk-toggleable__label-arrow\">SimpleImputer</label><div class=\"sk-toggleable__content\"><pre>SimpleImputer(fill_value=&#x27;MISSING&#x27;, strategy=&#x27;constant&#x27;)</pre></div></div></div><div class=\"sk-item\"><div class=\"sk-estimator sk-toggleable\"><input class=\"sk-toggleable__control sk-hidden--visually\" id=\"sk-estimator-id-6\" type=\"checkbox\" ><label for=\"sk-estimator-id-6\" class=\"sk-toggleable__label sk-toggleable__label-arrow\">OneHotEncoder</label><div class=\"sk-toggleable__content\"><pre>OneHotEncoder(handle_unknown=&#x27;ignore&#x27;, sparse=False)</pre></div></div></div></div></div></div></div></div></div></div></div></div>"
      ],
      "text/plain": [
       "ColumnTransformer(transformers=[('pipeline-1',\n",
       "                                 Pipeline(steps=[('simpleimputer',\n",
       "                                                  SimpleImputer())]),\n",
       "                                 <sklearn.compose._column_transformer.make_column_selector object at 0x1477d8700>),\n",
       "                                ('pipeline-2',\n",
       "                                 Pipeline(steps=[('simpleimputer',\n",
       "                                                  SimpleImputer(fill_value='MISSING',\n",
       "                                                                strategy='constant')),\n",
       "                                                 ('onehotencoder',\n",
       "                                                  OneHotEncoder(handle_unknown='ignore',\n",
       "                                                                sparse=False))]),\n",
       "                                 <sklearn.compose._column_transformer.make_column_selector object at 0x147668850>)],\n",
       "                  verbose_feature_names_out=False)"
      ]
     },
     "execution_count": 11,
     "metadata": {},
     "output_type": "execute_result"
    }
   ],
   "source": [
    "## make the preprocessing column transformer\n",
    "preprocessor = make_column_transformer((num_pipe, num_sel),\n",
    "                                       (cat_pipe,cat_sel),\n",
    "                                      verbose_feature_names_out=False)\n",
    "preprocessor"
   ]
  },
  {
   "cell_type": "markdown",
   "id": "c0f5018c",
   "metadata": {},
   "source": [
    ">- In order to extract the feature names from the preprocessor, we first have to fit it on the data.\n",
    "- Next, we can use the `preprocessor.get_feature_names_out()` method and save the output as something like \"feature_names\" or \"final_features\"."
   ]
  },
  {
   "cell_type": "code",
   "execution_count": 12,
   "id": "9256997b",
   "metadata": {
    "ExecuteTime": {
     "end_time": "2022-06-30T01:57:34.112741Z",
     "start_time": "2022-06-30T01:57:34.097508Z"
    }
   },
   "outputs": [
    {
     "data": {
      "text/plain": [
       "array(['bedrooms', 'bathrooms', 'sqft_living', 'sqft_lot', 'floors',\n",
       "       'waterfront', 'view', 'condition', 'grade', 'sqft_above',\n",
       "       'sqft_basement', 'yr_built', 'yr_renovated', 'sqft_living15',\n",
       "       'sqft_lot15', 'zipcode_98001', 'zipcode_98002', 'zipcode_98003',\n",
       "       'zipcode_98004', 'zipcode_98005', 'zipcode_98006', 'zipcode_98007',\n",
       "       'zipcode_98008', 'zipcode_98010', 'zipcode_98011', 'zipcode_98014',\n",
       "       'zipcode_98019', 'zipcode_98022', 'zipcode_98023', 'zipcode_98024',\n",
       "       'zipcode_98027', 'zipcode_98028', 'zipcode_98029', 'zipcode_98030',\n",
       "       'zipcode_98031', 'zipcode_98032', 'zipcode_98033', 'zipcode_98034',\n",
       "       'zipcode_98038', 'zipcode_98039', 'zipcode_98040', 'zipcode_98042',\n",
       "       'zipcode_98045', 'zipcode_98052', 'zipcode_98053', 'zipcode_98055',\n",
       "       'zipcode_98056', 'zipcode_98058', 'zipcode_98059', 'zipcode_98065',\n",
       "       'zipcode_98070', 'zipcode_98072', 'zipcode_98074', 'zipcode_98075',\n",
       "       'zipcode_98077', 'zipcode_98092', 'zipcode_98102', 'zipcode_98103',\n",
       "       'zipcode_98105', 'zipcode_98106', 'zipcode_98107', 'zipcode_98108',\n",
       "       'zipcode_98109', 'zipcode_98112', 'zipcode_98115', 'zipcode_98116',\n",
       "       'zipcode_98117', 'zipcode_98118', 'zipcode_98119', 'zipcode_98122',\n",
       "       'zipcode_98125', 'zipcode_98126', 'zipcode_98133', 'zipcode_98136',\n",
       "       'zipcode_98144', 'zipcode_98146', 'zipcode_98148', 'zipcode_98155',\n",
       "       'zipcode_98166', 'zipcode_98168', 'zipcode_98177', 'zipcode_98178',\n",
       "       'zipcode_98188', 'zipcode_98198', 'zipcode_98199'], dtype=object)"
      ]
     },
     "execution_count": 12,
     "metadata": {},
     "output_type": "execute_result"
    }
   ],
   "source": [
    "## fit column transformer and run get_feature_names_out\n",
    "preprocessor.fit(X_train)\n",
    "feature_names = preprocessor.get_feature_names_out()\n",
    "feature_names"
   ]
  },
  {
   "cell_type": "markdown",
   "id": "daee2069",
   "metadata": {},
   "source": [
    "- Notice how we were able to get the complete list of feature names, including the One Hot Encoded features with their proper \"zipcode\" prefix. \n",
    "- Quick note: if you forgot to add `verbose_feature_names_out` when you made your preprocessor, you would get something like this:\n"
   ]
  },
  {
   "cell_type": "code",
   "execution_count": 13,
   "id": "4376fc02",
   "metadata": {
    "ExecuteTime": {
     "end_time": "2022-06-30T01:57:34.128096Z",
     "start_time": "2022-06-30T01:57:34.113739Z"
    }
   },
   "outputs": [
    {
     "data": {
      "text/plain": [
       "array(['pipeline-1__bedrooms', 'pipeline-1__bathrooms',\n",
       "       'pipeline-1__sqft_living', 'pipeline-1__sqft_lot',\n",
       "       'pipeline-1__floors', 'pipeline-1__waterfront', 'pipeline-1__view',\n",
       "       'pipeline-1__condition', 'pipeline-1__grade',\n",
       "       'pipeline-1__sqft_above', 'pipeline-1__sqft_basement',\n",
       "       'pipeline-1__yr_built', 'pipeline-1__yr_renovated',\n",
       "       'pipeline-1__sqft_living15', 'pipeline-1__sqft_lot15',\n",
       "       'pipeline-2__zipcode_98001', 'pipeline-2__zipcode_98002',\n",
       "       'pipeline-2__zipcode_98003', 'pipeline-2__zipcode_98004',\n",
       "       'pipeline-2__zipcode_98005', 'pipeline-2__zipcode_98006',\n",
       "       'pipeline-2__zipcode_98007', 'pipeline-2__zipcode_98008',\n",
       "       'pipeline-2__zipcode_98010', 'pipeline-2__zipcode_98011',\n",
       "       'pipeline-2__zipcode_98014', 'pipeline-2__zipcode_98019',\n",
       "       'pipeline-2__zipcode_98022', 'pipeline-2__zipcode_98023',\n",
       "       'pipeline-2__zipcode_98024', 'pipeline-2__zipcode_98027',\n",
       "       'pipeline-2__zipcode_98028', 'pipeline-2__zipcode_98029',\n",
       "       'pipeline-2__zipcode_98030', 'pipeline-2__zipcode_98031',\n",
       "       'pipeline-2__zipcode_98032', 'pipeline-2__zipcode_98033',\n",
       "       'pipeline-2__zipcode_98034', 'pipeline-2__zipcode_98038',\n",
       "       'pipeline-2__zipcode_98039', 'pipeline-2__zipcode_98040',\n",
       "       'pipeline-2__zipcode_98042', 'pipeline-2__zipcode_98045',\n",
       "       'pipeline-2__zipcode_98052', 'pipeline-2__zipcode_98053',\n",
       "       'pipeline-2__zipcode_98055', 'pipeline-2__zipcode_98056',\n",
       "       'pipeline-2__zipcode_98058', 'pipeline-2__zipcode_98059',\n",
       "       'pipeline-2__zipcode_98065', 'pipeline-2__zipcode_98070',\n",
       "       'pipeline-2__zipcode_98072', 'pipeline-2__zipcode_98074',\n",
       "       'pipeline-2__zipcode_98075', 'pipeline-2__zipcode_98077',\n",
       "       'pipeline-2__zipcode_98092', 'pipeline-2__zipcode_98102',\n",
       "       'pipeline-2__zipcode_98103', 'pipeline-2__zipcode_98105',\n",
       "       'pipeline-2__zipcode_98106', 'pipeline-2__zipcode_98107',\n",
       "       'pipeline-2__zipcode_98108', 'pipeline-2__zipcode_98109',\n",
       "       'pipeline-2__zipcode_98112', 'pipeline-2__zipcode_98115',\n",
       "       'pipeline-2__zipcode_98116', 'pipeline-2__zipcode_98117',\n",
       "       'pipeline-2__zipcode_98118', 'pipeline-2__zipcode_98119',\n",
       "       'pipeline-2__zipcode_98122', 'pipeline-2__zipcode_98125',\n",
       "       'pipeline-2__zipcode_98126', 'pipeline-2__zipcode_98133',\n",
       "       'pipeline-2__zipcode_98136', 'pipeline-2__zipcode_98144',\n",
       "       'pipeline-2__zipcode_98146', 'pipeline-2__zipcode_98148',\n",
       "       'pipeline-2__zipcode_98155', 'pipeline-2__zipcode_98166',\n",
       "       'pipeline-2__zipcode_98168', 'pipeline-2__zipcode_98177',\n",
       "       'pipeline-2__zipcode_98178', 'pipeline-2__zipcode_98188',\n",
       "       'pipeline-2__zipcode_98198', 'pipeline-2__zipcode_98199'],\n",
       "      dtype=object)"
      ]
     },
     "execution_count": 13,
     "metadata": {},
     "output_type": "execute_result"
    }
   ],
   "source": [
    "## make the preprocessing column transformer\n",
    "preprocessor_oops = make_column_transformer((num_pipe, num_sel),\n",
    "                                       (cat_pipe,cat_sel)\n",
    "                                           ) # forgot verbose_feature_names_out=False\n",
    "## fit column transformer and run get_feature_names_out\n",
    "preprocessor_oops.fit(X_train)\n",
    "feature_names_oops = preprocessor_oops.get_feature_names_out()\n",
    "feature_names_oops"
   ]
  },
  {
   "cell_type": "markdown",
   "id": "78f1c5f6",
   "metadata": {},
   "source": [
    "### Remaking Our X_train and X_test as DataFrames"
   ]
  },
  {
   "cell_type": "markdown",
   "id": "f50d794c",
   "metadata": {},
   "source": [
    "- Now that we have our list of feature names, we can very easily transform out X_train and X_test into preprocessed dataframes. \n",
    "- We can immediately turn the output of our preprocessor into a dataframe and do not need to save it as a separate variable first.\n",
    "    - Therefore, in our pd.DataFrame, we will provide the `preprocessor.transform(X_train)` as the first argument, followed by `columns=feature_names` (the list we extracted from our precprocessor)\n",
    "    - Pro Tip: you can also use the same index as your X_train or X_test variable, if you want to match up one of the transformed rows with the original dataframe."
   ]
  },
  {
   "cell_type": "code",
   "execution_count": 14,
   "id": "69cc7aff",
   "metadata": {
    "ExecuteTime": {
     "end_time": "2022-06-30T01:57:34.146969Z",
     "start_time": "2022-06-30T01:57:34.129054Z"
    }
   },
   "outputs": [
    {
     "data": {
      "text/html": [
       "<div>\n",
       "<style scoped>\n",
       "    .dataframe tbody tr th:only-of-type {\n",
       "        vertical-align: middle;\n",
       "    }\n",
       "\n",
       "    .dataframe tbody tr th {\n",
       "        vertical-align: top;\n",
       "    }\n",
       "\n",
       "    .dataframe thead th {\n",
       "        text-align: right;\n",
       "    }\n",
       "</style>\n",
       "<table border=\"1\" class=\"dataframe\">\n",
       "  <thead>\n",
       "    <tr style=\"text-align: right;\">\n",
       "      <th></th>\n",
       "      <th>bedrooms</th>\n",
       "      <th>bathrooms</th>\n",
       "      <th>sqft_living</th>\n",
       "      <th>sqft_lot</th>\n",
       "      <th>floors</th>\n",
       "      <th>waterfront</th>\n",
       "      <th>view</th>\n",
       "      <th>condition</th>\n",
       "      <th>grade</th>\n",
       "      <th>sqft_above</th>\n",
       "      <th>...</th>\n",
       "      <th>zipcode_98146</th>\n",
       "      <th>zipcode_98148</th>\n",
       "      <th>zipcode_98155</th>\n",
       "      <th>zipcode_98166</th>\n",
       "      <th>zipcode_98168</th>\n",
       "      <th>zipcode_98177</th>\n",
       "      <th>zipcode_98178</th>\n",
       "      <th>zipcode_98188</th>\n",
       "      <th>zipcode_98198</th>\n",
       "      <th>zipcode_98199</th>\n",
       "    </tr>\n",
       "    <tr>\n",
       "      <th>id</th>\n",
       "      <th></th>\n",
       "      <th></th>\n",
       "      <th></th>\n",
       "      <th></th>\n",
       "      <th></th>\n",
       "      <th></th>\n",
       "      <th></th>\n",
       "      <th></th>\n",
       "      <th></th>\n",
       "      <th></th>\n",
       "      <th></th>\n",
       "      <th></th>\n",
       "      <th></th>\n",
       "      <th></th>\n",
       "      <th></th>\n",
       "      <th></th>\n",
       "      <th></th>\n",
       "      <th></th>\n",
       "      <th></th>\n",
       "      <th></th>\n",
       "      <th></th>\n",
       "    </tr>\n",
       "  </thead>\n",
       "  <tbody>\n",
       "    <tr>\n",
       "      <th>1795900120</th>\n",
       "      <td>3.0</td>\n",
       "      <td>2.50</td>\n",
       "      <td>2250.0</td>\n",
       "      <td>9235.0</td>\n",
       "      <td>2.0</td>\n",
       "      <td>0.0</td>\n",
       "      <td>0.0</td>\n",
       "      <td>3.0</td>\n",
       "      <td>8.0</td>\n",
       "      <td>2250.0</td>\n",
       "      <td>...</td>\n",
       "      <td>0.0</td>\n",
       "      <td>0.0</td>\n",
       "      <td>0.0</td>\n",
       "      <td>0.0</td>\n",
       "      <td>0.0</td>\n",
       "      <td>0.0</td>\n",
       "      <td>0.0</td>\n",
       "      <td>0.0</td>\n",
       "      <td>0.0</td>\n",
       "      <td>0.0</td>\n",
       "    </tr>\n",
       "    <tr>\n",
       "      <th>6788201240</th>\n",
       "      <td>4.0</td>\n",
       "      <td>2.75</td>\n",
       "      <td>1590.0</td>\n",
       "      <td>6000.0</td>\n",
       "      <td>1.5</td>\n",
       "      <td>0.0</td>\n",
       "      <td>0.0</td>\n",
       "      <td>4.0</td>\n",
       "      <td>8.0</td>\n",
       "      <td>1590.0</td>\n",
       "      <td>...</td>\n",
       "      <td>0.0</td>\n",
       "      <td>0.0</td>\n",
       "      <td>0.0</td>\n",
       "      <td>0.0</td>\n",
       "      <td>0.0</td>\n",
       "      <td>0.0</td>\n",
       "      <td>0.0</td>\n",
       "      <td>0.0</td>\n",
       "      <td>0.0</td>\n",
       "      <td>0.0</td>\n",
       "    </tr>\n",
       "    <tr>\n",
       "      <th>2461900550</th>\n",
       "      <td>4.0</td>\n",
       "      <td>1.75</td>\n",
       "      <td>2040.0</td>\n",
       "      <td>6000.0</td>\n",
       "      <td>1.0</td>\n",
       "      <td>0.0</td>\n",
       "      <td>0.0</td>\n",
       "      <td>5.0</td>\n",
       "      <td>7.0</td>\n",
       "      <td>1020.0</td>\n",
       "      <td>...</td>\n",
       "      <td>0.0</td>\n",
       "      <td>0.0</td>\n",
       "      <td>0.0</td>\n",
       "      <td>0.0</td>\n",
       "      <td>0.0</td>\n",
       "      <td>0.0</td>\n",
       "      <td>0.0</td>\n",
       "      <td>0.0</td>\n",
       "      <td>0.0</td>\n",
       "      <td>0.0</td>\n",
       "    </tr>\n",
       "  </tbody>\n",
       "</table>\n",
       "<p>3 rows × 85 columns</p>\n",
       "</div>"
      ],
      "text/plain": [
       "            bedrooms  bathrooms  sqft_living  sqft_lot  floors  waterfront  \\\n",
       "id                                                                           \n",
       "1795900120       3.0       2.50       2250.0    9235.0     2.0         0.0   \n",
       "6788201240       4.0       2.75       1590.0    6000.0     1.5         0.0   \n",
       "2461900550       4.0       1.75       2040.0    6000.0     1.0         0.0   \n",
       "\n",
       "            view  condition  grade  sqft_above  ...  zipcode_98146  \\\n",
       "id                                              ...                  \n",
       "1795900120   0.0        3.0    8.0      2250.0  ...            0.0   \n",
       "6788201240   0.0        4.0    8.0      1590.0  ...            0.0   \n",
       "2461900550   0.0        5.0    7.0      1020.0  ...            0.0   \n",
       "\n",
       "            zipcode_98148  zipcode_98155  zipcode_98166  zipcode_98168  \\\n",
       "id                                                                       \n",
       "1795900120            0.0            0.0            0.0            0.0   \n",
       "6788201240            0.0            0.0            0.0            0.0   \n",
       "2461900550            0.0            0.0            0.0            0.0   \n",
       "\n",
       "            zipcode_98177  zipcode_98178  zipcode_98188  zipcode_98198  \\\n",
       "id                                                                       \n",
       "1795900120            0.0            0.0            0.0            0.0   \n",
       "6788201240            0.0            0.0            0.0            0.0   \n",
       "2461900550            0.0            0.0            0.0            0.0   \n",
       "\n",
       "            zipcode_98199  \n",
       "id                         \n",
       "1795900120            0.0  \n",
       "6788201240            0.0  \n",
       "2461900550            0.0  \n",
       "\n",
       "[3 rows x 85 columns]"
      ]
     },
     "execution_count": 14,
     "metadata": {},
     "output_type": "execute_result"
    }
   ],
   "source": [
    "X_train_df = pd.DataFrame(preprocessor.transform(X_train), \n",
    "                          columns = feature_names, index = X_train.index)\n",
    "X_train_df.head(3)"
   ]
  },
  {
   "cell_type": "code",
   "execution_count": 15,
   "id": "2e21eff6",
   "metadata": {
    "ExecuteTime": {
     "end_time": "2022-06-30T01:57:34.161638Z",
     "start_time": "2022-06-30T01:57:34.147949Z"
    },
    "scrolled": true
   },
   "outputs": [
    {
     "data": {
      "text/html": [
       "<div>\n",
       "<style scoped>\n",
       "    .dataframe tbody tr th:only-of-type {\n",
       "        vertical-align: middle;\n",
       "    }\n",
       "\n",
       "    .dataframe tbody tr th {\n",
       "        vertical-align: top;\n",
       "    }\n",
       "\n",
       "    .dataframe thead th {\n",
       "        text-align: right;\n",
       "    }\n",
       "</style>\n",
       "<table border=\"1\" class=\"dataframe\">\n",
       "  <thead>\n",
       "    <tr style=\"text-align: right;\">\n",
       "      <th></th>\n",
       "      <th>bedrooms</th>\n",
       "      <th>bathrooms</th>\n",
       "      <th>sqft_living</th>\n",
       "      <th>sqft_lot</th>\n",
       "      <th>floors</th>\n",
       "      <th>waterfront</th>\n",
       "      <th>view</th>\n",
       "      <th>condition</th>\n",
       "      <th>grade</th>\n",
       "      <th>sqft_above</th>\n",
       "      <th>...</th>\n",
       "      <th>zipcode_98146</th>\n",
       "      <th>zipcode_98148</th>\n",
       "      <th>zipcode_98155</th>\n",
       "      <th>zipcode_98166</th>\n",
       "      <th>zipcode_98168</th>\n",
       "      <th>zipcode_98177</th>\n",
       "      <th>zipcode_98178</th>\n",
       "      <th>zipcode_98188</th>\n",
       "      <th>zipcode_98198</th>\n",
       "      <th>zipcode_98199</th>\n",
       "    </tr>\n",
       "    <tr>\n",
       "      <th>id</th>\n",
       "      <th></th>\n",
       "      <th></th>\n",
       "      <th></th>\n",
       "      <th></th>\n",
       "      <th></th>\n",
       "      <th></th>\n",
       "      <th></th>\n",
       "      <th></th>\n",
       "      <th></th>\n",
       "      <th></th>\n",
       "      <th></th>\n",
       "      <th></th>\n",
       "      <th></th>\n",
       "      <th></th>\n",
       "      <th></th>\n",
       "      <th></th>\n",
       "      <th></th>\n",
       "      <th></th>\n",
       "      <th></th>\n",
       "      <th></th>\n",
       "      <th></th>\n",
       "    </tr>\n",
       "  </thead>\n",
       "  <tbody>\n",
       "    <tr>\n",
       "      <th>3835500005</th>\n",
       "      <td>2.0</td>\n",
       "      <td>1.75</td>\n",
       "      <td>2050.0</td>\n",
       "      <td>11900.0</td>\n",
       "      <td>1.0</td>\n",
       "      <td>0.0</td>\n",
       "      <td>0.0</td>\n",
       "      <td>4.0</td>\n",
       "      <td>8.0</td>\n",
       "      <td>2050.0</td>\n",
       "      <td>...</td>\n",
       "      <td>0.0</td>\n",
       "      <td>0.0</td>\n",
       "      <td>0.0</td>\n",
       "      <td>0.0</td>\n",
       "      <td>0.0</td>\n",
       "      <td>0.0</td>\n",
       "      <td>0.0</td>\n",
       "      <td>0.0</td>\n",
       "      <td>0.0</td>\n",
       "      <td>0.0</td>\n",
       "    </tr>\n",
       "    <tr>\n",
       "      <th>2202500110</th>\n",
       "      <td>3.0</td>\n",
       "      <td>1.50</td>\n",
       "      <td>1690.0</td>\n",
       "      <td>9708.0</td>\n",
       "      <td>1.5</td>\n",
       "      <td>0.0</td>\n",
       "      <td>0.0</td>\n",
       "      <td>5.0</td>\n",
       "      <td>7.0</td>\n",
       "      <td>1690.0</td>\n",
       "      <td>...</td>\n",
       "      <td>0.0</td>\n",
       "      <td>0.0</td>\n",
       "      <td>0.0</td>\n",
       "      <td>0.0</td>\n",
       "      <td>0.0</td>\n",
       "      <td>0.0</td>\n",
       "      <td>0.0</td>\n",
       "      <td>0.0</td>\n",
       "      <td>0.0</td>\n",
       "      <td>0.0</td>\n",
       "    </tr>\n",
       "    <tr>\n",
       "      <th>3761700053</th>\n",
       "      <td>3.0</td>\n",
       "      <td>2.75</td>\n",
       "      <td>3470.0</td>\n",
       "      <td>9610.0</td>\n",
       "      <td>3.0</td>\n",
       "      <td>1.0</td>\n",
       "      <td>4.0</td>\n",
       "      <td>3.0</td>\n",
       "      <td>11.0</td>\n",
       "      <td>3470.0</td>\n",
       "      <td>...</td>\n",
       "      <td>0.0</td>\n",
       "      <td>0.0</td>\n",
       "      <td>0.0</td>\n",
       "      <td>0.0</td>\n",
       "      <td>0.0</td>\n",
       "      <td>0.0</td>\n",
       "      <td>0.0</td>\n",
       "      <td>0.0</td>\n",
       "      <td>0.0</td>\n",
       "      <td>0.0</td>\n",
       "    </tr>\n",
       "  </tbody>\n",
       "</table>\n",
       "<p>3 rows × 85 columns</p>\n",
       "</div>"
      ],
      "text/plain": [
       "            bedrooms  bathrooms  sqft_living  sqft_lot  floors  waterfront  \\\n",
       "id                                                                           \n",
       "3835500005       2.0       1.75       2050.0   11900.0     1.0         0.0   \n",
       "2202500110       3.0       1.50       1690.0    9708.0     1.5         0.0   \n",
       "3761700053       3.0       2.75       3470.0    9610.0     3.0         1.0   \n",
       "\n",
       "            view  condition  grade  sqft_above  ...  zipcode_98146  \\\n",
       "id                                              ...                  \n",
       "3835500005   0.0        4.0    8.0      2050.0  ...            0.0   \n",
       "2202500110   0.0        5.0    7.0      1690.0  ...            0.0   \n",
       "3761700053   4.0        3.0   11.0      3470.0  ...            0.0   \n",
       "\n",
       "            zipcode_98148  zipcode_98155  zipcode_98166  zipcode_98168  \\\n",
       "id                                                                       \n",
       "3835500005            0.0            0.0            0.0            0.0   \n",
       "2202500110            0.0            0.0            0.0            0.0   \n",
       "3761700053            0.0            0.0            0.0            0.0   \n",
       "\n",
       "            zipcode_98177  zipcode_98178  zipcode_98188  zipcode_98198  \\\n",
       "id                                                                       \n",
       "3835500005            0.0            0.0            0.0            0.0   \n",
       "2202500110            0.0            0.0            0.0            0.0   \n",
       "3761700053            0.0            0.0            0.0            0.0   \n",
       "\n",
       "            zipcode_98199  \n",
       "id                         \n",
       "3835500005            0.0  \n",
       "2202500110            0.0  \n",
       "3761700053            0.0  \n",
       "\n",
       "[3 rows x 85 columns]"
      ]
     },
     "execution_count": 15,
     "metadata": {},
     "output_type": "execute_result"
    }
   ],
   "source": [
    "X_test_df = pd.DataFrame(preprocessor.transform(X_test), \n",
    "                          columns = feature_names, index = X_test.index)\n",
    "X_test_df.head(3)"
   ]
  },
  {
   "cell_type": "code",
   "execution_count": 16,
   "id": "0eb72c71",
   "metadata": {
    "ExecuteTime": {
     "end_time": "2022-06-30T01:57:34.165897Z",
     "start_time": "2022-06-30T01:57:34.162987Z"
    }
   },
   "outputs": [
    {
     "data": {
      "text/plain": [
       "id\n",
       "3835500005    1100000.0\n",
       "2202500110     430000.0\n",
       "3761700053    2150000.0\n",
       "Name: price, dtype: float64"
      ]
     },
     "execution_count": 16,
     "metadata": {},
     "output_type": "execute_result"
    }
   ],
   "source": [
    "## confirm the first 3 rows index in y_test matches X_test_df\n",
    "y_test.head(3)"
   ]
  },
  {
   "cell_type": "markdown",
   "id": "4111738d",
   "metadata": {},
   "source": [
    "- Notice that we cannot see all of our features after OneHotEncoding. Pandas truncates the display in the middle and displays `...` instead. \n",
    "- We can get around this by changing the settings in Pandas using `pd.set_option`\n",
    "    - In this case, we want to change the `max_columns` to be a number larger than our number of final features. Since we have 87 features, setting the `max_columns` to 100 would be sufficient.\n",
    "- For more information on pandas options, see their [documentation on Options and Settings](https://pandas.pydata.org/docs/user_guide/options.html)\n",
    "- Final note: in your project notebooks, you should add this function to the top of your notebook right after your imports."
   ]
  },
  {
   "cell_type": "code",
   "execution_count": 17,
   "id": "ee859feb",
   "metadata": {
    "ExecuteTime": {
     "end_time": "2022-06-30T01:57:34.190953Z",
     "start_time": "2022-06-30T01:57:34.166911Z"
    }
   },
   "outputs": [
    {
     "data": {
      "text/html": [
       "<div>\n",
       "<style scoped>\n",
       "    .dataframe tbody tr th:only-of-type {\n",
       "        vertical-align: middle;\n",
       "    }\n",
       "\n",
       "    .dataframe tbody tr th {\n",
       "        vertical-align: top;\n",
       "    }\n",
       "\n",
       "    .dataframe thead th {\n",
       "        text-align: right;\n",
       "    }\n",
       "</style>\n",
       "<table border=\"1\" class=\"dataframe\">\n",
       "  <thead>\n",
       "    <tr style=\"text-align: right;\">\n",
       "      <th></th>\n",
       "      <th>bedrooms</th>\n",
       "      <th>bathrooms</th>\n",
       "      <th>sqft_living</th>\n",
       "      <th>sqft_lot</th>\n",
       "      <th>floors</th>\n",
       "      <th>waterfront</th>\n",
       "      <th>view</th>\n",
       "      <th>condition</th>\n",
       "      <th>grade</th>\n",
       "      <th>sqft_above</th>\n",
       "      <th>sqft_basement</th>\n",
       "      <th>yr_built</th>\n",
       "      <th>yr_renovated</th>\n",
       "      <th>sqft_living15</th>\n",
       "      <th>sqft_lot15</th>\n",
       "      <th>zipcode_98001</th>\n",
       "      <th>zipcode_98002</th>\n",
       "      <th>zipcode_98003</th>\n",
       "      <th>zipcode_98004</th>\n",
       "      <th>zipcode_98005</th>\n",
       "      <th>zipcode_98006</th>\n",
       "      <th>zipcode_98007</th>\n",
       "      <th>zipcode_98008</th>\n",
       "      <th>zipcode_98010</th>\n",
       "      <th>zipcode_98011</th>\n",
       "      <th>zipcode_98014</th>\n",
       "      <th>zipcode_98019</th>\n",
       "      <th>zipcode_98022</th>\n",
       "      <th>zipcode_98023</th>\n",
       "      <th>zipcode_98024</th>\n",
       "      <th>zipcode_98027</th>\n",
       "      <th>zipcode_98028</th>\n",
       "      <th>zipcode_98029</th>\n",
       "      <th>zipcode_98030</th>\n",
       "      <th>zipcode_98031</th>\n",
       "      <th>zipcode_98032</th>\n",
       "      <th>zipcode_98033</th>\n",
       "      <th>zipcode_98034</th>\n",
       "      <th>zipcode_98038</th>\n",
       "      <th>zipcode_98039</th>\n",
       "      <th>zipcode_98040</th>\n",
       "      <th>zipcode_98042</th>\n",
       "      <th>zipcode_98045</th>\n",
       "      <th>zipcode_98052</th>\n",
       "      <th>zipcode_98053</th>\n",
       "      <th>zipcode_98055</th>\n",
       "      <th>zipcode_98056</th>\n",
       "      <th>zipcode_98058</th>\n",
       "      <th>zipcode_98059</th>\n",
       "      <th>zipcode_98065</th>\n",
       "      <th>zipcode_98070</th>\n",
       "      <th>zipcode_98072</th>\n",
       "      <th>zipcode_98074</th>\n",
       "      <th>zipcode_98075</th>\n",
       "      <th>zipcode_98077</th>\n",
       "      <th>zipcode_98092</th>\n",
       "      <th>zipcode_98102</th>\n",
       "      <th>zipcode_98103</th>\n",
       "      <th>zipcode_98105</th>\n",
       "      <th>zipcode_98106</th>\n",
       "      <th>zipcode_98107</th>\n",
       "      <th>zipcode_98108</th>\n",
       "      <th>zipcode_98109</th>\n",
       "      <th>zipcode_98112</th>\n",
       "      <th>zipcode_98115</th>\n",
       "      <th>zipcode_98116</th>\n",
       "      <th>zipcode_98117</th>\n",
       "      <th>zipcode_98118</th>\n",
       "      <th>zipcode_98119</th>\n",
       "      <th>zipcode_98122</th>\n",
       "      <th>zipcode_98125</th>\n",
       "      <th>zipcode_98126</th>\n",
       "      <th>zipcode_98133</th>\n",
       "      <th>zipcode_98136</th>\n",
       "      <th>zipcode_98144</th>\n",
       "      <th>zipcode_98146</th>\n",
       "      <th>zipcode_98148</th>\n",
       "      <th>zipcode_98155</th>\n",
       "      <th>zipcode_98166</th>\n",
       "      <th>zipcode_98168</th>\n",
       "      <th>zipcode_98177</th>\n",
       "      <th>zipcode_98178</th>\n",
       "      <th>zipcode_98188</th>\n",
       "      <th>zipcode_98198</th>\n",
       "      <th>zipcode_98199</th>\n",
       "    </tr>\n",
       "    <tr>\n",
       "      <th>id</th>\n",
       "      <th></th>\n",
       "      <th></th>\n",
       "      <th></th>\n",
       "      <th></th>\n",
       "      <th></th>\n",
       "      <th></th>\n",
       "      <th></th>\n",
       "      <th></th>\n",
       "      <th></th>\n",
       "      <th></th>\n",
       "      <th></th>\n",
       "      <th></th>\n",
       "      <th></th>\n",
       "      <th></th>\n",
       "      <th></th>\n",
       "      <th></th>\n",
       "      <th></th>\n",
       "      <th></th>\n",
       "      <th></th>\n",
       "      <th></th>\n",
       "      <th></th>\n",
       "      <th></th>\n",
       "      <th></th>\n",
       "      <th></th>\n",
       "      <th></th>\n",
       "      <th></th>\n",
       "      <th></th>\n",
       "      <th></th>\n",
       "      <th></th>\n",
       "      <th></th>\n",
       "      <th></th>\n",
       "      <th></th>\n",
       "      <th></th>\n",
       "      <th></th>\n",
       "      <th></th>\n",
       "      <th></th>\n",
       "      <th></th>\n",
       "      <th></th>\n",
       "      <th></th>\n",
       "      <th></th>\n",
       "      <th></th>\n",
       "      <th></th>\n",
       "      <th></th>\n",
       "      <th></th>\n",
       "      <th></th>\n",
       "      <th></th>\n",
       "      <th></th>\n",
       "      <th></th>\n",
       "      <th></th>\n",
       "      <th></th>\n",
       "      <th></th>\n",
       "      <th></th>\n",
       "      <th></th>\n",
       "      <th></th>\n",
       "      <th></th>\n",
       "      <th></th>\n",
       "      <th></th>\n",
       "      <th></th>\n",
       "      <th></th>\n",
       "      <th></th>\n",
       "      <th></th>\n",
       "      <th></th>\n",
       "      <th></th>\n",
       "      <th></th>\n",
       "      <th></th>\n",
       "      <th></th>\n",
       "      <th></th>\n",
       "      <th></th>\n",
       "      <th></th>\n",
       "      <th></th>\n",
       "      <th></th>\n",
       "      <th></th>\n",
       "      <th></th>\n",
       "      <th></th>\n",
       "      <th></th>\n",
       "      <th></th>\n",
       "      <th></th>\n",
       "      <th></th>\n",
       "      <th></th>\n",
       "      <th></th>\n",
       "      <th></th>\n",
       "      <th></th>\n",
       "      <th></th>\n",
       "      <th></th>\n",
       "      <th></th>\n",
       "    </tr>\n",
       "  </thead>\n",
       "  <tbody>\n",
       "    <tr>\n",
       "      <th>1795900120</th>\n",
       "      <td>3.0</td>\n",
       "      <td>2.50</td>\n",
       "      <td>2250.0</td>\n",
       "      <td>9235.0</td>\n",
       "      <td>2.0</td>\n",
       "      <td>0.0</td>\n",
       "      <td>0.0</td>\n",
       "      <td>3.0</td>\n",
       "      <td>8.0</td>\n",
       "      <td>2250.0</td>\n",
       "      <td>0.0</td>\n",
       "      <td>1985.0</td>\n",
       "      <td>0.0</td>\n",
       "      <td>2290.0</td>\n",
       "      <td>8187.0</td>\n",
       "      <td>0.0</td>\n",
       "      <td>0.0</td>\n",
       "      <td>0.0</td>\n",
       "      <td>0.0</td>\n",
       "      <td>0.0</td>\n",
       "      <td>0.0</td>\n",
       "      <td>0.0</td>\n",
       "      <td>0.0</td>\n",
       "      <td>0.0</td>\n",
       "      <td>0.0</td>\n",
       "      <td>0.0</td>\n",
       "      <td>0.0</td>\n",
       "      <td>0.0</td>\n",
       "      <td>0.0</td>\n",
       "      <td>0.0</td>\n",
       "      <td>0.0</td>\n",
       "      <td>0.0</td>\n",
       "      <td>0.0</td>\n",
       "      <td>0.0</td>\n",
       "      <td>0.0</td>\n",
       "      <td>0.0</td>\n",
       "      <td>0.0</td>\n",
       "      <td>0.0</td>\n",
       "      <td>0.0</td>\n",
       "      <td>0.0</td>\n",
       "      <td>0.0</td>\n",
       "      <td>0.0</td>\n",
       "      <td>0.0</td>\n",
       "      <td>1.0</td>\n",
       "      <td>0.0</td>\n",
       "      <td>0.0</td>\n",
       "      <td>0.0</td>\n",
       "      <td>0.0</td>\n",
       "      <td>0.0</td>\n",
       "      <td>0.0</td>\n",
       "      <td>0.0</td>\n",
       "      <td>0.0</td>\n",
       "      <td>0.0</td>\n",
       "      <td>0.0</td>\n",
       "      <td>0.0</td>\n",
       "      <td>0.0</td>\n",
       "      <td>0.0</td>\n",
       "      <td>0.0</td>\n",
       "      <td>0.0</td>\n",
       "      <td>0.0</td>\n",
       "      <td>0.0</td>\n",
       "      <td>0.0</td>\n",
       "      <td>0.0</td>\n",
       "      <td>0.0</td>\n",
       "      <td>0.0</td>\n",
       "      <td>0.0</td>\n",
       "      <td>0.0</td>\n",
       "      <td>0.0</td>\n",
       "      <td>0.0</td>\n",
       "      <td>0.0</td>\n",
       "      <td>0.0</td>\n",
       "      <td>0.0</td>\n",
       "      <td>0.0</td>\n",
       "      <td>0.0</td>\n",
       "      <td>0.0</td>\n",
       "      <td>0.0</td>\n",
       "      <td>0.0</td>\n",
       "      <td>0.0</td>\n",
       "      <td>0.0</td>\n",
       "      <td>0.0</td>\n",
       "      <td>0.0</td>\n",
       "      <td>0.0</td>\n",
       "      <td>0.0</td>\n",
       "      <td>0.0</td>\n",
       "      <td>0.0</td>\n",
       "    </tr>\n",
       "    <tr>\n",
       "      <th>6788201240</th>\n",
       "      <td>4.0</td>\n",
       "      <td>2.75</td>\n",
       "      <td>1590.0</td>\n",
       "      <td>6000.0</td>\n",
       "      <td>1.5</td>\n",
       "      <td>0.0</td>\n",
       "      <td>0.0</td>\n",
       "      <td>4.0</td>\n",
       "      <td>8.0</td>\n",
       "      <td>1590.0</td>\n",
       "      <td>0.0</td>\n",
       "      <td>1925.0</td>\n",
       "      <td>0.0</td>\n",
       "      <td>1590.0</td>\n",
       "      <td>4000.0</td>\n",
       "      <td>0.0</td>\n",
       "      <td>0.0</td>\n",
       "      <td>0.0</td>\n",
       "      <td>0.0</td>\n",
       "      <td>0.0</td>\n",
       "      <td>0.0</td>\n",
       "      <td>0.0</td>\n",
       "      <td>0.0</td>\n",
       "      <td>0.0</td>\n",
       "      <td>0.0</td>\n",
       "      <td>0.0</td>\n",
       "      <td>0.0</td>\n",
       "      <td>0.0</td>\n",
       "      <td>0.0</td>\n",
       "      <td>0.0</td>\n",
       "      <td>0.0</td>\n",
       "      <td>0.0</td>\n",
       "      <td>0.0</td>\n",
       "      <td>0.0</td>\n",
       "      <td>0.0</td>\n",
       "      <td>0.0</td>\n",
       "      <td>0.0</td>\n",
       "      <td>0.0</td>\n",
       "      <td>0.0</td>\n",
       "      <td>0.0</td>\n",
       "      <td>0.0</td>\n",
       "      <td>0.0</td>\n",
       "      <td>0.0</td>\n",
       "      <td>0.0</td>\n",
       "      <td>0.0</td>\n",
       "      <td>0.0</td>\n",
       "      <td>0.0</td>\n",
       "      <td>0.0</td>\n",
       "      <td>0.0</td>\n",
       "      <td>0.0</td>\n",
       "      <td>0.0</td>\n",
       "      <td>0.0</td>\n",
       "      <td>0.0</td>\n",
       "      <td>0.0</td>\n",
       "      <td>0.0</td>\n",
       "      <td>0.0</td>\n",
       "      <td>0.0</td>\n",
       "      <td>0.0</td>\n",
       "      <td>0.0</td>\n",
       "      <td>0.0</td>\n",
       "      <td>0.0</td>\n",
       "      <td>0.0</td>\n",
       "      <td>0.0</td>\n",
       "      <td>1.0</td>\n",
       "      <td>0.0</td>\n",
       "      <td>0.0</td>\n",
       "      <td>0.0</td>\n",
       "      <td>0.0</td>\n",
       "      <td>0.0</td>\n",
       "      <td>0.0</td>\n",
       "      <td>0.0</td>\n",
       "      <td>0.0</td>\n",
       "      <td>0.0</td>\n",
       "      <td>0.0</td>\n",
       "      <td>0.0</td>\n",
       "      <td>0.0</td>\n",
       "      <td>0.0</td>\n",
       "      <td>0.0</td>\n",
       "      <td>0.0</td>\n",
       "      <td>0.0</td>\n",
       "      <td>0.0</td>\n",
       "      <td>0.0</td>\n",
       "      <td>0.0</td>\n",
       "      <td>0.0</td>\n",
       "      <td>0.0</td>\n",
       "    </tr>\n",
       "    <tr>\n",
       "      <th>2461900550</th>\n",
       "      <td>4.0</td>\n",
       "      <td>1.75</td>\n",
       "      <td>2040.0</td>\n",
       "      <td>6000.0</td>\n",
       "      <td>1.0</td>\n",
       "      <td>0.0</td>\n",
       "      <td>0.0</td>\n",
       "      <td>5.0</td>\n",
       "      <td>7.0</td>\n",
       "      <td>1020.0</td>\n",
       "      <td>1020.0</td>\n",
       "      <td>1943.0</td>\n",
       "      <td>0.0</td>\n",
       "      <td>1440.0</td>\n",
       "      <td>6000.0</td>\n",
       "      <td>0.0</td>\n",
       "      <td>0.0</td>\n",
       "      <td>0.0</td>\n",
       "      <td>0.0</td>\n",
       "      <td>0.0</td>\n",
       "      <td>0.0</td>\n",
       "      <td>0.0</td>\n",
       "      <td>0.0</td>\n",
       "      <td>0.0</td>\n",
       "      <td>0.0</td>\n",
       "      <td>0.0</td>\n",
       "      <td>0.0</td>\n",
       "      <td>0.0</td>\n",
       "      <td>0.0</td>\n",
       "      <td>0.0</td>\n",
       "      <td>0.0</td>\n",
       "      <td>0.0</td>\n",
       "      <td>0.0</td>\n",
       "      <td>0.0</td>\n",
       "      <td>0.0</td>\n",
       "      <td>0.0</td>\n",
       "      <td>0.0</td>\n",
       "      <td>0.0</td>\n",
       "      <td>0.0</td>\n",
       "      <td>0.0</td>\n",
       "      <td>0.0</td>\n",
       "      <td>0.0</td>\n",
       "      <td>0.0</td>\n",
       "      <td>0.0</td>\n",
       "      <td>0.0</td>\n",
       "      <td>0.0</td>\n",
       "      <td>0.0</td>\n",
       "      <td>0.0</td>\n",
       "      <td>0.0</td>\n",
       "      <td>0.0</td>\n",
       "      <td>0.0</td>\n",
       "      <td>0.0</td>\n",
       "      <td>0.0</td>\n",
       "      <td>0.0</td>\n",
       "      <td>0.0</td>\n",
       "      <td>0.0</td>\n",
       "      <td>0.0</td>\n",
       "      <td>0.0</td>\n",
       "      <td>0.0</td>\n",
       "      <td>0.0</td>\n",
       "      <td>0.0</td>\n",
       "      <td>0.0</td>\n",
       "      <td>0.0</td>\n",
       "      <td>0.0</td>\n",
       "      <td>0.0</td>\n",
       "      <td>0.0</td>\n",
       "      <td>0.0</td>\n",
       "      <td>0.0</td>\n",
       "      <td>0.0</td>\n",
       "      <td>0.0</td>\n",
       "      <td>0.0</td>\n",
       "      <td>0.0</td>\n",
       "      <td>0.0</td>\n",
       "      <td>1.0</td>\n",
       "      <td>0.0</td>\n",
       "      <td>0.0</td>\n",
       "      <td>0.0</td>\n",
       "      <td>0.0</td>\n",
       "      <td>0.0</td>\n",
       "      <td>0.0</td>\n",
       "      <td>0.0</td>\n",
       "      <td>0.0</td>\n",
       "      <td>0.0</td>\n",
       "      <td>0.0</td>\n",
       "      <td>0.0</td>\n",
       "    </tr>\n",
       "  </tbody>\n",
       "</table>\n",
       "</div>"
      ],
      "text/plain": [
       "            bedrooms  bathrooms  sqft_living  sqft_lot  floors  waterfront  \\\n",
       "id                                                                           \n",
       "1795900120       3.0       2.50       2250.0    9235.0     2.0         0.0   \n",
       "6788201240       4.0       2.75       1590.0    6000.0     1.5         0.0   \n",
       "2461900550       4.0       1.75       2040.0    6000.0     1.0         0.0   \n",
       "\n",
       "            view  condition  grade  sqft_above  sqft_basement  yr_built  \\\n",
       "id                                                                        \n",
       "1795900120   0.0        3.0    8.0      2250.0            0.0    1985.0   \n",
       "6788201240   0.0        4.0    8.0      1590.0            0.0    1925.0   \n",
       "2461900550   0.0        5.0    7.0      1020.0         1020.0    1943.0   \n",
       "\n",
       "            yr_renovated  sqft_living15  sqft_lot15  zipcode_98001  \\\n",
       "id                                                                   \n",
       "1795900120           0.0         2290.0      8187.0            0.0   \n",
       "6788201240           0.0         1590.0      4000.0            0.0   \n",
       "2461900550           0.0         1440.0      6000.0            0.0   \n",
       "\n",
       "            zipcode_98002  zipcode_98003  zipcode_98004  zipcode_98005  \\\n",
       "id                                                                       \n",
       "1795900120            0.0            0.0            0.0            0.0   \n",
       "6788201240            0.0            0.0            0.0            0.0   \n",
       "2461900550            0.0            0.0            0.0            0.0   \n",
       "\n",
       "            zipcode_98006  zipcode_98007  zipcode_98008  zipcode_98010  \\\n",
       "id                                                                       \n",
       "1795900120            0.0            0.0            0.0            0.0   \n",
       "6788201240            0.0            0.0            0.0            0.0   \n",
       "2461900550            0.0            0.0            0.0            0.0   \n",
       "\n",
       "            zipcode_98011  zipcode_98014  zipcode_98019  zipcode_98022  \\\n",
       "id                                                                       \n",
       "1795900120            0.0            0.0            0.0            0.0   \n",
       "6788201240            0.0            0.0            0.0            0.0   \n",
       "2461900550            0.0            0.0            0.0            0.0   \n",
       "\n",
       "            zipcode_98023  zipcode_98024  zipcode_98027  zipcode_98028  \\\n",
       "id                                                                       \n",
       "1795900120            0.0            0.0            0.0            0.0   \n",
       "6788201240            0.0            0.0            0.0            0.0   \n",
       "2461900550            0.0            0.0            0.0            0.0   \n",
       "\n",
       "            zipcode_98029  zipcode_98030  zipcode_98031  zipcode_98032  \\\n",
       "id                                                                       \n",
       "1795900120            0.0            0.0            0.0            0.0   \n",
       "6788201240            0.0            0.0            0.0            0.0   \n",
       "2461900550            0.0            0.0            0.0            0.0   \n",
       "\n",
       "            zipcode_98033  zipcode_98034  zipcode_98038  zipcode_98039  \\\n",
       "id                                                                       \n",
       "1795900120            0.0            0.0            0.0            0.0   \n",
       "6788201240            0.0            0.0            0.0            0.0   \n",
       "2461900550            0.0            0.0            0.0            0.0   \n",
       "\n",
       "            zipcode_98040  zipcode_98042  zipcode_98045  zipcode_98052  \\\n",
       "id                                                                       \n",
       "1795900120            0.0            0.0            0.0            1.0   \n",
       "6788201240            0.0            0.0            0.0            0.0   \n",
       "2461900550            0.0            0.0            0.0            0.0   \n",
       "\n",
       "            zipcode_98053  zipcode_98055  zipcode_98056  zipcode_98058  \\\n",
       "id                                                                       \n",
       "1795900120            0.0            0.0            0.0            0.0   \n",
       "6788201240            0.0            0.0            0.0            0.0   \n",
       "2461900550            0.0            0.0            0.0            0.0   \n",
       "\n",
       "            zipcode_98059  zipcode_98065  zipcode_98070  zipcode_98072  \\\n",
       "id                                                                       \n",
       "1795900120            0.0            0.0            0.0            0.0   \n",
       "6788201240            0.0            0.0            0.0            0.0   \n",
       "2461900550            0.0            0.0            0.0            0.0   \n",
       "\n",
       "            zipcode_98074  zipcode_98075  zipcode_98077  zipcode_98092  \\\n",
       "id                                                                       \n",
       "1795900120            0.0            0.0            0.0            0.0   \n",
       "6788201240            0.0            0.0            0.0            0.0   \n",
       "2461900550            0.0            0.0            0.0            0.0   \n",
       "\n",
       "            zipcode_98102  zipcode_98103  zipcode_98105  zipcode_98106  \\\n",
       "id                                                                       \n",
       "1795900120            0.0            0.0            0.0            0.0   \n",
       "6788201240            0.0            0.0            0.0            0.0   \n",
       "2461900550            0.0            0.0            0.0            0.0   \n",
       "\n",
       "            zipcode_98107  zipcode_98108  zipcode_98109  zipcode_98112  \\\n",
       "id                                                                       \n",
       "1795900120            0.0            0.0            0.0            0.0   \n",
       "6788201240            0.0            0.0            0.0            1.0   \n",
       "2461900550            0.0            0.0            0.0            0.0   \n",
       "\n",
       "            zipcode_98115  zipcode_98116  zipcode_98117  zipcode_98118  \\\n",
       "id                                                                       \n",
       "1795900120            0.0            0.0            0.0            0.0   \n",
       "6788201240            0.0            0.0            0.0            0.0   \n",
       "2461900550            0.0            0.0            0.0            0.0   \n",
       "\n",
       "            zipcode_98119  zipcode_98122  zipcode_98125  zipcode_98126  \\\n",
       "id                                                                       \n",
       "1795900120            0.0            0.0            0.0            0.0   \n",
       "6788201240            0.0            0.0            0.0            0.0   \n",
       "2461900550            0.0            0.0            0.0            0.0   \n",
       "\n",
       "            zipcode_98133  zipcode_98136  zipcode_98144  zipcode_98146  \\\n",
       "id                                                                       \n",
       "1795900120            0.0            0.0            0.0            0.0   \n",
       "6788201240            0.0            0.0            0.0            0.0   \n",
       "2461900550            0.0            1.0            0.0            0.0   \n",
       "\n",
       "            zipcode_98148  zipcode_98155  zipcode_98166  zipcode_98168  \\\n",
       "id                                                                       \n",
       "1795900120            0.0            0.0            0.0            0.0   \n",
       "6788201240            0.0            0.0            0.0            0.0   \n",
       "2461900550            0.0            0.0            0.0            0.0   \n",
       "\n",
       "            zipcode_98177  zipcode_98178  zipcode_98188  zipcode_98198  \\\n",
       "id                                                                       \n",
       "1795900120            0.0            0.0            0.0            0.0   \n",
       "6788201240            0.0            0.0            0.0            0.0   \n",
       "2461900550            0.0            0.0            0.0            0.0   \n",
       "\n",
       "            zipcode_98199  \n",
       "id                         \n",
       "1795900120            0.0  \n",
       "6788201240            0.0  \n",
       "2461900550            0.0  "
      ]
     },
     "execution_count": 17,
     "metadata": {},
     "output_type": "execute_result"
    }
   ],
   "source": [
    "## Using pd.set_option to display more columns\n",
    "pd.set_option('display.max_columns',100)\n",
    "X_train_df.head(3)"
   ]
  },
  {
   "cell_type": "markdown",
   "id": "8d223a18",
   "metadata": {},
   "source": [
    "## Extracting Coefficients and Intercept from Scikit-Learn Linear Regression"
   ]
  },
  {
   "cell_type": "code",
   "execution_count": 18,
   "id": "81bcbab9",
   "metadata": {
    "ExecuteTime": {
     "end_time": "2022-06-30T01:57:34.282541Z",
     "start_time": "2022-06-30T01:57:34.191982Z"
    }
   },
   "outputs": [
    {
     "name": "stdout",
     "output_type": "stream",
     "text": [
      "Training R^2: 0.811\n",
      "Test R^2: 0.798\n"
     ]
    }
   ],
   "source": [
    "from sklearn.linear_model import LinearRegression\n",
    "\n",
    "## fitting a linear regression model\n",
    "lin_reg = LinearRegression()\n",
    "lin_reg.fit(X_train_df, y_train)\n",
    "print(f'Training R^2: {lin_reg.score(X_train_df, y_train):.3f}')\n",
    "print(f'Test R^2: {lin_reg.score(X_test_df, y_test):.3f}')"
   ]
  },
  {
   "cell_type": "code",
   "execution_count": 19,
   "id": "ad1a58f4",
   "metadata": {
    "ExecuteTime": {
     "end_time": "2022-06-30T01:57:34.286793Z",
     "start_time": "2022-06-30T01:57:34.283709Z"
    }
   },
   "outputs": [],
   "source": [
    "from sklearn.metrics import r2_score, mean_absolute_error, mean_squared_error\n",
    "def evaluate_linreg(model, X_train,y_train, X_test,y_test):\n",
    "    results = []\n",
    "    y_hat_train = model.predict(X_train)\n",
    "    r2_train = r2_score(y_train,y_hat_train)\n",
    "    rmse_train = mean_squared_error(y_train,y_hat_train, squared=False)\n",
    "    results.append({'Data':'Train', 'R^2':r2_train, \"RMSE\": rmse_train})\n",
    "    \n",
    "    y_hat_test = model.predict(X_test)\n",
    "    r2_test = r2_score(y_test,y_hat_test)\n",
    "    rmse_test = mean_squared_error(y_test,y_hat_test, squared=False)\n",
    "    results.append({'Data':'Test', 'R^2':r2_test, \"RMSE\": rmse_test})\n",
    "    \n",
    "    results_df = pd.DataFrame(results).round(3).set_index('Data')\n",
    "    results_df.loc['Delta'] = results_df.loc['Test'] - results_df.loc['Train']\n",
    "    return results_df"
   ]
  },
  {
   "cell_type": "code",
   "execution_count": 20,
   "id": "413ef7be",
   "metadata": {
    "ExecuteTime": {
     "end_time": "2022-06-30T01:57:34.382621Z",
     "start_time": "2022-06-30T01:57:34.287923Z"
    }
   },
   "outputs": [
    {
     "data": {
      "text/html": [
       "<div>\n",
       "<style scoped>\n",
       "    .dataframe tbody tr th:only-of-type {\n",
       "        vertical-align: middle;\n",
       "    }\n",
       "\n",
       "    .dataframe tbody tr th {\n",
       "        vertical-align: top;\n",
       "    }\n",
       "\n",
       "    .dataframe thead th {\n",
       "        text-align: right;\n",
       "    }\n",
       "</style>\n",
       "<table border=\"1\" class=\"dataframe\">\n",
       "  <thead>\n",
       "    <tr style=\"text-align: right;\">\n",
       "      <th></th>\n",
       "      <th>R^2</th>\n",
       "      <th>RMSE</th>\n",
       "    </tr>\n",
       "    <tr>\n",
       "      <th>Data</th>\n",
       "      <th></th>\n",
       "      <th></th>\n",
       "    </tr>\n",
       "  </thead>\n",
       "  <tbody>\n",
       "    <tr>\n",
       "      <th>Train</th>\n",
       "      <td>0.811</td>\n",
       "      <td>160231.707</td>\n",
       "    </tr>\n",
       "    <tr>\n",
       "      <th>Test</th>\n",
       "      <td>0.798</td>\n",
       "      <td>163653.598</td>\n",
       "    </tr>\n",
       "    <tr>\n",
       "      <th>Delta</th>\n",
       "      <td>-0.013</td>\n",
       "      <td>3421.891</td>\n",
       "    </tr>\n",
       "  </tbody>\n",
       "</table>\n",
       "</div>"
      ],
      "text/plain": [
       "         R^2        RMSE\n",
       "Data                    \n",
       "Train  0.811  160231.707\n",
       "Test   0.798  163653.598\n",
       "Delta -0.013    3421.891"
      ]
     },
     "execution_count": 20,
     "metadata": {},
     "output_type": "execute_result"
    }
   ],
   "source": [
    "## fitting a linear regression model\n",
    "lin_reg = LinearRegression()\n",
    "lin_reg.fit(X_train_df, y_train)\n",
    "evaluate_linreg(lin_reg, X_train_df, y_train, X_test_df,y_test)"
   ]
  },
  {
   "cell_type": "markdown",
   "id": "d7e437ec",
   "metadata": {},
   "source": [
    "- For scikit-learn Linear Regressions, we can find the coefficients for the features that were included in our X-data under the `.coef_` attribute. \n",
    "-  the `.coef_` is a numpy matrix that should have the same number of values as the # of columns in X_train_df"
   ]
  },
  {
   "cell_type": "code",
   "execution_count": 21,
   "id": "acc7ce63",
   "metadata": {
    "ExecuteTime": {
     "end_time": "2022-06-30T01:57:34.386596Z",
     "start_time": "2022-06-30T01:57:34.383696Z"
    }
   },
   "outputs": [
    {
     "data": {
      "text/plain": [
       "array([-2.39605871e+04,  2.38720736e+04,  1.40195287e+12,  2.10604488e-01,\n",
       "       -4.68383897e+04,  6.63684178e+05,  5.88332016e+04,  2.40529455e+04,\n",
       "        5.94223860e+04, -1.40195287e+12, -1.40195287e+12, -6.33718178e+02,\n",
       "        1.53258262e+01,  1.17719643e+01, -8.69358917e-02, -1.23604903e+07,\n",
       "       -1.23364921e+07, -1.23809445e+07, -1.15719993e+07, -1.20521747e+07,\n",
       "       -1.21044175e+07, -1.21172134e+07, -1.21091811e+07, -1.23006235e+07,\n",
       "       -1.22433725e+07, -1.22668322e+07, -1.22745999e+07, -1.23777679e+07,\n",
       "       -1.24000930e+07, -1.21991019e+07, -1.21835166e+07, -1.22451491e+07,\n",
       "       -1.21571737e+07, -1.23574769e+07, -1.23503261e+07, -1.23644310e+07,\n",
       "       -1.19932171e+07, -1.21634026e+07, -1.23311415e+07, -1.10029369e+07,\n",
       "       -1.18572731e+07, -1.23601593e+07, -1.22754067e+07, -1.21370406e+07,\n",
       "       -1.21762412e+07, -1.23162739e+07, -1.22661179e+07, -1.23385786e+07,\n",
       "       -1.22781834e+07, -1.22835303e+07, -1.23676740e+07, -1.22052280e+07,\n",
       "       -1.21894810e+07, -1.22004888e+07, -1.22406258e+07, -1.24032962e+07,\n",
       "       -1.18875036e+07, -1.20203139e+07, -1.18924782e+07, -1.22072147e+07,\n",
       "       -1.20086204e+07, -1.22274954e+07, -1.18477438e+07, -1.17356122e+07,\n",
       "       -1.20237346e+07, -1.20625787e+07, -1.20403650e+07, -1.21821986e+07,\n",
       "       -1.18814638e+07, -1.20195129e+07, -1.21564712e+07, -1.21644916e+07,\n",
       "       -1.21900472e+07, -1.21108185e+07, -1.20741109e+07, -1.22525097e+07,\n",
       "       -1.22844043e+07, -1.22094975e+07, -1.23004923e+07, -1.22833787e+07,\n",
       "       -1.21437182e+07, -1.23249249e+07, -1.23264670e+07, -1.23620380e+07,\n",
       "       -1.19720123e+07])"
      ]
     },
     "execution_count": 21,
     "metadata": {},
     "output_type": "execute_result"
    }
   ],
   "source": [
    "lin_reg.coef_"
   ]
  },
  {
   "cell_type": "code",
   "execution_count": 22,
   "id": "ef1fdb33",
   "metadata": {
    "ExecuteTime": {
     "end_time": "2022-06-30T01:57:34.390161Z",
     "start_time": "2022-06-30T01:57:34.387726Z"
    }
   },
   "outputs": [
    {
     "name": "stdout",
     "output_type": "stream",
     "text": [
      "85\n"
     ]
    },
    {
     "data": {
      "text/plain": [
       "85"
      ]
     },
     "execution_count": 22,
     "metadata": {},
     "output_type": "execute_result"
    }
   ],
   "source": [
    "## Checking the number of coeffs matches the # of feature names\n",
    "print(len(lin_reg.coef_))\n",
    "len(feature_names)"
   ]
  },
  {
   "cell_type": "markdown",
   "id": "dd32a5d6",
   "metadata": {},
   "source": [
    "> Note: if for some reason the length of your coef_ is 1, you should add the `.flatten()` method to convert the  coef_ into a simple 1-D array."
   ]
  },
  {
   "cell_type": "markdown",
   "id": "8617b37f",
   "metadata": {
    "ExecuteTime": {
     "end_time": "2022-06-28T18:14:22.806525Z",
     "start_time": "2022-06-28T18:14:22.801222Z"
    }
   },
   "source": [
    "### Saving the coefficients as a pandas Series"
   ]
  },
  {
   "cell_type": "markdown",
   "id": "055d7a7d",
   "metadata": {
    "ExecuteTime": {
     "end_time": "2022-06-28T18:06:01.097880Z",
     "start_time": "2022-06-28T18:06:01.088310Z"
    }
   },
   "source": [
    "- We can immediately turn the the models' .coef_ into a pd.Series, as well.\n",
    "    - Therefore, in our pd.Series, we will provide the `lin_reg.coef_` as the first argument, followed by `index=feature_names` (pandas Series are 1D and do not have columns)"
   ]
  },
  {
   "cell_type": "code",
   "execution_count": 23,
   "id": "bd3e9e2c",
   "metadata": {
    "ExecuteTime": {
     "end_time": "2022-06-30T01:57:34.393063Z",
     "start_time": "2022-06-30T01:57:34.391588Z"
    }
   },
   "outputs": [],
   "source": [
    "# feature_names = [f for f in feature_names if f not in zip_cols]"
   ]
  },
  {
   "cell_type": "code",
   "execution_count": 24,
   "id": "2318cab3",
   "metadata": {
    "ExecuteTime": {
     "end_time": "2022-06-30T01:57:34.397445Z",
     "start_time": "2022-06-30T01:57:34.393998Z"
    }
   },
   "outputs": [
    {
     "data": {
      "text/plain": [
       "bedrooms        -2.396059e+04\n",
       "bathrooms        2.387207e+04\n",
       "sqft_living      1.401953e+12\n",
       "sqft_lot         2.106045e-01\n",
       "floors          -4.683839e+04\n",
       "                     ...     \n",
       "zipcode_98177   -1.214372e+07\n",
       "zipcode_98178   -1.232492e+07\n",
       "zipcode_98188   -1.232647e+07\n",
       "zipcode_98198   -1.236204e+07\n",
       "zipcode_98199   -1.197201e+07\n",
       "Length: 85, dtype: float64"
      ]
     },
     "execution_count": 24,
     "metadata": {},
     "output_type": "execute_result"
    }
   ],
   "source": [
    "## Saving the coefficients\n",
    "coeffs = pd.Series(lin_reg.coef_, index= feature_names)\n",
    "coeffs"
   ]
  },
  {
   "cell_type": "markdown",
   "id": "b78442af",
   "metadata": {},
   "source": [
    "- The constant/intercept is not included in the .ceof_ attribute (if we used the default settings for LinearRegression which sets fit_intercept = True)\n",
    "- The intercept is stored in the `.intercept_` attribute \n",
    "- We can add this as a new value to our coeffs series.\n",
    "- Note: it is up to you what you name your intercept/constant. If you wanted to keep the naming convention of statsmodels, you could use \"const\" or just \"intercept\" for simplicity."
   ]
  },
  {
   "cell_type": "code",
   "execution_count": 25,
   "id": "5bea81ca",
   "metadata": {
    "ExecuteTime": {
     "end_time": "2022-06-30T01:57:34.401609Z",
     "start_time": "2022-06-30T01:57:34.398348Z"
    }
   },
   "outputs": [
    {
     "data": {
      "text/plain": [
       "bedrooms        -2.396059e+04\n",
       "bathrooms        2.387207e+04\n",
       "sqft_living      1.401953e+12\n",
       "sqft_lot         2.106045e-01\n",
       "floors          -4.683839e+04\n",
       "                     ...     \n",
       "zipcode_98178   -1.232492e+07\n",
       "zipcode_98188   -1.232647e+07\n",
       "zipcode_98198   -1.236204e+07\n",
       "zipcode_98199   -1.197201e+07\n",
       "intercept        1.308675e+07\n",
       "Length: 86, dtype: float64"
      ]
     },
     "execution_count": 25,
     "metadata": {},
     "output_type": "execute_result"
    }
   ],
   "source": [
    "# use .loc to add the intercept to the series\n",
    "coeffs.loc['intercept'] = lin_reg.intercept_\n",
    "coeffs"
   ]
  },
  {
   "cell_type": "markdown",
   "id": "5e2256f2",
   "metadata": {},
   "source": [
    "### Displaying the Coefficients"
   ]
  },
  {
   "cell_type": "markdown",
   "id": "6d86c543",
   "metadata": {},
   "source": [
    "- Just like we increased the number of columns displayed by pandas, we can also increase the number of rows displayed by pandas.\n",
    "- CAUTION: DO NOT SET THE MAX ROWS TO 0!! If you try to display a dataframe that has 1,000,000 it will try to display ALL 1,000,000 rows and will crash your kernel."
   ]
  },
  {
   "cell_type": "code",
   "execution_count": 26,
   "id": "d11d3bc6",
   "metadata": {
    "ExecuteTime": {
     "end_time": "2022-06-30T01:57:34.406200Z",
     "start_time": "2022-06-30T01:57:34.402482Z"
    }
   },
   "outputs": [
    {
     "data": {
      "text/plain": [
       "bedrooms        -2.396059e+04\n",
       "bathrooms        2.387207e+04\n",
       "sqft_living      1.401953e+12\n",
       "sqft_lot         2.106045e-01\n",
       "floors          -4.683839e+04\n",
       "waterfront       6.636842e+05\n",
       "view             5.883320e+04\n",
       "condition        2.405295e+04\n",
       "grade            5.942239e+04\n",
       "sqft_above      -1.401953e+12\n",
       "sqft_basement   -1.401953e+12\n",
       "yr_built        -6.337182e+02\n",
       "yr_renovated     1.532583e+01\n",
       "sqft_living15    1.177196e+01\n",
       "sqft_lot15      -8.693589e-02\n",
       "zipcode_98001   -1.236049e+07\n",
       "zipcode_98002   -1.233649e+07\n",
       "zipcode_98003   -1.238094e+07\n",
       "zipcode_98004   -1.157200e+07\n",
       "zipcode_98005   -1.205217e+07\n",
       "zipcode_98006   -1.210442e+07\n",
       "zipcode_98007   -1.211721e+07\n",
       "zipcode_98008   -1.210918e+07\n",
       "zipcode_98010   -1.230062e+07\n",
       "zipcode_98011   -1.224337e+07\n",
       "zipcode_98014   -1.226683e+07\n",
       "zipcode_98019   -1.227460e+07\n",
       "zipcode_98022   -1.237777e+07\n",
       "zipcode_98023   -1.240009e+07\n",
       "zipcode_98024   -1.219910e+07\n",
       "zipcode_98027   -1.218352e+07\n",
       "zipcode_98028   -1.224515e+07\n",
       "zipcode_98029   -1.215717e+07\n",
       "zipcode_98030   -1.235748e+07\n",
       "zipcode_98031   -1.235033e+07\n",
       "zipcode_98032   -1.236443e+07\n",
       "zipcode_98033   -1.199322e+07\n",
       "zipcode_98034   -1.216340e+07\n",
       "zipcode_98038   -1.233114e+07\n",
       "zipcode_98039   -1.100294e+07\n",
       "zipcode_98040   -1.185727e+07\n",
       "zipcode_98042   -1.236016e+07\n",
       "zipcode_98045   -1.227541e+07\n",
       "zipcode_98052   -1.213704e+07\n",
       "zipcode_98053   -1.217624e+07\n",
       "zipcode_98055   -1.231627e+07\n",
       "zipcode_98056   -1.226612e+07\n",
       "zipcode_98058   -1.233858e+07\n",
       "zipcode_98059   -1.227818e+07\n",
       "zipcode_98065   -1.228353e+07\n",
       "zipcode_98070   -1.236767e+07\n",
       "zipcode_98072   -1.220523e+07\n",
       "zipcode_98074   -1.218948e+07\n",
       "zipcode_98075   -1.220049e+07\n",
       "zipcode_98077   -1.224063e+07\n",
       "zipcode_98092   -1.240330e+07\n",
       "zipcode_98102   -1.188750e+07\n",
       "zipcode_98103   -1.202031e+07\n",
       "zipcode_98105   -1.189248e+07\n",
       "zipcode_98106   -1.220721e+07\n",
       "zipcode_98107   -1.200862e+07\n",
       "zipcode_98108   -1.222750e+07\n",
       "zipcode_98109   -1.184774e+07\n",
       "zipcode_98112   -1.173561e+07\n",
       "zipcode_98115   -1.202373e+07\n",
       "zipcode_98116   -1.206258e+07\n",
       "zipcode_98117   -1.204036e+07\n",
       "zipcode_98118   -1.218220e+07\n",
       "zipcode_98119   -1.188146e+07\n",
       "zipcode_98122   -1.201951e+07\n",
       "zipcode_98125   -1.215647e+07\n",
       "zipcode_98126   -1.216449e+07\n",
       "zipcode_98133   -1.219005e+07\n",
       "zipcode_98136   -1.211082e+07\n",
       "zipcode_98144   -1.207411e+07\n",
       "zipcode_98146   -1.225251e+07\n",
       "zipcode_98148   -1.228440e+07\n",
       "zipcode_98155   -1.220950e+07\n",
       "zipcode_98166   -1.230049e+07\n",
       "zipcode_98168   -1.228338e+07\n",
       "zipcode_98177   -1.214372e+07\n",
       "zipcode_98178   -1.232492e+07\n",
       "zipcode_98188   -1.232647e+07\n",
       "zipcode_98198   -1.236204e+07\n",
       "zipcode_98199   -1.197201e+07\n",
       "intercept        1.308675e+07\n",
       "dtype: float64"
      ]
     },
     "execution_count": 26,
     "metadata": {},
     "output_type": "execute_result"
    }
   ],
   "source": [
    "pd.set_option('display.max_rows',100)\n",
    "coeffs"
   ]
  },
  {
   "cell_type": "markdown",
   "id": "e7d9142b",
   "metadata": {},
   "source": [
    "### Suppressing Scientific Notation in Pandas"
   ]
  },
  {
   "cell_type": "markdown",
   "id": "f7cc12e9",
   "metadata": {},
   "source": [
    "> We can ALSO use panda's options to change how it display numeric values.\n",
    "- if we want to add a `,` separator for thousands and round to 2 decimal places, we would use the format code \",.2f\". \n",
    "- In order for Pandas to use this, we will have to use an f-string with a lambda x. (X represent any numeric value being displayed by pandas)."
   ]
  },
  {
   "cell_type": "code",
   "execution_count": 27,
   "id": "b42ca501",
   "metadata": {
    "ExecuteTime": {
     "end_time": "2022-06-30T01:57:34.410493Z",
     "start_time": "2022-06-30T01:57:34.407395Z"
    }
   },
   "outputs": [
    {
     "data": {
      "text/plain": [
       "bedrooms                   -23,960.59\n",
       "bathrooms                   23,872.07\n",
       "sqft_living      1,401,952,867,768.46\n",
       "sqft_lot                         0.21\n",
       "floors                     -46,838.39\n",
       "waterfront                 663,684.18\n",
       "view                        58,833.20\n",
       "condition                   24,052.95\n",
       "grade                       59,422.39\n",
       "sqft_above      -1,401,952,867,567.36\n",
       "sqft_basement   -1,401,952,867,643.39\n",
       "yr_built                      -633.72\n",
       "yr_renovated                    15.33\n",
       "sqft_living15                   11.77\n",
       "sqft_lot15                      -0.09\n",
       "zipcode_98001          -12,360,490.30\n",
       "zipcode_98002          -12,336,492.11\n",
       "zipcode_98003          -12,380,944.51\n",
       "zipcode_98004          -11,571,999.26\n",
       "zipcode_98005          -12,052,174.67\n",
       "zipcode_98006          -12,104,417.47\n",
       "zipcode_98007          -12,117,213.41\n",
       "zipcode_98008          -12,109,181.11\n",
       "zipcode_98010          -12,300,623.48\n",
       "zipcode_98011          -12,243,372.54\n",
       "zipcode_98014          -12,266,832.25\n",
       "zipcode_98019          -12,274,599.90\n",
       "zipcode_98022          -12,377,767.91\n",
       "zipcode_98023          -12,400,093.05\n",
       "zipcode_98024          -12,199,101.92\n",
       "zipcode_98027          -12,183,516.57\n",
       "zipcode_98028          -12,245,149.10\n",
       "zipcode_98029          -12,157,173.67\n",
       "zipcode_98030          -12,357,476.90\n",
       "zipcode_98031          -12,350,326.13\n",
       "zipcode_98032          -12,364,431.03\n",
       "zipcode_98033          -11,993,217.14\n",
       "zipcode_98034          -12,163,402.56\n",
       "zipcode_98038          -12,331,141.49\n",
       "zipcode_98039          -11,002,936.86\n",
       "zipcode_98040          -11,857,273.08\n",
       "zipcode_98042          -12,360,159.31\n",
       "zipcode_98045          -12,275,406.71\n",
       "zipcode_98052          -12,137,040.61\n",
       "zipcode_98053          -12,176,241.16\n",
       "zipcode_98055          -12,316,273.93\n",
       "zipcode_98056          -12,266,117.86\n",
       "zipcode_98058          -12,338,578.57\n",
       "zipcode_98059          -12,278,183.43\n",
       "zipcode_98065          -12,283,530.29\n",
       "zipcode_98070          -12,367,673.99\n",
       "zipcode_98072          -12,205,227.95\n",
       "zipcode_98074          -12,189,481.02\n",
       "zipcode_98075          -12,200,488.84\n",
       "zipcode_98077          -12,240,625.79\n",
       "zipcode_98092          -12,403,296.23\n",
       "zipcode_98102          -11,887,503.62\n",
       "zipcode_98103          -12,020,313.86\n",
       "zipcode_98105          -11,892,478.22\n",
       "zipcode_98106          -12,207,214.68\n",
       "zipcode_98107          -12,008,620.39\n",
       "zipcode_98108          -12,227,495.42\n",
       "zipcode_98109          -11,847,743.81\n",
       "zipcode_98112          -11,735,612.17\n",
       "zipcode_98115          -12,023,734.62\n",
       "zipcode_98116          -12,062,578.66\n",
       "zipcode_98117          -12,040,364.97\n",
       "zipcode_98118          -12,182,198.55\n",
       "zipcode_98119          -11,881,463.76\n",
       "zipcode_98122          -12,019,512.94\n",
       "zipcode_98125          -12,156,471.22\n",
       "zipcode_98126          -12,164,491.57\n",
       "zipcode_98133          -12,190,047.19\n",
       "zipcode_98136          -12,110,818.53\n",
       "zipcode_98144          -12,074,110.93\n",
       "zipcode_98146          -12,252,509.66\n",
       "zipcode_98148          -12,284,404.30\n",
       "zipcode_98155          -12,209,497.53\n",
       "zipcode_98166          -12,300,492.28\n",
       "zipcode_98168          -12,283,378.67\n",
       "zipcode_98177          -12,143,718.21\n",
       "zipcode_98178          -12,324,924.92\n",
       "zipcode_98188          -12,326,466.97\n",
       "zipcode_98198          -12,362,038.03\n",
       "zipcode_98199          -11,972,012.30\n",
       "intercept               13,086,752.23\n",
       "dtype: float64"
      ]
     },
     "execution_count": 27,
     "metadata": {},
     "output_type": "execute_result"
    }
   ],
   "source": [
    "pd.set_option('display.float_format', lambda x: f\"{x:,.2f}\")\n",
    "coeffs"
   ]
  },
  {
   "cell_type": "markdown",
   "id": "d110ba4c",
   "metadata": {},
   "source": [
    "## Inspecting Our Coefficients - Sanity Check"
   ]
  },
  {
   "cell_type": "markdown",
   "id": "3d630845",
   "metadata": {},
   "source": [
    "- Remember that we are currently using the raw numeric data, we have not applied any scaling. Therefore, our coefficients represent the actual cost in USD (\\$) that is added to/subtracted from the home for each additional 1 unit of that feature.\n",
    "\n",
    "- We have a large number of coefficients, which makes it trickier to visualize on one graph. \n",
    "\n",
    "- If we save the list of feature names that are the One Hot Encoded zipcodes, we can easily slice them out into a separate graph\n",
    "\n"
   ]
  },
  {
   "cell_type": "code",
   "execution_count": 28,
   "id": "06978567",
   "metadata": {
    "ExecuteTime": {
     "end_time": "2022-06-30T01:57:34.419423Z",
     "start_time": "2022-06-30T01:57:34.416210Z"
    }
   },
   "outputs": [
    {
     "name": "stdout",
     "output_type": "stream",
     "text": [
      "['zipcode_98001', 'zipcode_98002', 'zipcode_98003', 'zipcode_98004', 'zipcode_98005']\n"
     ]
    },
    {
     "data": {
      "text/plain": [
       "['bedrooms',\n",
       " 'bathrooms',\n",
       " 'sqft_living',\n",
       " 'sqft_lot',\n",
       " 'floors',\n",
       " 'waterfront',\n",
       " 'view',\n",
       " 'condition',\n",
       " 'grade',\n",
       " 'sqft_above',\n",
       " 'sqft_basement',\n",
       " 'yr_built',\n",
       " 'yr_renovated',\n",
       " 'sqft_living15',\n",
       " 'sqft_lot15']"
      ]
     },
     "execution_count": 28,
     "metadata": {},
     "output_type": "execute_result"
    }
   ],
   "source": [
    "## Saving list of zipcode features and other feautures\n",
    "# Method A) For Loop to save zipcode column names\n",
    "zip_cols = []\n",
    "nonzip_cols = []\n",
    "for col in X_train_df.columns:\n",
    "    if col.startswith('zipcode'):\n",
    "        zip_cols.append(col)\n",
    "    else:\n",
    "        nonzip_cols.append(col)\n",
    "\n",
    "## Preview first 5 zipcols and all nonzip cols\n",
    "print(zip_cols[:5])        \n",
    "nonzip_cols"
   ]
  },
  {
   "cell_type": "code",
   "execution_count": 29,
   "id": "d838129f",
   "metadata": {
    "ExecuteTime": {
     "end_time": "2022-06-30T01:57:34.423465Z",
     "start_time": "2022-06-30T01:57:34.420484Z"
    }
   },
   "outputs": [
    {
     "name": "stdout",
     "output_type": "stream",
     "text": [
      "['zipcode_98001', 'zipcode_98002', 'zipcode_98003', 'zipcode_98004', 'zipcode_98005']\n"
     ]
    },
    {
     "data": {
      "text/plain": [
       "['bedrooms',\n",
       " 'bathrooms',\n",
       " 'sqft_living',\n",
       " 'sqft_lot',\n",
       " 'floors',\n",
       " 'waterfront',\n",
       " 'view',\n",
       " 'condition',\n",
       " 'grade',\n",
       " 'sqft_above',\n",
       " 'sqft_basement',\n",
       " 'yr_built',\n",
       " 'yr_renovated',\n",
       " 'sqft_living15',\n",
       " 'sqft_lot15']"
      ]
     },
     "execution_count": 29,
     "metadata": {},
     "output_type": "execute_result"
    }
   ],
   "source": [
    "## Saving list of zipcode features and other feautures\n",
    "# Method B) List Comprehension Way\n",
    "zip_cols = [c for c in X_train_df.columns if c.startswith('zipcode')]\n",
    "nonzip_cols = [c for c in X_train_df.columns if not c.startswith('zipcode')]\n",
    "\n",
    "\n",
    "## Preview first 5 zipcols and all nonzip cols\n",
    "print(zip_cols[:5])        \n",
    "nonzip_cols"
   ]
  },
  {
   "cell_type": "markdown",
   "id": "fd1479c2",
   "metadata": {},
   "source": [
    "### VIsualizing Coefficients"
   ]
  },
  {
   "cell_type": "markdown",
   "id": "0781f874",
   "metadata": {},
   "source": [
    "- Now, let's examine the coefficients below and see if they make sense, based on our knowledge about houses. "
   ]
  },
  {
   "cell_type": "code",
   "execution_count": 30,
   "id": "deeaa3bc",
   "metadata": {
    "ExecuteTime": {
     "end_time": "2022-06-30T01:57:34.427506Z",
     "start_time": "2022-06-30T01:57:34.424402Z"
    }
   },
   "outputs": [
    {
     "data": {
      "text/plain": [
       "bedrooms                   -23,960.59\n",
       "bathrooms                   23,872.07\n",
       "sqft_living      1,401,952,867,768.46\n",
       "sqft_lot                         0.21\n",
       "floors                     -46,838.39\n",
       "waterfront                 663,684.18\n",
       "view                        58,833.20\n",
       "condition                   24,052.95\n",
       "grade                       59,422.39\n",
       "sqft_above      -1,401,952,867,567.36\n",
       "sqft_basement   -1,401,952,867,643.39\n",
       "yr_built                      -633.72\n",
       "yr_renovated                    15.33\n",
       "sqft_living15                   11.77\n",
       "sqft_lot15                      -0.09\n",
       "intercept               13,086,752.23\n",
       "dtype: float64"
      ]
     },
     "execution_count": 30,
     "metadata": {},
     "output_type": "execute_result"
    }
   ],
   "source": [
    "## Temporar\n",
    "nonzip_coeffs = coeffs.drop(zip_cols)\n",
    "nonzip_coeffs"
   ]
  },
  {
   "cell_type": "markdown",
   "id": "d434a331",
   "metadata": {},
   "source": [
    "<p style=\"color:red; fontweight:bold\">NOTE: UPDATE THE VALUES BELOW ONCE SETTLE ON FINAL MODEL</p>\n",
    "\n",
    "- Hmmm... for for each additional:\n",
    "    - 1 bedroom subtract \\\\$23,962.29 from the price.\n",
    "        - Hmm, seems a little odd, but we can investigate bedrooms further with EDA. \n",
    "    - 1 bathroom add \\\\$23,824.63\n",
    "        - Ok, that sounds reasonable. \n",
    "    - 1 sqft of living space subtract ... \\\\$1,553,596,045,401.33 ?!?!?!?\n",
    "        - Hmm... $1.6 trillion dollars?!?!?! for 1 sqft of space? Something seems wrong here... \n",
    "\n",
    "Indeed, if we examine our other coefficients, we have several that seem like impractical/unrealistic values (i.e. sqft_above and sqft_basement)\n",
    "\n",
    "If we inspect the coefficients for zipcodes, we will find some additional unrealistic values. (Why would a zipcode subtract \\\\$8 million from a home's value??"
   ]
  },
  {
   "cell_type": "code",
   "execution_count": 31,
   "id": "fe5cba42",
   "metadata": {
    "ExecuteTime": {
     "end_time": "2022-06-30T01:57:34.431423Z",
     "start_time": "2022-06-30T01:57:34.428516Z"
    }
   },
   "outputs": [
    {
     "data": {
      "text/plain": [
       "zipcode_98001   -12,360,490.30\n",
       "zipcode_98002   -12,336,492.11\n",
       "zipcode_98003   -12,380,944.51\n",
       "zipcode_98004   -11,571,999.26\n",
       "zipcode_98005   -12,052,174.67\n",
       "zipcode_98006   -12,104,417.47\n",
       "zipcode_98007   -12,117,213.41\n",
       "zipcode_98008   -12,109,181.11\n",
       "zipcode_98010   -12,300,623.48\n",
       "zipcode_98011   -12,243,372.54\n",
       "zipcode_98014   -12,266,832.25\n",
       "zipcode_98019   -12,274,599.90\n",
       "zipcode_98022   -12,377,767.91\n",
       "zipcode_98023   -12,400,093.05\n",
       "zipcode_98024   -12,199,101.92\n",
       "zipcode_98027   -12,183,516.57\n",
       "zipcode_98028   -12,245,149.10\n",
       "zipcode_98029   -12,157,173.67\n",
       "zipcode_98030   -12,357,476.90\n",
       "zipcode_98031   -12,350,326.13\n",
       "zipcode_98032   -12,364,431.03\n",
       "zipcode_98033   -11,993,217.14\n",
       "zipcode_98034   -12,163,402.56\n",
       "zipcode_98038   -12,331,141.49\n",
       "zipcode_98039   -11,002,936.86\n",
       "zipcode_98040   -11,857,273.08\n",
       "zipcode_98042   -12,360,159.31\n",
       "zipcode_98045   -12,275,406.71\n",
       "zipcode_98052   -12,137,040.61\n",
       "zipcode_98053   -12,176,241.16\n",
       "zipcode_98055   -12,316,273.93\n",
       "zipcode_98056   -12,266,117.86\n",
       "zipcode_98058   -12,338,578.57\n",
       "zipcode_98059   -12,278,183.43\n",
       "zipcode_98065   -12,283,530.29\n",
       "zipcode_98070   -12,367,673.99\n",
       "zipcode_98072   -12,205,227.95\n",
       "zipcode_98074   -12,189,481.02\n",
       "zipcode_98075   -12,200,488.84\n",
       "zipcode_98077   -12,240,625.79\n",
       "zipcode_98092   -12,403,296.23\n",
       "zipcode_98102   -11,887,503.62\n",
       "zipcode_98103   -12,020,313.86\n",
       "zipcode_98105   -11,892,478.22\n",
       "zipcode_98106   -12,207,214.68\n",
       "zipcode_98107   -12,008,620.39\n",
       "zipcode_98108   -12,227,495.42\n",
       "zipcode_98109   -11,847,743.81\n",
       "zipcode_98112   -11,735,612.17\n",
       "zipcode_98115   -12,023,734.62\n",
       "zipcode_98116   -12,062,578.66\n",
       "zipcode_98117   -12,040,364.97\n",
       "zipcode_98118   -12,182,198.55\n",
       "zipcode_98119   -11,881,463.76\n",
       "zipcode_98122   -12,019,512.94\n",
       "zipcode_98125   -12,156,471.22\n",
       "zipcode_98126   -12,164,491.57\n",
       "zipcode_98133   -12,190,047.19\n",
       "zipcode_98136   -12,110,818.53\n",
       "zipcode_98144   -12,074,110.93\n",
       "zipcode_98146   -12,252,509.66\n",
       "zipcode_98148   -12,284,404.30\n",
       "zipcode_98155   -12,209,497.53\n",
       "zipcode_98166   -12,300,492.28\n",
       "zipcode_98168   -12,283,378.67\n",
       "zipcode_98177   -12,143,718.21\n",
       "zipcode_98178   -12,324,924.92\n",
       "zipcode_98188   -12,326,466.97\n",
       "zipcode_98198   -12,362,038.03\n",
       "zipcode_98199   -11,972,012.30\n",
       "dtype: float64"
      ]
     },
     "execution_count": 31,
     "metadata": {},
     "output_type": "execute_result"
    }
   ],
   "source": [
    "zip_coeffs = coeffs.loc[zip_cols]\n",
    "zip_coeffs"
   ]
  },
  {
   "cell_type": "markdown",
   "id": "604044ea",
   "metadata": {},
   "source": [
    "- We will iterate upon this model and discuss alternative choices we can make to optimize the model for providing insights for our stakeholder."
   ]
  },
  {
   "cell_type": "markdown",
   "id": "4cb28aa5",
   "metadata": {},
   "source": [
    "## Summary"
   ]
  },
  {
   "cell_type": "markdown",
   "id": "6dc22fb4",
   "metadata": {},
   "source": [
    "- In this lesson, we revisited linear regression with scikit-learn. We introduced some simplifications to our workflow and discussed extracting coefficients from our LinearRegression model. \n",
    "\n",
    "- Next lesson we will iterate on our current model to find more intuitive coefficients that we can use to extract insight for our stakeholders."
   ]
  },
  {
   "cell_type": "markdown",
   "id": "d1d016fd",
   "metadata": {},
   "source": [
    "### Recap - Sklearn v1.1"
   ]
  },
  {
   "cell_type": "markdown",
   "id": "29024ca2",
   "metadata": {},
   "source": [
    "- We added the argument `verbose_feature_names_out=False` to `make_column_transformer`, which let us extract our feature names (after fitting the preprocessor) using `.get_feature_names_out()`\n",
    "\n",
    "- We then used this list of features when reconstruction our transformed X_train and X_test as dataframes and when extracting coefficients from our model."
   ]
  },
  {
   "cell_type": "markdown",
   "id": "867531c3",
   "metadata": {},
   "source": [
    "### Recap - Pandas Options"
   ]
  },
  {
   "cell_type": "markdown",
   "id": "7f4c4975",
   "metadata": {},
   "source": [
    "- We used the following options in our notebook. Ideally, we should group these together and move them to the top of our notebook, immediately after our imports."
   ]
  },
  {
   "cell_type": "code",
   "execution_count": 32,
   "id": "84d201d0",
   "metadata": {
    "ExecuteTime": {
     "end_time": "2022-06-30T01:57:34.434157Z",
     "start_time": "2022-06-30T01:57:34.432320Z"
    }
   },
   "outputs": [],
   "source": [
    "## Reviewing the options used\n",
    "pd.set_option('display.max_columns',100)\n",
    "pd.set_option('display.max_rows',100)\n",
    "pd.set_option('display.float_format', lambda x: f\"{x:,.2f}\")"
   ]
  }
 ],
 "metadata": {
  "kernelspec": {
   "display_name": "Python (dojo-env)",
   "language": "python",
   "name": "dojo-env"
  },
  "language_info": {
   "codemirror_mode": {
    "name": "ipython",
    "version": 3
   },
   "file_extension": ".py",
   "mimetype": "text/x-python",
   "name": "python",
   "nbconvert_exporter": "python",
   "pygments_lexer": "ipython3",
   "version": "3.8.13"
  },
  "toc": {
   "base_numbering": 1,
   "nav_menu": {},
   "number_sections": false,
   "sideBar": true,
   "skip_h1_title": false,
   "title_cell": "Table of Contents",
   "title_sidebar": "Contents",
   "toc_cell": false,
   "toc_position": {
    "height": "calc(100% - 180px)",
    "left": "10px",
    "top": "150px",
    "width": "332.43px"
   },
   "toc_section_display": true,
   "toc_window_display": true
  }
 },
 "nbformat": 4,
 "nbformat_minor": 5
}
