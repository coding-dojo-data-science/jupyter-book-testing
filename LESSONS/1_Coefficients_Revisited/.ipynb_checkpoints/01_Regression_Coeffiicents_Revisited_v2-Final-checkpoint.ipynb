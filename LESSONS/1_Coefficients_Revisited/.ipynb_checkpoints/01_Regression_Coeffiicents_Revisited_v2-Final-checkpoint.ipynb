{
 "cells": [
  {
   "cell_type": "markdown",
   "id": "3c5fb67b",
   "metadata": {},
   "source": [
    "# Regression Coefficients - Revisited"
   ]
  },
  {
   "cell_type": "markdown",
   "id": "c47c4f43",
   "metadata": {},
   "source": [
    "## Lesson Objectives"
   ]
  },
  {
   "cell_type": "markdown",
   "id": "89b236d8",
   "metadata": {},
   "source": [
    "By the end of this lesson, students will be able to:\n",
    "- Use scikit-learn v1.1's simplified toolkit.\n",
    "- Extract and visualize coefficients from sklearn regression model. \n",
    "- Control panda's display options to facilitate interpretation.\n"
   ]
  },
  {
   "cell_type": "markdown",
   "id": "6c7e5567",
   "metadata": {},
   "source": [
    "## Introduction"
   ]
  },
  {
   "cell_type": "markdown",
   "id": "10f5efe1",
   "metadata": {},
   "source": [
    "- At the end of last stack, we dove deep into linear regression models and their assumptions. We introduced a new package called statsmodels, which produced a Linear Regression model using \"Ordinary-Least-Squared (OLS)\". \n",
    "- The model included a robust statistical summary that was incredibly informative as we critically diagnosed our regression model and if we met the assumptions of linear regression.\n",
    "- This stack, we will be focusing on extracting insights from our models: both by examining parameters/aspects of the model itself, like the coefficients it calculated, but also by applying some additional tools and packages specifically designed to explain models. \n",
    "\n",
    "- Most of these tools are compatible with the scikit-learn ecosystem but are not yet available for statsmodels.\n",
    "\n",
    "Since we are not focusing on regression diagnostics this week, we will shift back to using scikit-learn models. Scikit-learn recently released version 1.1.1, which added several helpful tools that will simplify our workflow. \n",
    "\n",
    "Let's review some of these key updates as we rebuild our housing regression model from week 16.\n"
   ]
  },
  {
   "cell_type": "markdown",
   "id": "14b91cb4",
   "metadata": {},
   "source": [
    "# Confirming Package Versions"
   ]
  },
  {
   "cell_type": "markdown",
   "id": "186c7402",
   "metadata": {},
   "source": [
    "- All packages have a version number that indicates which iteration of the package is currently being used.\n",
    "    - If you import an entire package, you can use the special method `package.__version__` (replace package with the name of the package you want to check).\n",
    "- The reason this is important is that as of the writing of this stack, Google Colab is still using a version of python that is too old to support the newest scikit-learn.\n",
    "    - You can check which version of python you are using by running the following command in a jupyter notebook:\n",
    "        - `!python --version`\n",
    "        - Note: if you remove the `!`, you can run this command in your terminal.\n",
    "\n",
    "- If you run the following code on Google Colab and on your local computer, you can compare the version numbers. \n",
    "        \n",
    "<img src=\"colab_versions.png\" width=400px>\n",
    "\n",
    "- Now, run the following block of code in a jupyter notebook on your local machine to confirm that you have Python 3.8.13 and sklearn v1.1.1.\n"
   ]
  },
  {
   "cell_type": "code",
   "execution_count": 1,
   "id": "7cee376a",
   "metadata": {
    "ExecuteTime": {
     "end_time": "2022-06-30T01:57:29.300225Z",
     "start_time": "2022-06-30T01:57:28.860374Z"
    }
   },
   "outputs": [
    {
     "name": "stdout",
     "output_type": "stream",
     "text": [
      "sklearn version: 1.1.1\n",
      "Python 3.8.13\r\n"
     ]
    }
   ],
   "source": [
    "# Run the following command on your local computer to \n",
    "import sklearn\n",
    "print(f\"sklearn version: {sklearn.__version__}\")\n",
    "!python --version"
   ]
  },
  {
   "cell_type": "markdown",
   "id": "9f36321c",
   "metadata": {},
   "source": [
    "\n",
    ">- If you have a Python 3.7 or an earlier version of scikit-learn, please revisit the \"`<Insert the name of the \"week\" of content on the LP for installation>`\". \n",
    "    - See the \"`Updating Your Dojo-Env Lesson` [Note to Brenda: does not exist yet - see 1:1 doc for question on handling multiple envs] for how to remove your current dojo-env and replace it with the new one."
   ]
  },
  {
   "cell_type": "markdown",
   "id": "38d1e0a6",
   "metadata": {},
   "source": [
    "# Extracting Coefficients from LinearRegression in scikit-learn"
   ]
  },
  {
   "cell_type": "markdown",
   "id": "bebaa916",
   "metadata": {},
   "source": [
    "## Highlighted Changes  - scikit-learn v1.1"
   ]
  },
  {
   "cell_type": "markdown",
   "id": "76ccd895",
   "metadata": {},
   "source": [
    "- The single biggest change in the updated sklearn is a fully-functional `.get_feature_names_out()` method in the `ColumnTransformer`.\n",
    "    - This will make it MUCH easier for us to extract our transformed data as dataframes and to match up the feature names to our models' coefficients.\n",
    "- There are some additional updates that are not pertinent to this stack, but if you are curious, you can find the [details on the new release here](https://scikit-learn.org/stable/auto_examples/release_highlights/plot_release_highlights_1_1_0.html)."
   ]
  },
  {
   "cell_type": "markdown",
   "id": "fcdb73ac",
   "metadata": {},
   "source": [
    "## New and Improved `ColumnTransformer` "
   ]
  },
  {
   "cell_type": "code",
   "execution_count": 2,
   "id": "3c75eca1",
   "metadata": {
    "ExecuteTime": {
     "end_time": "2022-06-30T01:57:29.694892Z",
     "start_time": "2022-06-30T01:57:29.303470Z"
    }
   },
   "outputs": [],
   "source": [
    "import pandas as pd\n",
    "import numpy as np\n",
    "import matplotlib as mpl\n",
    "import matplotlib.pyplot as plt\n",
    "import seaborn as sns\n",
    "\n",
    "## Customization Options\n",
    "plt.style.use(['fivethirtyeight','seaborn-talk'])\n",
    "mpl.rcParams['figure.facecolor']='white'\n",
    "\n",
    "## additional required imports\n",
    "from sklearn.model_selection import train_test_split\n",
    "from sklearn.preprocessing import OneHotEncoder, StandardScaler\n",
    "from sklearn.impute import SimpleImputer\n",
    "from sklearn.compose import make_column_transformer, make_column_selector, ColumnTransformer\n",
    "from sklearn.pipeline import make_pipeline, Pipeline\n",
    "from sklearn import metrics\n",
    "\n",
    "# set random seed\n",
    "SEED = 321\n",
    "np.random.seed(SEED)\n",
    "\n",
    "## set text displays for sklearn\n",
    "from sklearn import set_config\n",
    "set_config(display='text')"
   ]
  },
  {
   "cell_type": "code",
   "execution_count": null,
   "id": "982cd3af",
   "metadata": {},
   "outputs": [],
   "source": []
  },
  {
   "cell_type": "code",
   "execution_count": 3,
   "id": "33400d17",
   "metadata": {
    "ExecuteTime": {
     "end_time": "2022-06-30T01:57:34.040282Z",
     "start_time": "2022-06-30T01:57:29.695903Z"
    }
   },
   "outputs": [
    {
     "name": "stdout",
     "output_type": "stream",
     "text": [
      "<class 'pandas.core.frame.DataFrame'>\n",
      "RangeIndex: 395 entries, 0 to 394\n",
      "Data columns (total 33 columns):\n",
      " #   Column      Non-Null Count  Dtype  \n",
      "---  ------      --------------  -----  \n",
      " 0   school      395 non-null    object \n",
      " 1   sex         395 non-null    object \n",
      " 2   age         395 non-null    float64\n",
      " 3   address     395 non-null    object \n",
      " 4   famsize     395 non-null    object \n",
      " 5   Pstatus     395 non-null    object \n",
      " 6   Medu        395 non-null    float64\n",
      " 7   Fedu        395 non-null    float64\n",
      " 8   Mjob        395 non-null    object \n",
      " 9   Fjob        395 non-null    object \n",
      " 10  reason      395 non-null    object \n",
      " 11  guardian    395 non-null    object \n",
      " 12  traveltime  395 non-null    float64\n",
      " 13  studytime   395 non-null    float64\n",
      " 14  failures    395 non-null    float64\n",
      " 15  schoolsup   395 non-null    object \n",
      " 16  famsup      395 non-null    object \n",
      " 17  paid        395 non-null    object \n",
      " 18  activities  395 non-null    object \n",
      " 19  nursery     395 non-null    object \n",
      " 20  higher      395 non-null    object \n",
      " 21  internet    395 non-null    object \n",
      " 22  romantic    395 non-null    object \n",
      " 23  famrel      395 non-null    float64\n",
      " 24  freetime    395 non-null    float64\n",
      " 25  goout       395 non-null    float64\n",
      " 26  Dalc        395 non-null    float64\n",
      " 27  Walc        395 non-null    float64\n",
      " 28  health      395 non-null    float64\n",
      " 29  absences    395 non-null    float64\n",
      " 30  G1          395 non-null    float64\n",
      " 31  G2          395 non-null    float64\n",
      " 32  G3          395 non-null    float64\n",
      "dtypes: float64(16), object(17)\n",
      "memory usage: 102.0+ KB\n"
     ]
    },
    {
     "data": {
      "text/html": [
       "<div>\n",
       "<style scoped>\n",
       "    .dataframe tbody tr th:only-of-type {\n",
       "        vertical-align: middle;\n",
       "    }\n",
       "\n",
       "    .dataframe tbody tr th {\n",
       "        vertical-align: top;\n",
       "    }\n",
       "\n",
       "    .dataframe thead th {\n",
       "        text-align: right;\n",
       "    }\n",
       "</style>\n",
       "<table border=\"1\" class=\"dataframe\">\n",
       "  <thead>\n",
       "    <tr style=\"text-align: right;\">\n",
       "      <th></th>\n",
       "      <th>school</th>\n",
       "      <th>sex</th>\n",
       "      <th>age</th>\n",
       "      <th>address</th>\n",
       "      <th>famsize</th>\n",
       "      <th>Pstatus</th>\n",
       "      <th>Medu</th>\n",
       "      <th>Fedu</th>\n",
       "      <th>Mjob</th>\n",
       "      <th>Fjob</th>\n",
       "      <th>...</th>\n",
       "      <th>famrel</th>\n",
       "      <th>freetime</th>\n",
       "      <th>goout</th>\n",
       "      <th>Dalc</th>\n",
       "      <th>Walc</th>\n",
       "      <th>health</th>\n",
       "      <th>absences</th>\n",
       "      <th>G1</th>\n",
       "      <th>G2</th>\n",
       "      <th>G3</th>\n",
       "    </tr>\n",
       "  </thead>\n",
       "  <tbody>\n",
       "    <tr>\n",
       "      <th>0</th>\n",
       "      <td>GP</td>\n",
       "      <td>F</td>\n",
       "      <td>18.0</td>\n",
       "      <td>U</td>\n",
       "      <td>GT3</td>\n",
       "      <td>A</td>\n",
       "      <td>4.0</td>\n",
       "      <td>4.0</td>\n",
       "      <td>at_home</td>\n",
       "      <td>teacher</td>\n",
       "      <td>...</td>\n",
       "      <td>4.0</td>\n",
       "      <td>3.0</td>\n",
       "      <td>4.0</td>\n",
       "      <td>1.0</td>\n",
       "      <td>1.0</td>\n",
       "      <td>3.0</td>\n",
       "      <td>6.0</td>\n",
       "      <td>5.0</td>\n",
       "      <td>6.0</td>\n",
       "      <td>6.0</td>\n",
       "    </tr>\n",
       "    <tr>\n",
       "      <th>1</th>\n",
       "      <td>GP</td>\n",
       "      <td>F</td>\n",
       "      <td>17.0</td>\n",
       "      <td>U</td>\n",
       "      <td>GT3</td>\n",
       "      <td>T</td>\n",
       "      <td>1.0</td>\n",
       "      <td>1.0</td>\n",
       "      <td>at_home</td>\n",
       "      <td>other</td>\n",
       "      <td>...</td>\n",
       "      <td>5.0</td>\n",
       "      <td>3.0</td>\n",
       "      <td>3.0</td>\n",
       "      <td>1.0</td>\n",
       "      <td>1.0</td>\n",
       "      <td>3.0</td>\n",
       "      <td>4.0</td>\n",
       "      <td>5.0</td>\n",
       "      <td>5.0</td>\n",
       "      <td>6.0</td>\n",
       "    </tr>\n",
       "    <tr>\n",
       "      <th>2</th>\n",
       "      <td>GP</td>\n",
       "      <td>F</td>\n",
       "      <td>15.0</td>\n",
       "      <td>U</td>\n",
       "      <td>LE3</td>\n",
       "      <td>T</td>\n",
       "      <td>1.0</td>\n",
       "      <td>1.0</td>\n",
       "      <td>at_home</td>\n",
       "      <td>other</td>\n",
       "      <td>...</td>\n",
       "      <td>4.0</td>\n",
       "      <td>3.0</td>\n",
       "      <td>2.0</td>\n",
       "      <td>2.0</td>\n",
       "      <td>3.0</td>\n",
       "      <td>3.0</td>\n",
       "      <td>10.0</td>\n",
       "      <td>7.0</td>\n",
       "      <td>8.0</td>\n",
       "      <td>10.0</td>\n",
       "    </tr>\n",
       "    <tr>\n",
       "      <th>3</th>\n",
       "      <td>GP</td>\n",
       "      <td>F</td>\n",
       "      <td>15.0</td>\n",
       "      <td>U</td>\n",
       "      <td>GT3</td>\n",
       "      <td>T</td>\n",
       "      <td>4.0</td>\n",
       "      <td>2.0</td>\n",
       "      <td>health</td>\n",
       "      <td>services</td>\n",
       "      <td>...</td>\n",
       "      <td>3.0</td>\n",
       "      <td>2.0</td>\n",
       "      <td>2.0</td>\n",
       "      <td>1.0</td>\n",
       "      <td>1.0</td>\n",
       "      <td>5.0</td>\n",
       "      <td>2.0</td>\n",
       "      <td>15.0</td>\n",
       "      <td>14.0</td>\n",
       "      <td>15.0</td>\n",
       "    </tr>\n",
       "    <tr>\n",
       "      <th>4</th>\n",
       "      <td>GP</td>\n",
       "      <td>F</td>\n",
       "      <td>16.0</td>\n",
       "      <td>U</td>\n",
       "      <td>GT3</td>\n",
       "      <td>T</td>\n",
       "      <td>3.0</td>\n",
       "      <td>3.0</td>\n",
       "      <td>other</td>\n",
       "      <td>other</td>\n",
       "      <td>...</td>\n",
       "      <td>4.0</td>\n",
       "      <td>3.0</td>\n",
       "      <td>2.0</td>\n",
       "      <td>1.0</td>\n",
       "      <td>2.0</td>\n",
       "      <td>5.0</td>\n",
       "      <td>4.0</td>\n",
       "      <td>6.0</td>\n",
       "      <td>10.0</td>\n",
       "      <td>10.0</td>\n",
       "    </tr>\n",
       "  </tbody>\n",
       "</table>\n",
       "<p>5 rows × 33 columns</p>\n",
       "</div>"
      ],
      "text/plain": [
       "  school sex   age address famsize Pstatus  Medu  Fedu     Mjob      Fjob  \\\n",
       "0     GP   F  18.0       U     GT3       A   4.0   4.0  at_home   teacher   \n",
       "1     GP   F  17.0       U     GT3       T   1.0   1.0  at_home     other   \n",
       "2     GP   F  15.0       U     LE3       T   1.0   1.0  at_home     other   \n",
       "3     GP   F  15.0       U     GT3       T   4.0   2.0   health  services   \n",
       "4     GP   F  16.0       U     GT3       T   3.0   3.0    other     other   \n",
       "\n",
       "   ... famrel freetime  goout  Dalc  Walc health absences    G1    G2    G3  \n",
       "0  ...    4.0      3.0    4.0   1.0   1.0    3.0      6.0   5.0   6.0   6.0  \n",
       "1  ...    5.0      3.0    3.0   1.0   1.0    3.0      4.0   5.0   5.0   6.0  \n",
       "2  ...    4.0      3.0    2.0   2.0   3.0    3.0     10.0   7.0   8.0  10.0  \n",
       "3  ...    3.0      2.0    2.0   1.0   1.0    5.0      2.0  15.0  14.0  15.0  \n",
       "4  ...    4.0      3.0    2.0   1.0   2.0    5.0      4.0   6.0  10.0  10.0  \n",
       "\n",
       "[5 rows x 33 columns]"
      ]
     },
     "execution_count": 3,
     "metadata": {},
     "output_type": "execute_result"
    }
   ],
   "source": [
    "## Load in the student performance - math dataset & display the head and info\n",
    "url = \"https://docs.google.com/spreadsheets/d/e/2PACX-1vS6xDKNpWkBBdhZSqepy48bXo55QnRv1Xy6tXTKYzZLMPjZozMfYhHQjAcC8uj9hQ/pub?output=xlsx\"\n",
    "\n",
    "df = pd.read_excel(url,sheet_name='student-mat')\n",
    "df.info()\n",
    "df.head()"
   ]
  },
  {
   "cell_type": "code",
   "execution_count": 4,
   "id": "ccac4a6c",
   "metadata": {},
   "outputs": [
    {
     "data": {
      "text/plain": [
       "school         2\n",
       "sex            2\n",
       "age            8\n",
       "address        2\n",
       "famsize        2\n",
       "Pstatus        2\n",
       "Medu           5\n",
       "Fedu           5\n",
       "Mjob           5\n",
       "Fjob           5\n",
       "reason         4\n",
       "guardian       3\n",
       "traveltime     4\n",
       "studytime      4\n",
       "failures       4\n",
       "schoolsup      2\n",
       "famsup         2\n",
       "paid           2\n",
       "activities     2\n",
       "nursery        2\n",
       "higher         2\n",
       "internet       2\n",
       "romantic       2\n",
       "famrel         5\n",
       "freetime       5\n",
       "goout          5\n",
       "Dalc           5\n",
       "Walc           5\n",
       "health         5\n",
       "absences      34\n",
       "G1            17\n",
       "G2            17\n",
       "G3            18\n",
       "dtype: int64"
      ]
     },
     "execution_count": 4,
     "metadata": {},
     "output_type": "execute_result"
    }
   ],
   "source": [
    "df.nunique()"
   ]
  },
  {
   "cell_type": "markdown",
   "id": "10ccd5b5",
   "metadata": {},
   "source": [
    "### Selecting Our Features"
   ]
  },
  {
   "cell_type": "markdown",
   "id": "e582d334",
   "metadata": {},
   "source": [
    "- If we wanted to make recommendations to the school district on how to identify and help students that will perform poorly by year 3, we should think about what features make the most sense to include.\n",
    "\n",
    "- There are ~2 different approaches  we could take to what to include, depending on what use case we are addressing for our stakeholder.\n",
    "\n",
    "For example, if our primary goal is to just identify 3rd year students that will perform poorly, then including all of these features would make sense.\n",
    "\n",
    "However, if our primary goal is to identify which INCOMING students will perform poorly by their 3rd year, then we would NOT include G1 or G2, since the school will not have those grades for bran new incoming students.\n",
    "\n",
    "- We will start our analysis addressing the first use case, identify rising 3rd year students that will perform poorly."
   ]
  },
  {
   "cell_type": "markdown",
   "id": "62e4a1f6",
   "metadata": {},
   "source": [
    "### Train Test Split"
   ]
  },
  {
   "cell_type": "code",
   "execution_count": 5,
   "id": "eae9da3a",
   "metadata": {
    "ExecuteTime": {
     "end_time": "2022-06-30T01:57:34.074352Z",
     "start_time": "2022-06-30T01:57:34.064720Z"
    }
   },
   "outputs": [
    {
     "data": {
      "text/html": [
       "<div>\n",
       "<style scoped>\n",
       "    .dataframe tbody tr th:only-of-type {\n",
       "        vertical-align: middle;\n",
       "    }\n",
       "\n",
       "    .dataframe tbody tr th {\n",
       "        vertical-align: top;\n",
       "    }\n",
       "\n",
       "    .dataframe thead th {\n",
       "        text-align: right;\n",
       "    }\n",
       "</style>\n",
       "<table border=\"1\" class=\"dataframe\">\n",
       "  <thead>\n",
       "    <tr style=\"text-align: right;\">\n",
       "      <th></th>\n",
       "      <th>school</th>\n",
       "      <th>sex</th>\n",
       "      <th>age</th>\n",
       "      <th>address</th>\n",
       "      <th>famsize</th>\n",
       "      <th>Pstatus</th>\n",
       "      <th>Medu</th>\n",
       "      <th>Fedu</th>\n",
       "      <th>Mjob</th>\n",
       "      <th>Fjob</th>\n",
       "      <th>...</th>\n",
       "      <th>romantic</th>\n",
       "      <th>famrel</th>\n",
       "      <th>freetime</th>\n",
       "      <th>goout</th>\n",
       "      <th>Dalc</th>\n",
       "      <th>Walc</th>\n",
       "      <th>health</th>\n",
       "      <th>absences</th>\n",
       "      <th>G1</th>\n",
       "      <th>G2</th>\n",
       "    </tr>\n",
       "  </thead>\n",
       "  <tbody>\n",
       "    <tr>\n",
       "      <th>215</th>\n",
       "      <td>GP</td>\n",
       "      <td>F</td>\n",
       "      <td>17.0</td>\n",
       "      <td>U</td>\n",
       "      <td>LE3</td>\n",
       "      <td>T</td>\n",
       "      <td>3.0</td>\n",
       "      <td>2.0</td>\n",
       "      <td>other</td>\n",
       "      <td>other</td>\n",
       "      <td>...</td>\n",
       "      <td>no</td>\n",
       "      <td>4.0</td>\n",
       "      <td>4.0</td>\n",
       "      <td>4.0</td>\n",
       "      <td>1.0</td>\n",
       "      <td>3.0</td>\n",
       "      <td>1.0</td>\n",
       "      <td>2.0</td>\n",
       "      <td>14.0</td>\n",
       "      <td>15.0</td>\n",
       "    </tr>\n",
       "    <tr>\n",
       "      <th>48</th>\n",
       "      <td>GP</td>\n",
       "      <td>M</td>\n",
       "      <td>15.0</td>\n",
       "      <td>U</td>\n",
       "      <td>GT3</td>\n",
       "      <td>T</td>\n",
       "      <td>4.0</td>\n",
       "      <td>2.0</td>\n",
       "      <td>teacher</td>\n",
       "      <td>other</td>\n",
       "      <td>...</td>\n",
       "      <td>no</td>\n",
       "      <td>4.0</td>\n",
       "      <td>3.0</td>\n",
       "      <td>3.0</td>\n",
       "      <td>2.0</td>\n",
       "      <td>2.0</td>\n",
       "      <td>5.0</td>\n",
       "      <td>2.0</td>\n",
       "      <td>15.0</td>\n",
       "      <td>15.0</td>\n",
       "    </tr>\n",
       "    <tr>\n",
       "      <th>303</th>\n",
       "      <td>GP</td>\n",
       "      <td>F</td>\n",
       "      <td>17.0</td>\n",
       "      <td>U</td>\n",
       "      <td>GT3</td>\n",
       "      <td>T</td>\n",
       "      <td>3.0</td>\n",
       "      <td>2.0</td>\n",
       "      <td>health</td>\n",
       "      <td>health</td>\n",
       "      <td>...</td>\n",
       "      <td>no</td>\n",
       "      <td>5.0</td>\n",
       "      <td>2.0</td>\n",
       "      <td>2.0</td>\n",
       "      <td>1.0</td>\n",
       "      <td>2.0</td>\n",
       "      <td>5.0</td>\n",
       "      <td>0.0</td>\n",
       "      <td>17.0</td>\n",
       "      <td>17.0</td>\n",
       "    </tr>\n",
       "    <tr>\n",
       "      <th>160</th>\n",
       "      <td>GP</td>\n",
       "      <td>M</td>\n",
       "      <td>17.0</td>\n",
       "      <td>R</td>\n",
       "      <td>LE3</td>\n",
       "      <td>T</td>\n",
       "      <td>2.0</td>\n",
       "      <td>1.0</td>\n",
       "      <td>at_home</td>\n",
       "      <td>other</td>\n",
       "      <td>...</td>\n",
       "      <td>yes</td>\n",
       "      <td>3.0</td>\n",
       "      <td>3.0</td>\n",
       "      <td>2.0</td>\n",
       "      <td>2.0</td>\n",
       "      <td>2.0</td>\n",
       "      <td>5.0</td>\n",
       "      <td>0.0</td>\n",
       "      <td>7.0</td>\n",
       "      <td>6.0</td>\n",
       "    </tr>\n",
       "    <tr>\n",
       "      <th>60</th>\n",
       "      <td>GP</td>\n",
       "      <td>F</td>\n",
       "      <td>16.0</td>\n",
       "      <td>R</td>\n",
       "      <td>GT3</td>\n",
       "      <td>T</td>\n",
       "      <td>4.0</td>\n",
       "      <td>4.0</td>\n",
       "      <td>health</td>\n",
       "      <td>teacher</td>\n",
       "      <td>...</td>\n",
       "      <td>no</td>\n",
       "      <td>2.0</td>\n",
       "      <td>4.0</td>\n",
       "      <td>4.0</td>\n",
       "      <td>2.0</td>\n",
       "      <td>3.0</td>\n",
       "      <td>4.0</td>\n",
       "      <td>6.0</td>\n",
       "      <td>10.0</td>\n",
       "      <td>11.0</td>\n",
       "    </tr>\n",
       "  </tbody>\n",
       "</table>\n",
       "<p>5 rows × 32 columns</p>\n",
       "</div>"
      ],
      "text/plain": [
       "    school sex   age address famsize Pstatus  Medu  Fedu     Mjob     Fjob  \\\n",
       "215     GP   F  17.0       U     LE3       T   3.0   2.0    other    other   \n",
       "48      GP   M  15.0       U     GT3       T   4.0   2.0  teacher    other   \n",
       "303     GP   F  17.0       U     GT3       T   3.0   2.0   health   health   \n",
       "160     GP   M  17.0       R     LE3       T   2.0   1.0  at_home    other   \n",
       "60      GP   F  16.0       R     GT3       T   4.0   4.0   health  teacher   \n",
       "\n",
       "     ... romantic famrel  freetime  goout  Dalc Walc health absences    G1  \\\n",
       "215  ...       no    4.0       4.0    4.0   1.0  3.0    1.0      2.0  14.0   \n",
       "48   ...       no    4.0       3.0    3.0   2.0  2.0    5.0      2.0  15.0   \n",
       "303  ...       no    5.0       2.0    2.0   1.0  2.0    5.0      0.0  17.0   \n",
       "160  ...      yes    3.0       3.0    2.0   2.0  2.0    5.0      0.0   7.0   \n",
       "60   ...       no    2.0       4.0    4.0   2.0  3.0    4.0      6.0  10.0   \n",
       "\n",
       "       G2  \n",
       "215  15.0  \n",
       "48   15.0  \n",
       "303  17.0  \n",
       "160   6.0  \n",
       "60   11.0  \n",
       "\n",
       "[5 rows x 32 columns]"
      ]
     },
     "execution_count": 5,
     "metadata": {},
     "output_type": "execute_result"
    }
   ],
   "source": [
    "## Make x and y variables\n",
    "y = df['G3'].copy()\n",
    "X = df.drop(columns=['G3']).copy()\n",
    "\n",
    "## train-test-split with random state for reproducibility\n",
    "X_train, X_test, y_train, y_test = train_test_split(X,y, random_state=SEED)\n",
    "X_train.head()"
   ]
  },
  {
   "cell_type": "markdown",
   "id": "4cf4eaa2",
   "metadata": {},
   "source": [
    "### Preprocessing + ColumnTransformer"
   ]
  },
  {
   "cell_type": "code",
   "execution_count": 6,
   "id": "a8938da2",
   "metadata": {
    "ExecuteTime": {
     "end_time": "2022-06-30T01:57:34.078166Z",
     "start_time": "2022-06-30T01:57:34.075440Z"
    }
   },
   "outputs": [
    {
     "data": {
      "text/plain": [
       "['school',\n",
       " 'sex',\n",
       " 'address',\n",
       " 'famsize',\n",
       " 'Pstatus',\n",
       " 'Mjob',\n",
       " 'Fjob',\n",
       " 'reason',\n",
       " 'guardian',\n",
       " 'schoolsup',\n",
       " 'famsup',\n",
       " 'paid',\n",
       " 'activities',\n",
       " 'nursery',\n",
       " 'higher',\n",
       " 'internet',\n",
       " 'romantic']"
      ]
     },
     "execution_count": 6,
     "metadata": {},
     "output_type": "execute_result"
    }
   ],
   "source": [
    "## make categorical selector and verifying it works \n",
    "cat_sel = make_column_selector(dtype_include='object')\n",
    "cat_sel(X_train)"
   ]
  },
  {
   "cell_type": "code",
   "execution_count": 7,
   "id": "79d9f8a5",
   "metadata": {
    "ExecuteTime": {
     "end_time": "2022-06-30T01:57:34.081839Z",
     "start_time": "2022-06-30T01:57:34.079294Z"
    }
   },
   "outputs": [
    {
     "data": {
      "text/plain": [
       "['age',\n",
       " 'Medu',\n",
       " 'Fedu',\n",
       " 'traveltime',\n",
       " 'studytime',\n",
       " 'failures',\n",
       " 'famrel',\n",
       " 'freetime',\n",
       " 'goout',\n",
       " 'Dalc',\n",
       " 'Walc',\n",
       " 'health',\n",
       " 'absences',\n",
       " 'G1',\n",
       " 'G2']"
      ]
     },
     "execution_count": 7,
     "metadata": {},
     "output_type": "execute_result"
    }
   ],
   "source": [
    "## make numeric selector and verifying it works \n",
    "num_sel = make_column_selector(dtype_include='number')\n",
    "num_sel(X_train)"
   ]
  },
  {
   "cell_type": "code",
   "execution_count": 8,
   "id": "253478ae",
   "metadata": {
    "ExecuteTime": {
     "end_time": "2022-06-30T01:57:34.086129Z",
     "start_time": "2022-06-30T01:57:34.084261Z"
    }
   },
   "outputs": [],
   "source": [
    "## make pipelines for categorical vs numeric data\n",
    "cat_pipe = make_pipeline(SimpleImputer(strategy='constant',\n",
    "                                       fill_value='MISSING'),\n",
    "                         OneHotEncoder(handle_unknown='ignore', sparse=False))\n",
    "\n",
    "num_pipe = make_pipeline(SimpleImputer(strategy='mean'))"
   ]
  },
  {
   "cell_type": "markdown",
   "id": "7c7b8ac2",
   "metadata": {},
   "source": [
    "> Nothing we have done yet should be new code. The changes we will make will be when we create our ColumnTransformer with `make_column_transformer`.\n",
    "- From now on, you should add `verbose_feature_names_out=False` to `make_column_transformer`"
   ]
  },
  {
   "cell_type": "code",
   "execution_count": 9,
   "id": "fb394446",
   "metadata": {
    "ExecuteTime": {
     "end_time": "2022-06-30T01:57:34.096376Z",
     "start_time": "2022-06-30T01:57:34.087219Z"
    }
   },
   "outputs": [
    {
     "data": {
      "text/plain": [
       "ColumnTransformer(transformers=[('pipeline-1',\n",
       "                                 Pipeline(steps=[('simpleimputer',\n",
       "                                                  SimpleImputer())]),\n",
       "                                 <sklearn.compose._column_transformer.make_column_selector object at 0x1410e5160>),\n",
       "                                ('pipeline-2',\n",
       "                                 Pipeline(steps=[('simpleimputer',\n",
       "                                                  SimpleImputer(fill_value='MISSING',\n",
       "                                                                strategy='constant')),\n",
       "                                                 ('onehotencoder',\n",
       "                                                  OneHotEncoder(handle_unknown='ignore',\n",
       "                                                                sparse=False))]),\n",
       "                                 <sklearn.compose._column_transformer.make_column_selector object at 0x1410e54f0>)],\n",
       "                  verbose_feature_names_out=False)"
      ]
     },
     "execution_count": 9,
     "metadata": {},
     "output_type": "execute_result"
    }
   ],
   "source": [
    "## make the preprocessing column transformer\n",
    "preprocessor = make_column_transformer((num_pipe, num_sel),\n",
    "                                       (cat_pipe,cat_sel),\n",
    "                                      verbose_feature_names_out=False)\n",
    "preprocessor"
   ]
  },
  {
   "cell_type": "markdown",
   "id": "c0f5018c",
   "metadata": {},
   "source": [
    ">- In order to extract the feature names from the preprocessor, we first have to fit it on the data.\n",
    "- Next, we can use the `preprocessor.get_feature_names_out()` method and save the output as something like \"feature_names\" or \"final_features\"."
   ]
  },
  {
   "cell_type": "code",
   "execution_count": 10,
   "id": "9256997b",
   "metadata": {
    "ExecuteTime": {
     "end_time": "2022-06-30T01:57:34.112741Z",
     "start_time": "2022-06-30T01:57:34.097508Z"
    }
   },
   "outputs": [
    {
     "data": {
      "text/plain": [
       "array(['age', 'Medu', 'Fedu', 'traveltime', 'studytime', 'failures',\n",
       "       'famrel', 'freetime', 'goout', 'Dalc', 'Walc', 'health',\n",
       "       'absences', 'G1', 'G2', 'school_GP', 'school_MS', 'sex_F', 'sex_M',\n",
       "       'address_R', 'address_U', 'famsize_GT3', 'famsize_LE3',\n",
       "       'Pstatus_A', 'Pstatus_T', 'Mjob_at_home', 'Mjob_health',\n",
       "       'Mjob_other', 'Mjob_services', 'Mjob_teacher', 'Fjob_at_home',\n",
       "       'Fjob_health', 'Fjob_other', 'Fjob_services', 'Fjob_teacher',\n",
       "       'reason_course', 'reason_home', 'reason_other',\n",
       "       'reason_reputation', 'guardian_father', 'guardian_mother',\n",
       "       'guardian_other', 'schoolsup_no', 'schoolsup_yes', 'famsup_no',\n",
       "       'famsup_yes', 'paid_no', 'paid_yes', 'activities_no',\n",
       "       'activities_yes', 'nursery_no', 'nursery_yes', 'higher_no',\n",
       "       'higher_yes', 'internet_no', 'internet_yes', 'romantic_no',\n",
       "       'romantic_yes'], dtype=object)"
      ]
     },
     "execution_count": 10,
     "metadata": {},
     "output_type": "execute_result"
    }
   ],
   "source": [
    "## fit column transformer and run get_feature_names_out\n",
    "preprocessor.fit(X_train)\n",
    "feature_names = preprocessor.get_feature_names_out()\n",
    "feature_names"
   ]
  },
  {
   "cell_type": "markdown",
   "id": "daee2069",
   "metadata": {},
   "source": [
    "- Notice how we were able to get the complete list of feature names, including the One Hot Encoded features with their proper \"zipcode\" prefix. \n",
    "- Quick note: if you forgot to add `verbose_feature_names_out` when you made your preprocessor, you would get something like this:\n"
   ]
  },
  {
   "cell_type": "code",
   "execution_count": 11,
   "id": "4376fc02",
   "metadata": {
    "ExecuteTime": {
     "end_time": "2022-06-30T01:57:34.128096Z",
     "start_time": "2022-06-30T01:57:34.113739Z"
    }
   },
   "outputs": [
    {
     "data": {
      "text/plain": [
       "array(['pipeline-1__age', 'pipeline-1__Medu', 'pipeline-1__Fedu',\n",
       "       'pipeline-1__traveltime', 'pipeline-1__studytime',\n",
       "       'pipeline-1__failures', 'pipeline-1__famrel',\n",
       "       'pipeline-1__freetime', 'pipeline-1__goout', 'pipeline-1__Dalc',\n",
       "       'pipeline-1__Walc', 'pipeline-1__health', 'pipeline-1__absences',\n",
       "       'pipeline-1__G1', 'pipeline-1__G2', 'pipeline-2__school_GP',\n",
       "       'pipeline-2__school_MS', 'pipeline-2__sex_F', 'pipeline-2__sex_M',\n",
       "       'pipeline-2__address_R', 'pipeline-2__address_U',\n",
       "       'pipeline-2__famsize_GT3', 'pipeline-2__famsize_LE3',\n",
       "       'pipeline-2__Pstatus_A', 'pipeline-2__Pstatus_T',\n",
       "       'pipeline-2__Mjob_at_home', 'pipeline-2__Mjob_health',\n",
       "       'pipeline-2__Mjob_other', 'pipeline-2__Mjob_services',\n",
       "       'pipeline-2__Mjob_teacher', 'pipeline-2__Fjob_at_home',\n",
       "       'pipeline-2__Fjob_health', 'pipeline-2__Fjob_other',\n",
       "       'pipeline-2__Fjob_services', 'pipeline-2__Fjob_teacher',\n",
       "       'pipeline-2__reason_course', 'pipeline-2__reason_home',\n",
       "       'pipeline-2__reason_other', 'pipeline-2__reason_reputation',\n",
       "       'pipeline-2__guardian_father', 'pipeline-2__guardian_mother',\n",
       "       'pipeline-2__guardian_other', 'pipeline-2__schoolsup_no',\n",
       "       'pipeline-2__schoolsup_yes', 'pipeline-2__famsup_no',\n",
       "       'pipeline-2__famsup_yes', 'pipeline-2__paid_no',\n",
       "       'pipeline-2__paid_yes', 'pipeline-2__activities_no',\n",
       "       'pipeline-2__activities_yes', 'pipeline-2__nursery_no',\n",
       "       'pipeline-2__nursery_yes', 'pipeline-2__higher_no',\n",
       "       'pipeline-2__higher_yes', 'pipeline-2__internet_no',\n",
       "       'pipeline-2__internet_yes', 'pipeline-2__romantic_no',\n",
       "       'pipeline-2__romantic_yes'], dtype=object)"
      ]
     },
     "execution_count": 11,
     "metadata": {},
     "output_type": "execute_result"
    }
   ],
   "source": [
    "## make the preprocessing column transformer\n",
    "preprocessor_oops = make_column_transformer((num_pipe, num_sel),\n",
    "                                       (cat_pipe,cat_sel)\n",
    "                                           ) # forgot verbose_feature_names_out=False\n",
    "## fit column transformer and run get_feature_names_out\n",
    "preprocessor_oops.fit(X_train)\n",
    "feature_names_oops = preprocessor_oops.get_feature_names_out()\n",
    "feature_names_oops"
   ]
  },
  {
   "cell_type": "markdown",
   "id": "78f1c5f6",
   "metadata": {},
   "source": [
    "### Remaking Our X_train and X_test as DataFrames"
   ]
  },
  {
   "cell_type": "markdown",
   "id": "f50d794c",
   "metadata": {},
   "source": [
    "- Now that we have our list of feature names, we can very easily transform out X_train and X_test into preprocessed dataframes. \n",
    "- We can immediately turn the output of our preprocessor into a dataframe and do not need to save it as a separate variable first.\n",
    "    - Therefore, in our pd.DataFrame, we will provide the `preprocessor.transform(X_train)` as the first argument, followed by `columns=feature_names` (the list we extracted from our precprocessor)\n",
    "    - Pro Tip: you can also use the same index as your X_train or X_test variable, if you want to match up one of the transformed rows with the original dataframe."
   ]
  },
  {
   "cell_type": "code",
   "execution_count": 12,
   "id": "69cc7aff",
   "metadata": {
    "ExecuteTime": {
     "end_time": "2022-06-30T01:57:34.146969Z",
     "start_time": "2022-06-30T01:57:34.129054Z"
    }
   },
   "outputs": [
    {
     "data": {
      "text/html": [
       "<div>\n",
       "<style scoped>\n",
       "    .dataframe tbody tr th:only-of-type {\n",
       "        vertical-align: middle;\n",
       "    }\n",
       "\n",
       "    .dataframe tbody tr th {\n",
       "        vertical-align: top;\n",
       "    }\n",
       "\n",
       "    .dataframe thead th {\n",
       "        text-align: right;\n",
       "    }\n",
       "</style>\n",
       "<table border=\"1\" class=\"dataframe\">\n",
       "  <thead>\n",
       "    <tr style=\"text-align: right;\">\n",
       "      <th></th>\n",
       "      <th>age</th>\n",
       "      <th>Medu</th>\n",
       "      <th>Fedu</th>\n",
       "      <th>traveltime</th>\n",
       "      <th>studytime</th>\n",
       "      <th>failures</th>\n",
       "      <th>famrel</th>\n",
       "      <th>freetime</th>\n",
       "      <th>goout</th>\n",
       "      <th>Dalc</th>\n",
       "      <th>...</th>\n",
       "      <th>activities_no</th>\n",
       "      <th>activities_yes</th>\n",
       "      <th>nursery_no</th>\n",
       "      <th>nursery_yes</th>\n",
       "      <th>higher_no</th>\n",
       "      <th>higher_yes</th>\n",
       "      <th>internet_no</th>\n",
       "      <th>internet_yes</th>\n",
       "      <th>romantic_no</th>\n",
       "      <th>romantic_yes</th>\n",
       "    </tr>\n",
       "  </thead>\n",
       "  <tbody>\n",
       "    <tr>\n",
       "      <th>215</th>\n",
       "      <td>17.0</td>\n",
       "      <td>3.0</td>\n",
       "      <td>2.0</td>\n",
       "      <td>2.0</td>\n",
       "      <td>2.0</td>\n",
       "      <td>0.0</td>\n",
       "      <td>4.0</td>\n",
       "      <td>4.0</td>\n",
       "      <td>4.0</td>\n",
       "      <td>1.0</td>\n",
       "      <td>...</td>\n",
       "      <td>1.0</td>\n",
       "      <td>0.0</td>\n",
       "      <td>0.0</td>\n",
       "      <td>1.0</td>\n",
       "      <td>0.0</td>\n",
       "      <td>1.0</td>\n",
       "      <td>0.0</td>\n",
       "      <td>1.0</td>\n",
       "      <td>1.0</td>\n",
       "      <td>0.0</td>\n",
       "    </tr>\n",
       "    <tr>\n",
       "      <th>48</th>\n",
       "      <td>15.0</td>\n",
       "      <td>4.0</td>\n",
       "      <td>2.0</td>\n",
       "      <td>1.0</td>\n",
       "      <td>2.0</td>\n",
       "      <td>0.0</td>\n",
       "      <td>4.0</td>\n",
       "      <td>3.0</td>\n",
       "      <td>3.0</td>\n",
       "      <td>2.0</td>\n",
       "      <td>...</td>\n",
       "      <td>1.0</td>\n",
       "      <td>0.0</td>\n",
       "      <td>0.0</td>\n",
       "      <td>1.0</td>\n",
       "      <td>0.0</td>\n",
       "      <td>1.0</td>\n",
       "      <td>1.0</td>\n",
       "      <td>0.0</td>\n",
       "      <td>1.0</td>\n",
       "      <td>0.0</td>\n",
       "    </tr>\n",
       "    <tr>\n",
       "      <th>303</th>\n",
       "      <td>17.0</td>\n",
       "      <td>3.0</td>\n",
       "      <td>2.0</td>\n",
       "      <td>1.0</td>\n",
       "      <td>4.0</td>\n",
       "      <td>0.0</td>\n",
       "      <td>5.0</td>\n",
       "      <td>2.0</td>\n",
       "      <td>2.0</td>\n",
       "      <td>1.0</td>\n",
       "      <td>...</td>\n",
       "      <td>0.0</td>\n",
       "      <td>1.0</td>\n",
       "      <td>1.0</td>\n",
       "      <td>0.0</td>\n",
       "      <td>0.0</td>\n",
       "      <td>1.0</td>\n",
       "      <td>0.0</td>\n",
       "      <td>1.0</td>\n",
       "      <td>1.0</td>\n",
       "      <td>0.0</td>\n",
       "    </tr>\n",
       "  </tbody>\n",
       "</table>\n",
       "<p>3 rows × 58 columns</p>\n",
       "</div>"
      ],
      "text/plain": [
       "      age  Medu  Fedu  traveltime  studytime  failures  famrel  freetime  \\\n",
       "215  17.0   3.0   2.0         2.0        2.0       0.0     4.0       4.0   \n",
       "48   15.0   4.0   2.0         1.0        2.0       0.0     4.0       3.0   \n",
       "303  17.0   3.0   2.0         1.0        4.0       0.0     5.0       2.0   \n",
       "\n",
       "     goout  Dalc  ...  activities_no  activities_yes  nursery_no  nursery_yes  \\\n",
       "215    4.0   1.0  ...            1.0             0.0         0.0          1.0   \n",
       "48     3.0   2.0  ...            1.0             0.0         0.0          1.0   \n",
       "303    2.0   1.0  ...            0.0             1.0         1.0          0.0   \n",
       "\n",
       "     higher_no  higher_yes  internet_no  internet_yes  romantic_no  \\\n",
       "215        0.0         1.0          0.0           1.0          1.0   \n",
       "48         0.0         1.0          1.0           0.0          1.0   \n",
       "303        0.0         1.0          0.0           1.0          1.0   \n",
       "\n",
       "     romantic_yes  \n",
       "215           0.0  \n",
       "48            0.0  \n",
       "303           0.0  \n",
       "\n",
       "[3 rows x 58 columns]"
      ]
     },
     "execution_count": 12,
     "metadata": {},
     "output_type": "execute_result"
    }
   ],
   "source": [
    "X_train_df = pd.DataFrame(preprocessor.transform(X_train), \n",
    "                          columns = feature_names, index = X_train.index)\n",
    "X_train_df.head(3)"
   ]
  },
  {
   "cell_type": "code",
   "execution_count": 13,
   "id": "2e21eff6",
   "metadata": {
    "ExecuteTime": {
     "end_time": "2022-06-30T01:57:34.161638Z",
     "start_time": "2022-06-30T01:57:34.147949Z"
    },
    "scrolled": true
   },
   "outputs": [
    {
     "data": {
      "text/html": [
       "<div>\n",
       "<style scoped>\n",
       "    .dataframe tbody tr th:only-of-type {\n",
       "        vertical-align: middle;\n",
       "    }\n",
       "\n",
       "    .dataframe tbody tr th {\n",
       "        vertical-align: top;\n",
       "    }\n",
       "\n",
       "    .dataframe thead th {\n",
       "        text-align: right;\n",
       "    }\n",
       "</style>\n",
       "<table border=\"1\" class=\"dataframe\">\n",
       "  <thead>\n",
       "    <tr style=\"text-align: right;\">\n",
       "      <th></th>\n",
       "      <th>age</th>\n",
       "      <th>Medu</th>\n",
       "      <th>Fedu</th>\n",
       "      <th>traveltime</th>\n",
       "      <th>studytime</th>\n",
       "      <th>failures</th>\n",
       "      <th>famrel</th>\n",
       "      <th>freetime</th>\n",
       "      <th>goout</th>\n",
       "      <th>Dalc</th>\n",
       "      <th>...</th>\n",
       "      <th>activities_no</th>\n",
       "      <th>activities_yes</th>\n",
       "      <th>nursery_no</th>\n",
       "      <th>nursery_yes</th>\n",
       "      <th>higher_no</th>\n",
       "      <th>higher_yes</th>\n",
       "      <th>internet_no</th>\n",
       "      <th>internet_yes</th>\n",
       "      <th>romantic_no</th>\n",
       "      <th>romantic_yes</th>\n",
       "    </tr>\n",
       "  </thead>\n",
       "  <tbody>\n",
       "    <tr>\n",
       "      <th>58</th>\n",
       "      <td>15.0</td>\n",
       "      <td>1.0</td>\n",
       "      <td>2.0</td>\n",
       "      <td>1.0</td>\n",
       "      <td>2.0</td>\n",
       "      <td>0.0</td>\n",
       "      <td>4.0</td>\n",
       "      <td>3.0</td>\n",
       "      <td>2.0</td>\n",
       "      <td>1.0</td>\n",
       "      <td>...</td>\n",
       "      <td>0.0</td>\n",
       "      <td>1.0</td>\n",
       "      <td>0.0</td>\n",
       "      <td>1.0</td>\n",
       "      <td>0.0</td>\n",
       "      <td>1.0</td>\n",
       "      <td>0.0</td>\n",
       "      <td>1.0</td>\n",
       "      <td>1.0</td>\n",
       "      <td>0.0</td>\n",
       "    </tr>\n",
       "    <tr>\n",
       "      <th>338</th>\n",
       "      <td>18.0</td>\n",
       "      <td>3.0</td>\n",
       "      <td>3.0</td>\n",
       "      <td>1.0</td>\n",
       "      <td>4.0</td>\n",
       "      <td>0.0</td>\n",
       "      <td>5.0</td>\n",
       "      <td>3.0</td>\n",
       "      <td>3.0</td>\n",
       "      <td>1.0</td>\n",
       "      <td>...</td>\n",
       "      <td>1.0</td>\n",
       "      <td>0.0</td>\n",
       "      <td>0.0</td>\n",
       "      <td>1.0</td>\n",
       "      <td>0.0</td>\n",
       "      <td>1.0</td>\n",
       "      <td>0.0</td>\n",
       "      <td>1.0</td>\n",
       "      <td>1.0</td>\n",
       "      <td>0.0</td>\n",
       "    </tr>\n",
       "    <tr>\n",
       "      <th>291</th>\n",
       "      <td>17.0</td>\n",
       "      <td>4.0</td>\n",
       "      <td>3.0</td>\n",
       "      <td>1.0</td>\n",
       "      <td>3.0</td>\n",
       "      <td>0.0</td>\n",
       "      <td>4.0</td>\n",
       "      <td>2.0</td>\n",
       "      <td>2.0</td>\n",
       "      <td>1.0</td>\n",
       "      <td>...</td>\n",
       "      <td>1.0</td>\n",
       "      <td>0.0</td>\n",
       "      <td>0.0</td>\n",
       "      <td>1.0</td>\n",
       "      <td>0.0</td>\n",
       "      <td>1.0</td>\n",
       "      <td>0.0</td>\n",
       "      <td>1.0</td>\n",
       "      <td>1.0</td>\n",
       "      <td>0.0</td>\n",
       "    </tr>\n",
       "  </tbody>\n",
       "</table>\n",
       "<p>3 rows × 58 columns</p>\n",
       "</div>"
      ],
      "text/plain": [
       "      age  Medu  Fedu  traveltime  studytime  failures  famrel  freetime  \\\n",
       "58   15.0   1.0   2.0         1.0        2.0       0.0     4.0       3.0   \n",
       "338  18.0   3.0   3.0         1.0        4.0       0.0     5.0       3.0   \n",
       "291  17.0   4.0   3.0         1.0        3.0       0.0     4.0       2.0   \n",
       "\n",
       "     goout  Dalc  ...  activities_no  activities_yes  nursery_no  nursery_yes  \\\n",
       "58     2.0   1.0  ...            0.0             1.0         0.0          1.0   \n",
       "338    3.0   1.0  ...            1.0             0.0         0.0          1.0   \n",
       "291    2.0   1.0  ...            1.0             0.0         0.0          1.0   \n",
       "\n",
       "     higher_no  higher_yes  internet_no  internet_yes  romantic_no  \\\n",
       "58         0.0         1.0          0.0           1.0          1.0   \n",
       "338        0.0         1.0          0.0           1.0          1.0   \n",
       "291        0.0         1.0          0.0           1.0          1.0   \n",
       "\n",
       "     romantic_yes  \n",
       "58            0.0  \n",
       "338           0.0  \n",
       "291           0.0  \n",
       "\n",
       "[3 rows x 58 columns]"
      ]
     },
     "execution_count": 13,
     "metadata": {},
     "output_type": "execute_result"
    }
   ],
   "source": [
    "X_test_df = pd.DataFrame(preprocessor.transform(X_test), \n",
    "                          columns = feature_names, index = X_test.index)\n",
    "X_test_df.head(3)"
   ]
  },
  {
   "cell_type": "code",
   "execution_count": 14,
   "id": "0eb72c71",
   "metadata": {
    "ExecuteTime": {
     "end_time": "2022-06-30T01:57:34.165897Z",
     "start_time": "2022-06-30T01:57:34.162987Z"
    }
   },
   "outputs": [
    {
     "data": {
      "text/plain": [
       "58      9.0\n",
       "338    17.0\n",
       "291    15.0\n",
       "Name: G3, dtype: float64"
      ]
     },
     "execution_count": 14,
     "metadata": {},
     "output_type": "execute_result"
    }
   ],
   "source": [
    "## confirm the first 3 rows index in y_test matches X_test_df\n",
    "y_test.head(3)"
   ]
  },
  {
   "cell_type": "markdown",
   "id": "4111738d",
   "metadata": {},
   "source": [
    "- Notice that we cannot see all of our features after OneHotEncoding. Pandas truncates the display in the middle and displays `...` instead. \n",
    "- We can get around this by changing the settings in Pandas using `pd.set_option`\n",
    "    - In this case, we want to change the `max_columns` to be a number larger than our number of final features. Since we have 87 features, setting the `max_columns` to 100 would be sufficient.\n",
    "- For more information on pandas options, see their [documentation on Options and Settings](https://pandas.pydata.org/docs/user_guide/options.html)\n",
    "- Final note: in your project notebooks, you should add this function to the top of your notebook right after your imports."
   ]
  },
  {
   "cell_type": "code",
   "execution_count": 15,
   "id": "ee859feb",
   "metadata": {
    "ExecuteTime": {
     "end_time": "2022-06-30T01:57:34.190953Z",
     "start_time": "2022-06-30T01:57:34.166911Z"
    }
   },
   "outputs": [
    {
     "data": {
      "text/html": [
       "<div>\n",
       "<style scoped>\n",
       "    .dataframe tbody tr th:only-of-type {\n",
       "        vertical-align: middle;\n",
       "    }\n",
       "\n",
       "    .dataframe tbody tr th {\n",
       "        vertical-align: top;\n",
       "    }\n",
       "\n",
       "    .dataframe thead th {\n",
       "        text-align: right;\n",
       "    }\n",
       "</style>\n",
       "<table border=\"1\" class=\"dataframe\">\n",
       "  <thead>\n",
       "    <tr style=\"text-align: right;\">\n",
       "      <th></th>\n",
       "      <th>age</th>\n",
       "      <th>Medu</th>\n",
       "      <th>Fedu</th>\n",
       "      <th>traveltime</th>\n",
       "      <th>studytime</th>\n",
       "      <th>failures</th>\n",
       "      <th>famrel</th>\n",
       "      <th>freetime</th>\n",
       "      <th>goout</th>\n",
       "      <th>Dalc</th>\n",
       "      <th>Walc</th>\n",
       "      <th>health</th>\n",
       "      <th>absences</th>\n",
       "      <th>G1</th>\n",
       "      <th>G2</th>\n",
       "      <th>school_GP</th>\n",
       "      <th>school_MS</th>\n",
       "      <th>sex_F</th>\n",
       "      <th>sex_M</th>\n",
       "      <th>address_R</th>\n",
       "      <th>address_U</th>\n",
       "      <th>famsize_GT3</th>\n",
       "      <th>famsize_LE3</th>\n",
       "      <th>Pstatus_A</th>\n",
       "      <th>Pstatus_T</th>\n",
       "      <th>Mjob_at_home</th>\n",
       "      <th>Mjob_health</th>\n",
       "      <th>Mjob_other</th>\n",
       "      <th>Mjob_services</th>\n",
       "      <th>Mjob_teacher</th>\n",
       "      <th>Fjob_at_home</th>\n",
       "      <th>Fjob_health</th>\n",
       "      <th>Fjob_other</th>\n",
       "      <th>Fjob_services</th>\n",
       "      <th>Fjob_teacher</th>\n",
       "      <th>reason_course</th>\n",
       "      <th>reason_home</th>\n",
       "      <th>reason_other</th>\n",
       "      <th>reason_reputation</th>\n",
       "      <th>guardian_father</th>\n",
       "      <th>guardian_mother</th>\n",
       "      <th>guardian_other</th>\n",
       "      <th>schoolsup_no</th>\n",
       "      <th>schoolsup_yes</th>\n",
       "      <th>famsup_no</th>\n",
       "      <th>famsup_yes</th>\n",
       "      <th>paid_no</th>\n",
       "      <th>paid_yes</th>\n",
       "      <th>activities_no</th>\n",
       "      <th>activities_yes</th>\n",
       "      <th>nursery_no</th>\n",
       "      <th>nursery_yes</th>\n",
       "      <th>higher_no</th>\n",
       "      <th>higher_yes</th>\n",
       "      <th>internet_no</th>\n",
       "      <th>internet_yes</th>\n",
       "      <th>romantic_no</th>\n",
       "      <th>romantic_yes</th>\n",
       "    </tr>\n",
       "  </thead>\n",
       "  <tbody>\n",
       "    <tr>\n",
       "      <th>215</th>\n",
       "      <td>17.0</td>\n",
       "      <td>3.0</td>\n",
       "      <td>2.0</td>\n",
       "      <td>2.0</td>\n",
       "      <td>2.0</td>\n",
       "      <td>0.0</td>\n",
       "      <td>4.0</td>\n",
       "      <td>4.0</td>\n",
       "      <td>4.0</td>\n",
       "      <td>1.0</td>\n",
       "      <td>3.0</td>\n",
       "      <td>1.0</td>\n",
       "      <td>2.0</td>\n",
       "      <td>14.0</td>\n",
       "      <td>15.0</td>\n",
       "      <td>1.0</td>\n",
       "      <td>0.0</td>\n",
       "      <td>1.0</td>\n",
       "      <td>0.0</td>\n",
       "      <td>0.0</td>\n",
       "      <td>1.0</td>\n",
       "      <td>0.0</td>\n",
       "      <td>1.0</td>\n",
       "      <td>0.0</td>\n",
       "      <td>1.0</td>\n",
       "      <td>0.0</td>\n",
       "      <td>0.0</td>\n",
       "      <td>1.0</td>\n",
       "      <td>0.0</td>\n",
       "      <td>0.0</td>\n",
       "      <td>0.0</td>\n",
       "      <td>0.0</td>\n",
       "      <td>1.0</td>\n",
       "      <td>0.0</td>\n",
       "      <td>0.0</td>\n",
       "      <td>0.0</td>\n",
       "      <td>0.0</td>\n",
       "      <td>0.0</td>\n",
       "      <td>1.0</td>\n",
       "      <td>0.0</td>\n",
       "      <td>1.0</td>\n",
       "      <td>0.0</td>\n",
       "      <td>1.0</td>\n",
       "      <td>0.0</td>\n",
       "      <td>1.0</td>\n",
       "      <td>0.0</td>\n",
       "      <td>0.0</td>\n",
       "      <td>1.0</td>\n",
       "      <td>1.0</td>\n",
       "      <td>0.0</td>\n",
       "      <td>0.0</td>\n",
       "      <td>1.0</td>\n",
       "      <td>0.0</td>\n",
       "      <td>1.0</td>\n",
       "      <td>0.0</td>\n",
       "      <td>1.0</td>\n",
       "      <td>1.0</td>\n",
       "      <td>0.0</td>\n",
       "    </tr>\n",
       "    <tr>\n",
       "      <th>48</th>\n",
       "      <td>15.0</td>\n",
       "      <td>4.0</td>\n",
       "      <td>2.0</td>\n",
       "      <td>1.0</td>\n",
       "      <td>2.0</td>\n",
       "      <td>0.0</td>\n",
       "      <td>4.0</td>\n",
       "      <td>3.0</td>\n",
       "      <td>3.0</td>\n",
       "      <td>2.0</td>\n",
       "      <td>2.0</td>\n",
       "      <td>5.0</td>\n",
       "      <td>2.0</td>\n",
       "      <td>15.0</td>\n",
       "      <td>15.0</td>\n",
       "      <td>1.0</td>\n",
       "      <td>0.0</td>\n",
       "      <td>0.0</td>\n",
       "      <td>1.0</td>\n",
       "      <td>0.0</td>\n",
       "      <td>1.0</td>\n",
       "      <td>1.0</td>\n",
       "      <td>0.0</td>\n",
       "      <td>0.0</td>\n",
       "      <td>1.0</td>\n",
       "      <td>0.0</td>\n",
       "      <td>0.0</td>\n",
       "      <td>0.0</td>\n",
       "      <td>0.0</td>\n",
       "      <td>1.0</td>\n",
       "      <td>0.0</td>\n",
       "      <td>0.0</td>\n",
       "      <td>1.0</td>\n",
       "      <td>0.0</td>\n",
       "      <td>0.0</td>\n",
       "      <td>0.0</td>\n",
       "      <td>1.0</td>\n",
       "      <td>0.0</td>\n",
       "      <td>0.0</td>\n",
       "      <td>0.0</td>\n",
       "      <td>1.0</td>\n",
       "      <td>0.0</td>\n",
       "      <td>1.0</td>\n",
       "      <td>0.0</td>\n",
       "      <td>0.0</td>\n",
       "      <td>1.0</td>\n",
       "      <td>0.0</td>\n",
       "      <td>1.0</td>\n",
       "      <td>1.0</td>\n",
       "      <td>0.0</td>\n",
       "      <td>0.0</td>\n",
       "      <td>1.0</td>\n",
       "      <td>0.0</td>\n",
       "      <td>1.0</td>\n",
       "      <td>1.0</td>\n",
       "      <td>0.0</td>\n",
       "      <td>1.0</td>\n",
       "      <td>0.0</td>\n",
       "    </tr>\n",
       "    <tr>\n",
       "      <th>303</th>\n",
       "      <td>17.0</td>\n",
       "      <td>3.0</td>\n",
       "      <td>2.0</td>\n",
       "      <td>1.0</td>\n",
       "      <td>4.0</td>\n",
       "      <td>0.0</td>\n",
       "      <td>5.0</td>\n",
       "      <td>2.0</td>\n",
       "      <td>2.0</td>\n",
       "      <td>1.0</td>\n",
       "      <td>2.0</td>\n",
       "      <td>5.0</td>\n",
       "      <td>0.0</td>\n",
       "      <td>17.0</td>\n",
       "      <td>17.0</td>\n",
       "      <td>1.0</td>\n",
       "      <td>0.0</td>\n",
       "      <td>1.0</td>\n",
       "      <td>0.0</td>\n",
       "      <td>0.0</td>\n",
       "      <td>1.0</td>\n",
       "      <td>1.0</td>\n",
       "      <td>0.0</td>\n",
       "      <td>0.0</td>\n",
       "      <td>1.0</td>\n",
       "      <td>0.0</td>\n",
       "      <td>1.0</td>\n",
       "      <td>0.0</td>\n",
       "      <td>0.0</td>\n",
       "      <td>0.0</td>\n",
       "      <td>0.0</td>\n",
       "      <td>1.0</td>\n",
       "      <td>0.0</td>\n",
       "      <td>0.0</td>\n",
       "      <td>0.0</td>\n",
       "      <td>0.0</td>\n",
       "      <td>0.0</td>\n",
       "      <td>0.0</td>\n",
       "      <td>1.0</td>\n",
       "      <td>1.0</td>\n",
       "      <td>0.0</td>\n",
       "      <td>0.0</td>\n",
       "      <td>1.0</td>\n",
       "      <td>0.0</td>\n",
       "      <td>0.0</td>\n",
       "      <td>1.0</td>\n",
       "      <td>0.0</td>\n",
       "      <td>1.0</td>\n",
       "      <td>0.0</td>\n",
       "      <td>1.0</td>\n",
       "      <td>1.0</td>\n",
       "      <td>0.0</td>\n",
       "      <td>0.0</td>\n",
       "      <td>1.0</td>\n",
       "      <td>0.0</td>\n",
       "      <td>1.0</td>\n",
       "      <td>1.0</td>\n",
       "      <td>0.0</td>\n",
       "    </tr>\n",
       "  </tbody>\n",
       "</table>\n",
       "</div>"
      ],
      "text/plain": [
       "      age  Medu  Fedu  traveltime  studytime  failures  famrel  freetime  \\\n",
       "215  17.0   3.0   2.0         2.0        2.0       0.0     4.0       4.0   \n",
       "48   15.0   4.0   2.0         1.0        2.0       0.0     4.0       3.0   \n",
       "303  17.0   3.0   2.0         1.0        4.0       0.0     5.0       2.0   \n",
       "\n",
       "     goout  Dalc  Walc  health  absences    G1    G2  school_GP  school_MS  \\\n",
       "215    4.0   1.0   3.0     1.0       2.0  14.0  15.0        1.0        0.0   \n",
       "48     3.0   2.0   2.0     5.0       2.0  15.0  15.0        1.0        0.0   \n",
       "303    2.0   1.0   2.0     5.0       0.0  17.0  17.0        1.0        0.0   \n",
       "\n",
       "     sex_F  sex_M  address_R  address_U  famsize_GT3  famsize_LE3  Pstatus_A  \\\n",
       "215    1.0    0.0        0.0        1.0          0.0          1.0        0.0   \n",
       "48     0.0    1.0        0.0        1.0          1.0          0.0        0.0   \n",
       "303    1.0    0.0        0.0        1.0          1.0          0.0        0.0   \n",
       "\n",
       "     Pstatus_T  Mjob_at_home  Mjob_health  Mjob_other  Mjob_services  \\\n",
       "215        1.0           0.0          0.0         1.0            0.0   \n",
       "48         1.0           0.0          0.0         0.0            0.0   \n",
       "303        1.0           0.0          1.0         0.0            0.0   \n",
       "\n",
       "     Mjob_teacher  Fjob_at_home  Fjob_health  Fjob_other  Fjob_services  \\\n",
       "215           0.0           0.0          0.0         1.0            0.0   \n",
       "48            1.0           0.0          0.0         1.0            0.0   \n",
       "303           0.0           0.0          1.0         0.0            0.0   \n",
       "\n",
       "     Fjob_teacher  reason_course  reason_home  reason_other  \\\n",
       "215           0.0            0.0          0.0           0.0   \n",
       "48            0.0            0.0          1.0           0.0   \n",
       "303           0.0            0.0          0.0           0.0   \n",
       "\n",
       "     reason_reputation  guardian_father  guardian_mother  guardian_other  \\\n",
       "215                1.0              0.0              1.0             0.0   \n",
       "48                 0.0              0.0              1.0             0.0   \n",
       "303                1.0              1.0              0.0             0.0   \n",
       "\n",
       "     schoolsup_no  schoolsup_yes  famsup_no  famsup_yes  paid_no  paid_yes  \\\n",
       "215           1.0            0.0        1.0         0.0      0.0       1.0   \n",
       "48            1.0            0.0        0.0         1.0      0.0       1.0   \n",
       "303           1.0            0.0        0.0         1.0      0.0       1.0   \n",
       "\n",
       "     activities_no  activities_yes  nursery_no  nursery_yes  higher_no  \\\n",
       "215            1.0             0.0         0.0          1.0        0.0   \n",
       "48             1.0             0.0         0.0          1.0        0.0   \n",
       "303            0.0             1.0         1.0          0.0        0.0   \n",
       "\n",
       "     higher_yes  internet_no  internet_yes  romantic_no  romantic_yes  \n",
       "215         1.0          0.0           1.0          1.0           0.0  \n",
       "48          1.0          1.0           0.0          1.0           0.0  \n",
       "303         1.0          0.0           1.0          1.0           0.0  "
      ]
     },
     "execution_count": 15,
     "metadata": {},
     "output_type": "execute_result"
    }
   ],
   "source": [
    "## Using pd.set_option to display more columns\n",
    "pd.set_option('display.max_columns',100)\n",
    "X_train_df.head(3)"
   ]
  },
  {
   "cell_type": "markdown",
   "id": "8d223a18",
   "metadata": {},
   "source": [
    "## Extracting Coefficients and Intercept from Scikit-Learn Linear Regression"
   ]
  },
  {
   "cell_type": "code",
   "execution_count": 16,
   "id": "81bcbab9",
   "metadata": {
    "ExecuteTime": {
     "end_time": "2022-06-30T01:57:34.282541Z",
     "start_time": "2022-06-30T01:57:34.191982Z"
    }
   },
   "outputs": [
    {
     "name": "stdout",
     "output_type": "stream",
     "text": [
      "Training R^2: 0.848\n",
      "Test R^2: 0.807\n"
     ]
    }
   ],
   "source": [
    "from sklearn.linear_model import LinearRegression\n",
    "\n",
    "## fitting a linear regression model\n",
    "lin_reg = LinearRegression()\n",
    "lin_reg.fit(X_train_df, y_train)\n",
    "print(f'Training R^2: {lin_reg.score(X_train_df, y_train):.3f}')\n",
    "print(f'Test R^2: {lin_reg.score(X_test_df, y_test):.3f}')"
   ]
  },
  {
   "cell_type": "code",
   "execution_count": 17,
   "id": "ad1a58f4",
   "metadata": {
    "ExecuteTime": {
     "end_time": "2022-06-30T01:57:34.286793Z",
     "start_time": "2022-06-30T01:57:34.283709Z"
    }
   },
   "outputs": [],
   "source": [
    "from sklearn.metrics import r2_score, mean_absolute_error, mean_squared_error\n",
    "def evaluate_linreg(model, X_train,y_train, X_test,y_test, return_df=False):\n",
    "\n",
    "    results = []\n",
    "    \n",
    "    y_hat_train = model.predict(X_train)\n",
    "    r2_train = r2_score(y_train,y_hat_train)\n",
    "    rmse_train = mean_squared_error(y_train,y_hat_train, squared=False)\n",
    "    results.append({'Data':'Train', 'R^2':r2_train, \"RMSE\": rmse_train})\n",
    "    \n",
    "    y_hat_test = model.predict(X_test)\n",
    "    r2_test = r2_score(y_test,y_hat_test)\n",
    "    rmse_test = mean_squared_error(y_test,y_hat_test, squared=False)\n",
    "    results.append({'Data':'Test', 'R^2':r2_test, \"RMSE\": rmse_test})\n",
    "    \n",
    "    results_df = pd.DataFrame(results).round(3).set_index('Data')\n",
    "    results_df.loc['Delta'] = results_df.loc['Test'] - results_df.loc['Train']\n",
    "    results_df = results_df.T\n",
    "    \n",
    "    if return_df:\n",
    "        return results_df\n",
    "    else:\n",
    "        print(results_df)"
   ]
  },
  {
   "cell_type": "code",
   "execution_count": 18,
   "id": "413ef7be",
   "metadata": {
    "ExecuteTime": {
     "end_time": "2022-06-30T01:57:34.382621Z",
     "start_time": "2022-06-30T01:57:34.287923Z"
    }
   },
   "outputs": [
    {
     "name": "stdout",
     "output_type": "stream",
     "text": [
      "Data  Train   Test  Delta\n",
      "R^2   0.848  0.807 -0.041\n",
      "RMSE  1.830  1.848  0.018\n"
     ]
    }
   ],
   "source": [
    "## fitting a linear regression model\n",
    "lin_reg = LinearRegression()\n",
    "lin_reg.fit(X_train_df, y_train)\n",
    "evaluate_linreg(lin_reg, X_train_df, y_train, X_test_df,y_test)"
   ]
  },
  {
   "cell_type": "markdown",
   "id": "d7e437ec",
   "metadata": {},
   "source": [
    "- For scikit-learn Linear Regressions, we can find the coefficients for the features that were included in our X-data under the `.coef_` attribute. \n",
    "-  the `.coef_` is a numpy matrix that should have the same number of values as the # of columns in X_train_df"
   ]
  },
  {
   "cell_type": "code",
   "execution_count": 19,
   "id": "acc7ce63",
   "metadata": {
    "ExecuteTime": {
     "end_time": "2022-06-30T01:57:34.386596Z",
     "start_time": "2022-06-30T01:57:34.383696Z"
    }
   },
   "outputs": [
    {
     "data": {
      "text/plain": [
       "array([-2.20466758e-01,  2.91333976e-01, -1.77473599e-01,  1.87333785e-01,\n",
       "       -2.15619658e-01, -1.00533554e-01,  3.09222203e-01,  1.89125262e-02,\n",
       "       -1.52832343e-02, -2.12300255e-01,  2.60933091e-01,  2.48701789e-02,\n",
       "        5.32226669e-02,  1.40936178e-01,  9.91331303e-01, -1.26407646e+12,\n",
       "       -1.26407646e+12,  5.40388537e+11,  5.40388537e+11, -1.18047850e+11,\n",
       "       -1.18047850e+11,  3.46283602e+11,  3.46283602e+11, -5.19732724e+11,\n",
       "       -5.19732724e+11, -5.53239828e+11, -5.53239828e+11, -5.53239828e+11,\n",
       "       -5.53239828e+11, -5.53239828e+11,  2.08905427e+11,  2.08905427e+11,\n",
       "        2.08905427e+11,  2.08905427e+11,  2.08905427e+11, -1.26006863e+11,\n",
       "       -1.26006863e+11, -1.26006863e+11, -1.26006863e+11,  4.11586427e+11,\n",
       "        4.11586427e+11,  4.11586427e+11, -3.64876692e+11, -3.64876692e+11,\n",
       "       -5.31822663e+11, -5.31822663e+11, -1.89883820e+11, -1.89883820e+11,\n",
       "       -1.85190300e+11, -1.85190300e+11,  3.62281762e+11,  3.62281762e+11,\n",
       "        2.51568399e+11,  2.51568399e+11,  5.00489194e+11,  5.00489194e+11,\n",
       "       -1.01464598e+12, -1.01464598e+12])"
      ]
     },
     "execution_count": 19,
     "metadata": {},
     "output_type": "execute_result"
    }
   ],
   "source": [
    "lin_reg.coef_"
   ]
  },
  {
   "cell_type": "code",
   "execution_count": 20,
   "id": "ef1fdb33",
   "metadata": {
    "ExecuteTime": {
     "end_time": "2022-06-30T01:57:34.390161Z",
     "start_time": "2022-06-30T01:57:34.387726Z"
    }
   },
   "outputs": [
    {
     "name": "stdout",
     "output_type": "stream",
     "text": [
      "58\n"
     ]
    },
    {
     "data": {
      "text/plain": [
       "58"
      ]
     },
     "execution_count": 20,
     "metadata": {},
     "output_type": "execute_result"
    }
   ],
   "source": [
    "## Checking the number of coeffs matches the # of feature names\n",
    "print(len(lin_reg.coef_))\n",
    "len(feature_names)"
   ]
  },
  {
   "cell_type": "markdown",
   "id": "dd32a5d6",
   "metadata": {},
   "source": [
    "> Note: if for some reason the length of your coef_ is 1, you should add the `.flatten()` method to convert the  coef_ into a simple 1-D array."
   ]
  },
  {
   "cell_type": "markdown",
   "id": "8617b37f",
   "metadata": {
    "ExecuteTime": {
     "end_time": "2022-06-28T18:14:22.806525Z",
     "start_time": "2022-06-28T18:14:22.801222Z"
    }
   },
   "source": [
    "### Saving the coefficients as a pandas Series"
   ]
  },
  {
   "cell_type": "markdown",
   "id": "055d7a7d",
   "metadata": {
    "ExecuteTime": {
     "end_time": "2022-06-28T18:06:01.097880Z",
     "start_time": "2022-06-28T18:06:01.088310Z"
    }
   },
   "source": [
    "- We can immediately turn the the models' .coef_ into a pd.Series, as well.\n",
    "    - Therefore, in our pd.Series, we will provide the `lin_reg.coef_` as the first argument, followed by `index=feature_names` (pandas Series are 1D and do not have columns)"
   ]
  },
  {
   "cell_type": "code",
   "execution_count": 22,
   "id": "2318cab3",
   "metadata": {
    "ExecuteTime": {
     "end_time": "2022-06-30T01:57:34.397445Z",
     "start_time": "2022-06-30T01:57:34.393998Z"
    }
   },
   "outputs": [
    {
     "data": {
      "text/plain": [
       "age                 -2.204668e-01\n",
       "Medu                 2.913340e-01\n",
       "Fedu                -1.774736e-01\n",
       "traveltime           1.873338e-01\n",
       "studytime           -2.156197e-01\n",
       "failures            -1.005336e-01\n",
       "famrel               3.092222e-01\n",
       "freetime             1.891253e-02\n",
       "goout               -1.528323e-02\n",
       "Dalc                -2.123003e-01\n",
       "Walc                 2.609331e-01\n",
       "health               2.487018e-02\n",
       "absences             5.322267e-02\n",
       "G1                   1.409362e-01\n",
       "G2                   9.913313e-01\n",
       "school_GP           -1.264076e+12\n",
       "school_MS           -1.264076e+12\n",
       "sex_F                5.403885e+11\n",
       "sex_M                5.403885e+11\n",
       "address_R           -1.180478e+11\n",
       "address_U           -1.180478e+11\n",
       "famsize_GT3          3.462836e+11\n",
       "famsize_LE3          3.462836e+11\n",
       "Pstatus_A           -5.197327e+11\n",
       "Pstatus_T           -5.197327e+11\n",
       "Mjob_at_home        -5.532398e+11\n",
       "Mjob_health         -5.532398e+11\n",
       "Mjob_other          -5.532398e+11\n",
       "Mjob_services       -5.532398e+11\n",
       "Mjob_teacher        -5.532398e+11\n",
       "Fjob_at_home         2.089054e+11\n",
       "Fjob_health          2.089054e+11\n",
       "Fjob_other           2.089054e+11\n",
       "Fjob_services        2.089054e+11\n",
       "Fjob_teacher         2.089054e+11\n",
       "reason_course       -1.260069e+11\n",
       "reason_home         -1.260069e+11\n",
       "reason_other        -1.260069e+11\n",
       "reason_reputation   -1.260069e+11\n",
       "guardian_father      4.115864e+11\n",
       "guardian_mother      4.115864e+11\n",
       "guardian_other       4.115864e+11\n",
       "schoolsup_no        -3.648767e+11\n",
       "schoolsup_yes       -3.648767e+11\n",
       "famsup_no           -5.318227e+11\n",
       "famsup_yes          -5.318227e+11\n",
       "paid_no             -1.898838e+11\n",
       "paid_yes            -1.898838e+11\n",
       "activities_no       -1.851903e+11\n",
       "activities_yes      -1.851903e+11\n",
       "nursery_no           3.622818e+11\n",
       "nursery_yes          3.622818e+11\n",
       "higher_no            2.515684e+11\n",
       "higher_yes           2.515684e+11\n",
       "internet_no          5.004892e+11\n",
       "internet_yes         5.004892e+11\n",
       "romantic_no         -1.014646e+12\n",
       "romantic_yes        -1.014646e+12\n",
       "dtype: float64"
      ]
     },
     "execution_count": 22,
     "metadata": {},
     "output_type": "execute_result"
    }
   ],
   "source": [
    "## Saving the coefficients\n",
    "coeffs = pd.Series(lin_reg.coef_, index= feature_names)\n",
    "coeffs"
   ]
  },
  {
   "cell_type": "markdown",
   "id": "b78442af",
   "metadata": {},
   "source": [
    "- The constant/intercept is not included in the .ceof_ attribute (if we used the default settings for LinearRegression which sets fit_intercept = True)\n",
    "- The intercept is stored in the `.intercept_` attribute \n",
    "- We can add this as a new value to our coeffs series.\n",
    "- Note: it is up to you what you name your intercept/constant. If you wanted to keep the naming convention of statsmodels, you could use \"const\" or just \"intercept\" for simplicity."
   ]
  },
  {
   "cell_type": "code",
   "execution_count": 23,
   "id": "5bea81ca",
   "metadata": {
    "ExecuteTime": {
     "end_time": "2022-06-30T01:57:34.401609Z",
     "start_time": "2022-06-30T01:57:34.398348Z"
    }
   },
   "outputs": [
    {
     "data": {
      "text/plain": [
       "age                 -2.204668e-01\n",
       "Medu                 2.913340e-01\n",
       "Fedu                -1.774736e-01\n",
       "traveltime           1.873338e-01\n",
       "studytime           -2.156197e-01\n",
       "failures            -1.005336e-01\n",
       "famrel               3.092222e-01\n",
       "freetime             1.891253e-02\n",
       "goout               -1.528323e-02\n",
       "Dalc                -2.123003e-01\n",
       "Walc                 2.609331e-01\n",
       "health               2.487018e-02\n",
       "absences             5.322267e-02\n",
       "G1                   1.409362e-01\n",
       "G2                   9.913313e-01\n",
       "school_GP           -1.264076e+12\n",
       "school_MS           -1.264076e+12\n",
       "sex_F                5.403885e+11\n",
       "sex_M                5.403885e+11\n",
       "address_R           -1.180478e+11\n",
       "address_U           -1.180478e+11\n",
       "famsize_GT3          3.462836e+11\n",
       "famsize_LE3          3.462836e+11\n",
       "Pstatus_A           -5.197327e+11\n",
       "Pstatus_T           -5.197327e+11\n",
       "Mjob_at_home        -5.532398e+11\n",
       "Mjob_health         -5.532398e+11\n",
       "Mjob_other          -5.532398e+11\n",
       "Mjob_services       -5.532398e+11\n",
       "Mjob_teacher        -5.532398e+11\n",
       "Fjob_at_home         2.089054e+11\n",
       "Fjob_health          2.089054e+11\n",
       "Fjob_other           2.089054e+11\n",
       "Fjob_services        2.089054e+11\n",
       "Fjob_teacher         2.089054e+11\n",
       "reason_course       -1.260069e+11\n",
       "reason_home         -1.260069e+11\n",
       "reason_other        -1.260069e+11\n",
       "reason_reputation   -1.260069e+11\n",
       "guardian_father      4.115864e+11\n",
       "guardian_mother      4.115864e+11\n",
       "guardian_other       4.115864e+11\n",
       "schoolsup_no        -3.648767e+11\n",
       "schoolsup_yes       -3.648767e+11\n",
       "famsup_no           -5.318227e+11\n",
       "famsup_yes          -5.318227e+11\n",
       "paid_no             -1.898838e+11\n",
       "paid_yes            -1.898838e+11\n",
       "activities_no       -1.851903e+11\n",
       "activities_yes      -1.851903e+11\n",
       "nursery_no           3.622818e+11\n",
       "nursery_yes          3.622818e+11\n",
       "higher_no            2.515684e+11\n",
       "higher_yes           2.515684e+11\n",
       "internet_no          5.004892e+11\n",
       "internet_yes         5.004892e+11\n",
       "romantic_no         -1.014646e+12\n",
       "romantic_yes        -1.014646e+12\n",
       "intercept            2.246020e+12\n",
       "dtype: float64"
      ]
     },
     "execution_count": 23,
     "metadata": {},
     "output_type": "execute_result"
    }
   ],
   "source": [
    "# use .loc to add the intercept to the series\n",
    "coeffs.loc['intercept'] = lin_reg.intercept_\n",
    "coeffs"
   ]
  },
  {
   "cell_type": "markdown",
   "id": "5e2256f2",
   "metadata": {},
   "source": [
    "### Displaying the Coefficients"
   ]
  },
  {
   "cell_type": "markdown",
   "id": "6d86c543",
   "metadata": {},
   "source": [
    "- Just like we increased the number of columns displayed by pandas, we can also increase the number of rows displayed by pandas.\n",
    "- CAUTION: DO NOT SET THE MAX ROWS TO 0!! If you try to display a dataframe that has 1,000,000 it will try to display ALL 1,000,000 rows and will crash your kernel."
   ]
  },
  {
   "cell_type": "code",
   "execution_count": 24,
   "id": "d11d3bc6",
   "metadata": {
    "ExecuteTime": {
     "end_time": "2022-06-30T01:57:34.406200Z",
     "start_time": "2022-06-30T01:57:34.402482Z"
    }
   },
   "outputs": [
    {
     "data": {
      "text/plain": [
       "age                 -2.204668e-01\n",
       "Medu                 2.913340e-01\n",
       "Fedu                -1.774736e-01\n",
       "traveltime           1.873338e-01\n",
       "studytime           -2.156197e-01\n",
       "failures            -1.005336e-01\n",
       "famrel               3.092222e-01\n",
       "freetime             1.891253e-02\n",
       "goout               -1.528323e-02\n",
       "Dalc                -2.123003e-01\n",
       "Walc                 2.609331e-01\n",
       "health               2.487018e-02\n",
       "absences             5.322267e-02\n",
       "G1                   1.409362e-01\n",
       "G2                   9.913313e-01\n",
       "school_GP           -1.264076e+12\n",
       "school_MS           -1.264076e+12\n",
       "sex_F                5.403885e+11\n",
       "sex_M                5.403885e+11\n",
       "address_R           -1.180478e+11\n",
       "address_U           -1.180478e+11\n",
       "famsize_GT3          3.462836e+11\n",
       "famsize_LE3          3.462836e+11\n",
       "Pstatus_A           -5.197327e+11\n",
       "Pstatus_T           -5.197327e+11\n",
       "Mjob_at_home        -5.532398e+11\n",
       "Mjob_health         -5.532398e+11\n",
       "Mjob_other          -5.532398e+11\n",
       "Mjob_services       -5.532398e+11\n",
       "Mjob_teacher        -5.532398e+11\n",
       "Fjob_at_home         2.089054e+11\n",
       "Fjob_health          2.089054e+11\n",
       "Fjob_other           2.089054e+11\n",
       "Fjob_services        2.089054e+11\n",
       "Fjob_teacher         2.089054e+11\n",
       "reason_course       -1.260069e+11\n",
       "reason_home         -1.260069e+11\n",
       "reason_other        -1.260069e+11\n",
       "reason_reputation   -1.260069e+11\n",
       "guardian_father      4.115864e+11\n",
       "guardian_mother      4.115864e+11\n",
       "guardian_other       4.115864e+11\n",
       "schoolsup_no        -3.648767e+11\n",
       "schoolsup_yes       -3.648767e+11\n",
       "famsup_no           -5.318227e+11\n",
       "famsup_yes          -5.318227e+11\n",
       "paid_no             -1.898838e+11\n",
       "paid_yes            -1.898838e+11\n",
       "activities_no       -1.851903e+11\n",
       "activities_yes      -1.851903e+11\n",
       "nursery_no           3.622818e+11\n",
       "nursery_yes          3.622818e+11\n",
       "higher_no            2.515684e+11\n",
       "higher_yes           2.515684e+11\n",
       "internet_no          5.004892e+11\n",
       "internet_yes         5.004892e+11\n",
       "romantic_no         -1.014646e+12\n",
       "romantic_yes        -1.014646e+12\n",
       "intercept            2.246020e+12\n",
       "dtype: float64"
      ]
     },
     "execution_count": 24,
     "metadata": {},
     "output_type": "execute_result"
    }
   ],
   "source": [
    "# pd.set_option('display.max_rows',100)\n",
    "coeffs"
   ]
  },
  {
   "cell_type": "markdown",
   "id": "e7d9142b",
   "metadata": {},
   "source": [
    "### Suppressing Scientific Notation in Pandas"
   ]
  },
  {
   "cell_type": "markdown",
   "id": "f7cc12e9",
   "metadata": {},
   "source": [
    "> We can ALSO use panda's options to change how it display numeric values.\n",
    "- if we want to add a `,` separator for thousands and round to 2 decimal places, we would use the format code \",.2f\". \n",
    "- In order for Pandas to use this, we will have to use an f-string with a lambda x. (X represent any numeric value being displayed by pandas)."
   ]
  },
  {
   "cell_type": "code",
   "execution_count": 25,
   "id": "b42ca501",
   "metadata": {
    "ExecuteTime": {
     "end_time": "2022-06-30T01:57:34.410493Z",
     "start_time": "2022-06-30T01:57:34.407395Z"
    }
   },
   "outputs": [
    {
     "data": {
      "text/plain": [
       "age                                 -0.22\n",
       "Medu                                 0.29\n",
       "Fedu                                -0.18\n",
       "traveltime                           0.19\n",
       "studytime                           -0.22\n",
       "failures                            -0.10\n",
       "famrel                               0.31\n",
       "freetime                             0.02\n",
       "goout                               -0.02\n",
       "Dalc                                -0.21\n",
       "Walc                                 0.26\n",
       "health                               0.02\n",
       "absences                             0.05\n",
       "G1                                   0.14\n",
       "G2                                   0.99\n",
       "school_GP           -1,264,076,458,474.35\n",
       "school_MS           -1,264,076,458,473.97\n",
       "sex_F                  540,388,537,093.94\n",
       "sex_M                  540,388,537,093.93\n",
       "address_R             -118,047,849,812.08\n",
       "address_U             -118,047,849,811.93\n",
       "famsize_GT3            346,283,601,785.27\n",
       "famsize_LE3            346,283,601,785.28\n",
       "Pstatus_A             -519,732,724,499.89\n",
       "Pstatus_T             -519,732,724,499.51\n",
       "Mjob_at_home          -553,239,828,429.80\n",
       "Mjob_health           -553,239,828,429.77\n",
       "Mjob_other            -553,239,828,429.59\n",
       "Mjob_services         -553,239,828,429.63\n",
       "Mjob_teacher          -553,239,828,429.96\n",
       "Fjob_at_home           208,905,426,864.61\n",
       "Fjob_health            208,905,426,864.66\n",
       "Fjob_other             208,905,426,864.17\n",
       "Fjob_services          208,905,426,863.74\n",
       "Fjob_teacher           208,905,426,864.23\n",
       "reason_course         -126,006,862,971.79\n",
       "reason_home           -126,006,862,972.11\n",
       "reason_other          -126,006,862,971.39\n",
       "reason_reputation     -126,006,862,971.48\n",
       "guardian_father        411,586,426,690.97\n",
       "guardian_mother        411,586,426,691.23\n",
       "guardian_other         411,586,426,691.29\n",
       "schoolsup_no          -364,876,692,253.00\n",
       "schoolsup_yes         -364,876,692,252.65\n",
       "famsup_no             -531,822,663,254.63\n",
       "famsup_yes            -531,822,663,254.48\n",
       "paid_no               -189,883,819,860.33\n",
       "paid_yes              -189,883,819,860.17\n",
       "activities_no         -185,190,299,594.36\n",
       "activities_yes        -185,190,299,594.70\n",
       "nursery_no             362,281,761,927.64\n",
       "nursery_yes            362,281,761,927.43\n",
       "higher_no              251,568,399,249.49\n",
       "higher_yes             251,568,399,250.31\n",
       "internet_no            500,489,194,362.48\n",
       "internet_yes           500,489,194,362.38\n",
       "romantic_no         -1,014,645,980,572.18\n",
       "romantic_yes        -1,014,645,980,572.47\n",
       "intercept            2,246,019,831,747.05\n",
       "dtype: float64"
      ]
     },
     "execution_count": 25,
     "metadata": {},
     "output_type": "execute_result"
    }
   ],
   "source": [
    "pd.set_option('display.float_format', lambda x: f\"{x:,.2f}\")\n",
    "coeffs"
   ]
  },
  {
   "cell_type": "markdown",
   "id": "d110ba4c",
   "metadata": {},
   "source": [
    "## Inspecting Our Coefficients - Sanity Check"
   ]
  },
  {
   "cell_type": "markdown",
   "id": "d4c136d4",
   "metadata": {},
   "source": [
    "- Hmmmm....hold on now. We saw last lesson that our target, G3, contained scores from 0 to 20. \n",
    "- So HOW IN THE WORLD does it make sense that your model's baseline value (the y-intercept) is 2 trillion?!?\n",
    "- This may be due to us introducing multicollinearity during One Hot Encoding."
   ]
  },
  {
   "cell_type": "markdown",
   "id": "abc6cc2c",
   "metadata": {},
   "source": [
    "#### Using OneHotEncoder with binary categorical features."
   ]
  },
  {
   "cell_type": "markdown",
   "id": "bfacf3c6",
   "metadata": {},
   "source": [
    "- if we check just our string columns for the # of unique values:"
   ]
  },
  {
   "cell_type": "code",
   "execution_count": 26,
   "id": "746ca4da",
   "metadata": {
    "scrolled": true
   },
   "outputs": [
    {
     "data": {
      "text/plain": [
       "school        2\n",
       "sex           2\n",
       "address       2\n",
       "famsize       2\n",
       "Pstatus       2\n",
       "Mjob          5\n",
       "Fjob          5\n",
       "reason        4\n",
       "guardian      3\n",
       "schoolsup     2\n",
       "famsup        2\n",
       "paid          2\n",
       "activities    2\n",
       "nursery       2\n",
       "higher        2\n",
       "internet      2\n",
       "romantic      2\n",
       "dtype: int64"
      ]
     },
     "execution_count": 26,
     "metadata": {},
     "output_type": "execute_result"
    }
   ],
   "source": [
    "df.select_dtypes('object').nunique()"
   ]
  },
  {
   "cell_type": "markdown",
   "id": "2aad5df0",
   "metadata": {},
   "source": [
    "- We can see that many of our categories only have 2 options.\n",
    "    - For example: the paid feature.\n",
    "        - One Hot Encoding this feature will create a \"paid_no\" column and \"paid_yes\" column.\n",
    "\n",
    "- Here is where we should think about our final use case for this data. If we want to explain student performance, there is no benefit to one-hot-encoding both categories. \n",
    "    - We know that if someone has a 0 for \"paid_yes\" that it means \"paid_no\" would be 1. \n",
    "    \n",
    "    \n",
    "- To remove these unnecessary columns, we can change our arguments for our OneHotEncoder in our pipeline and add \"`drop='if_binary'.\n",
    "    - HOWEVER, we cannot use BOTH `handle_unknown` AND the `drop` argument together. We will get an error message.\n",
    "\n",
    "- Since our current modeling will be used to extract insights for our stakeholder and will not be deployed to the cloud where it will run predictions on new data, we can safely switch to using the drop='if_binary' option."
   ]
  },
  {
   "cell_type": "markdown",
   "id": "d3909ab5",
   "metadata": {},
   "source": [
    "## Recreating Our X/y data with `drop='if_binary'`"
   ]
  },
  {
   "cell_type": "code",
   "execution_count": 27,
   "id": "f699f742",
   "metadata": {},
   "outputs": [
    {
     "data": {
      "text/html": [
       "<div>\n",
       "<style scoped>\n",
       "    .dataframe tbody tr th:only-of-type {\n",
       "        vertical-align: middle;\n",
       "    }\n",
       "\n",
       "    .dataframe tbody tr th {\n",
       "        vertical-align: top;\n",
       "    }\n",
       "\n",
       "    .dataframe thead th {\n",
       "        text-align: right;\n",
       "    }\n",
       "</style>\n",
       "<table border=\"1\" class=\"dataframe\">\n",
       "  <thead>\n",
       "    <tr style=\"text-align: right;\">\n",
       "      <th></th>\n",
       "      <th>age</th>\n",
       "      <th>Medu</th>\n",
       "      <th>Fedu</th>\n",
       "      <th>traveltime</th>\n",
       "      <th>studytime</th>\n",
       "      <th>failures</th>\n",
       "      <th>famrel</th>\n",
       "      <th>freetime</th>\n",
       "      <th>goout</th>\n",
       "      <th>Dalc</th>\n",
       "      <th>Walc</th>\n",
       "      <th>health</th>\n",
       "      <th>absences</th>\n",
       "      <th>G1</th>\n",
       "      <th>G2</th>\n",
       "      <th>school_MS</th>\n",
       "      <th>sex_M</th>\n",
       "      <th>address_U</th>\n",
       "      <th>famsize_LE3</th>\n",
       "      <th>Pstatus_T</th>\n",
       "      <th>Mjob_at_home</th>\n",
       "      <th>Mjob_health</th>\n",
       "      <th>Mjob_other</th>\n",
       "      <th>Mjob_services</th>\n",
       "      <th>Mjob_teacher</th>\n",
       "      <th>Fjob_at_home</th>\n",
       "      <th>Fjob_health</th>\n",
       "      <th>Fjob_other</th>\n",
       "      <th>Fjob_services</th>\n",
       "      <th>Fjob_teacher</th>\n",
       "      <th>reason_course</th>\n",
       "      <th>reason_home</th>\n",
       "      <th>reason_other</th>\n",
       "      <th>reason_reputation</th>\n",
       "      <th>guardian_father</th>\n",
       "      <th>guardian_mother</th>\n",
       "      <th>guardian_other</th>\n",
       "      <th>schoolsup_yes</th>\n",
       "      <th>famsup_yes</th>\n",
       "      <th>paid_yes</th>\n",
       "      <th>activities_yes</th>\n",
       "      <th>nursery_yes</th>\n",
       "      <th>higher_yes</th>\n",
       "      <th>internet_yes</th>\n",
       "      <th>romantic_yes</th>\n",
       "    </tr>\n",
       "  </thead>\n",
       "  <tbody>\n",
       "    <tr>\n",
       "      <th>58</th>\n",
       "      <td>15.00</td>\n",
       "      <td>1.00</td>\n",
       "      <td>2.00</td>\n",
       "      <td>1.00</td>\n",
       "      <td>2.00</td>\n",
       "      <td>0.00</td>\n",
       "      <td>4.00</td>\n",
       "      <td>3.00</td>\n",
       "      <td>2.00</td>\n",
       "      <td>1.00</td>\n",
       "      <td>1.00</td>\n",
       "      <td>5.00</td>\n",
       "      <td>2.00</td>\n",
       "      <td>9.00</td>\n",
       "      <td>10.00</td>\n",
       "      <td>0.00</td>\n",
       "      <td>1.00</td>\n",
       "      <td>1.00</td>\n",
       "      <td>1.00</td>\n",
       "      <td>1.00</td>\n",
       "      <td>0.00</td>\n",
       "      <td>0.00</td>\n",
       "      <td>1.00</td>\n",
       "      <td>0.00</td>\n",
       "      <td>0.00</td>\n",
       "      <td>1.00</td>\n",
       "      <td>0.00</td>\n",
       "      <td>0.00</td>\n",
       "      <td>0.00</td>\n",
       "      <td>0.00</td>\n",
       "      <td>0.00</td>\n",
       "      <td>1.00</td>\n",
       "      <td>0.00</td>\n",
       "      <td>0.00</td>\n",
       "      <td>1.00</td>\n",
       "      <td>0.00</td>\n",
       "      <td>0.00</td>\n",
       "      <td>1.00</td>\n",
       "      <td>1.00</td>\n",
       "      <td>0.00</td>\n",
       "      <td>1.00</td>\n",
       "      <td>1.00</td>\n",
       "      <td>1.00</td>\n",
       "      <td>1.00</td>\n",
       "      <td>0.00</td>\n",
       "    </tr>\n",
       "    <tr>\n",
       "      <th>338</th>\n",
       "      <td>18.00</td>\n",
       "      <td>3.00</td>\n",
       "      <td>3.00</td>\n",
       "      <td>1.00</td>\n",
       "      <td>4.00</td>\n",
       "      <td>0.00</td>\n",
       "      <td>5.00</td>\n",
       "      <td>3.00</td>\n",
       "      <td>3.00</td>\n",
       "      <td>1.00</td>\n",
       "      <td>1.00</td>\n",
       "      <td>1.00</td>\n",
       "      <td>7.00</td>\n",
       "      <td>16.00</td>\n",
       "      <td>15.00</td>\n",
       "      <td>0.00</td>\n",
       "      <td>0.00</td>\n",
       "      <td>1.00</td>\n",
       "      <td>1.00</td>\n",
       "      <td>1.00</td>\n",
       "      <td>0.00</td>\n",
       "      <td>0.00</td>\n",
       "      <td>0.00</td>\n",
       "      <td>1.00</td>\n",
       "      <td>0.00</td>\n",
       "      <td>0.00</td>\n",
       "      <td>0.00</td>\n",
       "      <td>0.00</td>\n",
       "      <td>1.00</td>\n",
       "      <td>0.00</td>\n",
       "      <td>0.00</td>\n",
       "      <td>1.00</td>\n",
       "      <td>0.00</td>\n",
       "      <td>0.00</td>\n",
       "      <td>0.00</td>\n",
       "      <td>1.00</td>\n",
       "      <td>0.00</td>\n",
       "      <td>0.00</td>\n",
       "      <td>1.00</td>\n",
       "      <td>0.00</td>\n",
       "      <td>0.00</td>\n",
       "      <td>1.00</td>\n",
       "      <td>1.00</td>\n",
       "      <td>1.00</td>\n",
       "      <td>0.00</td>\n",
       "    </tr>\n",
       "    <tr>\n",
       "      <th>291</th>\n",
       "      <td>17.00</td>\n",
       "      <td>4.00</td>\n",
       "      <td>3.00</td>\n",
       "      <td>1.00</td>\n",
       "      <td>3.00</td>\n",
       "      <td>0.00</td>\n",
       "      <td>4.00</td>\n",
       "      <td>2.00</td>\n",
       "      <td>2.00</td>\n",
       "      <td>1.00</td>\n",
       "      <td>2.00</td>\n",
       "      <td>3.00</td>\n",
       "      <td>0.00</td>\n",
       "      <td>15.00</td>\n",
       "      <td>15.00</td>\n",
       "      <td>0.00</td>\n",
       "      <td>0.00</td>\n",
       "      <td>1.00</td>\n",
       "      <td>0.00</td>\n",
       "      <td>1.00</td>\n",
       "      <td>0.00</td>\n",
       "      <td>1.00</td>\n",
       "      <td>0.00</td>\n",
       "      <td>0.00</td>\n",
       "      <td>0.00</td>\n",
       "      <td>0.00</td>\n",
       "      <td>0.00</td>\n",
       "      <td>0.00</td>\n",
       "      <td>1.00</td>\n",
       "      <td>0.00</td>\n",
       "      <td>0.00</td>\n",
       "      <td>0.00</td>\n",
       "      <td>0.00</td>\n",
       "      <td>1.00</td>\n",
       "      <td>0.00</td>\n",
       "      <td>1.00</td>\n",
       "      <td>0.00</td>\n",
       "      <td>0.00</td>\n",
       "      <td>1.00</td>\n",
       "      <td>1.00</td>\n",
       "      <td>0.00</td>\n",
       "      <td>1.00</td>\n",
       "      <td>1.00</td>\n",
       "      <td>1.00</td>\n",
       "      <td>0.00</td>\n",
       "    </tr>\n",
       "  </tbody>\n",
       "</table>\n",
       "</div>"
      ],
      "text/plain": [
       "      age  Medu  Fedu  traveltime  studytime  failures  famrel  freetime  \\\n",
       "58  15.00  1.00  2.00        1.00       2.00      0.00    4.00      3.00   \n",
       "338 18.00  3.00  3.00        1.00       4.00      0.00    5.00      3.00   \n",
       "291 17.00  4.00  3.00        1.00       3.00      0.00    4.00      2.00   \n",
       "\n",
       "     goout  Dalc  Walc  health  absences    G1    G2  school_MS  sex_M  \\\n",
       "58    2.00  1.00  1.00    5.00      2.00  9.00 10.00       0.00   1.00   \n",
       "338   3.00  1.00  1.00    1.00      7.00 16.00 15.00       0.00   0.00   \n",
       "291   2.00  1.00  2.00    3.00      0.00 15.00 15.00       0.00   0.00   \n",
       "\n",
       "     address_U  famsize_LE3  Pstatus_T  Mjob_at_home  Mjob_health  Mjob_other  \\\n",
       "58        1.00         1.00       1.00          0.00         0.00        1.00   \n",
       "338       1.00         1.00       1.00          0.00         0.00        0.00   \n",
       "291       1.00         0.00       1.00          0.00         1.00        0.00   \n",
       "\n",
       "     Mjob_services  Mjob_teacher  Fjob_at_home  Fjob_health  Fjob_other  \\\n",
       "58            0.00          0.00          1.00         0.00        0.00   \n",
       "338           1.00          0.00          0.00         0.00        0.00   \n",
       "291           0.00          0.00          0.00         0.00        0.00   \n",
       "\n",
       "     Fjob_services  Fjob_teacher  reason_course  reason_home  reason_other  \\\n",
       "58            0.00          0.00           0.00         1.00          0.00   \n",
       "338           1.00          0.00           0.00         1.00          0.00   \n",
       "291           1.00          0.00           0.00         0.00          0.00   \n",
       "\n",
       "     reason_reputation  guardian_father  guardian_mother  guardian_other  \\\n",
       "58                0.00             1.00             0.00            0.00   \n",
       "338               0.00             0.00             1.00            0.00   \n",
       "291               1.00             0.00             1.00            0.00   \n",
       "\n",
       "     schoolsup_yes  famsup_yes  paid_yes  activities_yes  nursery_yes  \\\n",
       "58            1.00        1.00      0.00            1.00         1.00   \n",
       "338           0.00        1.00      0.00            0.00         1.00   \n",
       "291           0.00        1.00      1.00            0.00         1.00   \n",
       "\n",
       "     higher_yes  internet_yes  romantic_yes  \n",
       "58         1.00          1.00          0.00  \n",
       "338        1.00          1.00          0.00  \n",
       "291        1.00          1.00          0.00  "
      ]
     },
     "execution_count": 27,
     "metadata": {},
     "output_type": "execute_result"
    }
   ],
   "source": [
    "## make pipelines for categorical vs numeric data\n",
    "cat_pipe = make_pipeline(SimpleImputer(strategy='constant',\n",
    "                                       fill_value='MISSING'),\n",
    "                         OneHotEncoder(drop='if_binary', sparse=False))\n",
    "\n",
    "num_pipe = make_pipeline(SimpleImputer(strategy='mean'))\n",
    "\n",
    "## make the preprocessing column transformer\n",
    "preprocessor = make_column_transformer((num_pipe, num_sel),\n",
    "                                       (cat_pipe,cat_sel),\n",
    "                                      verbose_feature_names_out=False)\n",
    "\n",
    "## fit column transformer and run get_feature_names_out\n",
    "preprocessor.fit(X_train)\n",
    "feature_names = preprocessor.get_feature_names_out()\n",
    "\n",
    "X_train_df = pd.DataFrame(preprocessor.transform(X_train), \n",
    "                          columns = feature_names, index = X_train.index)\n",
    "\n",
    "\n",
    "X_test_df = pd.DataFrame(preprocessor.transform(X_test), \n",
    "                          columns = feature_names, index = X_test.index)\n",
    "X_test_df.head(3)"
   ]
  },
  {
   "cell_type": "markdown",
   "id": "b6432911",
   "metadata": {},
   "source": [
    "- As we can see above, we now only have 1 version of our binary columns (e.g. \"paid_yes\",\"internet_yes\")"
   ]
  },
  {
   "cell_type": "markdown",
   "id": "11ad8bd6",
   "metadata": {},
   "source": [
    "## Refitting a LinearRegression"
   ]
  },
  {
   "cell_type": "code",
   "execution_count": 28,
   "id": "ced8c9da",
   "metadata": {},
   "outputs": [
    {
     "name": "stdout",
     "output_type": "stream",
     "text": [
      "Data  Train  Test  Delta\n",
      "R^2    0.85  0.81  -0.04\n",
      "RMSE   1.83  1.85   0.02\n"
     ]
    }
   ],
   "source": [
    "## fitting a linear regression model\n",
    "lin_reg = LinearRegression()\n",
    "lin_reg.fit(X_train_df, y_train)\n",
    "evaluate_linreg(lin_reg, X_train_df, y_train, X_test_df,y_test)"
   ]
  },
  {
   "cell_type": "code",
   "execution_count": 29,
   "id": "256b0e47",
   "metadata": {},
   "outputs": [
    {
     "data": {
      "text/plain": [
       "age                 -0.22\n",
       "Medu                 0.29\n",
       "Fedu                -0.18\n",
       "traveltime           0.19\n",
       "studytime           -0.22\n",
       "failures            -0.10\n",
       "famrel               0.31\n",
       "freetime             0.02\n",
       "goout               -0.02\n",
       "Dalc                -0.21\n",
       "Walc                 0.26\n",
       "health               0.03\n",
       "absences             0.05\n",
       "G1                   0.14\n",
       "G2                   0.99\n",
       "school_MS            0.38\n",
       "sex_M               -0.01\n",
       "address_U            0.15\n",
       "famsize_LE3          0.01\n",
       "Pstatus_T            0.38\n",
       "Mjob_at_home        -0.05\n",
       "Mjob_health         -0.02\n",
       "Mjob_other           0.16\n",
       "Mjob_services        0.12\n",
       "Mjob_teacher        -0.21\n",
       "Fjob_at_home         0.33\n",
       "Fjob_health          0.38\n",
       "Fjob_other          -0.11\n",
       "Fjob_services       -0.54\n",
       "Fjob_teacher        -0.05\n",
       "reason_course       -0.09\n",
       "reason_home         -0.42\n",
       "reason_other         0.30\n",
       "reason_reputation    0.21\n",
       "guardian_father     -0.20\n",
       "guardian_mother      0.07\n",
       "guardian_other       0.13\n",
       "schoolsup_yes        0.34\n",
       "famsup_yes           0.16\n",
       "paid_yes             0.16\n",
       "activities_yes      -0.34\n",
       "nursery_yes         -0.21\n",
       "higher_yes           0.82\n",
       "internet_yes        -0.09\n",
       "romantic_yes        -0.29\n",
       "intercept           -0.95\n",
       "dtype: float64"
      ]
     },
     "execution_count": 29,
     "metadata": {},
     "output_type": "execute_result"
    }
   ],
   "source": [
    "## Saving the coefficients\n",
    "coeffs = pd.Series(lin_reg.coef_, index= feature_names)\n",
    "coeffs['intercept'] = lin_reg.intercept_\n",
    "coeffs"
   ]
  },
  {
   "cell_type": "markdown",
   "id": "16d6da68",
   "metadata": {},
   "source": [
    "- OK, now THESE coefficients pass our sanity check. They are all values <1, which seems appropriate for predicting a value between 0 and 100."
   ]
  },
  {
   "cell_type": "markdown",
   "id": "fd1479c2",
   "metadata": {},
   "source": [
    "### VIsualizing Coefficients"
   ]
  },
  {
   "cell_type": "markdown",
   "id": "0781f874",
   "metadata": {},
   "source": [
    "- Now, let's examine the coefficients below and see if they make sense, based on our knowledge about houses. \n",
    "\n",
    "\n",
    "\n",
    "- To more easily analyze our coefficients, we will sort them by value and plot them as a horizontal bar graph.\n",
    "- Let's also load in the data dictionary so we can make informed interpretations about the meaning of our features"
   ]
  },
  {
   "cell_type": "code",
   "execution_count": 30,
   "id": "a3dd405a",
   "metadata": {},
   "outputs": [
    {
     "data": {
      "image/png": "[encoded data removed]",
      "text/plain": [
       "<Figure size 432x720 with 1 Axes>"
      ]
     },
     "metadata": {},
     "output_type": "display_data"
    }
   ],
   "source": [
    "## Plot the coefficients\n",
    "ax = coeffs.sort_values().plot(kind='barh',figsize=(6,10))\n",
    "ax.axvline(0,color='k')\n",
    "ax.set_title('LinearRegression Coefficients');"
   ]
  },
  {
   "cell_type": "markdown",
   "id": "5b196278",
   "metadata": {},
   "source": [
    "- **Attributes for both student-mat.csv (Math course) and student-por.csv (Portuguese language course) datasets:**\n",
    "- 1 school - student's school (binary: \"GP\" - Gabriel Pereira or \"MS\" - Mousinho da Silveira)\n",
    "- 2 sex - student's sex (binary: \"F\" - female or \"M\" - male)\n",
    "- 3 age - student's age (numeric: from 15 to 22)\n",
    "- 4 address - student's home address type (binary: \"U\" - urban or \"R\" - rural)\n",
    "- 5 famsize - family size (binary: \"LE3\" - less or equal to 3 or \"GT3\" - greater than 3)\n",
    "- 6 Pstatus - parent's cohabitation status (binary: \"T\" - living together or \"A\" - apart)\n",
    "- 7 Medu - mother's education (numeric: 0 - none,  1 - primary education (4th grade), 2 – 5th to 9th grade, 3 – secondary education or 4 – higher education)\n",
    "- 8 Fedu - father's education (numeric: 0 - none,  1 - primary education (4th grade), 2 – 5th to 9th grade, 3 – secondary education or 4 – higher education)\n",
    "- 9 Mjob - mother's job (nominal: \"teacher\", \"health\" care related, civil \"services\" (e.g. administrative or police), \"at_home\" or \"other\")\n",
    "- 10 Fjob - father's job (nominal: \"teacher\", \"health\" care related, civil \"services\" (e.g. administrative or police), \"at_home\" or \"other\")\n",
    "- 11 reason - reason to choose this school (nominal: close to \"home\", school \"reputation\", \"course\" preference or \"other\")\n",
    "- 12 guardian - student's guardian (nominal: \"mother\", \"father\" or \"other\")\n",
    "- 13 traveltime - home to school travel time (numeric: 1 - <15 min., 2 - 15 to 30 min., 3 - 30 min. to 1 hour, or 4 - >1 hour)\n",
    "- 14 studytime - weekly study time (numeric: 1 - <2 hours, 2 - 2 to 5 hours, 3 - 5 to 10 hours, or 4 - >10 hours)\n",
    "- 15 failures - number of past class failures (numeric: n if 1<=n<3, else 4)\n",
    "- 16 schoolsup - extra educational support (binary: yes or no)\n",
    "- 17 famsup - family educational support (binary: yes or no)\n",
    "- 18 paid - extra paid classes within the course subject (Math or Portuguese) (binary: yes or no)\n",
    "- 19 activities - extra-curricular activities (binary: yes or no)\n",
    "- 20 nursery - attended nursery school (binary: yes or no)\n",
    "- 21 higher - wants to take higher education (binary: yes or no)\n",
    "- 22 internet - Internet access at home (binary: yes or no)\n",
    "- 23 romantic - with a romantic relationship (binary: yes or no)\n",
    "- 24 famrel - quality of family relationships (numeric: from 1 - very bad to 5 - excellent)\n",
    "- 25 freetime - free time after school (numeric: from 1 - very low to 5 - very high)\n",
    "- 26 goout - going out with friends (numeric: from 1 - very low to 5 - very high)\n",
    "- 27 Dalc - workday alcohol consumption (numeric: from 1 - very low to 5 - very high)\n",
    "- 28 Walc - weekend alcohol consumption (numeric: from 1 - very low to 5 - very high)\n",
    "- 29 health - current health status (numeric: from 1 - very bad to 5 - very good)\n",
    "- 30 absences - number of school absences (numeric: from 0 to 93)\n",
    "\n",
    "\n",
    "\n",
    "- These grades are related with the course subject, Math or Portuguese:\n",
    "    - 31 G1 - first period grade (numeric: from 0 to 20)\n",
    "    - 31 G2 - second period grade (numeric: from 0 to 20)\n",
    "    - 32 G3 - final grade (numeric: from 0 to 20, output target)\n",
    "\n",
    "- Additional note: \n",
    "    - there are several (382) students that belong to both datasets . \n",
    "    - These students can be identified by searching for identical attributes\n",
    "    - that characterize each student, as shown in the annexed R file.\n"
   ]
  },
  {
   "cell_type": "markdown",
   "id": "a03d2ed3",
   "metadata": {},
   "source": [
    "### Reminder: Interpreting Coefficients\n",
    "\n",
    "When interpreting coefficients we need to keep in mind what transformations have been applied to our features. \n",
    "- If its a numeric feature and it has NOT been scaled:\n",
    "    - The coefficient tells us \"when I increase the value for this feature by **1 unit**, this is the change in the target.\"\n",
    "- If its a numeric feature that has been scaled using Z-scores/StandardScaler:\n",
    "    - The coefficient tells us \"when I increase the value for this feature by **1 Standard Deviation** this is the change in the target.\" \n",
    "- If its a One-Hot Encoded categorical feature:\n",
    "    - The coefficient tells us \"if you belong to this category, this will be the change in the target\" "
   ]
  },
  {
   "cell_type": "markdown",
   "id": "e0fe648e",
   "metadata": {},
   "source": [
    "#### Interpreting Our Model's Coefficients"
   ]
  },
  {
   "cell_type": "markdown",
   "id": "b796ce67",
   "metadata": {},
   "source": [
    "- So, looking at our coefficient plot above and the Series below, let's interpret the 3 largest coefficients that increase G3, and the largest 3 that decrease G3 ."
   ]
  },
  {
   "cell_type": "code",
   "execution_count": 31,
   "id": "a6bf12ec",
   "metadata": {
    "scrolled": false
   },
   "outputs": [
    {
     "data": {
      "text/plain": [
       "intercept           -0.95\n",
       "Fjob_services       -0.54\n",
       "reason_home         -0.42\n",
       "activities_yes      -0.34\n",
       "romantic_yes        -0.29\n",
       "age                 -0.22\n",
       "studytime           -0.22\n",
       "Dalc                -0.21\n",
       "nursery_yes         -0.21\n",
       "Mjob_teacher        -0.21\n",
       "guardian_father     -0.20\n",
       "Fedu                -0.18\n",
       "Fjob_other          -0.11\n",
       "failures            -0.10\n",
       "internet_yes        -0.09\n",
       "reason_course       -0.09\n",
       "Mjob_at_home        -0.05\n",
       "Fjob_teacher        -0.05\n",
       "Mjob_health         -0.02\n",
       "goout               -0.02\n",
       "sex_M               -0.01\n",
       "famsize_LE3          0.01\n",
       "freetime             0.02\n",
       "health               0.03\n",
       "absences             0.05\n",
       "guardian_mother      0.07\n",
       "Mjob_services        0.12\n",
       "guardian_other       0.13\n",
       "G1                   0.14\n",
       "address_U            0.15\n",
       "famsup_yes           0.16\n",
       "paid_yes             0.16\n",
       "Mjob_other           0.16\n",
       "traveltime           0.19\n",
       "reason_reputation    0.21\n",
       "Walc                 0.26\n",
       "Medu                 0.29\n",
       "reason_other         0.30\n",
       "famrel               0.31\n",
       "Fjob_at_home         0.33\n",
       "schoolsup_yes        0.34\n",
       "Fjob_health          0.38\n",
       "school_MS            0.38\n",
       "Pstatus_T            0.38\n",
       "higher_yes           0.82\n",
       "G2                   0.99\n",
       "dtype: float64"
      ]
     },
     "execution_count": 31,
     "metadata": {},
     "output_type": "execute_result"
    }
   ],
   "source": [
    "coeffs.sort_values()"
   ]
  },
  {
   "cell_type": "markdown",
   "id": "e6fce4fd",
   "metadata": {},
   "source": [
    "- Coefficients that Positively Influence Final Grade:\n",
    "    - G2 (Year 2 Grade): \n",
    "        - Increasing their Year 2 grade by 1 will also increase their predict G3 by 0.99 points.\n",
    "    - higher_yes (student intends to continue higher education):\n",
    "        - Being in the yes group (wanting hire education) increases their performance by 0.82\n",
    "    - For Pstatus_T (Parents live Together):\n",
    "        - Having parents living together increases their final grade by 0.38 points.\n",
    "        \n",
    "        \n",
    "- Coefficients that Negatively Influence Final Grade:\n",
    "    - Intercept:\n",
    "        - Our model assumed a starting score of -.95.\n",
    "    - Fjob_services:\n",
    "        - Having a father with a job in administration/police  subtracts 0.54 points from G3.\n",
    "    - reason_home: \n",
    "        - Choosing the school because it is simply close to home subtracts 0.42 points from G3.\n",
    "    - Activities_yes:\n",
    "        - Being involved in Extracurricular activities decreases G3 by .34 points.\n",
    "        \n",
    "   "
   ]
  },
  {
   "cell_type": "markdown",
   "id": "f527194b",
   "metadata": {},
   "source": [
    "\n",
    "#### `<DEBATING WHETHER TO INCLUDE FINAL STORY-TELLING SUMMARY OR NOT> `\n",
    "- Overall, these coefficients make a lot of intuitive sense!\n",
    "    - Students who have a history of good grades, who plan to continue their education, and who have an intact nuclear family will `perform well<rephase>` in their final year.\n",
    "    - Students that are attending this school due because its close to home, who are involved in extracurricular activities will have reduced grades for their final year.\n",
    "- However, it is a little harder to understand how having a father with a job in \"services\" (administration or police) causes a decrease in grades. \n",
    "    - Let's keep this coefficient in mind as we move forward and iterate on our regression modeling."
   ]
  },
  {
   "cell_type": "markdown",
   "id": "21b9e9ec",
   "metadata": {},
   "source": [
    "### Next Steps"
   ]
  },
  {
   "cell_type": "markdown",
   "id": "604044ea",
   "metadata": {},
   "source": [
    "- In the next lesson, we will iterate upon this model and discuss selecting a final regression model with coefficients that are appropriate for our purposes. "
   ]
  },
  {
   "cell_type": "markdown",
   "id": "4cb28aa5",
   "metadata": {},
   "source": [
    "## Summary"
   ]
  },
  {
   "cell_type": "markdown",
   "id": "6dc22fb4",
   "metadata": {},
   "source": [
    "- In this lesson, we revisited linear regression with scikit-learn. We introduced some simplifications to our workflow and discussed extracting coefficients from our LinearRegression model. \n",
    "\n",
    "- Next lesson we will iterate on our current model to find more intuitive coefficients that we can use to extract insight for our stakeholders."
   ]
  },
  {
   "cell_type": "markdown",
   "id": "d1d016fd",
   "metadata": {},
   "source": [
    "### Recap - Sklearn v1.1"
   ]
  },
  {
   "cell_type": "markdown",
   "id": "29024ca2",
   "metadata": {},
   "source": [
    "- We added the argument `verbose_feature_names_out=False` to `make_column_transformer`, which let us extract our feature names (after fitting the preprocessor) using `.get_feature_names_out()`\n",
    "\n",
    "- We then used this list of features when reconstruction our transformed X_train and X_test as dataframes and when extracting coefficients from our model."
   ]
  },
  {
   "cell_type": "markdown",
   "id": "867531c3",
   "metadata": {},
   "source": [
    "### Recap - Pandas Options"
   ]
  },
  {
   "cell_type": "markdown",
   "id": "7f4c4975",
   "metadata": {},
   "source": [
    "- We used the following options in our notebook. Ideally, we should group these together and move them to the top of our notebook, immediately after our imports."
   ]
  },
  {
   "cell_type": "code",
   "execution_count": 32,
   "id": "84d201d0",
   "metadata": {
    "ExecuteTime": {
     "end_time": "2022-06-30T01:57:34.434157Z",
     "start_time": "2022-06-30T01:57:34.432320Z"
    }
   },
   "outputs": [],
   "source": [
    "## Reviewing the options used\n",
    "pd.set_option('display.max_columns',100)\n",
    "pd.set_option('display.max_rows',100)\n",
    "pd.set_option('display.float_format', lambda x: f\"{x:,.2f}\")"
   ]
  }
 ],
 "metadata": {
  "kernelspec": {
   "display_name": "Python (dojo-env)",
   "language": "python",
   "name": "dojo-env"
  },
  "language_info": {
   "codemirror_mode": {
    "name": "ipython",
    "version": 3
   },
   "file_extension": ".py",
   "mimetype": "text/x-python",
   "name": "python",
   "nbconvert_exporter": "python",
   "pygments_lexer": "ipython3",
   "version": "3.8.13"
  },
  "toc": {
   "base_numbering": 1,
   "nav_menu": {},
   "number_sections": false,
   "sideBar": true,
   "skip_h1_title": false,
   "title_cell": "Table of Contents",
   "title_sidebar": "Contents",
   "toc_cell": false,
   "toc_position": {
    "height": "calc(100% - 180px)",
    "left": "10px",
    "top": "150px",
    "width": "332.429px"
   },
   "toc_section_display": true,
   "toc_window_display": true
  }
 },
 "nbformat": 4,
 "nbformat_minor": 5
}
